<!DOCTYPE html>
<html>
<head><meta charset="utf-8" />
<meta name="viewport" content="width=device-width, initial-scale=1.0">

<title>Pedro_Ochoa_Taller1</title><script src="https://cdnjs.cloudflare.com/ajax/libs/require.js/2.1.10/require.min.js"></script>




<style type="text/css">
    pre { line-height: 125%; }
td.linenos .normal { color: inherit; background-color: transparent; padding-left: 5px; padding-right: 5px; }
span.linenos { color: inherit; background-color: transparent; padding-left: 5px; padding-right: 5px; }
td.linenos .special { color: #000000; background-color: #ffffc0; padding-left: 5px; padding-right: 5px; }
span.linenos.special { color: #000000; background-color: #ffffc0; padding-left: 5px; padding-right: 5px; }
.highlight .hll { background-color: var(--jp-cell-editor-active-background) }
.highlight { background: var(--jp-cell-editor-background); color: var(--jp-mirror-editor-variable-color) }
.highlight .c { color: var(--jp-mirror-editor-comment-color); font-style: italic } /* Comment */
.highlight .err { color: var(--jp-mirror-editor-error-color) } /* Error */
.highlight .k { color: var(--jp-mirror-editor-keyword-color); font-weight: bold } /* Keyword */
.highlight .o { color: var(--jp-mirror-editor-operator-color); font-weight: bold } /* Operator */
.highlight .p { color: var(--jp-mirror-editor-punctuation-color) } /* Punctuation */
.highlight .ch { color: var(--jp-mirror-editor-comment-color); font-style: italic } /* Comment.Hashbang */
.highlight .cm { color: var(--jp-mirror-editor-comment-color); font-style: italic } /* Comment.Multiline */
.highlight .cp { color: var(--jp-mirror-editor-comment-color); font-style: italic } /* Comment.Preproc */
.highlight .cpf { color: var(--jp-mirror-editor-comment-color); font-style: italic } /* Comment.PreprocFile */
.highlight .c1 { color: var(--jp-mirror-editor-comment-color); font-style: italic } /* Comment.Single */
.highlight .cs { color: var(--jp-mirror-editor-comment-color); font-style: italic } /* Comment.Special */
.highlight .kc { color: var(--jp-mirror-editor-keyword-color); font-weight: bold } /* Keyword.Constant */
.highlight .kd { color: var(--jp-mirror-editor-keyword-color); font-weight: bold } /* Keyword.Declaration */
.highlight .kn { color: var(--jp-mirror-editor-keyword-color); font-weight: bold } /* Keyword.Namespace */
.highlight .kp { color: var(--jp-mirror-editor-keyword-color); font-weight: bold } /* Keyword.Pseudo */
.highlight .kr { color: var(--jp-mirror-editor-keyword-color); font-weight: bold } /* Keyword.Reserved */
.highlight .kt { color: var(--jp-mirror-editor-keyword-color); font-weight: bold } /* Keyword.Type */
.highlight .m { color: var(--jp-mirror-editor-number-color) } /* Literal.Number */
.highlight .s { color: var(--jp-mirror-editor-string-color) } /* Literal.String */
.highlight .ow { color: var(--jp-mirror-editor-operator-color); font-weight: bold } /* Operator.Word */
.highlight .w { color: var(--jp-mirror-editor-variable-color) } /* Text.Whitespace */
.highlight .mb { color: var(--jp-mirror-editor-number-color) } /* Literal.Number.Bin */
.highlight .mf { color: var(--jp-mirror-editor-number-color) } /* Literal.Number.Float */
.highlight .mh { color: var(--jp-mirror-editor-number-color) } /* Literal.Number.Hex */
.highlight .mi { color: var(--jp-mirror-editor-number-color) } /* Literal.Number.Integer */
.highlight .mo { color: var(--jp-mirror-editor-number-color) } /* Literal.Number.Oct */
.highlight .sa { color: var(--jp-mirror-editor-string-color) } /* Literal.String.Affix */
.highlight .sb { color: var(--jp-mirror-editor-string-color) } /* Literal.String.Backtick */
.highlight .sc { color: var(--jp-mirror-editor-string-color) } /* Literal.String.Char */
.highlight .dl { color: var(--jp-mirror-editor-string-color) } /* Literal.String.Delimiter */
.highlight .sd { color: var(--jp-mirror-editor-string-color) } /* Literal.String.Doc */
.highlight .s2 { color: var(--jp-mirror-editor-string-color) } /* Literal.String.Double */
.highlight .se { color: var(--jp-mirror-editor-string-color) } /* Literal.String.Escape */
.highlight .sh { color: var(--jp-mirror-editor-string-color) } /* Literal.String.Heredoc */
.highlight .si { color: var(--jp-mirror-editor-string-color) } /* Literal.String.Interpol */
.highlight .sx { color: var(--jp-mirror-editor-string-color) } /* Literal.String.Other */
.highlight .sr { color: var(--jp-mirror-editor-string-color) } /* Literal.String.Regex */
.highlight .s1 { color: var(--jp-mirror-editor-string-color) } /* Literal.String.Single */
.highlight .ss { color: var(--jp-mirror-editor-string-color) } /* Literal.String.Symbol */
.highlight .il { color: var(--jp-mirror-editor-number-color) } /* Literal.Number.Integer.Long */
  </style>



<style type="text/css">
/*-----------------------------------------------------------------------------
| Copyright (c) Jupyter Development Team.
| Distributed under the terms of the Modified BSD License.
|----------------------------------------------------------------------------*/

/*
 * Mozilla scrollbar styling
 */

/* use standard opaque scrollbars for most nodes */
[data-jp-theme-scrollbars='true'] {
  scrollbar-color: rgb(var(--jp-scrollbar-thumb-color))
    var(--jp-scrollbar-background-color);
}

/* for code nodes, use a transparent style of scrollbar. These selectors
 * will match lower in the tree, and so will override the above */
[data-jp-theme-scrollbars='true'] .CodeMirror-hscrollbar,
[data-jp-theme-scrollbars='true'] .CodeMirror-vscrollbar {
  scrollbar-color: rgba(var(--jp-scrollbar-thumb-color), 0.5) transparent;
}

/* tiny scrollbar */

.jp-scrollbar-tiny {
  scrollbar-color: rgba(var(--jp-scrollbar-thumb-color), 0.5) transparent;
  scrollbar-width: thin;
}

/*
 * Webkit scrollbar styling
 */

/* use standard opaque scrollbars for most nodes */

[data-jp-theme-scrollbars='true'] ::-webkit-scrollbar,
[data-jp-theme-scrollbars='true'] ::-webkit-scrollbar-corner {
  background: var(--jp-scrollbar-background-color);
}

[data-jp-theme-scrollbars='true'] ::-webkit-scrollbar-thumb {
  background: rgb(var(--jp-scrollbar-thumb-color));
  border: var(--jp-scrollbar-thumb-margin) solid transparent;
  background-clip: content-box;
  border-radius: var(--jp-scrollbar-thumb-radius);
}

[data-jp-theme-scrollbars='true'] ::-webkit-scrollbar-track:horizontal {
  border-left: var(--jp-scrollbar-endpad) solid
    var(--jp-scrollbar-background-color);
  border-right: var(--jp-scrollbar-endpad) solid
    var(--jp-scrollbar-background-color);
}

[data-jp-theme-scrollbars='true'] ::-webkit-scrollbar-track:vertical {
  border-top: var(--jp-scrollbar-endpad) solid
    var(--jp-scrollbar-background-color);
  border-bottom: var(--jp-scrollbar-endpad) solid
    var(--jp-scrollbar-background-color);
}

/* for code nodes, use a transparent style of scrollbar */

[data-jp-theme-scrollbars='true'] .CodeMirror-hscrollbar::-webkit-scrollbar,
[data-jp-theme-scrollbars='true'] .CodeMirror-vscrollbar::-webkit-scrollbar,
[data-jp-theme-scrollbars='true']
  .CodeMirror-hscrollbar::-webkit-scrollbar-corner,
[data-jp-theme-scrollbars='true']
  .CodeMirror-vscrollbar::-webkit-scrollbar-corner {
  background-color: transparent;
}

[data-jp-theme-scrollbars='true']
  .CodeMirror-hscrollbar::-webkit-scrollbar-thumb,
[data-jp-theme-scrollbars='true']
  .CodeMirror-vscrollbar::-webkit-scrollbar-thumb {
  background: rgba(var(--jp-scrollbar-thumb-color), 0.5);
  border: var(--jp-scrollbar-thumb-margin) solid transparent;
  background-clip: content-box;
  border-radius: var(--jp-scrollbar-thumb-radius);
}

[data-jp-theme-scrollbars='true']
  .CodeMirror-hscrollbar::-webkit-scrollbar-track:horizontal {
  border-left: var(--jp-scrollbar-endpad) solid transparent;
  border-right: var(--jp-scrollbar-endpad) solid transparent;
}

[data-jp-theme-scrollbars='true']
  .CodeMirror-vscrollbar::-webkit-scrollbar-track:vertical {
  border-top: var(--jp-scrollbar-endpad) solid transparent;
  border-bottom: var(--jp-scrollbar-endpad) solid transparent;
}

/* tiny scrollbar */

.jp-scrollbar-tiny::-webkit-scrollbar,
.jp-scrollbar-tiny::-webkit-scrollbar-corner {
  background-color: transparent;
  height: 4px;
  width: 4px;
}

.jp-scrollbar-tiny::-webkit-scrollbar-thumb {
  background: rgba(var(--jp-scrollbar-thumb-color), 0.5);
}

.jp-scrollbar-tiny::-webkit-scrollbar-track:horizontal {
  border-left: 0px solid transparent;
  border-right: 0px solid transparent;
}

.jp-scrollbar-tiny::-webkit-scrollbar-track:vertical {
  border-top: 0px solid transparent;
  border-bottom: 0px solid transparent;
}

/*
 * Phosphor
 */

.lm-ScrollBar[data-orientation='horizontal'] {
  min-height: 16px;
  max-height: 16px;
  min-width: 45px;
  border-top: 1px solid #a0a0a0;
}

.lm-ScrollBar[data-orientation='vertical'] {
  min-width: 16px;
  max-width: 16px;
  min-height: 45px;
  border-left: 1px solid #a0a0a0;
}

.lm-ScrollBar-button {
  background-color: #f0f0f0;
  background-position: center center;
  min-height: 15px;
  max-height: 15px;
  min-width: 15px;
  max-width: 15px;
}

.lm-ScrollBar-button:hover {
  background-color: #dadada;
}

.lm-ScrollBar-button.lm-mod-active {
  background-color: #cdcdcd;
}

.lm-ScrollBar-track {
  background: #f0f0f0;
}

.lm-ScrollBar-thumb {
  background: #cdcdcd;
}

.lm-ScrollBar-thumb:hover {
  background: #bababa;
}

.lm-ScrollBar-thumb.lm-mod-active {
  background: #a0a0a0;
}

.lm-ScrollBar[data-orientation='horizontal'] .lm-ScrollBar-thumb {
  height: 100%;
  min-width: 15px;
  border-left: 1px solid #a0a0a0;
  border-right: 1px solid #a0a0a0;
}

.lm-ScrollBar[data-orientation='vertical'] .lm-ScrollBar-thumb {
  width: 100%;
  min-height: 15px;
  border-top: 1px solid #a0a0a0;
  border-bottom: 1px solid #a0a0a0;
}

.lm-ScrollBar[data-orientation='horizontal']
  .lm-ScrollBar-button[data-action='decrement'] {
  background-image: var(--jp-icon-caret-left);
  background-size: 17px;
}

.lm-ScrollBar[data-orientation='horizontal']
  .lm-ScrollBar-button[data-action='increment'] {
  background-image: var(--jp-icon-caret-right);
  background-size: 17px;
}

.lm-ScrollBar[data-orientation='vertical']
  .lm-ScrollBar-button[data-action='decrement'] {
  background-image: var(--jp-icon-caret-up);
  background-size: 17px;
}

.lm-ScrollBar[data-orientation='vertical']
  .lm-ScrollBar-button[data-action='increment'] {
  background-image: var(--jp-icon-caret-down);
  background-size: 17px;
}

/*-----------------------------------------------------------------------------
| Copyright (c) Jupyter Development Team.
| Copyright (c) 2014-2017, PhosphorJS Contributors
|
| Distributed under the terms of the BSD 3-Clause License.
|
| The full license is in the file LICENSE, distributed with this software.
|----------------------------------------------------------------------------*/


/* <DEPRECATED> */ .p-Widget, /* </DEPRECATED> */
.lm-Widget {
  box-sizing: border-box;
  position: relative;
  overflow: hidden;
  cursor: default;
}


/* <DEPRECATED> */ .p-Widget.p-mod-hidden, /* </DEPRECATED> */
.lm-Widget.lm-mod-hidden {
  display: none !important;
}

/*-----------------------------------------------------------------------------
| Copyright (c) Jupyter Development Team.
| Copyright (c) 2014-2017, PhosphorJS Contributors
|
| Distributed under the terms of the BSD 3-Clause License.
|
| The full license is in the file LICENSE, distributed with this software.
|----------------------------------------------------------------------------*/


/* <DEPRECATED> */ .p-CommandPalette, /* </DEPRECATED> */
.lm-CommandPalette {
  display: flex;
  flex-direction: column;
  -webkit-user-select: none;
  -moz-user-select: none;
  -ms-user-select: none;
  user-select: none;
}


/* <DEPRECATED> */ .p-CommandPalette-search, /* </DEPRECATED> */
.lm-CommandPalette-search {
  flex: 0 0 auto;
}


/* <DEPRECATED> */ .p-CommandPalette-content, /* </DEPRECATED> */
.lm-CommandPalette-content {
  flex: 1 1 auto;
  margin: 0;
  padding: 0;
  min-height: 0;
  overflow: auto;
  list-style-type: none;
}


/* <DEPRECATED> */ .p-CommandPalette-header, /* </DEPRECATED> */
.lm-CommandPalette-header {
  overflow: hidden;
  white-space: nowrap;
  text-overflow: ellipsis;
}


/* <DEPRECATED> */ .p-CommandPalette-item, /* </DEPRECATED> */
.lm-CommandPalette-item {
  display: flex;
  flex-direction: row;
}


/* <DEPRECATED> */ .p-CommandPalette-itemIcon, /* </DEPRECATED> */
.lm-CommandPalette-itemIcon {
  flex: 0 0 auto;
}


/* <DEPRECATED> */ .p-CommandPalette-itemContent, /* </DEPRECATED> */
.lm-CommandPalette-itemContent {
  flex: 1 1 auto;
  overflow: hidden;
}


/* <DEPRECATED> */ .p-CommandPalette-itemShortcut, /* </DEPRECATED> */
.lm-CommandPalette-itemShortcut {
  flex: 0 0 auto;
}


/* <DEPRECATED> */ .p-CommandPalette-itemLabel, /* </DEPRECATED> */
.lm-CommandPalette-itemLabel {
  overflow: hidden;
  white-space: nowrap;
  text-overflow: ellipsis;
}

.lm-close-icon {
	border:1px solid transparent;
  background-color: transparent;
  position: absolute;
	z-index:1;
	right:3%;
	top: 0;
	bottom: 0;
	margin: auto;
	padding: 7px 0;
	display: none;
	vertical-align: middle;
  outline: 0;
  cursor: pointer;
}
.lm-close-icon:after {
	content: "X";
	display: block;
	width: 15px;
	height: 15px;
	text-align: center;
	color:#000;
	font-weight: normal;
	font-size: 12px;
	cursor: pointer;
}

/*-----------------------------------------------------------------------------
| Copyright (c) Jupyter Development Team.
| Copyright (c) 2014-2017, PhosphorJS Contributors
|
| Distributed under the terms of the BSD 3-Clause License.
|
| The full license is in the file LICENSE, distributed with this software.
|----------------------------------------------------------------------------*/


/* <DEPRECATED> */ .p-DockPanel, /* </DEPRECATED> */
.lm-DockPanel {
  z-index: 0;
}


/* <DEPRECATED> */ .p-DockPanel-widget, /* </DEPRECATED> */
.lm-DockPanel-widget {
  z-index: 0;
}


/* <DEPRECATED> */ .p-DockPanel-tabBar, /* </DEPRECATED> */
.lm-DockPanel-tabBar {
  z-index: 1;
}


/* <DEPRECATED> */ .p-DockPanel-handle, /* </DEPRECATED> */
.lm-DockPanel-handle {
  z-index: 2;
}


/* <DEPRECATED> */ .p-DockPanel-handle.p-mod-hidden, /* </DEPRECATED> */
.lm-DockPanel-handle.lm-mod-hidden {
  display: none !important;
}


/* <DEPRECATED> */ .p-DockPanel-handle:after, /* </DEPRECATED> */
.lm-DockPanel-handle:after {
  position: absolute;
  top: 0;
  left: 0;
  width: 100%;
  height: 100%;
  content: '';
}


/* <DEPRECATED> */
.p-DockPanel-handle[data-orientation='horizontal'],
/* </DEPRECATED> */
.lm-DockPanel-handle[data-orientation='horizontal'] {
  cursor: ew-resize;
}


/* <DEPRECATED> */
.p-DockPanel-handle[data-orientation='vertical'],
/* </DEPRECATED> */
.lm-DockPanel-handle[data-orientation='vertical'] {
  cursor: ns-resize;
}


/* <DEPRECATED> */
.p-DockPanel-handle[data-orientation='horizontal']:after,
/* </DEPRECATED> */
.lm-DockPanel-handle[data-orientation='horizontal']:after {
  left: 50%;
  min-width: 8px;
  transform: translateX(-50%);
}


/* <DEPRECATED> */
.p-DockPanel-handle[data-orientation='vertical']:after,
/* </DEPRECATED> */
.lm-DockPanel-handle[data-orientation='vertical']:after {
  top: 50%;
  min-height: 8px;
  transform: translateY(-50%);
}


/* <DEPRECATED> */ .p-DockPanel-overlay, /* </DEPRECATED> */
.lm-DockPanel-overlay {
  z-index: 3;
  box-sizing: border-box;
  pointer-events: none;
}


/* <DEPRECATED> */ .p-DockPanel-overlay.p-mod-hidden, /* </DEPRECATED> */
.lm-DockPanel-overlay.lm-mod-hidden {
  display: none !important;
}

/*-----------------------------------------------------------------------------
| Copyright (c) Jupyter Development Team.
| Copyright (c) 2014-2017, PhosphorJS Contributors
|
| Distributed under the terms of the BSD 3-Clause License.
|
| The full license is in the file LICENSE, distributed with this software.
|----------------------------------------------------------------------------*/


/* <DEPRECATED> */ .p-Menu, /* </DEPRECATED> */
.lm-Menu {
  z-index: 10000;
  position: absolute;
  white-space: nowrap;
  overflow-x: hidden;
  overflow-y: auto;
  outline: none;
  -webkit-user-select: none;
  -moz-user-select: none;
  -ms-user-select: none;
  user-select: none;
}


/* <DEPRECATED> */ .p-Menu-content, /* </DEPRECATED> */
.lm-Menu-content {
  margin: 0;
  padding: 0;
  display: table;
  list-style-type: none;
}


/* <DEPRECATED> */ .p-Menu-item, /* </DEPRECATED> */
.lm-Menu-item {
  display: table-row;
}


/* <DEPRECATED> */
.p-Menu-item.p-mod-hidden,
.p-Menu-item.p-mod-collapsed,
/* </DEPRECATED> */
.lm-Menu-item.lm-mod-hidden,
.lm-Menu-item.lm-mod-collapsed {
  display: none !important;
}


/* <DEPRECATED> */
.p-Menu-itemIcon,
.p-Menu-itemSubmenuIcon,
/* </DEPRECATED> */
.lm-Menu-itemIcon,
.lm-Menu-itemSubmenuIcon {
  display: table-cell;
  text-align: center;
}


/* <DEPRECATED> */ .p-Menu-itemLabel, /* </DEPRECATED> */
.lm-Menu-itemLabel {
  display: table-cell;
  text-align: left;
}


/* <DEPRECATED> */ .p-Menu-itemShortcut, /* </DEPRECATED> */
.lm-Menu-itemShortcut {
  display: table-cell;
  text-align: right;
}

/*-----------------------------------------------------------------------------
| Copyright (c) Jupyter Development Team.
| Copyright (c) 2014-2017, PhosphorJS Contributors
|
| Distributed under the terms of the BSD 3-Clause License.
|
| The full license is in the file LICENSE, distributed with this software.
|----------------------------------------------------------------------------*/


/* <DEPRECATED> */ .p-MenuBar, /* </DEPRECATED> */
.lm-MenuBar {
  outline: none;
  -webkit-user-select: none;
  -moz-user-select: none;
  -ms-user-select: none;
  user-select: none;
}


/* <DEPRECATED> */ .p-MenuBar-content, /* </DEPRECATED> */
.lm-MenuBar-content {
  margin: 0;
  padding: 0;
  display: flex;
  flex-direction: row;
  list-style-type: none;
}


/* <DEPRECATED> */ .p--MenuBar-item, /* </DEPRECATED> */
.lm-MenuBar-item {
  box-sizing: border-box;
}


/* <DEPRECATED> */
.p-MenuBar-itemIcon,
.p-MenuBar-itemLabel,
/* </DEPRECATED> */
.lm-MenuBar-itemIcon,
.lm-MenuBar-itemLabel {
  display: inline-block;
}

/*-----------------------------------------------------------------------------
| Copyright (c) Jupyter Development Team.
| Copyright (c) 2014-2017, PhosphorJS Contributors
|
| Distributed under the terms of the BSD 3-Clause License.
|
| The full license is in the file LICENSE, distributed with this software.
|----------------------------------------------------------------------------*/


/* <DEPRECATED> */ .p-ScrollBar, /* </DEPRECATED> */
.lm-ScrollBar {
  display: flex;
  -webkit-user-select: none;
  -moz-user-select: none;
  -ms-user-select: none;
  user-select: none;
}


/* <DEPRECATED> */
.p-ScrollBar[data-orientation='horizontal'],
/* </DEPRECATED> */
.lm-ScrollBar[data-orientation='horizontal'] {
  flex-direction: row;
}


/* <DEPRECATED> */
.p-ScrollBar[data-orientation='vertical'],
/* </DEPRECATED> */
.lm-ScrollBar[data-orientation='vertical'] {
  flex-direction: column;
}


/* <DEPRECATED> */ .p-ScrollBar-button, /* </DEPRECATED> */
.lm-ScrollBar-button {
  box-sizing: border-box;
  flex: 0 0 auto;
}


/* <DEPRECATED> */ .p-ScrollBar-track, /* </DEPRECATED> */
.lm-ScrollBar-track {
  box-sizing: border-box;
  position: relative;
  overflow: hidden;
  flex: 1 1 auto;
}


/* <DEPRECATED> */ .p-ScrollBar-thumb, /* </DEPRECATED> */
.lm-ScrollBar-thumb {
  box-sizing: border-box;
  position: absolute;
}

/*-----------------------------------------------------------------------------
| Copyright (c) Jupyter Development Team.
| Copyright (c) 2014-2017, PhosphorJS Contributors
|
| Distributed under the terms of the BSD 3-Clause License.
|
| The full license is in the file LICENSE, distributed with this software.
|----------------------------------------------------------------------------*/


/* <DEPRECATED> */ .p-SplitPanel-child, /* </DEPRECATED> */
.lm-SplitPanel-child {
  z-index: 0;
}


/* <DEPRECATED> */ .p-SplitPanel-handle, /* </DEPRECATED> */
.lm-SplitPanel-handle {
  z-index: 1;
}


/* <DEPRECATED> */ .p-SplitPanel-handle.p-mod-hidden, /* </DEPRECATED> */
.lm-SplitPanel-handle.lm-mod-hidden {
  display: none !important;
}


/* <DEPRECATED> */ .p-SplitPanel-handle:after, /* </DEPRECATED> */
.lm-SplitPanel-handle:after {
  position: absolute;
  top: 0;
  left: 0;
  width: 100%;
  height: 100%;
  content: '';
}


/* <DEPRECATED> */
.p-SplitPanel[data-orientation='horizontal'] > .p-SplitPanel-handle,
/* </DEPRECATED> */
.lm-SplitPanel[data-orientation='horizontal'] > .lm-SplitPanel-handle {
  cursor: ew-resize;
}


/* <DEPRECATED> */
.p-SplitPanel[data-orientation='vertical'] > .p-SplitPanel-handle,
/* </DEPRECATED> */
.lm-SplitPanel[data-orientation='vertical'] > .lm-SplitPanel-handle {
  cursor: ns-resize;
}


/* <DEPRECATED> */
.p-SplitPanel[data-orientation='horizontal'] > .p-SplitPanel-handle:after,
/* </DEPRECATED> */
.lm-SplitPanel[data-orientation='horizontal'] > .lm-SplitPanel-handle:after {
  left: 50%;
  min-width: 8px;
  transform: translateX(-50%);
}


/* <DEPRECATED> */
.p-SplitPanel[data-orientation='vertical'] > .p-SplitPanel-handle:after,
/* </DEPRECATED> */
.lm-SplitPanel[data-orientation='vertical'] > .lm-SplitPanel-handle:after {
  top: 50%;
  min-height: 8px;
  transform: translateY(-50%);
}

/*-----------------------------------------------------------------------------
| Copyright (c) Jupyter Development Team.
| Copyright (c) 2014-2017, PhosphorJS Contributors
|
| Distributed under the terms of the BSD 3-Clause License.
|
| The full license is in the file LICENSE, distributed with this software.
|----------------------------------------------------------------------------*/


/* <DEPRECATED> */ .p-TabBar, /* </DEPRECATED> */
.lm-TabBar {
  display: flex;
  -webkit-user-select: none;
  -moz-user-select: none;
  -ms-user-select: none;
  user-select: none;
}


/* <DEPRECATED> */ .p-TabBar[data-orientation='horizontal'], /* </DEPRECATED> */
.lm-TabBar[data-orientation='horizontal'] {
  flex-direction: row;
}


/* <DEPRECATED> */ .p-TabBar[data-orientation='vertical'], /* </DEPRECATED> */
.lm-TabBar[data-orientation='vertical'] {
  flex-direction: column;
}


/* <DEPRECATED> */ .p-TabBar-content, /* </DEPRECATED> */
.lm-TabBar-content {
  margin: 0;
  padding: 0;
  display: flex;
  flex: 1 1 auto;
  list-style-type: none;
}


/* <DEPRECATED> */
.p-TabBar[data-orientation='horizontal'] > .p-TabBar-content,
/* </DEPRECATED> */
.lm-TabBar[data-orientation='horizontal'] > .lm-TabBar-content {
  flex-direction: row;
}


/* <DEPRECATED> */
.p-TabBar[data-orientation='vertical'] > .p-TabBar-content,
/* </DEPRECATED> */
.lm-TabBar[data-orientation='vertical'] > .lm-TabBar-content {
  flex-direction: column;
}


/* <DEPRECATED> */ .p-TabBar-tab, /* </DEPRECATED> */
.lm-TabBar-tab {
  display: flex;
  flex-direction: row;
  box-sizing: border-box;
  overflow: hidden;
}


/* <DEPRECATED> */
.p-TabBar-tabIcon,
.p-TabBar-tabCloseIcon,
/* </DEPRECATED> */
.lm-TabBar-tabIcon,
.lm-TabBar-tabCloseIcon {
  flex: 0 0 auto;
}


/* <DEPRECATED> */ .p-TabBar-tabLabel, /* </DEPRECATED> */
.lm-TabBar-tabLabel {
  flex: 1 1 auto;
  overflow: hidden;
  white-space: nowrap;
}


.lm-TabBar-tabInput {
  user-select: all;
  width: 100%;
  box-sizing : border-box;
}


/* <DEPRECATED> */ .p-TabBar-tab.p-mod-hidden, /* </DEPRECATED> */
.lm-TabBar-tab.lm-mod-hidden {
  display: none !important;
}


/* <DEPRECATED> */ .p-TabBar.p-mod-dragging .p-TabBar-tab, /* </DEPRECATED> */
.lm-TabBar.lm-mod-dragging .lm-TabBar-tab {
  position: relative;
}


/* <DEPRECATED> */
.p-TabBar.p-mod-dragging[data-orientation='horizontal'] .p-TabBar-tab,
/* </DEPRECATED> */
.lm-TabBar.lm-mod-dragging[data-orientation='horizontal'] .lm-TabBar-tab {
  left: 0;
  transition: left 150ms ease;
}


/* <DEPRECATED> */
.p-TabBar.p-mod-dragging[data-orientation='vertical'] .p-TabBar-tab,
/* </DEPRECATED> */
.lm-TabBar.lm-mod-dragging[data-orientation='vertical'] .lm-TabBar-tab {
  top: 0;
  transition: top 150ms ease;
}


/* <DEPRECATED> */
.p-TabBar.p-mod-dragging .p-TabBar-tab.p-mod-dragging,
/* </DEPRECATED> */
.lm-TabBar.lm-mod-dragging .lm-TabBar-tab.lm-mod-dragging {
  transition: none;
}

/*-----------------------------------------------------------------------------
| Copyright (c) Jupyter Development Team.
| Copyright (c) 2014-2017, PhosphorJS Contributors
|
| Distributed under the terms of the BSD 3-Clause License.
|
| The full license is in the file LICENSE, distributed with this software.
|----------------------------------------------------------------------------*/


/* <DEPRECATED> */ .p-TabPanel-tabBar, /* </DEPRECATED> */
.lm-TabPanel-tabBar {
  z-index: 1;
}


/* <DEPRECATED> */ .p-TabPanel-stackedPanel, /* </DEPRECATED> */
.lm-TabPanel-stackedPanel {
  z-index: 0;
}

/*-----------------------------------------------------------------------------
| Copyright (c) Jupyter Development Team.
| Copyright (c) 2014-2017, PhosphorJS Contributors
|
| Distributed under the terms of the BSD 3-Clause License.
|
| The full license is in the file LICENSE, distributed with this software.
|----------------------------------------------------------------------------*/

@charset "UTF-8";
html{
  -webkit-box-sizing:border-box;
          box-sizing:border-box; }

*,
*::before,
*::after{
  -webkit-box-sizing:inherit;
          box-sizing:inherit; }

body{
  font-size:14px;
  font-weight:400;
  letter-spacing:0;
  line-height:1.28581;
  text-transform:none;
  color:#182026;
  font-family:-apple-system, "BlinkMacSystemFont", "Segoe UI", "Roboto", "Oxygen", "Ubuntu", "Cantarell", "Open Sans", "Helvetica Neue", "Icons16", sans-serif; }

p{
  margin-bottom:10px;
  margin-top:0; }

small{
  font-size:12px; }

strong{
  font-weight:600; }

::-moz-selection{
  background:rgba(125, 188, 255, 0.6); }

::selection{
  background:rgba(125, 188, 255, 0.6); }
.bp3-heading{
  color:#182026;
  font-weight:600;
  margin:0 0 10px;
  padding:0; }
  .bp3-dark .bp3-heading{
    color:#f5f8fa; }

h1.bp3-heading, .bp3-running-text h1{
  font-size:36px;
  line-height:40px; }

h2.bp3-heading, .bp3-running-text h2{
  font-size:28px;
  line-height:32px; }

h3.bp3-heading, .bp3-running-text h3{
  font-size:22px;
  line-height:25px; }

h4.bp3-heading, .bp3-running-text h4{
  font-size:18px;
  line-height:21px; }

h5.bp3-heading, .bp3-running-text h5{
  font-size:16px;
  line-height:19px; }

h6.bp3-heading, .bp3-running-text h6{
  font-size:14px;
  line-height:16px; }
.bp3-ui-text{
  font-size:14px;
  font-weight:400;
  letter-spacing:0;
  line-height:1.28581;
  text-transform:none; }

.bp3-monospace-text{
  font-family:monospace;
  text-transform:none; }

.bp3-text-muted{
  color:#5c7080; }
  .bp3-dark .bp3-text-muted{
    color:#a7b6c2; }

.bp3-text-disabled{
  color:rgba(92, 112, 128, 0.6); }
  .bp3-dark .bp3-text-disabled{
    color:rgba(167, 182, 194, 0.6); }

.bp3-text-overflow-ellipsis{
  overflow:hidden;
  text-overflow:ellipsis;
  white-space:nowrap;
  word-wrap:normal; }
.bp3-running-text{
  font-size:14px;
  line-height:1.5; }
  .bp3-running-text h1{
    color:#182026;
    font-weight:600;
    margin-bottom:20px;
    margin-top:40px; }
    .bp3-dark .bp3-running-text h1{
      color:#f5f8fa; }
  .bp3-running-text h2{
    color:#182026;
    font-weight:600;
    margin-bottom:20px;
    margin-top:40px; }
    .bp3-dark .bp3-running-text h2{
      color:#f5f8fa; }
  .bp3-running-text h3{
    color:#182026;
    font-weight:600;
    margin-bottom:20px;
    margin-top:40px; }
    .bp3-dark .bp3-running-text h3{
      color:#f5f8fa; }
  .bp3-running-text h4{
    color:#182026;
    font-weight:600;
    margin-bottom:20px;
    margin-top:40px; }
    .bp3-dark .bp3-running-text h4{
      color:#f5f8fa; }
  .bp3-running-text h5{
    color:#182026;
    font-weight:600;
    margin-bottom:20px;
    margin-top:40px; }
    .bp3-dark .bp3-running-text h5{
      color:#f5f8fa; }
  .bp3-running-text h6{
    color:#182026;
    font-weight:600;
    margin-bottom:20px;
    margin-top:40px; }
    .bp3-dark .bp3-running-text h6{
      color:#f5f8fa; }
  .bp3-running-text hr{
    border:none;
    border-bottom:1px solid rgba(16, 22, 26, 0.15);
    margin:20px 0; }
    .bp3-dark .bp3-running-text hr{
      border-color:rgba(255, 255, 255, 0.15); }
  .bp3-running-text p{
    margin:0 0 10px;
    padding:0; }

.bp3-text-large{
  font-size:16px; }

.bp3-text-small{
  font-size:12px; }
a{
  color:#106ba3;
  text-decoration:none; }
  a:hover{
    color:#106ba3;
    cursor:pointer;
    text-decoration:underline; }
  a .bp3-icon, a .bp3-icon-standard, a .bp3-icon-large{
    color:inherit; }
  a code,
  .bp3-dark a code{
    color:inherit; }
  .bp3-dark a,
  .bp3-dark a:hover{
    color:#48aff0; }
    .bp3-dark a .bp3-icon, .bp3-dark a .bp3-icon-standard, .bp3-dark a .bp3-icon-large,
    .bp3-dark a:hover .bp3-icon,
    .bp3-dark a:hover .bp3-icon-standard,
    .bp3-dark a:hover .bp3-icon-large{
      color:inherit; }
.bp3-running-text code, .bp3-code{
  font-family:monospace;
  text-transform:none;
  background:rgba(255, 255, 255, 0.7);
  border-radius:3px;
  -webkit-box-shadow:inset 0 0 0 1px rgba(16, 22, 26, 0.2);
          box-shadow:inset 0 0 0 1px rgba(16, 22, 26, 0.2);
  color:#5c7080;
  font-size:smaller;
  padding:2px 5px; }
  .bp3-dark .bp3-running-text code, .bp3-running-text .bp3-dark code, .bp3-dark .bp3-code{
    background:rgba(16, 22, 26, 0.3);
    -webkit-box-shadow:inset 0 0 0 1px rgba(16, 22, 26, 0.4);
            box-shadow:inset 0 0 0 1px rgba(16, 22, 26, 0.4);
    color:#a7b6c2; }
  .bp3-running-text a > code, a > .bp3-code{
    color:#137cbd; }
    .bp3-dark .bp3-running-text a > code, .bp3-running-text .bp3-dark a > code, .bp3-dark a > .bp3-code{
      color:inherit; }

.bp3-running-text pre, .bp3-code-block{
  font-family:monospace;
  text-transform:none;
  background:rgba(255, 255, 255, 0.7);
  border-radius:3px;
  -webkit-box-shadow:inset 0 0 0 1px rgba(16, 22, 26, 0.15);
          box-shadow:inset 0 0 0 1px rgba(16, 22, 26, 0.15);
  color:#182026;
  display:block;
  font-size:13px;
  line-height:1.4;
  margin:10px 0;
  padding:13px 15px 12px;
  word-break:break-all;
  word-wrap:break-word; }
  .bp3-dark .bp3-running-text pre, .bp3-running-text .bp3-dark pre, .bp3-dark .bp3-code-block{
    background:rgba(16, 22, 26, 0.3);
    -webkit-box-shadow:inset 0 0 0 1px rgba(16, 22, 26, 0.4);
            box-shadow:inset 0 0 0 1px rgba(16, 22, 26, 0.4);
    color:#f5f8fa; }
  .bp3-running-text pre > code, .bp3-code-block > code{
    background:none;
    -webkit-box-shadow:none;
            box-shadow:none;
    color:inherit;
    font-size:inherit;
    padding:0; }

.bp3-running-text kbd, .bp3-key{
  -webkit-box-align:center;
      -ms-flex-align:center;
          align-items:center;
  background:#ffffff;
  border-radius:3px;
  -webkit-box-shadow:0 0 0 1px rgba(16, 22, 26, 0.1), 0 0 0 rgba(16, 22, 26, 0), 0 1px 1px rgba(16, 22, 26, 0.2);
          box-shadow:0 0 0 1px rgba(16, 22, 26, 0.1), 0 0 0 rgba(16, 22, 26, 0), 0 1px 1px rgba(16, 22, 26, 0.2);
  color:#5c7080;
  display:-webkit-inline-box;
  display:-ms-inline-flexbox;
  display:inline-flex;
  font-family:inherit;
  font-size:12px;
  height:24px;
  -webkit-box-pack:center;
      -ms-flex-pack:center;
          justify-content:center;
  line-height:24px;
  min-width:24px;
  padding:3px 6px;
  vertical-align:middle; }
  .bp3-running-text kbd .bp3-icon, .bp3-key .bp3-icon, .bp3-running-text kbd .bp3-icon-standard, .bp3-key .bp3-icon-standard, .bp3-running-text kbd .bp3-icon-large, .bp3-key .bp3-icon-large{
    margin-right:5px; }
  .bp3-dark .bp3-running-text kbd, .bp3-running-text .bp3-dark kbd, .bp3-dark .bp3-key{
    background:#394b59;
    -webkit-box-shadow:0 0 0 1px rgba(16, 22, 26, 0.2), 0 0 0 rgba(16, 22, 26, 0), 0 1px 1px rgba(16, 22, 26, 0.4);
            box-shadow:0 0 0 1px rgba(16, 22, 26, 0.2), 0 0 0 rgba(16, 22, 26, 0), 0 1px 1px rgba(16, 22, 26, 0.4);
    color:#a7b6c2; }
.bp3-running-text blockquote, .bp3-blockquote{
  border-left:solid 4px rgba(167, 182, 194, 0.5);
  margin:0 0 10px;
  padding:0 20px; }
  .bp3-dark .bp3-running-text blockquote, .bp3-running-text .bp3-dark blockquote, .bp3-dark .bp3-blockquote{
    border-color:rgba(115, 134, 148, 0.5); }
.bp3-running-text ul,
.bp3-running-text ol, .bp3-list{
  margin:10px 0;
  padding-left:30px; }
  .bp3-running-text ul li:not(:last-child), .bp3-running-text ol li:not(:last-child), .bp3-list li:not(:last-child){
    margin-bottom:5px; }
  .bp3-running-text ul ol, .bp3-running-text ol ol, .bp3-list ol,
  .bp3-running-text ul ul,
  .bp3-running-text ol ul,
  .bp3-list ul{
    margin-top:5px; }

.bp3-list-unstyled{
  list-style:none;
  margin:0;
  padding:0; }
  .bp3-list-unstyled li{
    padding:0; }
.bp3-rtl{
  text-align:right; }

.bp3-dark{
  color:#f5f8fa; }

:focus{
  outline:rgba(19, 124, 189, 0.6) auto 2px;
  outline-offset:2px;
  -moz-outline-radius:6px; }

.bp3-focus-disabled :focus{
  outline:none !important; }
  .bp3-focus-disabled :focus ~ .bp3-control-indicator{
    outline:none !important; }

.bp3-alert{
  max-width:400px;
  padding:20px; }

.bp3-alert-body{
  display:-webkit-box;
  display:-ms-flexbox;
  display:flex; }
  .bp3-alert-body .bp3-icon{
    font-size:40px;
    margin-right:20px;
    margin-top:0; }

.bp3-alert-contents{
  word-break:break-word; }

.bp3-alert-footer{
  display:-webkit-box;
  display:-ms-flexbox;
  display:flex;
  -webkit-box-orient:horizontal;
  -webkit-box-direction:reverse;
      -ms-flex-direction:row-reverse;
          flex-direction:row-reverse;
  margin-top:10px; }
  .bp3-alert-footer .bp3-button{
    margin-left:10px; }
.bp3-breadcrumbs{
  -webkit-box-align:center;
      -ms-flex-align:center;
          align-items:center;
  cursor:default;
  display:-webkit-box;
  display:-ms-flexbox;
  display:flex;
  -ms-flex-wrap:wrap;
      flex-wrap:wrap;
  height:30px;
  list-style:none;
  margin:0;
  padding:0; }
  .bp3-breadcrumbs > li{
    -webkit-box-align:center;
        -ms-flex-align:center;
            align-items:center;
    display:-webkit-box;
    display:-ms-flexbox;
    display:flex; }
    .bp3-breadcrumbs > li::after{
      background:url("data:image/svg+xml,%3csvg xmlns='http://www.w3.org/2000/svg' viewBox='0 0 16 16'%3e%3cpath fill-rule='evenodd' clip-rule='evenodd' d='M10.71 7.29l-4-4a1.003 1.003 0 00-1.42 1.42L8.59 8 5.3 11.29c-.19.18-.3.43-.3.71a1.003 1.003 0 001.71.71l4-4c.18-.18.29-.43.29-.71 0-.28-.11-.53-.29-.71z' fill='%235C7080'/%3e%3c/svg%3e");
      content:"";
      display:block;
      height:16px;
      margin:0 5px;
      width:16px; }
    .bp3-breadcrumbs > li:last-of-type::after{
      display:none; }

.bp3-breadcrumb,
.bp3-breadcrumb-current,
.bp3-breadcrumbs-collapsed{
  -webkit-box-align:center;
      -ms-flex-align:center;
          align-items:center;
  display:-webkit-inline-box;
  display:-ms-inline-flexbox;
  display:inline-flex;
  font-size:16px; }

.bp3-breadcrumb,
.bp3-breadcrumbs-collapsed{
  color:#5c7080; }

.bp3-breadcrumb:hover{
  text-decoration:none; }

.bp3-breadcrumb.bp3-disabled{
  color:rgba(92, 112, 128, 0.6);
  cursor:not-allowed; }

.bp3-breadcrumb .bp3-icon{
  margin-right:5px; }

.bp3-breadcrumb-current{
  color:inherit;
  font-weight:600; }
  .bp3-breadcrumb-current .bp3-input{
    font-size:inherit;
    font-weight:inherit;
    vertical-align:baseline; }

.bp3-breadcrumbs-collapsed{
  background:#ced9e0;
  border:none;
  border-radius:3px;
  cursor:pointer;
  margin-right:2px;
  padding:1px 5px;
  vertical-align:text-bottom; }
  .bp3-breadcrumbs-collapsed::before{
    background:url("data:image/svg+xml,%3csvg xmlns='http://www.w3.org/2000/svg' viewBox='0 0 16 16'%3e%3cg fill='%235C7080'%3e%3ccircle cx='2' cy='8.03' r='2'/%3e%3ccircle cx='14' cy='8.03' r='2'/%3e%3ccircle cx='8' cy='8.03' r='2'/%3e%3c/g%3e%3c/svg%3e") center no-repeat;
    content:"";
    display:block;
    height:16px;
    width:16px; }
  .bp3-breadcrumbs-collapsed:hover{
    background:#bfccd6;
    color:#182026;
    text-decoration:none; }

.bp3-dark .bp3-breadcrumb,
.bp3-dark .bp3-breadcrumbs-collapsed{
  color:#a7b6c2; }

.bp3-dark .bp3-breadcrumbs > li::after{
  color:#a7b6c2; }

.bp3-dark .bp3-breadcrumb.bp3-disabled{
  color:rgba(167, 182, 194, 0.6); }

.bp3-dark .bp3-breadcrumb-current{
  color:#f5f8fa; }

.bp3-dark .bp3-breadcrumbs-collapsed{
  background:rgba(16, 22, 26, 0.4); }
  .bp3-dark .bp3-breadcrumbs-collapsed:hover{
    background:rgba(16, 22, 26, 0.6);
    color:#f5f8fa; }
.bp3-button{
  display:-webkit-inline-box;
  display:-ms-inline-flexbox;
  display:inline-flex;
  -webkit-box-orient:horizontal;
  -webkit-box-direction:normal;
      -ms-flex-direction:row;
          flex-direction:row;
  -webkit-box-align:center;
      -ms-flex-align:center;
          align-items:center;
  border:none;
  border-radius:3px;
  cursor:pointer;
  font-size:14px;
  -webkit-box-pack:center;
      -ms-flex-pack:center;
          justify-content:center;
  padding:5px 10px;
  text-align:left;
  vertical-align:middle;
  min-height:30px;
  min-width:30px; }
  .bp3-button > *{
    -webkit-box-flex:0;
        -ms-flex-positive:0;
            flex-grow:0;
    -ms-flex-negative:0;
        flex-shrink:0; }
  .bp3-button > .bp3-fill{
    -webkit-box-flex:1;
        -ms-flex-positive:1;
            flex-grow:1;
    -ms-flex-negative:1;
        flex-shrink:1; }
  .bp3-button::before,
  .bp3-button > *{
    margin-right:7px; }
  .bp3-button:empty::before,
  .bp3-button > :last-child{
    margin-right:0; }
  .bp3-button:empty{
    padding:0 !important; }
  .bp3-button:disabled, .bp3-button.bp3-disabled{
    cursor:not-allowed; }
  .bp3-button.bp3-fill{
    display:-webkit-box;
    display:-ms-flexbox;
    display:flex;
    width:100%; }
  .bp3-button.bp3-align-right,
  .bp3-align-right .bp3-button{
    text-align:right; }
  .bp3-button.bp3-align-left,
  .bp3-align-left .bp3-button{
    text-align:left; }
  .bp3-button:not([class*="bp3-intent-"]){
    background-color:#f5f8fa;
    background-image:-webkit-gradient(linear, left top, left bottom, from(rgba(255, 255, 255, 0.8)), to(rgba(255, 255, 255, 0)));
    background-image:linear-gradient(to bottom, rgba(255, 255, 255, 0.8), rgba(255, 255, 255, 0));
    -webkit-box-shadow:inset 0 0 0 1px rgba(16, 22, 26, 0.2), inset 0 -1px 0 rgba(16, 22, 26, 0.1);
            box-shadow:inset 0 0 0 1px rgba(16, 22, 26, 0.2), inset 0 -1px 0 rgba(16, 22, 26, 0.1);
    color:#182026; }
    .bp3-button:not([class*="bp3-intent-"]):hover{
      background-clip:padding-box;
      background-color:#ebf1f5;
      -webkit-box-shadow:inset 0 0 0 1px rgba(16, 22, 26, 0.2), inset 0 -1px 0 rgba(16, 22, 26, 0.1);
              box-shadow:inset 0 0 0 1px rgba(16, 22, 26, 0.2), inset 0 -1px 0 rgba(16, 22, 26, 0.1); }
    .bp3-button:not([class*="bp3-intent-"]):active, .bp3-button:not([class*="bp3-intent-"]).bp3-active{
      background-color:#d8e1e8;
      background-image:none;
      -webkit-box-shadow:inset 0 0 0 1px rgba(16, 22, 26, 0.2), inset 0 1px 2px rgba(16, 22, 26, 0.2);
              box-shadow:inset 0 0 0 1px rgba(16, 22, 26, 0.2), inset 0 1px 2px rgba(16, 22, 26, 0.2); }
    .bp3-button:not([class*="bp3-intent-"]):disabled, .bp3-button:not([class*="bp3-intent-"]).bp3-disabled{
      background-color:rgba(206, 217, 224, 0.5);
      background-image:none;
      -webkit-box-shadow:none;
              box-shadow:none;
      color:rgba(92, 112, 128, 0.6);
      cursor:not-allowed;
      outline:none; }
      .bp3-button:not([class*="bp3-intent-"]):disabled.bp3-active, .bp3-button:not([class*="bp3-intent-"]):disabled.bp3-active:hover, .bp3-button:not([class*="bp3-intent-"]).bp3-disabled.bp3-active, .bp3-button:not([class*="bp3-intent-"]).bp3-disabled.bp3-active:hover{
        background:rgba(206, 217, 224, 0.7); }
  .bp3-button.bp3-intent-primary{
    background-color:#137cbd;
    background-image:-webkit-gradient(linear, left top, left bottom, from(rgba(255, 255, 255, 0.1)), to(rgba(255, 255, 255, 0)));
    background-image:linear-gradient(to bottom, rgba(255, 255, 255, 0.1), rgba(255, 255, 255, 0));
    -webkit-box-shadow:inset 0 0 0 1px rgba(16, 22, 26, 0.4), inset 0 -1px 0 rgba(16, 22, 26, 0.2);
            box-shadow:inset 0 0 0 1px rgba(16, 22, 26, 0.4), inset 0 -1px 0 rgba(16, 22, 26, 0.2);
    color:#ffffff; }
    .bp3-button.bp3-intent-primary:hover, .bp3-button.bp3-intent-primary:active, .bp3-button.bp3-intent-primary.bp3-active{
      color:#ffffff; }
    .bp3-button.bp3-intent-primary:hover{
      background-color:#106ba3;
      -webkit-box-shadow:inset 0 0 0 1px rgba(16, 22, 26, 0.4), inset 0 -1px 0 rgba(16, 22, 26, 0.2);
              box-shadow:inset 0 0 0 1px rgba(16, 22, 26, 0.4), inset 0 -1px 0 rgba(16, 22, 26, 0.2); }
    .bp3-button.bp3-intent-primary:active, .bp3-button.bp3-intent-primary.bp3-active{
      background-color:#0e5a8a;
      background-image:none;
      -webkit-box-shadow:inset 0 0 0 1px rgba(16, 22, 26, 0.4), inset 0 1px 2px rgba(16, 22, 26, 0.2);
              box-shadow:inset 0 0 0 1px rgba(16, 22, 26, 0.4), inset 0 1px 2px rgba(16, 22, 26, 0.2); }
    .bp3-button.bp3-intent-primary:disabled, .bp3-button.bp3-intent-primary.bp3-disabled{
      background-color:rgba(19, 124, 189, 0.5);
      background-image:none;
      border-color:transparent;
      -webkit-box-shadow:none;
              box-shadow:none;
      color:rgba(255, 255, 255, 0.6); }
  .bp3-button.bp3-intent-success{
    background-color:#0f9960;
    background-image:-webkit-gradient(linear, left top, left bottom, from(rgba(255, 255, 255, 0.1)), to(rgba(255, 255, 255, 0)));
    background-image:linear-gradient(to bottom, rgba(255, 255, 255, 0.1), rgba(255, 255, 255, 0));
    -webkit-box-shadow:inset 0 0 0 1px rgba(16, 22, 26, 0.4), inset 0 -1px 0 rgba(16, 22, 26, 0.2);
            box-shadow:inset 0 0 0 1px rgba(16, 22, 26, 0.4), inset 0 -1px 0 rgba(16, 22, 26, 0.2);
    color:#ffffff; }
    .bp3-button.bp3-intent-success:hover, .bp3-button.bp3-intent-success:active, .bp3-button.bp3-intent-success.bp3-active{
      color:#ffffff; }
    .bp3-button.bp3-intent-success:hover{
      background-color:#0d8050;
      -webkit-box-shadow:inset 0 0 0 1px rgba(16, 22, 26, 0.4), inset 0 -1px 0 rgba(16, 22, 26, 0.2);
              box-shadow:inset 0 0 0 1px rgba(16, 22, 26, 0.4), inset 0 -1px 0 rgba(16, 22, 26, 0.2); }
    .bp3-button.bp3-intent-success:active, .bp3-button.bp3-intent-success.bp3-active{
      background-color:#0a6640;
      background-image:none;
      -webkit-box-shadow:inset 0 0 0 1px rgba(16, 22, 26, 0.4), inset 0 1px 2px rgba(16, 22, 26, 0.2);
              box-shadow:inset 0 0 0 1px rgba(16, 22, 26, 0.4), inset 0 1px 2px rgba(16, 22, 26, 0.2); }
    .bp3-button.bp3-intent-success:disabled, .bp3-button.bp3-intent-success.bp3-disabled{
      background-color:rgba(15, 153, 96, 0.5);
      background-image:none;
      border-color:transparent;
      -webkit-box-shadow:none;
              box-shadow:none;
      color:rgba(255, 255, 255, 0.6); }
  .bp3-button.bp3-intent-warning{
    background-color:#d9822b;
    background-image:-webkit-gradient(linear, left top, left bottom, from(rgba(255, 255, 255, 0.1)), to(rgba(255, 255, 255, 0)));
    background-image:linear-gradient(to bottom, rgba(255, 255, 255, 0.1), rgba(255, 255, 255, 0));
    -webkit-box-shadow:inset 0 0 0 1px rgba(16, 22, 26, 0.4), inset 0 -1px 0 rgba(16, 22, 26, 0.2);
            box-shadow:inset 0 0 0 1px rgba(16, 22, 26, 0.4), inset 0 -1px 0 rgba(16, 22, 26, 0.2);
    color:#ffffff; }
    .bp3-button.bp3-intent-warning:hover, .bp3-button.bp3-intent-warning:active, .bp3-button.bp3-intent-warning.bp3-active{
      color:#ffffff; }
    .bp3-button.bp3-intent-warning:hover{
      background-color:#bf7326;
      -webkit-box-shadow:inset 0 0 0 1px rgba(16, 22, 26, 0.4), inset 0 -1px 0 rgba(16, 22, 26, 0.2);
              box-shadow:inset 0 0 0 1px rgba(16, 22, 26, 0.4), inset 0 -1px 0 rgba(16, 22, 26, 0.2); }
    .bp3-button.bp3-intent-warning:active, .bp3-button.bp3-intent-warning.bp3-active{
      background-color:#a66321;
      background-image:none;
      -webkit-box-shadow:inset 0 0 0 1px rgba(16, 22, 26, 0.4), inset 0 1px 2px rgba(16, 22, 26, 0.2);
              box-shadow:inset 0 0 0 1px rgba(16, 22, 26, 0.4), inset 0 1px 2px rgba(16, 22, 26, 0.2); }
    .bp3-button.bp3-intent-warning:disabled, .bp3-button.bp3-intent-warning.bp3-disabled{
      background-color:rgba(217, 130, 43, 0.5);
      background-image:none;
      border-color:transparent;
      -webkit-box-shadow:none;
              box-shadow:none;
      color:rgba(255, 255, 255, 0.6); }
  .bp3-button.bp3-intent-danger{
    background-color:#db3737;
    background-image:-webkit-gradient(linear, left top, left bottom, from(rgba(255, 255, 255, 0.1)), to(rgba(255, 255, 255, 0)));
    background-image:linear-gradient(to bottom, rgba(255, 255, 255, 0.1), rgba(255, 255, 255, 0));
    -webkit-box-shadow:inset 0 0 0 1px rgba(16, 22, 26, 0.4), inset 0 -1px 0 rgba(16, 22, 26, 0.2);
            box-shadow:inset 0 0 0 1px rgba(16, 22, 26, 0.4), inset 0 -1px 0 rgba(16, 22, 26, 0.2);
    color:#ffffff; }
    .bp3-button.bp3-intent-danger:hover, .bp3-button.bp3-intent-danger:active, .bp3-button.bp3-intent-danger.bp3-active{
      color:#ffffff; }
    .bp3-button.bp3-intent-danger:hover{
      background-color:#c23030;
      -webkit-box-shadow:inset 0 0 0 1px rgba(16, 22, 26, 0.4), inset 0 -1px 0 rgba(16, 22, 26, 0.2);
              box-shadow:inset 0 0 0 1px rgba(16, 22, 26, 0.4), inset 0 -1px 0 rgba(16, 22, 26, 0.2); }
    .bp3-button.bp3-intent-danger:active, .bp3-button.bp3-intent-danger.bp3-active{
      background-color:#a82a2a;
      background-image:none;
      -webkit-box-shadow:inset 0 0 0 1px rgba(16, 22, 26, 0.4), inset 0 1px 2px rgba(16, 22, 26, 0.2);
              box-shadow:inset 0 0 0 1px rgba(16, 22, 26, 0.4), inset 0 1px 2px rgba(16, 22, 26, 0.2); }
    .bp3-button.bp3-intent-danger:disabled, .bp3-button.bp3-intent-danger.bp3-disabled{
      background-color:rgba(219, 55, 55, 0.5);
      background-image:none;
      border-color:transparent;
      -webkit-box-shadow:none;
              box-shadow:none;
      color:rgba(255, 255, 255, 0.6); }
  .bp3-button[class*="bp3-intent-"] .bp3-button-spinner .bp3-spinner-head{
    stroke:#ffffff; }
  .bp3-button.bp3-large,
  .bp3-large .bp3-button{
    min-height:40px;
    min-width:40px;
    font-size:16px;
    padding:5px 15px; }
    .bp3-button.bp3-large::before,
    .bp3-button.bp3-large > *,
    .bp3-large .bp3-button::before,
    .bp3-large .bp3-button > *{
      margin-right:10px; }
    .bp3-button.bp3-large:empty::before,
    .bp3-button.bp3-large > :last-child,
    .bp3-large .bp3-button:empty::before,
    .bp3-large .bp3-button > :last-child{
      margin-right:0; }
  .bp3-button.bp3-small,
  .bp3-small .bp3-button{
    min-height:24px;
    min-width:24px;
    padding:0 7px; }
  .bp3-button.bp3-loading{
    position:relative; }
    .bp3-button.bp3-loading[class*="bp3-icon-"]::before{
      visibility:hidden; }
    .bp3-button.bp3-loading .bp3-button-spinner{
      margin:0;
      position:absolute; }
    .bp3-button.bp3-loading > :not(.bp3-button-spinner){
      visibility:hidden; }
  .bp3-button[class*="bp3-icon-"]::before{
    font-family:"Icons16", sans-serif;
    font-size:16px;
    font-style:normal;
    font-weight:400;
    line-height:1;
    -moz-osx-font-smoothing:grayscale;
    -webkit-font-smoothing:antialiased;
    color:#5c7080; }
  .bp3-button .bp3-icon, .bp3-button .bp3-icon-standard, .bp3-button .bp3-icon-large{
    color:#5c7080; }
    .bp3-button .bp3-icon.bp3-align-right, .bp3-button .bp3-icon-standard.bp3-align-right, .bp3-button .bp3-icon-large.bp3-align-right{
      margin-left:7px; }
  .bp3-button .bp3-icon:first-child:last-child,
  .bp3-button .bp3-spinner + .bp3-icon:last-child{
    margin:0 -7px; }
  .bp3-dark .bp3-button:not([class*="bp3-intent-"]){
    background-color:#394b59;
    background-image:-webkit-gradient(linear, left top, left bottom, from(rgba(255, 255, 255, 0.05)), to(rgba(255, 255, 255, 0)));
    background-image:linear-gradient(to bottom, rgba(255, 255, 255, 0.05), rgba(255, 255, 255, 0));
    -webkit-box-shadow:0 0 0 1px rgba(16, 22, 26, 0.4);
            box-shadow:0 0 0 1px rgba(16, 22, 26, 0.4);
    color:#f5f8fa; }
    .bp3-dark .bp3-button:not([class*="bp3-intent-"]):hover, .bp3-dark .bp3-button:not([class*="bp3-intent-"]):active, .bp3-dark .bp3-button:not([class*="bp3-intent-"]).bp3-active{
      color:#f5f8fa; }
    .bp3-dark .bp3-button:not([class*="bp3-intent-"]):hover{
      background-color:#30404d;
      -webkit-box-shadow:0 0 0 1px rgba(16, 22, 26, 0.4);
              box-shadow:0 0 0 1px rgba(16, 22, 26, 0.4); }
    .bp3-dark .bp3-button:not([class*="bp3-intent-"]):active, .bp3-dark .bp3-button:not([class*="bp3-intent-"]).bp3-active{
      background-color:#202b33;
      background-image:none;
      -webkit-box-shadow:0 0 0 1px rgba(16, 22, 26, 0.6), inset 0 1px 2px rgba(16, 22, 26, 0.2);
              box-shadow:0 0 0 1px rgba(16, 22, 26, 0.6), inset 0 1px 2px rgba(16, 22, 26, 0.2); }
    .bp3-dark .bp3-button:not([class*="bp3-intent-"]):disabled, .bp3-dark .bp3-button:not([class*="bp3-intent-"]).bp3-disabled{
      background-color:rgba(57, 75, 89, 0.5);
      background-image:none;
      -webkit-box-shadow:none;
              box-shadow:none;
      color:rgba(167, 182, 194, 0.6); }
      .bp3-dark .bp3-button:not([class*="bp3-intent-"]):disabled.bp3-active, .bp3-dark .bp3-button:not([class*="bp3-intent-"]).bp3-disabled.bp3-active{
        background:rgba(57, 75, 89, 0.7); }
    .bp3-dark .bp3-button:not([class*="bp3-intent-"]) .bp3-button-spinner .bp3-spinner-head{
      background:rgba(16, 22, 26, 0.5);
      stroke:#8a9ba8; }
    .bp3-dark .bp3-button:not([class*="bp3-intent-"])[class*="bp3-icon-"]::before{
      color:#a7b6c2; }
    .bp3-dark .bp3-button:not([class*="bp3-intent-"]) .bp3-icon, .bp3-dark .bp3-button:not([class*="bp3-intent-"]) .bp3-icon-standard, .bp3-dark .bp3-button:not([class*="bp3-intent-"]) .bp3-icon-large{
      color:#a7b6c2; }
  .bp3-dark .bp3-button[class*="bp3-intent-"]{
    -webkit-box-shadow:0 0 0 1px rgba(16, 22, 26, 0.4);
            box-shadow:0 0 0 1px rgba(16, 22, 26, 0.4); }
    .bp3-dark .bp3-button[class*="bp3-intent-"]:hover{
      -webkit-box-shadow:0 0 0 1px rgba(16, 22, 26, 0.4);
              box-shadow:0 0 0 1px rgba(16, 22, 26, 0.4); }
    .bp3-dark .bp3-button[class*="bp3-intent-"]:active, .bp3-dark .bp3-button[class*="bp3-intent-"].bp3-active{
      -webkit-box-shadow:0 0 0 1px rgba(16, 22, 26, 0.4), inset 0 1px 2px rgba(16, 22, 26, 0.2);
              box-shadow:0 0 0 1px rgba(16, 22, 26, 0.4), inset 0 1px 2px rgba(16, 22, 26, 0.2); }
    .bp3-dark .bp3-button[class*="bp3-intent-"]:disabled, .bp3-dark .bp3-button[class*="bp3-intent-"].bp3-disabled{
      background-image:none;
      -webkit-box-shadow:none;
              box-shadow:none;
      color:rgba(255, 255, 255, 0.3); }
    .bp3-dark .bp3-button[class*="bp3-intent-"] .bp3-button-spinner .bp3-spinner-head{
      stroke:#8a9ba8; }
  .bp3-button:disabled::before,
  .bp3-button:disabled .bp3-icon, .bp3-button:disabled .bp3-icon-standard, .bp3-button:disabled .bp3-icon-large, .bp3-button.bp3-disabled::before,
  .bp3-button.bp3-disabled .bp3-icon, .bp3-button.bp3-disabled .bp3-icon-standard, .bp3-button.bp3-disabled .bp3-icon-large, .bp3-button[class*="bp3-intent-"]::before,
  .bp3-button[class*="bp3-intent-"] .bp3-icon, .bp3-button[class*="bp3-intent-"] .bp3-icon-standard, .bp3-button[class*="bp3-intent-"] .bp3-icon-large{
    color:inherit !important; }
  .bp3-button.bp3-minimal{
    background:none;
    -webkit-box-shadow:none;
            box-shadow:none; }
    .bp3-button.bp3-minimal:hover{
      background:rgba(167, 182, 194, 0.3);
      -webkit-box-shadow:none;
              box-shadow:none;
      color:#182026;
      text-decoration:none; }
    .bp3-button.bp3-minimal:active, .bp3-button.bp3-minimal.bp3-active{
      background:rgba(115, 134, 148, 0.3);
      -webkit-box-shadow:none;
              box-shadow:none;
      color:#182026; }
    .bp3-button.bp3-minimal:disabled, .bp3-button.bp3-minimal:disabled:hover, .bp3-button.bp3-minimal.bp3-disabled, .bp3-button.bp3-minimal.bp3-disabled:hover{
      background:none;
      color:rgba(92, 112, 128, 0.6);
      cursor:not-allowed; }
      .bp3-button.bp3-minimal:disabled.bp3-active, .bp3-button.bp3-minimal:disabled:hover.bp3-active, .bp3-button.bp3-minimal.bp3-disabled.bp3-active, .bp3-button.bp3-minimal.bp3-disabled:hover.bp3-active{
        background:rgba(115, 134, 148, 0.3); }
    .bp3-dark .bp3-button.bp3-minimal{
      background:none;
      -webkit-box-shadow:none;
              box-shadow:none;
      color:inherit; }
      .bp3-dark .bp3-button.bp3-minimal:hover, .bp3-dark .bp3-button.bp3-minimal:active, .bp3-dark .bp3-button.bp3-minimal.bp3-active{
        background:none;
        -webkit-box-shadow:none;
                box-shadow:none; }
      .bp3-dark .bp3-button.bp3-minimal:hover{
        background:rgba(138, 155, 168, 0.15); }
      .bp3-dark .bp3-button.bp3-minimal:active, .bp3-dark .bp3-button.bp3-minimal.bp3-active{
        background:rgba(138, 155, 168, 0.3);
        color:#f5f8fa; }
      .bp3-dark .bp3-button.bp3-minimal:disabled, .bp3-dark .bp3-button.bp3-minimal:disabled:hover, .bp3-dark .bp3-button.bp3-minimal.bp3-disabled, .bp3-dark .bp3-button.bp3-minimal.bp3-disabled:hover{
        background:none;
        color:rgba(167, 182, 194, 0.6);
        cursor:not-allowed; }
        .bp3-dark .bp3-button.bp3-minimal:disabled.bp3-active, .bp3-dark .bp3-button.bp3-minimal:disabled:hover.bp3-active, .bp3-dark .bp3-button.bp3-minimal.bp3-disabled.bp3-active, .bp3-dark .bp3-button.bp3-minimal.bp3-disabled:hover.bp3-active{
          background:rgba(138, 155, 168, 0.3); }
    .bp3-button.bp3-minimal.bp3-intent-primary{
      color:#106ba3; }
      .bp3-button.bp3-minimal.bp3-intent-primary:hover, .bp3-button.bp3-minimal.bp3-intent-primary:active, .bp3-button.bp3-minimal.bp3-intent-primary.bp3-active{
        background:none;
        -webkit-box-shadow:none;
                box-shadow:none;
        color:#106ba3; }
      .bp3-button.bp3-minimal.bp3-intent-primary:hover{
        background:rgba(19, 124, 189, 0.15);
        color:#106ba3; }
      .bp3-button.bp3-minimal.bp3-intent-primary:active, .bp3-button.bp3-minimal.bp3-intent-primary.bp3-active{
        background:rgba(19, 124, 189, 0.3);
        color:#106ba3; }
      .bp3-button.bp3-minimal.bp3-intent-primary:disabled, .bp3-button.bp3-minimal.bp3-intent-primary.bp3-disabled{
        background:none;
        color:rgba(16, 107, 163, 0.5); }
        .bp3-button.bp3-minimal.bp3-intent-primary:disabled.bp3-active, .bp3-button.bp3-minimal.bp3-intent-primary.bp3-disabled.bp3-active{
          background:rgba(19, 124, 189, 0.3); }
      .bp3-button.bp3-minimal.bp3-intent-primary .bp3-button-spinner .bp3-spinner-head{
        stroke:#106ba3; }
      .bp3-dark .bp3-button.bp3-minimal.bp3-intent-primary{
        color:#48aff0; }
        .bp3-dark .bp3-button.bp3-minimal.bp3-intent-primary:hover{
          background:rgba(19, 124, 189, 0.2);
          color:#48aff0; }
        .bp3-dark .bp3-button.bp3-minimal.bp3-intent-primary:active, .bp3-dark .bp3-button.bp3-minimal.bp3-intent-primary.bp3-active{
          background:rgba(19, 124, 189, 0.3);
          color:#48aff0; }
        .bp3-dark .bp3-button.bp3-minimal.bp3-intent-primary:disabled, .bp3-dark .bp3-button.bp3-minimal.bp3-intent-primary.bp3-disabled{
          background:none;
          color:rgba(72, 175, 240, 0.5); }
          .bp3-dark .bp3-button.bp3-minimal.bp3-intent-primary:disabled.bp3-active, .bp3-dark .bp3-button.bp3-minimal.bp3-intent-primary.bp3-disabled.bp3-active{
            background:rgba(19, 124, 189, 0.3); }
    .bp3-button.bp3-minimal.bp3-intent-success{
      color:#0d8050; }
      .bp3-button.bp3-minimal.bp3-intent-success:hover, .bp3-button.bp3-minimal.bp3-intent-success:active, .bp3-button.bp3-minimal.bp3-intent-success.bp3-active{
        background:none;
        -webkit-box-shadow:none;
                box-shadow:none;
        color:#0d8050; }
      .bp3-button.bp3-minimal.bp3-intent-success:hover{
        background:rgba(15, 153, 96, 0.15);
        color:#0d8050; }
      .bp3-button.bp3-minimal.bp3-intent-success:active, .bp3-button.bp3-minimal.bp3-intent-success.bp3-active{
        background:rgba(15, 153, 96, 0.3);
        color:#0d8050; }
      .bp3-button.bp3-minimal.bp3-intent-success:disabled, .bp3-button.bp3-minimal.bp3-intent-success.bp3-disabled{
        background:none;
        color:rgba(13, 128, 80, 0.5); }
        .bp3-button.bp3-minimal.bp3-intent-success:disabled.bp3-active, .bp3-button.bp3-minimal.bp3-intent-success.bp3-disabled.bp3-active{
          background:rgba(15, 153, 96, 0.3); }
      .bp3-button.bp3-minimal.bp3-intent-success .bp3-button-spinner .bp3-spinner-head{
        stroke:#0d8050; }
      .bp3-dark .bp3-button.bp3-minimal.bp3-intent-success{
        color:#3dcc91; }
        .bp3-dark .bp3-button.bp3-minimal.bp3-intent-success:hover{
          background:rgba(15, 153, 96, 0.2);
          color:#3dcc91; }
        .bp3-dark .bp3-button.bp3-minimal.bp3-intent-success:active, .bp3-dark .bp3-button.bp3-minimal.bp3-intent-success.bp3-active{
          background:rgba(15, 153, 96, 0.3);
          color:#3dcc91; }
        .bp3-dark .bp3-button.bp3-minimal.bp3-intent-success:disabled, .bp3-dark .bp3-button.bp3-minimal.bp3-intent-success.bp3-disabled{
          background:none;
          color:rgba(61, 204, 145, 0.5); }
          .bp3-dark .bp3-button.bp3-minimal.bp3-intent-success:disabled.bp3-active, .bp3-dark .bp3-button.bp3-minimal.bp3-intent-success.bp3-disabled.bp3-active{
            background:rgba(15, 153, 96, 0.3); }
    .bp3-button.bp3-minimal.bp3-intent-warning{
      color:#bf7326; }
      .bp3-button.bp3-minimal.bp3-intent-warning:hover, .bp3-button.bp3-minimal.bp3-intent-warning:active, .bp3-button.bp3-minimal.bp3-intent-warning.bp3-active{
        background:none;
        -webkit-box-shadow:none;
                box-shadow:none;
        color:#bf7326; }
      .bp3-button.bp3-minimal.bp3-intent-warning:hover{
        background:rgba(217, 130, 43, 0.15);
        color:#bf7326; }
      .bp3-button.bp3-minimal.bp3-intent-warning:active, .bp3-button.bp3-minimal.bp3-intent-warning.bp3-active{
        background:rgba(217, 130, 43, 0.3);
        color:#bf7326; }
      .bp3-button.bp3-minimal.bp3-intent-warning:disabled, .bp3-button.bp3-minimal.bp3-intent-warning.bp3-disabled{
        background:none;
        color:rgba(191, 115, 38, 0.5); }
        .bp3-button.bp3-minimal.bp3-intent-warning:disabled.bp3-active, .bp3-button.bp3-minimal.bp3-intent-warning.bp3-disabled.bp3-active{
          background:rgba(217, 130, 43, 0.3); }
      .bp3-button.bp3-minimal.bp3-intent-warning .bp3-button-spinner .bp3-spinner-head{
        stroke:#bf7326; }
      .bp3-dark .bp3-button.bp3-minimal.bp3-intent-warning{
        color:#ffb366; }
        .bp3-dark .bp3-button.bp3-minimal.bp3-intent-warning:hover{
          background:rgba(217, 130, 43, 0.2);
          color:#ffb366; }
        .bp3-dark .bp3-button.bp3-minimal.bp3-intent-warning:active, .bp3-dark .bp3-button.bp3-minimal.bp3-intent-warning.bp3-active{
          background:rgba(217, 130, 43, 0.3);
          color:#ffb366; }
        .bp3-dark .bp3-button.bp3-minimal.bp3-intent-warning:disabled, .bp3-dark .bp3-button.bp3-minimal.bp3-intent-warning.bp3-disabled{
          background:none;
          color:rgba(255, 179, 102, 0.5); }
          .bp3-dark .bp3-button.bp3-minimal.bp3-intent-warning:disabled.bp3-active, .bp3-dark .bp3-button.bp3-minimal.bp3-intent-warning.bp3-disabled.bp3-active{
            background:rgba(217, 130, 43, 0.3); }
    .bp3-button.bp3-minimal.bp3-intent-danger{
      color:#c23030; }
      .bp3-button.bp3-minimal.bp3-intent-danger:hover, .bp3-button.bp3-minimal.bp3-intent-danger:active, .bp3-button.bp3-minimal.bp3-intent-danger.bp3-active{
        background:none;
        -webkit-box-shadow:none;
                box-shadow:none;
        color:#c23030; }
      .bp3-button.bp3-minimal.bp3-intent-danger:hover{
        background:rgba(219, 55, 55, 0.15);
        color:#c23030; }
      .bp3-button.bp3-minimal.bp3-intent-danger:active, .bp3-button.bp3-minimal.bp3-intent-danger.bp3-active{
        background:rgba(219, 55, 55, 0.3);
        color:#c23030; }
      .bp3-button.bp3-minimal.bp3-intent-danger:disabled, .bp3-button.bp3-minimal.bp3-intent-danger.bp3-disabled{
        background:none;
        color:rgba(194, 48, 48, 0.5); }
        .bp3-button.bp3-minimal.bp3-intent-danger:disabled.bp3-active, .bp3-button.bp3-minimal.bp3-intent-danger.bp3-disabled.bp3-active{
          background:rgba(219, 55, 55, 0.3); }
      .bp3-button.bp3-minimal.bp3-intent-danger .bp3-button-spinner .bp3-spinner-head{
        stroke:#c23030; }
      .bp3-dark .bp3-button.bp3-minimal.bp3-intent-danger{
        color:#ff7373; }
        .bp3-dark .bp3-button.bp3-minimal.bp3-intent-danger:hover{
          background:rgba(219, 55, 55, 0.2);
          color:#ff7373; }
        .bp3-dark .bp3-button.bp3-minimal.bp3-intent-danger:active, .bp3-dark .bp3-button.bp3-minimal.bp3-intent-danger.bp3-active{
          background:rgba(219, 55, 55, 0.3);
          color:#ff7373; }
        .bp3-dark .bp3-button.bp3-minimal.bp3-intent-danger:disabled, .bp3-dark .bp3-button.bp3-minimal.bp3-intent-danger.bp3-disabled{
          background:none;
          color:rgba(255, 115, 115, 0.5); }
          .bp3-dark .bp3-button.bp3-minimal.bp3-intent-danger:disabled.bp3-active, .bp3-dark .bp3-button.bp3-minimal.bp3-intent-danger.bp3-disabled.bp3-active{
            background:rgba(219, 55, 55, 0.3); }
  .bp3-button.bp3-outlined{
    background:none;
    -webkit-box-shadow:none;
            box-shadow:none;
    border:1px solid rgba(24, 32, 38, 0.2);
    -webkit-box-sizing:border-box;
            box-sizing:border-box; }
    .bp3-button.bp3-outlined:hover{
      background:rgba(167, 182, 194, 0.3);
      -webkit-box-shadow:none;
              box-shadow:none;
      color:#182026;
      text-decoration:none; }
    .bp3-button.bp3-outlined:active, .bp3-button.bp3-outlined.bp3-active{
      background:rgba(115, 134, 148, 0.3);
      -webkit-box-shadow:none;
              box-shadow:none;
      color:#182026; }
    .bp3-button.bp3-outlined:disabled, .bp3-button.bp3-outlined:disabled:hover, .bp3-button.bp3-outlined.bp3-disabled, .bp3-button.bp3-outlined.bp3-disabled:hover{
      background:none;
      color:rgba(92, 112, 128, 0.6);
      cursor:not-allowed; }
      .bp3-button.bp3-outlined:disabled.bp3-active, .bp3-button.bp3-outlined:disabled:hover.bp3-active, .bp3-button.bp3-outlined.bp3-disabled.bp3-active, .bp3-button.bp3-outlined.bp3-disabled:hover.bp3-active{
        background:rgba(115, 134, 148, 0.3); }
    .bp3-dark .bp3-button.bp3-outlined{
      background:none;
      -webkit-box-shadow:none;
              box-shadow:none;
      color:inherit; }
      .bp3-dark .bp3-button.bp3-outlined:hover, .bp3-dark .bp3-button.bp3-outlined:active, .bp3-dark .bp3-button.bp3-outlined.bp3-active{
        background:none;
        -webkit-box-shadow:none;
                box-shadow:none; }
      .bp3-dark .bp3-button.bp3-outlined:hover{
        background:rgba(138, 155, 168, 0.15); }
      .bp3-dark .bp3-button.bp3-outlined:active, .bp3-dark .bp3-button.bp3-outlined.bp3-active{
        background:rgba(138, 155, 168, 0.3);
        color:#f5f8fa; }
      .bp3-dark .bp3-button.bp3-outlined:disabled, .bp3-dark .bp3-button.bp3-outlined:disabled:hover, .bp3-dark .bp3-button.bp3-outlined.bp3-disabled, .bp3-dark .bp3-button.bp3-outlined.bp3-disabled:hover{
        background:none;
        color:rgba(167, 182, 194, 0.6);
        cursor:not-allowed; }
        .bp3-dark .bp3-button.bp3-outlined:disabled.bp3-active, .bp3-dark .bp3-button.bp3-outlined:disabled:hover.bp3-active, .bp3-dark .bp3-button.bp3-outlined.bp3-disabled.bp3-active, .bp3-dark .bp3-button.bp3-outlined.bp3-disabled:hover.bp3-active{
          background:rgba(138, 155, 168, 0.3); }
    .bp3-button.bp3-outlined.bp3-intent-primary{
      color:#106ba3; }
      .bp3-button.bp3-outlined.bp3-intent-primary:hover, .bp3-button.bp3-outlined.bp3-intent-primary:active, .bp3-button.bp3-outlined.bp3-intent-primary.bp3-active{
        background:none;
        -webkit-box-shadow:none;
                box-shadow:none;
        color:#106ba3; }
      .bp3-button.bp3-outlined.bp3-intent-primary:hover{
        background:rgba(19, 124, 189, 0.15);
        color:#106ba3; }
      .bp3-button.bp3-outlined.bp3-intent-primary:active, .bp3-button.bp3-outlined.bp3-intent-primary.bp3-active{
        background:rgba(19, 124, 189, 0.3);
        color:#106ba3; }
      .bp3-button.bp3-outlined.bp3-intent-primary:disabled, .bp3-button.bp3-outlined.bp3-intent-primary.bp3-disabled{
        background:none;
        color:rgba(16, 107, 163, 0.5); }
        .bp3-button.bp3-outlined.bp3-intent-primary:disabled.bp3-active, .bp3-button.bp3-outlined.bp3-intent-primary.bp3-disabled.bp3-active{
          background:rgba(19, 124, 189, 0.3); }
      .bp3-button.bp3-outlined.bp3-intent-primary .bp3-button-spinner .bp3-spinner-head{
        stroke:#106ba3; }
      .bp3-dark .bp3-button.bp3-outlined.bp3-intent-primary{
        color:#48aff0; }
        .bp3-dark .bp3-button.bp3-outlined.bp3-intent-primary:hover{
          background:rgba(19, 124, 189, 0.2);
          color:#48aff0; }
        .bp3-dark .bp3-button.bp3-outlined.bp3-intent-primary:active, .bp3-dark .bp3-button.bp3-outlined.bp3-intent-primary.bp3-active{
          background:rgba(19, 124, 189, 0.3);
          color:#48aff0; }
        .bp3-dark .bp3-button.bp3-outlined.bp3-intent-primary:disabled, .bp3-dark .bp3-button.bp3-outlined.bp3-intent-primary.bp3-disabled{
          background:none;
          color:rgba(72, 175, 240, 0.5); }
          .bp3-dark .bp3-button.bp3-outlined.bp3-intent-primary:disabled.bp3-active, .bp3-dark .bp3-button.bp3-outlined.bp3-intent-primary.bp3-disabled.bp3-active{
            background:rgba(19, 124, 189, 0.3); }
    .bp3-button.bp3-outlined.bp3-intent-success{
      color:#0d8050; }
      .bp3-button.bp3-outlined.bp3-intent-success:hover, .bp3-button.bp3-outlined.bp3-intent-success:active, .bp3-button.bp3-outlined.bp3-intent-success.bp3-active{
        background:none;
        -webkit-box-shadow:none;
                box-shadow:none;
        color:#0d8050; }
      .bp3-button.bp3-outlined.bp3-intent-success:hover{
        background:rgba(15, 153, 96, 0.15);
        color:#0d8050; }
      .bp3-button.bp3-outlined.bp3-intent-success:active, .bp3-button.bp3-outlined.bp3-intent-success.bp3-active{
        background:rgba(15, 153, 96, 0.3);
        color:#0d8050; }
      .bp3-button.bp3-outlined.bp3-intent-success:disabled, .bp3-button.bp3-outlined.bp3-intent-success.bp3-disabled{
        background:none;
        color:rgba(13, 128, 80, 0.5); }
        .bp3-button.bp3-outlined.bp3-intent-success:disabled.bp3-active, .bp3-button.bp3-outlined.bp3-intent-success.bp3-disabled.bp3-active{
          background:rgba(15, 153, 96, 0.3); }
      .bp3-button.bp3-outlined.bp3-intent-success .bp3-button-spinner .bp3-spinner-head{
        stroke:#0d8050; }
      .bp3-dark .bp3-button.bp3-outlined.bp3-intent-success{
        color:#3dcc91; }
        .bp3-dark .bp3-button.bp3-outlined.bp3-intent-success:hover{
          background:rgba(15, 153, 96, 0.2);
          color:#3dcc91; }
        .bp3-dark .bp3-button.bp3-outlined.bp3-intent-success:active, .bp3-dark .bp3-button.bp3-outlined.bp3-intent-success.bp3-active{
          background:rgba(15, 153, 96, 0.3);
          color:#3dcc91; }
        .bp3-dark .bp3-button.bp3-outlined.bp3-intent-success:disabled, .bp3-dark .bp3-button.bp3-outlined.bp3-intent-success.bp3-disabled{
          background:none;
          color:rgba(61, 204, 145, 0.5); }
          .bp3-dark .bp3-button.bp3-outlined.bp3-intent-success:disabled.bp3-active, .bp3-dark .bp3-button.bp3-outlined.bp3-intent-success.bp3-disabled.bp3-active{
            background:rgba(15, 153, 96, 0.3); }
    .bp3-button.bp3-outlined.bp3-intent-warning{
      color:#bf7326; }
      .bp3-button.bp3-outlined.bp3-intent-warning:hover, .bp3-button.bp3-outlined.bp3-intent-warning:active, .bp3-button.bp3-outlined.bp3-intent-warning.bp3-active{
        background:none;
        -webkit-box-shadow:none;
                box-shadow:none;
        color:#bf7326; }
      .bp3-button.bp3-outlined.bp3-intent-warning:hover{
        background:rgba(217, 130, 43, 0.15);
        color:#bf7326; }
      .bp3-button.bp3-outlined.bp3-intent-warning:active, .bp3-button.bp3-outlined.bp3-intent-warning.bp3-active{
        background:rgba(217, 130, 43, 0.3);
        color:#bf7326; }
      .bp3-button.bp3-outlined.bp3-intent-warning:disabled, .bp3-button.bp3-outlined.bp3-intent-warning.bp3-disabled{
        background:none;
        color:rgba(191, 115, 38, 0.5); }
        .bp3-button.bp3-outlined.bp3-intent-warning:disabled.bp3-active, .bp3-button.bp3-outlined.bp3-intent-warning.bp3-disabled.bp3-active{
          background:rgba(217, 130, 43, 0.3); }
      .bp3-button.bp3-outlined.bp3-intent-warning .bp3-button-spinner .bp3-spinner-head{
        stroke:#bf7326; }
      .bp3-dark .bp3-button.bp3-outlined.bp3-intent-warning{
        color:#ffb366; }
        .bp3-dark .bp3-button.bp3-outlined.bp3-intent-warning:hover{
          background:rgba(217, 130, 43, 0.2);
          color:#ffb366; }
        .bp3-dark .bp3-button.bp3-outlined.bp3-intent-warning:active, .bp3-dark .bp3-button.bp3-outlined.bp3-intent-warning.bp3-active{
          background:rgba(217, 130, 43, 0.3);
          color:#ffb366; }
        .bp3-dark .bp3-button.bp3-outlined.bp3-intent-warning:disabled, .bp3-dark .bp3-button.bp3-outlined.bp3-intent-warning.bp3-disabled{
          background:none;
          color:rgba(255, 179, 102, 0.5); }
          .bp3-dark .bp3-button.bp3-outlined.bp3-intent-warning:disabled.bp3-active, .bp3-dark .bp3-button.bp3-outlined.bp3-intent-warning.bp3-disabled.bp3-active{
            background:rgba(217, 130, 43, 0.3); }
    .bp3-button.bp3-outlined.bp3-intent-danger{
      color:#c23030; }
      .bp3-button.bp3-outlined.bp3-intent-danger:hover, .bp3-button.bp3-outlined.bp3-intent-danger:active, .bp3-button.bp3-outlined.bp3-intent-danger.bp3-active{
        background:none;
        -webkit-box-shadow:none;
                box-shadow:none;
        color:#c23030; }
      .bp3-button.bp3-outlined.bp3-intent-danger:hover{
        background:rgba(219, 55, 55, 0.15);
        color:#c23030; }
      .bp3-button.bp3-outlined.bp3-intent-danger:active, .bp3-button.bp3-outlined.bp3-intent-danger.bp3-active{
        background:rgba(219, 55, 55, 0.3);
        color:#c23030; }
      .bp3-button.bp3-outlined.bp3-intent-danger:disabled, .bp3-button.bp3-outlined.bp3-intent-danger.bp3-disabled{
        background:none;
        color:rgba(194, 48, 48, 0.5); }
        .bp3-button.bp3-outlined.bp3-intent-danger:disabled.bp3-active, .bp3-button.bp3-outlined.bp3-intent-danger.bp3-disabled.bp3-active{
          background:rgba(219, 55, 55, 0.3); }
      .bp3-button.bp3-outlined.bp3-intent-danger .bp3-button-spinner .bp3-spinner-head{
        stroke:#c23030; }
      .bp3-dark .bp3-button.bp3-outlined.bp3-intent-danger{
        color:#ff7373; }
        .bp3-dark .bp3-button.bp3-outlined.bp3-intent-danger:hover{
          background:rgba(219, 55, 55, 0.2);
          color:#ff7373; }
        .bp3-dark .bp3-button.bp3-outlined.bp3-intent-danger:active, .bp3-dark .bp3-button.bp3-outlined.bp3-intent-danger.bp3-active{
          background:rgba(219, 55, 55, 0.3);
          color:#ff7373; }
        .bp3-dark .bp3-button.bp3-outlined.bp3-intent-danger:disabled, .bp3-dark .bp3-button.bp3-outlined.bp3-intent-danger.bp3-disabled{
          background:none;
          color:rgba(255, 115, 115, 0.5); }
          .bp3-dark .bp3-button.bp3-outlined.bp3-intent-danger:disabled.bp3-active, .bp3-dark .bp3-button.bp3-outlined.bp3-intent-danger.bp3-disabled.bp3-active{
            background:rgba(219, 55, 55, 0.3); }
    .bp3-button.bp3-outlined:disabled, .bp3-button.bp3-outlined.bp3-disabled, .bp3-button.bp3-outlined:disabled:hover, .bp3-button.bp3-outlined.bp3-disabled:hover{
      border-color:rgba(92, 112, 128, 0.1); }
    .bp3-dark .bp3-button.bp3-outlined{
      border-color:rgba(255, 255, 255, 0.4); }
      .bp3-dark .bp3-button.bp3-outlined:disabled, .bp3-dark .bp3-button.bp3-outlined:disabled:hover, .bp3-dark .bp3-button.bp3-outlined.bp3-disabled, .bp3-dark .bp3-button.bp3-outlined.bp3-disabled:hover{
        border-color:rgba(255, 255, 255, 0.2); }
    .bp3-button.bp3-outlined.bp3-intent-primary{
      border-color:rgba(16, 107, 163, 0.6); }
      .bp3-button.bp3-outlined.bp3-intent-primary:disabled, .bp3-button.bp3-outlined.bp3-intent-primary.bp3-disabled{
        border-color:rgba(16, 107, 163, 0.2); }
      .bp3-dark .bp3-button.bp3-outlined.bp3-intent-primary{
        border-color:rgba(72, 175, 240, 0.6); }
        .bp3-dark .bp3-button.bp3-outlined.bp3-intent-primary:disabled, .bp3-dark .bp3-button.bp3-outlined.bp3-intent-primary.bp3-disabled{
          border-color:rgba(72, 175, 240, 0.2); }
    .bp3-button.bp3-outlined.bp3-intent-success{
      border-color:rgba(13, 128, 80, 0.6); }
      .bp3-button.bp3-outlined.bp3-intent-success:disabled, .bp3-button.bp3-outlined.bp3-intent-success.bp3-disabled{
        border-color:rgba(13, 128, 80, 0.2); }
      .bp3-dark .bp3-button.bp3-outlined.bp3-intent-success{
        border-color:rgba(61, 204, 145, 0.6); }
        .bp3-dark .bp3-button.bp3-outlined.bp3-intent-success:disabled, .bp3-dark .bp3-button.bp3-outlined.bp3-intent-success.bp3-disabled{
          border-color:rgba(61, 204, 145, 0.2); }
    .bp3-button.bp3-outlined.bp3-intent-warning{
      border-color:rgba(191, 115, 38, 0.6); }
      .bp3-button.bp3-outlined.bp3-intent-warning:disabled, .bp3-button.bp3-outlined.bp3-intent-warning.bp3-disabled{
        border-color:rgba(191, 115, 38, 0.2); }
      .bp3-dark .bp3-button.bp3-outlined.bp3-intent-warning{
        border-color:rgba(255, 179, 102, 0.6); }
        .bp3-dark .bp3-button.bp3-outlined.bp3-intent-warning:disabled, .bp3-dark .bp3-button.bp3-outlined.bp3-intent-warning.bp3-disabled{
          border-color:rgba(255, 179, 102, 0.2); }
    .bp3-button.bp3-outlined.bp3-intent-danger{
      border-color:rgba(194, 48, 48, 0.6); }
      .bp3-button.bp3-outlined.bp3-intent-danger:disabled, .bp3-button.bp3-outlined.bp3-intent-danger.bp3-disabled{
        border-color:rgba(194, 48, 48, 0.2); }
      .bp3-dark .bp3-button.bp3-outlined.bp3-intent-danger{
        border-color:rgba(255, 115, 115, 0.6); }
        .bp3-dark .bp3-button.bp3-outlined.bp3-intent-danger:disabled, .bp3-dark .bp3-button.bp3-outlined.bp3-intent-danger.bp3-disabled{
          border-color:rgba(255, 115, 115, 0.2); }

a.bp3-button{
  text-align:center;
  text-decoration:none;
  -webkit-transition:none;
  transition:none; }
  a.bp3-button, a.bp3-button:hover, a.bp3-button:active{
    color:#182026; }
  a.bp3-button.bp3-disabled{
    color:rgba(92, 112, 128, 0.6); }

.bp3-button-text{
  -webkit-box-flex:0;
      -ms-flex:0 1 auto;
          flex:0 1 auto; }

.bp3-button.bp3-align-left .bp3-button-text, .bp3-button.bp3-align-right .bp3-button-text,
.bp3-button-group.bp3-align-left .bp3-button-text,
.bp3-button-group.bp3-align-right .bp3-button-text{
  -webkit-box-flex:1;
      -ms-flex:1 1 auto;
          flex:1 1 auto; }
.bp3-button-group{
  display:-webkit-inline-box;
  display:-ms-inline-flexbox;
  display:inline-flex; }
  .bp3-button-group .bp3-button{
    -webkit-box-flex:0;
        -ms-flex:0 0 auto;
            flex:0 0 auto;
    position:relative;
    z-index:4; }
    .bp3-button-group .bp3-button:focus{
      z-index:5; }
    .bp3-button-group .bp3-button:hover{
      z-index:6; }
    .bp3-button-group .bp3-button:active, .bp3-button-group .bp3-button.bp3-active{
      z-index:7; }
    .bp3-button-group .bp3-button:disabled, .bp3-button-group .bp3-button.bp3-disabled{
      z-index:3; }
    .bp3-button-group .bp3-button[class*="bp3-intent-"]{
      z-index:9; }
      .bp3-button-group .bp3-button[class*="bp3-intent-"]:focus{
        z-index:10; }
      .bp3-button-group .bp3-button[class*="bp3-intent-"]:hover{
        z-index:11; }
      .bp3-button-group .bp3-button[class*="bp3-intent-"]:active, .bp3-button-group .bp3-button[class*="bp3-intent-"].bp3-active{
        z-index:12; }
      .bp3-button-group .bp3-button[class*="bp3-intent-"]:disabled, .bp3-button-group .bp3-button[class*="bp3-intent-"].bp3-disabled{
        z-index:8; }
  .bp3-button-group:not(.bp3-minimal) > .bp3-popover-wrapper:not(:first-child) .bp3-button,
  .bp3-button-group:not(.bp3-minimal) > .bp3-button:not(:first-child){
    border-bottom-left-radius:0;
    border-top-left-radius:0; }
  .bp3-button-group:not(.bp3-minimal) > .bp3-popover-wrapper:not(:last-child) .bp3-button,
  .bp3-button-group:not(.bp3-minimal) > .bp3-button:not(:last-child){
    border-bottom-right-radius:0;
    border-top-right-radius:0;
    margin-right:-1px; }
  .bp3-button-group.bp3-minimal .bp3-button{
    background:none;
    -webkit-box-shadow:none;
            box-shadow:none; }
    .bp3-button-group.bp3-minimal .bp3-button:hover{
      background:rgba(167, 182, 194, 0.3);
      -webkit-box-shadow:none;
              box-shadow:none;
      color:#182026;
      text-decoration:none; }
    .bp3-button-group.bp3-minimal .bp3-button:active, .bp3-button-group.bp3-minimal .bp3-button.bp3-active{
      background:rgba(115, 134, 148, 0.3);
      -webkit-box-shadow:none;
              box-shadow:none;
      color:#182026; }
    .bp3-button-group.bp3-minimal .bp3-button:disabled, .bp3-button-group.bp3-minimal .bp3-button:disabled:hover, .bp3-button-group.bp3-minimal .bp3-button.bp3-disabled, .bp3-button-group.bp3-minimal .bp3-button.bp3-disabled:hover{
      background:none;
      color:rgba(92, 112, 128, 0.6);
      cursor:not-allowed; }
      .bp3-button-group.bp3-minimal .bp3-button:disabled.bp3-active, .bp3-button-group.bp3-minimal .bp3-button:disabled:hover.bp3-active, .bp3-button-group.bp3-minimal .bp3-button.bp3-disabled.bp3-active, .bp3-button-group.bp3-minimal .bp3-button.bp3-disabled:hover.bp3-active{
        background:rgba(115, 134, 148, 0.3); }
    .bp3-dark .bp3-button-group.bp3-minimal .bp3-button{
      background:none;
      -webkit-box-shadow:none;
              box-shadow:none;
      color:inherit; }
      .bp3-dark .bp3-button-group.bp3-minimal .bp3-button:hover, .bp3-dark .bp3-button-group.bp3-minimal .bp3-button:active, .bp3-dark .bp3-button-group.bp3-minimal .bp3-button.bp3-active{
        background:none;
        -webkit-box-shadow:none;
                box-shadow:none; }
      .bp3-dark .bp3-button-group.bp3-minimal .bp3-button:hover{
        background:rgba(138, 155, 168, 0.15); }
      .bp3-dark .bp3-button-group.bp3-minimal .bp3-button:active, .bp3-dark .bp3-button-group.bp3-minimal .bp3-button.bp3-active{
        background:rgba(138, 155, 168, 0.3);
        color:#f5f8fa; }
      .bp3-dark .bp3-button-group.bp3-minimal .bp3-button:disabled, .bp3-dark .bp3-button-group.bp3-minimal .bp3-button:disabled:hover, .bp3-dark .bp3-button-group.bp3-minimal .bp3-button.bp3-disabled, .bp3-dark .bp3-button-group.bp3-minimal .bp3-button.bp3-disabled:hover{
        background:none;
        color:rgba(167, 182, 194, 0.6);
        cursor:not-allowed; }
        .bp3-dark .bp3-button-group.bp3-minimal .bp3-button:disabled.bp3-active, .bp3-dark .bp3-button-group.bp3-minimal .bp3-button:disabled:hover.bp3-active, .bp3-dark .bp3-button-group.bp3-minimal .bp3-button.bp3-disabled.bp3-active, .bp3-dark .bp3-button-group.bp3-minimal .bp3-button.bp3-disabled:hover.bp3-active{
          background:rgba(138, 155, 168, 0.3); }
    .bp3-button-group.bp3-minimal .bp3-button.bp3-intent-primary{
      color:#106ba3; }
      .bp3-button-group.bp3-minimal .bp3-button.bp3-intent-primary:hover, .bp3-button-group.bp3-minimal .bp3-button.bp3-intent-primary:active, .bp3-button-group.bp3-minimal .bp3-button.bp3-intent-primary.bp3-active{
        background:none;
        -webkit-box-shadow:none;
                box-shadow:none;
        color:#106ba3; }
      .bp3-button-group.bp3-minimal .bp3-button.bp3-intent-primary:hover{
        background:rgba(19, 124, 189, 0.15);
        color:#106ba3; }
      .bp3-button-group.bp3-minimal .bp3-button.bp3-intent-primary:active, .bp3-button-group.bp3-minimal .bp3-button.bp3-intent-primary.bp3-active{
        background:rgba(19, 124, 189, 0.3);
        color:#106ba3; }
      .bp3-button-group.bp3-minimal .bp3-button.bp3-intent-primary:disabled, .bp3-button-group.bp3-minimal .bp3-button.bp3-intent-primary.bp3-disabled{
        background:none;
        color:rgba(16, 107, 163, 0.5); }
        .bp3-button-group.bp3-minimal .bp3-button.bp3-intent-primary:disabled.bp3-active, .bp3-button-group.bp3-minimal .bp3-button.bp3-intent-primary.bp3-disabled.bp3-active{
          background:rgba(19, 124, 189, 0.3); }
      .bp3-button-group.bp3-minimal .bp3-button.bp3-intent-primary .bp3-button-spinner .bp3-spinner-head{
        stroke:#106ba3; }
      .bp3-dark .bp3-button-group.bp3-minimal .bp3-button.bp3-intent-primary{
        color:#48aff0; }
        .bp3-dark .bp3-button-group.bp3-minimal .bp3-button.bp3-intent-primary:hover{
          background:rgba(19, 124, 189, 0.2);
          color:#48aff0; }
        .bp3-dark .bp3-button-group.bp3-minimal .bp3-button.bp3-intent-primary:active, .bp3-dark .bp3-button-group.bp3-minimal .bp3-button.bp3-intent-primary.bp3-active{
          background:rgba(19, 124, 189, 0.3);
          color:#48aff0; }
        .bp3-dark .bp3-button-group.bp3-minimal .bp3-button.bp3-intent-primary:disabled, .bp3-dark .bp3-button-group.bp3-minimal .bp3-button.bp3-intent-primary.bp3-disabled{
          background:none;
          color:rgba(72, 175, 240, 0.5); }
          .bp3-dark .bp3-button-group.bp3-minimal .bp3-button.bp3-intent-primary:disabled.bp3-active, .bp3-dark .bp3-button-group.bp3-minimal .bp3-button.bp3-intent-primary.bp3-disabled.bp3-active{
            background:rgba(19, 124, 189, 0.3); }
    .bp3-button-group.bp3-minimal .bp3-button.bp3-intent-success{
      color:#0d8050; }
      .bp3-button-group.bp3-minimal .bp3-button.bp3-intent-success:hover, .bp3-button-group.bp3-minimal .bp3-button.bp3-intent-success:active, .bp3-button-group.bp3-minimal .bp3-button.bp3-intent-success.bp3-active{
        background:none;
        -webkit-box-shadow:none;
                box-shadow:none;
        color:#0d8050; }
      .bp3-button-group.bp3-minimal .bp3-button.bp3-intent-success:hover{
        background:rgba(15, 153, 96, 0.15);
        color:#0d8050; }
      .bp3-button-group.bp3-minimal .bp3-button.bp3-intent-success:active, .bp3-button-group.bp3-minimal .bp3-button.bp3-intent-success.bp3-active{
        background:rgba(15, 153, 96, 0.3);
        color:#0d8050; }
      .bp3-button-group.bp3-minimal .bp3-button.bp3-intent-success:disabled, .bp3-button-group.bp3-minimal .bp3-button.bp3-intent-success.bp3-disabled{
        background:none;
        color:rgba(13, 128, 80, 0.5); }
        .bp3-button-group.bp3-minimal .bp3-button.bp3-intent-success:disabled.bp3-active, .bp3-button-group.bp3-minimal .bp3-button.bp3-intent-success.bp3-disabled.bp3-active{
          background:rgba(15, 153, 96, 0.3); }
      .bp3-button-group.bp3-minimal .bp3-button.bp3-intent-success .bp3-button-spinner .bp3-spinner-head{
        stroke:#0d8050; }
      .bp3-dark .bp3-button-group.bp3-minimal .bp3-button.bp3-intent-success{
        color:#3dcc91; }
        .bp3-dark .bp3-button-group.bp3-minimal .bp3-button.bp3-intent-success:hover{
          background:rgba(15, 153, 96, 0.2);
          color:#3dcc91; }
        .bp3-dark .bp3-button-group.bp3-minimal .bp3-button.bp3-intent-success:active, .bp3-dark .bp3-button-group.bp3-minimal .bp3-button.bp3-intent-success.bp3-active{
          background:rgba(15, 153, 96, 0.3);
          color:#3dcc91; }
        .bp3-dark .bp3-button-group.bp3-minimal .bp3-button.bp3-intent-success:disabled, .bp3-dark .bp3-button-group.bp3-minimal .bp3-button.bp3-intent-success.bp3-disabled{
          background:none;
          color:rgba(61, 204, 145, 0.5); }
          .bp3-dark .bp3-button-group.bp3-minimal .bp3-button.bp3-intent-success:disabled.bp3-active, .bp3-dark .bp3-button-group.bp3-minimal .bp3-button.bp3-intent-success.bp3-disabled.bp3-active{
            background:rgba(15, 153, 96, 0.3); }
    .bp3-button-group.bp3-minimal .bp3-button.bp3-intent-warning{
      color:#bf7326; }
      .bp3-button-group.bp3-minimal .bp3-button.bp3-intent-warning:hover, .bp3-button-group.bp3-minimal .bp3-button.bp3-intent-warning:active, .bp3-button-group.bp3-minimal .bp3-button.bp3-intent-warning.bp3-active{
        background:none;
        -webkit-box-shadow:none;
                box-shadow:none;
        color:#bf7326; }
      .bp3-button-group.bp3-minimal .bp3-button.bp3-intent-warning:hover{
        background:rgba(217, 130, 43, 0.15);
        color:#bf7326; }
      .bp3-button-group.bp3-minimal .bp3-button.bp3-intent-warning:active, .bp3-button-group.bp3-minimal .bp3-button.bp3-intent-warning.bp3-active{
        background:rgba(217, 130, 43, 0.3);
        color:#bf7326; }
      .bp3-button-group.bp3-minimal .bp3-button.bp3-intent-warning:disabled, .bp3-button-group.bp3-minimal .bp3-button.bp3-intent-warning.bp3-disabled{
        background:none;
        color:rgba(191, 115, 38, 0.5); }
        .bp3-button-group.bp3-minimal .bp3-button.bp3-intent-warning:disabled.bp3-active, .bp3-button-group.bp3-minimal .bp3-button.bp3-intent-warning.bp3-disabled.bp3-active{
          background:rgba(217, 130, 43, 0.3); }
      .bp3-button-group.bp3-minimal .bp3-button.bp3-intent-warning .bp3-button-spinner .bp3-spinner-head{
        stroke:#bf7326; }
      .bp3-dark .bp3-button-group.bp3-minimal .bp3-button.bp3-intent-warning{
        color:#ffb366; }
        .bp3-dark .bp3-button-group.bp3-minimal .bp3-button.bp3-intent-warning:hover{
          background:rgba(217, 130, 43, 0.2);
          color:#ffb366; }
        .bp3-dark .bp3-button-group.bp3-minimal .bp3-button.bp3-intent-warning:active, .bp3-dark .bp3-button-group.bp3-minimal .bp3-button.bp3-intent-warning.bp3-active{
          background:rgba(217, 130, 43, 0.3);
          color:#ffb366; }
        .bp3-dark .bp3-button-group.bp3-minimal .bp3-button.bp3-intent-warning:disabled, .bp3-dark .bp3-button-group.bp3-minimal .bp3-button.bp3-intent-warning.bp3-disabled{
          background:none;
          color:rgba(255, 179, 102, 0.5); }
          .bp3-dark .bp3-button-group.bp3-minimal .bp3-button.bp3-intent-warning:disabled.bp3-active, .bp3-dark .bp3-button-group.bp3-minimal .bp3-button.bp3-intent-warning.bp3-disabled.bp3-active{
            background:rgba(217, 130, 43, 0.3); }
    .bp3-button-group.bp3-minimal .bp3-button.bp3-intent-danger{
      color:#c23030; }
      .bp3-button-group.bp3-minimal .bp3-button.bp3-intent-danger:hover, .bp3-button-group.bp3-minimal .bp3-button.bp3-intent-danger:active, .bp3-button-group.bp3-minimal .bp3-button.bp3-intent-danger.bp3-active{
        background:none;
        -webkit-box-shadow:none;
                box-shadow:none;
        color:#c23030; }
      .bp3-button-group.bp3-minimal .bp3-button.bp3-intent-danger:hover{
        background:rgba(219, 55, 55, 0.15);
        color:#c23030; }
      .bp3-button-group.bp3-minimal .bp3-button.bp3-intent-danger:active, .bp3-button-group.bp3-minimal .bp3-button.bp3-intent-danger.bp3-active{
        background:rgba(219, 55, 55, 0.3);
        color:#c23030; }
      .bp3-button-group.bp3-minimal .bp3-button.bp3-intent-danger:disabled, .bp3-button-group.bp3-minimal .bp3-button.bp3-intent-danger.bp3-disabled{
        background:none;
        color:rgba(194, 48, 48, 0.5); }
        .bp3-button-group.bp3-minimal .bp3-button.bp3-intent-danger:disabled.bp3-active, .bp3-button-group.bp3-minimal .bp3-button.bp3-intent-danger.bp3-disabled.bp3-active{
          background:rgba(219, 55, 55, 0.3); }
      .bp3-button-group.bp3-minimal .bp3-button.bp3-intent-danger .bp3-button-spinner .bp3-spinner-head{
        stroke:#c23030; }
      .bp3-dark .bp3-button-group.bp3-minimal .bp3-button.bp3-intent-danger{
        color:#ff7373; }
        .bp3-dark .bp3-button-group.bp3-minimal .bp3-button.bp3-intent-danger:hover{
          background:rgba(219, 55, 55, 0.2);
          color:#ff7373; }
        .bp3-dark .bp3-button-group.bp3-minimal .bp3-button.bp3-intent-danger:active, .bp3-dark .bp3-button-group.bp3-minimal .bp3-button.bp3-intent-danger.bp3-active{
          background:rgba(219, 55, 55, 0.3);
          color:#ff7373; }
        .bp3-dark .bp3-button-group.bp3-minimal .bp3-button.bp3-intent-danger:disabled, .bp3-dark .bp3-button-group.bp3-minimal .bp3-button.bp3-intent-danger.bp3-disabled{
          background:none;
          color:rgba(255, 115, 115, 0.5); }
          .bp3-dark .bp3-button-group.bp3-minimal .bp3-button.bp3-intent-danger:disabled.bp3-active, .bp3-dark .bp3-button-group.bp3-minimal .bp3-button.bp3-intent-danger.bp3-disabled.bp3-active{
            background:rgba(219, 55, 55, 0.3); }
  .bp3-button-group .bp3-popover-wrapper,
  .bp3-button-group .bp3-popover-target{
    display:-webkit-box;
    display:-ms-flexbox;
    display:flex;
    -webkit-box-flex:1;
        -ms-flex:1 1 auto;
            flex:1 1 auto; }
  .bp3-button-group.bp3-fill{
    display:-webkit-box;
    display:-ms-flexbox;
    display:flex;
    width:100%; }
  .bp3-button-group .bp3-button.bp3-fill,
  .bp3-button-group.bp3-fill .bp3-button:not(.bp3-fixed){
    -webkit-box-flex:1;
        -ms-flex:1 1 auto;
            flex:1 1 auto; }
  .bp3-button-group.bp3-vertical{
    -webkit-box-align:stretch;
        -ms-flex-align:stretch;
            align-items:stretch;
    -webkit-box-orient:vertical;
    -webkit-box-direction:normal;
        -ms-flex-direction:column;
            flex-direction:column;
    vertical-align:top; }
    .bp3-button-group.bp3-vertical.bp3-fill{
      height:100%;
      width:unset; }
    .bp3-button-group.bp3-vertical .bp3-button{
      margin-right:0 !important;
      width:100%; }
    .bp3-button-group.bp3-vertical:not(.bp3-minimal) > .bp3-popover-wrapper:first-child .bp3-button,
    .bp3-button-group.bp3-vertical:not(.bp3-minimal) > .bp3-button:first-child{
      border-radius:3px 3px 0 0; }
    .bp3-button-group.bp3-vertical:not(.bp3-minimal) > .bp3-popover-wrapper:last-child .bp3-button,
    .bp3-button-group.bp3-vertical:not(.bp3-minimal) > .bp3-button:last-child{
      border-radius:0 0 3px 3px; }
    .bp3-button-group.bp3-vertical:not(.bp3-minimal) > .bp3-popover-wrapper:not(:last-child) .bp3-button,
    .bp3-button-group.bp3-vertical:not(.bp3-minimal) > .bp3-button:not(:last-child){
      margin-bottom:-1px; }
  .bp3-button-group.bp3-align-left .bp3-button{
    text-align:left; }
  .bp3-dark .bp3-button-group:not(.bp3-minimal) > .bp3-popover-wrapper:not(:last-child) .bp3-button,
  .bp3-dark .bp3-button-group:not(.bp3-minimal) > .bp3-button:not(:last-child){
    margin-right:1px; }
  .bp3-dark .bp3-button-group.bp3-vertical > .bp3-popover-wrapper:not(:last-child) .bp3-button,
  .bp3-dark .bp3-button-group.bp3-vertical > .bp3-button:not(:last-child){
    margin-bottom:1px; }
.bp3-callout{
  font-size:14px;
  line-height:1.5;
  background-color:rgba(138, 155, 168, 0.15);
  border-radius:3px;
  padding:10px 12px 9px;
  position:relative;
  width:100%; }
  .bp3-callout[class*="bp3-icon-"]{
    padding-left:40px; }
    .bp3-callout[class*="bp3-icon-"]::before{
      font-family:"Icons20", sans-serif;
      font-size:20px;
      font-style:normal;
      font-weight:400;
      line-height:1;
      -moz-osx-font-smoothing:grayscale;
      -webkit-font-smoothing:antialiased;
      color:#5c7080;
      left:10px;
      position:absolute;
      top:10px; }
  .bp3-callout.bp3-callout-icon{
    padding-left:40px; }
    .bp3-callout.bp3-callout-icon > .bp3-icon:first-child{
      color:#5c7080;
      left:10px;
      position:absolute;
      top:10px; }
  .bp3-callout .bp3-heading{
    line-height:20px;
    margin-bottom:5px;
    margin-top:0; }
    .bp3-callout .bp3-heading:last-child{
      margin-bottom:0; }
  .bp3-dark .bp3-callout{
    background-color:rgba(138, 155, 168, 0.2); }
    .bp3-dark .bp3-callout[class*="bp3-icon-"]::before{
      color:#a7b6c2; }
  .bp3-callout.bp3-intent-primary{
    background-color:rgba(19, 124, 189, 0.15); }
    .bp3-callout.bp3-intent-primary[class*="bp3-icon-"]::before,
    .bp3-callout.bp3-intent-primary > .bp3-icon:first-child,
    .bp3-callout.bp3-intent-primary .bp3-heading{
      color:#106ba3; }
    .bp3-dark .bp3-callout.bp3-intent-primary{
      background-color:rgba(19, 124, 189, 0.25); }
      .bp3-dark .bp3-callout.bp3-intent-primary[class*="bp3-icon-"]::before,
      .bp3-dark .bp3-callout.bp3-intent-primary > .bp3-icon:first-child,
      .bp3-dark .bp3-callout.bp3-intent-primary .bp3-heading{
        color:#48aff0; }
  .bp3-callout.bp3-intent-success{
    background-color:rgba(15, 153, 96, 0.15); }
    .bp3-callout.bp3-intent-success[class*="bp3-icon-"]::before,
    .bp3-callout.bp3-intent-success > .bp3-icon:first-child,
    .bp3-callout.bp3-intent-success .bp3-heading{
      color:#0d8050; }
    .bp3-dark .bp3-callout.bp3-intent-success{
      background-color:rgba(15, 153, 96, 0.25); }
      .bp3-dark .bp3-callout.bp3-intent-success[class*="bp3-icon-"]::before,
      .bp3-dark .bp3-callout.bp3-intent-success > .bp3-icon:first-child,
      .bp3-dark .bp3-callout.bp3-intent-success .bp3-heading{
        color:#3dcc91; }
  .bp3-callout.bp3-intent-warning{
    background-color:rgba(217, 130, 43, 0.15); }
    .bp3-callout.bp3-intent-warning[class*="bp3-icon-"]::before,
    .bp3-callout.bp3-intent-warning > .bp3-icon:first-child,
    .bp3-callout.bp3-intent-warning .bp3-heading{
      color:#bf7326; }
    .bp3-dark .bp3-callout.bp3-intent-warning{
      background-color:rgba(217, 130, 43, 0.25); }
      .bp3-dark .bp3-callout.bp3-intent-warning[class*="bp3-icon-"]::before,
      .bp3-dark .bp3-callout.bp3-intent-warning > .bp3-icon:first-child,
      .bp3-dark .bp3-callout.bp3-intent-warning .bp3-heading{
        color:#ffb366; }
  .bp3-callout.bp3-intent-danger{
    background-color:rgba(219, 55, 55, 0.15); }
    .bp3-callout.bp3-intent-danger[class*="bp3-icon-"]::before,
    .bp3-callout.bp3-intent-danger > .bp3-icon:first-child,
    .bp3-callout.bp3-intent-danger .bp3-heading{
      color:#c23030; }
    .bp3-dark .bp3-callout.bp3-intent-danger{
      background-color:rgba(219, 55, 55, 0.25); }
      .bp3-dark .bp3-callout.bp3-intent-danger[class*="bp3-icon-"]::before,
      .bp3-dark .bp3-callout.bp3-intent-danger > .bp3-icon:first-child,
      .bp3-dark .bp3-callout.bp3-intent-danger .bp3-heading{
        color:#ff7373; }
  .bp3-running-text .bp3-callout{
    margin:20px 0; }
.bp3-card{
  background-color:#ffffff;
  border-radius:3px;
  -webkit-box-shadow:0 0 0 1px rgba(16, 22, 26, 0.15), 0 0 0 rgba(16, 22, 26, 0), 0 0 0 rgba(16, 22, 26, 0);
          box-shadow:0 0 0 1px rgba(16, 22, 26, 0.15), 0 0 0 rgba(16, 22, 26, 0), 0 0 0 rgba(16, 22, 26, 0);
  padding:20px;
  -webkit-transition:-webkit-transform 200ms cubic-bezier(0.4, 1, 0.75, 0.9), -webkit-box-shadow 200ms cubic-bezier(0.4, 1, 0.75, 0.9);
  transition:-webkit-transform 200ms cubic-bezier(0.4, 1, 0.75, 0.9), -webkit-box-shadow 200ms cubic-bezier(0.4, 1, 0.75, 0.9);
  transition:transform 200ms cubic-bezier(0.4, 1, 0.75, 0.9), box-shadow 200ms cubic-bezier(0.4, 1, 0.75, 0.9);
  transition:transform 200ms cubic-bezier(0.4, 1, 0.75, 0.9), box-shadow 200ms cubic-bezier(0.4, 1, 0.75, 0.9), -webkit-transform 200ms cubic-bezier(0.4, 1, 0.75, 0.9), -webkit-box-shadow 200ms cubic-bezier(0.4, 1, 0.75, 0.9); }
  .bp3-card.bp3-dark,
  .bp3-dark .bp3-card{
    background-color:#30404d;
    -webkit-box-shadow:0 0 0 1px rgba(16, 22, 26, 0.4), 0 0 0 rgba(16, 22, 26, 0), 0 0 0 rgba(16, 22, 26, 0);
            box-shadow:0 0 0 1px rgba(16, 22, 26, 0.4), 0 0 0 rgba(16, 22, 26, 0), 0 0 0 rgba(16, 22, 26, 0); }

.bp3-elevation-0{
  -webkit-box-shadow:0 0 0 1px rgba(16, 22, 26, 0.15), 0 0 0 rgba(16, 22, 26, 0), 0 0 0 rgba(16, 22, 26, 0);
          box-shadow:0 0 0 1px rgba(16, 22, 26, 0.15), 0 0 0 rgba(16, 22, 26, 0), 0 0 0 rgba(16, 22, 26, 0); }
  .bp3-elevation-0.bp3-dark,
  .bp3-dark .bp3-elevation-0{
    -webkit-box-shadow:0 0 0 1px rgba(16, 22, 26, 0.4), 0 0 0 rgba(16, 22, 26, 0), 0 0 0 rgba(16, 22, 26, 0);
            box-shadow:0 0 0 1px rgba(16, 22, 26, 0.4), 0 0 0 rgba(16, 22, 26, 0), 0 0 0 rgba(16, 22, 26, 0); }

.bp3-elevation-1{
  -webkit-box-shadow:0 0 0 1px rgba(16, 22, 26, 0.1), 0 0 0 rgba(16, 22, 26, 0), 0 1px 1px rgba(16, 22, 26, 0.2);
          box-shadow:0 0 0 1px rgba(16, 22, 26, 0.1), 0 0 0 rgba(16, 22, 26, 0), 0 1px 1px rgba(16, 22, 26, 0.2); }
  .bp3-elevation-1.bp3-dark,
  .bp3-dark .bp3-elevation-1{
    -webkit-box-shadow:0 0 0 1px rgba(16, 22, 26, 0.2), 0 0 0 rgba(16, 22, 26, 0), 0 1px 1px rgba(16, 22, 26, 0.4);
            box-shadow:0 0 0 1px rgba(16, 22, 26, 0.2), 0 0 0 rgba(16, 22, 26, 0), 0 1px 1px rgba(16, 22, 26, 0.4); }

.bp3-elevation-2{
  -webkit-box-shadow:0 0 0 1px rgba(16, 22, 26, 0.1), 0 1px 1px rgba(16, 22, 26, 0.2), 0 2px 6px rgba(16, 22, 26, 0.2);
          box-shadow:0 0 0 1px rgba(16, 22, 26, 0.1), 0 1px 1px rgba(16, 22, 26, 0.2), 0 2px 6px rgba(16, 22, 26, 0.2); }
  .bp3-elevation-2.bp3-dark,
  .bp3-dark .bp3-elevation-2{
    -webkit-box-shadow:0 0 0 1px rgba(16, 22, 26, 0.2), 0 1px 1px rgba(16, 22, 26, 0.4), 0 2px 6px rgba(16, 22, 26, 0.4);
            box-shadow:0 0 0 1px rgba(16, 22, 26, 0.2), 0 1px 1px rgba(16, 22, 26, 0.4), 0 2px 6px rgba(16, 22, 26, 0.4); }

.bp3-elevation-3{
  -webkit-box-shadow:0 0 0 1px rgba(16, 22, 26, 0.1), 0 2px 4px rgba(16, 22, 26, 0.2), 0 8px 24px rgba(16, 22, 26, 0.2);
          box-shadow:0 0 0 1px rgba(16, 22, 26, 0.1), 0 2px 4px rgba(16, 22, 26, 0.2), 0 8px 24px rgba(16, 22, 26, 0.2); }
  .bp3-elevation-3.bp3-dark,
  .bp3-dark .bp3-elevation-3{
    -webkit-box-shadow:0 0 0 1px rgba(16, 22, 26, 0.2), 0 2px 4px rgba(16, 22, 26, 0.4), 0 8px 24px rgba(16, 22, 26, 0.4);
            box-shadow:0 0 0 1px rgba(16, 22, 26, 0.2), 0 2px 4px rgba(16, 22, 26, 0.4), 0 8px 24px rgba(16, 22, 26, 0.4); }

.bp3-elevation-4{
  -webkit-box-shadow:0 0 0 1px rgba(16, 22, 26, 0.1), 0 4px 8px rgba(16, 22, 26, 0.2), 0 18px 46px 6px rgba(16, 22, 26, 0.2);
          box-shadow:0 0 0 1px rgba(16, 22, 26, 0.1), 0 4px 8px rgba(16, 22, 26, 0.2), 0 18px 46px 6px rgba(16, 22, 26, 0.2); }
  .bp3-elevation-4.bp3-dark,
  .bp3-dark .bp3-elevation-4{
    -webkit-box-shadow:0 0 0 1px rgba(16, 22, 26, 0.2), 0 4px 8px rgba(16, 22, 26, 0.4), 0 18px 46px 6px rgba(16, 22, 26, 0.4);
            box-shadow:0 0 0 1px rgba(16, 22, 26, 0.2), 0 4px 8px rgba(16, 22, 26, 0.4), 0 18px 46px 6px rgba(16, 22, 26, 0.4); }

.bp3-card.bp3-interactive:hover{
  -webkit-box-shadow:0 0 0 1px rgba(16, 22, 26, 0.1), 0 2px 4px rgba(16, 22, 26, 0.2), 0 8px 24px rgba(16, 22, 26, 0.2);
          box-shadow:0 0 0 1px rgba(16, 22, 26, 0.1), 0 2px 4px rgba(16, 22, 26, 0.2), 0 8px 24px rgba(16, 22, 26, 0.2);
  cursor:pointer; }
  .bp3-card.bp3-interactive:hover.bp3-dark,
  .bp3-dark .bp3-card.bp3-interactive:hover{
    -webkit-box-shadow:0 0 0 1px rgba(16, 22, 26, 0.2), 0 2px 4px rgba(16, 22, 26, 0.4), 0 8px 24px rgba(16, 22, 26, 0.4);
            box-shadow:0 0 0 1px rgba(16, 22, 26, 0.2), 0 2px 4px rgba(16, 22, 26, 0.4), 0 8px 24px rgba(16, 22, 26, 0.4); }

.bp3-card.bp3-interactive:active{
  -webkit-box-shadow:0 0 0 1px rgba(16, 22, 26, 0.1), 0 0 0 rgba(16, 22, 26, 0), 0 1px 1px rgba(16, 22, 26, 0.2);
          box-shadow:0 0 0 1px rgba(16, 22, 26, 0.1), 0 0 0 rgba(16, 22, 26, 0), 0 1px 1px rgba(16, 22, 26, 0.2);
  opacity:0.9;
  -webkit-transition-duration:0;
          transition-duration:0; }
  .bp3-card.bp3-interactive:active.bp3-dark,
  .bp3-dark .bp3-card.bp3-interactive:active{
    -webkit-box-shadow:0 0 0 1px rgba(16, 22, 26, 0.2), 0 0 0 rgba(16, 22, 26, 0), 0 1px 1px rgba(16, 22, 26, 0.4);
            box-shadow:0 0 0 1px rgba(16, 22, 26, 0.2), 0 0 0 rgba(16, 22, 26, 0), 0 1px 1px rgba(16, 22, 26, 0.4); }

.bp3-collapse{
  height:0;
  overflow-y:hidden;
  -webkit-transition:height 200ms cubic-bezier(0.4, 1, 0.75, 0.9);
  transition:height 200ms cubic-bezier(0.4, 1, 0.75, 0.9); }
  .bp3-collapse .bp3-collapse-body{
    -webkit-transition:-webkit-transform 200ms cubic-bezier(0.4, 1, 0.75, 0.9);
    transition:-webkit-transform 200ms cubic-bezier(0.4, 1, 0.75, 0.9);
    transition:transform 200ms cubic-bezier(0.4, 1, 0.75, 0.9);
    transition:transform 200ms cubic-bezier(0.4, 1, 0.75, 0.9), -webkit-transform 200ms cubic-bezier(0.4, 1, 0.75, 0.9); }
    .bp3-collapse .bp3-collapse-body[aria-hidden="true"]{
      display:none; }

.bp3-context-menu .bp3-popover-target{
  display:block; }

.bp3-context-menu-popover-target{
  position:fixed; }

.bp3-divider{
  border-bottom:1px solid rgba(16, 22, 26, 0.15);
  border-right:1px solid rgba(16, 22, 26, 0.15);
  margin:5px; }
  .bp3-dark .bp3-divider{
    border-color:rgba(16, 22, 26, 0.4); }
.bp3-dialog-container{
  opacity:1;
  -webkit-transform:scale(1);
          transform:scale(1);
  -webkit-box-align:center;
      -ms-flex-align:center;
          align-items:center;
  display:-webkit-box;
  display:-ms-flexbox;
  display:flex;
  -webkit-box-pack:center;
      -ms-flex-pack:center;
          justify-content:center;
  min-height:100%;
  pointer-events:none;
  -webkit-user-select:none;
     -moz-user-select:none;
      -ms-user-select:none;
          user-select:none;
  width:100%; }
  .bp3-dialog-container.bp3-overlay-enter > .bp3-dialog, .bp3-dialog-container.bp3-overlay-appear > .bp3-dialog{
    opacity:0;
    -webkit-transform:scale(0.5);
            transform:scale(0.5); }
  .bp3-dialog-container.bp3-overlay-enter-active > .bp3-dialog, .bp3-dialog-container.bp3-overlay-appear-active > .bp3-dialog{
    opacity:1;
    -webkit-transform:scale(1);
            transform:scale(1);
    -webkit-transition-delay:0;
            transition-delay:0;
    -webkit-transition-duration:300ms;
            transition-duration:300ms;
    -webkit-transition-property:opacity, -webkit-transform;
    transition-property:opacity, -webkit-transform;
    transition-property:opacity, transform;
    transition-property:opacity, transform, -webkit-transform;
    -webkit-transition-timing-function:cubic-bezier(0.54, 1.12, 0.38, 1.11);
            transition-timing-function:cubic-bezier(0.54, 1.12, 0.38, 1.11); }
  .bp3-dialog-container.bp3-overlay-exit > .bp3-dialog{
    opacity:1;
    -webkit-transform:scale(1);
            transform:scale(1); }
  .bp3-dialog-container.bp3-overlay-exit-active > .bp3-dialog{
    opacity:0;
    -webkit-transform:scale(0.5);
            transform:scale(0.5);
    -webkit-transition-delay:0;
            transition-delay:0;
    -webkit-transition-duration:300ms;
            transition-duration:300ms;
    -webkit-transition-property:opacity, -webkit-transform;
    transition-property:opacity, -webkit-transform;
    transition-property:opacity, transform;
    transition-property:opacity, transform, -webkit-transform;
    -webkit-transition-timing-function:cubic-bezier(0.54, 1.12, 0.38, 1.11);
            transition-timing-function:cubic-bezier(0.54, 1.12, 0.38, 1.11); }

.bp3-dialog{
  background:#ebf1f5;
  border-radius:6px;
  -webkit-box-shadow:0 0 0 1px rgba(16, 22, 26, 0.1), 0 4px 8px rgba(16, 22, 26, 0.2), 0 18px 46px 6px rgba(16, 22, 26, 0.2);
          box-shadow:0 0 0 1px rgba(16, 22, 26, 0.1), 0 4px 8px rgba(16, 22, 26, 0.2), 0 18px 46px 6px rgba(16, 22, 26, 0.2);
  display:-webkit-box;
  display:-ms-flexbox;
  display:flex;
  -webkit-box-orient:vertical;
  -webkit-box-direction:normal;
      -ms-flex-direction:column;
          flex-direction:column;
  margin:30px 0;
  padding-bottom:20px;
  pointer-events:all;
  -webkit-user-select:text;
     -moz-user-select:text;
      -ms-user-select:text;
          user-select:text;
  width:500px; }
  .bp3-dialog:focus{
    outline:0; }
  .bp3-dialog.bp3-dark,
  .bp3-dark .bp3-dialog{
    background:#293742;
    -webkit-box-shadow:0 0 0 1px rgba(16, 22, 26, 0.2), 0 4px 8px rgba(16, 22, 26, 0.4), 0 18px 46px 6px rgba(16, 22, 26, 0.4);
            box-shadow:0 0 0 1px rgba(16, 22, 26, 0.2), 0 4px 8px rgba(16, 22, 26, 0.4), 0 18px 46px 6px rgba(16, 22, 26, 0.4);
    color:#f5f8fa; }

.bp3-dialog-header{
  -webkit-box-align:center;
      -ms-flex-align:center;
          align-items:center;
  background:#ffffff;
  border-radius:6px 6px 0 0;
  -webkit-box-shadow:0 1px 0 rgba(16, 22, 26, 0.15);
          box-shadow:0 1px 0 rgba(16, 22, 26, 0.15);
  display:-webkit-box;
  display:-ms-flexbox;
  display:flex;
  -webkit-box-flex:0;
      -ms-flex:0 0 auto;
          flex:0 0 auto;
  min-height:40px;
  padding-left:20px;
  padding-right:5px; }
  .bp3-dialog-header .bp3-icon-large,
  .bp3-dialog-header .bp3-icon{
    color:#5c7080;
    -webkit-box-flex:0;
        -ms-flex:0 0 auto;
            flex:0 0 auto;
    margin-right:10px; }
  .bp3-dialog-header .bp3-heading{
    overflow:hidden;
    text-overflow:ellipsis;
    white-space:nowrap;
    word-wrap:normal;
    -webkit-box-flex:1;
        -ms-flex:1 1 auto;
            flex:1 1 auto;
    line-height:inherit;
    margin:0; }
    .bp3-dialog-header .bp3-heading:last-child{
      margin-right:20px; }
  .bp3-dark .bp3-dialog-header{
    background:#30404d;
    -webkit-box-shadow:0 1px 0 rgba(16, 22, 26, 0.4);
            box-shadow:0 1px 0 rgba(16, 22, 26, 0.4); }
    .bp3-dark .bp3-dialog-header .bp3-icon-large,
    .bp3-dark .bp3-dialog-header .bp3-icon{
      color:#a7b6c2; }

.bp3-dialog-body{
  -webkit-box-flex:1;
      -ms-flex:1 1 auto;
          flex:1 1 auto;
  line-height:18px;
  margin:20px; }

.bp3-dialog-footer{
  -webkit-box-flex:0;
      -ms-flex:0 0 auto;
          flex:0 0 auto;
  margin:0 20px; }

.bp3-dialog-footer-actions{
  display:-webkit-box;
  display:-ms-flexbox;
  display:flex;
  -webkit-box-pack:end;
      -ms-flex-pack:end;
          justify-content:flex-end; }
  .bp3-dialog-footer-actions .bp3-button{
    margin-left:10px; }
.bp3-drawer{
  background:#ffffff;
  -webkit-box-shadow:0 0 0 1px rgba(16, 22, 26, 0.1), 0 4px 8px rgba(16, 22, 26, 0.2), 0 18px 46px 6px rgba(16, 22, 26, 0.2);
          box-shadow:0 0 0 1px rgba(16, 22, 26, 0.1), 0 4px 8px rgba(16, 22, 26, 0.2), 0 18px 46px 6px rgba(16, 22, 26, 0.2);
  display:-webkit-box;
  display:-ms-flexbox;
  display:flex;
  -webkit-box-orient:vertical;
  -webkit-box-direction:normal;
      -ms-flex-direction:column;
          flex-direction:column;
  margin:0;
  padding:0; }
  .bp3-drawer:focus{
    outline:0; }
  .bp3-drawer.bp3-position-top{
    height:50%;
    left:0;
    right:0;
    top:0; }
    .bp3-drawer.bp3-position-top.bp3-overlay-enter, .bp3-drawer.bp3-position-top.bp3-overlay-appear{
      -webkit-transform:translateY(-100%);
              transform:translateY(-100%); }
    .bp3-drawer.bp3-position-top.bp3-overlay-enter-active, .bp3-drawer.bp3-position-top.bp3-overlay-appear-active{
      -webkit-transform:translateY(0);
              transform:translateY(0);
      -webkit-transition-delay:0;
              transition-delay:0;
      -webkit-transition-duration:200ms;
              transition-duration:200ms;
      -webkit-transition-property:-webkit-transform;
      transition-property:-webkit-transform;
      transition-property:transform;
      transition-property:transform, -webkit-transform;
      -webkit-transition-timing-function:cubic-bezier(0.4, 1, 0.75, 0.9);
              transition-timing-function:cubic-bezier(0.4, 1, 0.75, 0.9); }
    .bp3-drawer.bp3-position-top.bp3-overlay-exit{
      -webkit-transform:translateY(0);
              transform:translateY(0); }
    .bp3-drawer.bp3-position-top.bp3-overlay-exit-active{
      -webkit-transform:translateY(-100%);
              transform:translateY(-100%);
      -webkit-transition-delay:0;
              transition-delay:0;
      -webkit-transition-duration:100ms;
              transition-duration:100ms;
      -webkit-transition-property:-webkit-transform;
      transition-property:-webkit-transform;
      transition-property:transform;
      transition-property:transform, -webkit-transform;
      -webkit-transition-timing-function:cubic-bezier(0.4, 1, 0.75, 0.9);
              transition-timing-function:cubic-bezier(0.4, 1, 0.75, 0.9); }
  .bp3-drawer.bp3-position-bottom{
    bottom:0;
    height:50%;
    left:0;
    right:0; }
    .bp3-drawer.bp3-position-bottom.bp3-overlay-enter, .bp3-drawer.bp3-position-bottom.bp3-overlay-appear{
      -webkit-transform:translateY(100%);
              transform:translateY(100%); }
    .bp3-drawer.bp3-position-bottom.bp3-overlay-enter-active, .bp3-drawer.bp3-position-bottom.bp3-overlay-appear-active{
      -webkit-transform:translateY(0);
              transform:translateY(0);
      -webkit-transition-delay:0;
              transition-delay:0;
      -webkit-transition-duration:200ms;
              transition-duration:200ms;
      -webkit-transition-property:-webkit-transform;
      transition-property:-webkit-transform;
      transition-property:transform;
      transition-property:transform, -webkit-transform;
      -webkit-transition-timing-function:cubic-bezier(0.4, 1, 0.75, 0.9);
              transition-timing-function:cubic-bezier(0.4, 1, 0.75, 0.9); }
    .bp3-drawer.bp3-position-bottom.bp3-overlay-exit{
      -webkit-transform:translateY(0);
              transform:translateY(0); }
    .bp3-drawer.bp3-position-bottom.bp3-overlay-exit-active{
      -webkit-transform:translateY(100%);
              transform:translateY(100%);
      -webkit-transition-delay:0;
              transition-delay:0;
      -webkit-transition-duration:100ms;
              transition-duration:100ms;
      -webkit-transition-property:-webkit-transform;
      transition-property:-webkit-transform;
      transition-property:transform;
      transition-property:transform, -webkit-transform;
      -webkit-transition-timing-function:cubic-bezier(0.4, 1, 0.75, 0.9);
              transition-timing-function:cubic-bezier(0.4, 1, 0.75, 0.9); }
  .bp3-drawer.bp3-position-left{
    bottom:0;
    left:0;
    top:0;
    width:50%; }
    .bp3-drawer.bp3-position-left.bp3-overlay-enter, .bp3-drawer.bp3-position-left.bp3-overlay-appear{
      -webkit-transform:translateX(-100%);
              transform:translateX(-100%); }
    .bp3-drawer.bp3-position-left.bp3-overlay-enter-active, .bp3-drawer.bp3-position-left.bp3-overlay-appear-active{
      -webkit-transform:translateX(0);
              transform:translateX(0);
      -webkit-transition-delay:0;
              transition-delay:0;
      -webkit-transition-duration:200ms;
              transition-duration:200ms;
      -webkit-transition-property:-webkit-transform;
      transition-property:-webkit-transform;
      transition-property:transform;
      transition-property:transform, -webkit-transform;
      -webkit-transition-timing-function:cubic-bezier(0.4, 1, 0.75, 0.9);
              transition-timing-function:cubic-bezier(0.4, 1, 0.75, 0.9); }
    .bp3-drawer.bp3-position-left.bp3-overlay-exit{
      -webkit-transform:translateX(0);
              transform:translateX(0); }
    .bp3-drawer.bp3-position-left.bp3-overlay-exit-active{
      -webkit-transform:translateX(-100%);
              transform:translateX(-100%);
      -webkit-transition-delay:0;
              transition-delay:0;
      -webkit-transition-duration:100ms;
              transition-duration:100ms;
      -webkit-transition-property:-webkit-transform;
      transition-property:-webkit-transform;
      transition-property:transform;
      transition-property:transform, -webkit-transform;
      -webkit-transition-timing-function:cubic-bezier(0.4, 1, 0.75, 0.9);
              transition-timing-function:cubic-bezier(0.4, 1, 0.75, 0.9); }
  .bp3-drawer.bp3-position-right{
    bottom:0;
    right:0;
    top:0;
    width:50%; }
    .bp3-drawer.bp3-position-right.bp3-overlay-enter, .bp3-drawer.bp3-position-right.bp3-overlay-appear{
      -webkit-transform:translateX(100%);
              transform:translateX(100%); }
    .bp3-drawer.bp3-position-right.bp3-overlay-enter-active, .bp3-drawer.bp3-position-right.bp3-overlay-appear-active{
      -webkit-transform:translateX(0);
              transform:translateX(0);
      -webkit-transition-delay:0;
              transition-delay:0;
      -webkit-transition-duration:200ms;
              transition-duration:200ms;
      -webkit-transition-property:-webkit-transform;
      transition-property:-webkit-transform;
      transition-property:transform;
      transition-property:transform, -webkit-transform;
      -webkit-transition-timing-function:cubic-bezier(0.4, 1, 0.75, 0.9);
              transition-timing-function:cubic-bezier(0.4, 1, 0.75, 0.9); }
    .bp3-drawer.bp3-position-right.bp3-overlay-exit{
      -webkit-transform:translateX(0);
              transform:translateX(0); }
    .bp3-drawer.bp3-position-right.bp3-overlay-exit-active{
      -webkit-transform:translateX(100%);
              transform:translateX(100%);
      -webkit-transition-delay:0;
              transition-delay:0;
      -webkit-transition-duration:100ms;
              transition-duration:100ms;
      -webkit-transition-property:-webkit-transform;
      transition-property:-webkit-transform;
      transition-property:transform;
      transition-property:transform, -webkit-transform;
      -webkit-transition-timing-function:cubic-bezier(0.4, 1, 0.75, 0.9);
              transition-timing-function:cubic-bezier(0.4, 1, 0.75, 0.9); }
  .bp3-drawer:not(.bp3-position-top):not(.bp3-position-bottom):not(.bp3-position-left):not(
  .bp3-position-right):not(.bp3-vertical){
    bottom:0;
    right:0;
    top:0;
    width:50%; }
    .bp3-drawer:not(.bp3-position-top):not(.bp3-position-bottom):not(.bp3-position-left):not(
    .bp3-position-right):not(.bp3-vertical).bp3-overlay-enter, .bp3-drawer:not(.bp3-position-top):not(.bp3-position-bottom):not(.bp3-position-left):not(
    .bp3-position-right):not(.bp3-vertical).bp3-overlay-appear{
      -webkit-transform:translateX(100%);
              transform:translateX(100%); }
    .bp3-drawer:not(.bp3-position-top):not(.bp3-position-bottom):not(.bp3-position-left):not(
    .bp3-position-right):not(.bp3-vertical).bp3-overlay-enter-active, .bp3-drawer:not(.bp3-position-top):not(.bp3-position-bottom):not(.bp3-position-left):not(
    .bp3-position-right):not(.bp3-vertical).bp3-overlay-appear-active{
      -webkit-transform:translateX(0);
              transform:translateX(0);
      -webkit-transition-delay:0;
              transition-delay:0;
      -webkit-transition-duration:200ms;
              transition-duration:200ms;
      -webkit-transition-property:-webkit-transform;
      transition-property:-webkit-transform;
      transition-property:transform;
      transition-property:transform, -webkit-transform;
      -webkit-transition-timing-function:cubic-bezier(0.4, 1, 0.75, 0.9);
              transition-timing-function:cubic-bezier(0.4, 1, 0.75, 0.9); }
    .bp3-drawer:not(.bp3-position-top):not(.bp3-position-bottom):not(.bp3-position-left):not(
    .bp3-position-right):not(.bp3-vertical).bp3-overlay-exit{
      -webkit-transform:translateX(0);
              transform:translateX(0); }
    .bp3-drawer:not(.bp3-position-top):not(.bp3-position-bottom):not(.bp3-position-left):not(
    .bp3-position-right):not(.bp3-vertical).bp3-overlay-exit-active{
      -webkit-transform:translateX(100%);
              transform:translateX(100%);
      -webkit-transition-delay:0;
              transition-delay:0;
      -webkit-transition-duration:100ms;
              transition-duration:100ms;
      -webkit-transition-property:-webkit-transform;
      transition-property:-webkit-transform;
      transition-property:transform;
      transition-property:transform, -webkit-transform;
      -webkit-transition-timing-function:cubic-bezier(0.4, 1, 0.75, 0.9);
              transition-timing-function:cubic-bezier(0.4, 1, 0.75, 0.9); }
  .bp3-drawer:not(.bp3-position-top):not(.bp3-position-bottom):not(.bp3-position-left):not(
  .bp3-position-right).bp3-vertical{
    bottom:0;
    height:50%;
    left:0;
    right:0; }
    .bp3-drawer:not(.bp3-position-top):not(.bp3-position-bottom):not(.bp3-position-left):not(
    .bp3-position-right).bp3-vertical.bp3-overlay-enter, .bp3-drawer:not(.bp3-position-top):not(.bp3-position-bottom):not(.bp3-position-left):not(
    .bp3-position-right).bp3-vertical.bp3-overlay-appear{
      -webkit-transform:translateY(100%);
              transform:translateY(100%); }
    .bp3-drawer:not(.bp3-position-top):not(.bp3-position-bottom):not(.bp3-position-left):not(
    .bp3-position-right).bp3-vertical.bp3-overlay-enter-active, .bp3-drawer:not(.bp3-position-top):not(.bp3-position-bottom):not(.bp3-position-left):not(
    .bp3-position-right).bp3-vertical.bp3-overlay-appear-active{
      -webkit-transform:translateY(0);
              transform:translateY(0);
      -webkit-transition-delay:0;
              transition-delay:0;
      -webkit-transition-duration:200ms;
              transition-duration:200ms;
      -webkit-transition-property:-webkit-transform;
      transition-property:-webkit-transform;
      transition-property:transform;
      transition-property:transform, -webkit-transform;
      -webkit-transition-timing-function:cubic-bezier(0.4, 1, 0.75, 0.9);
              transition-timing-function:cubic-bezier(0.4, 1, 0.75, 0.9); }
    .bp3-drawer:not(.bp3-position-top):not(.bp3-position-bottom):not(.bp3-position-left):not(
    .bp3-position-right).bp3-vertical.bp3-overlay-exit{
      -webkit-transform:translateY(0);
              transform:translateY(0); }
    .bp3-drawer:not(.bp3-position-top):not(.bp3-position-bottom):not(.bp3-position-left):not(
    .bp3-position-right).bp3-vertical.bp3-overlay-exit-active{
      -webkit-transform:translateY(100%);
              transform:translateY(100%);
      -webkit-transition-delay:0;
              transition-delay:0;
      -webkit-transition-duration:100ms;
              transition-duration:100ms;
      -webkit-transition-property:-webkit-transform;
      transition-property:-webkit-transform;
      transition-property:transform;
      transition-property:transform, -webkit-transform;
      -webkit-transition-timing-function:cubic-bezier(0.4, 1, 0.75, 0.9);
              transition-timing-function:cubic-bezier(0.4, 1, 0.75, 0.9); }
  .bp3-drawer.bp3-dark,
  .bp3-dark .bp3-drawer{
    background:#30404d;
    -webkit-box-shadow:0 0 0 1px rgba(16, 22, 26, 0.2), 0 4px 8px rgba(16, 22, 26, 0.4), 0 18px 46px 6px rgba(16, 22, 26, 0.4);
            box-shadow:0 0 0 1px rgba(16, 22, 26, 0.2), 0 4px 8px rgba(16, 22, 26, 0.4), 0 18px 46px 6px rgba(16, 22, 26, 0.4);
    color:#f5f8fa; }

.bp3-drawer-header{
  -webkit-box-align:center;
      -ms-flex-align:center;
          align-items:center;
  border-radius:0;
  -webkit-box-shadow:0 1px 0 rgba(16, 22, 26, 0.15);
          box-shadow:0 1px 0 rgba(16, 22, 26, 0.15);
  display:-webkit-box;
  display:-ms-flexbox;
  display:flex;
  -webkit-box-flex:0;
      -ms-flex:0 0 auto;
          flex:0 0 auto;
  min-height:40px;
  padding:5px;
  padding-left:20px;
  position:relative; }
  .bp3-drawer-header .bp3-icon-large,
  .bp3-drawer-header .bp3-icon{
    color:#5c7080;
    -webkit-box-flex:0;
        -ms-flex:0 0 auto;
            flex:0 0 auto;
    margin-right:10px; }
  .bp3-drawer-header .bp3-heading{
    overflow:hidden;
    text-overflow:ellipsis;
    white-space:nowrap;
    word-wrap:normal;
    -webkit-box-flex:1;
        -ms-flex:1 1 auto;
            flex:1 1 auto;
    line-height:inherit;
    margin:0; }
    .bp3-drawer-header .bp3-heading:last-child{
      margin-right:20px; }
  .bp3-dark .bp3-drawer-header{
    -webkit-box-shadow:0 1px 0 rgba(16, 22, 26, 0.4);
            box-shadow:0 1px 0 rgba(16, 22, 26, 0.4); }
    .bp3-dark .bp3-drawer-header .bp3-icon-large,
    .bp3-dark .bp3-drawer-header .bp3-icon{
      color:#a7b6c2; }

.bp3-drawer-body{
  -webkit-box-flex:1;
      -ms-flex:1 1 auto;
          flex:1 1 auto;
  line-height:18px;
  overflow:auto; }

.bp3-drawer-footer{
  -webkit-box-shadow:inset 0 1px 0 rgba(16, 22, 26, 0.15);
          box-shadow:inset 0 1px 0 rgba(16, 22, 26, 0.15);
  -webkit-box-flex:0;
      -ms-flex:0 0 auto;
          flex:0 0 auto;
  padding:10px 20px;
  position:relative; }
  .bp3-dark .bp3-drawer-footer{
    -webkit-box-shadow:inset 0 1px 0 rgba(16, 22, 26, 0.4);
            box-shadow:inset 0 1px 0 rgba(16, 22, 26, 0.4); }
.bp3-editable-text{
  cursor:text;
  display:inline-block;
  max-width:100%;
  position:relative;
  vertical-align:top;
  white-space:nowrap; }
  .bp3-editable-text::before{
    bottom:-3px;
    left:-3px;
    position:absolute;
    right:-3px;
    top:-3px;
    border-radius:3px;
    content:"";
    -webkit-transition:background-color 100ms cubic-bezier(0.4, 1, 0.75, 0.9), -webkit-box-shadow 100ms cubic-bezier(0.4, 1, 0.75, 0.9);
    transition:background-color 100ms cubic-bezier(0.4, 1, 0.75, 0.9), -webkit-box-shadow 100ms cubic-bezier(0.4, 1, 0.75, 0.9);
    transition:background-color 100ms cubic-bezier(0.4, 1, 0.75, 0.9), box-shadow 100ms cubic-bezier(0.4, 1, 0.75, 0.9);
    transition:background-color 100ms cubic-bezier(0.4, 1, 0.75, 0.9), box-shadow 100ms cubic-bezier(0.4, 1, 0.75, 0.9), -webkit-box-shadow 100ms cubic-bezier(0.4, 1, 0.75, 0.9); }
  .bp3-editable-text:hover::before{
    -webkit-box-shadow:0 0 0 0 rgba(19, 124, 189, 0), 0 0 0 0 rgba(19, 124, 189, 0), inset 0 0 0 1px rgba(16, 22, 26, 0.15);
            box-shadow:0 0 0 0 rgba(19, 124, 189, 0), 0 0 0 0 rgba(19, 124, 189, 0), inset 0 0 0 1px rgba(16, 22, 26, 0.15); }
  .bp3-editable-text.bp3-editable-text-editing::before{
    background-color:#ffffff;
    -webkit-box-shadow:0 0 0 1px #137cbd, 0 0 0 3px rgba(19, 124, 189, 0.3), inset 0 1px 1px rgba(16, 22, 26, 0.2);
            box-shadow:0 0 0 1px #137cbd, 0 0 0 3px rgba(19, 124, 189, 0.3), inset 0 1px 1px rgba(16, 22, 26, 0.2); }
  .bp3-editable-text.bp3-disabled::before{
    -webkit-box-shadow:none;
            box-shadow:none; }
  .bp3-editable-text.bp3-intent-primary .bp3-editable-text-input,
  .bp3-editable-text.bp3-intent-primary .bp3-editable-text-content{
    color:#137cbd; }
  .bp3-editable-text.bp3-intent-primary:hover::before{
    -webkit-box-shadow:0 0 0 0 rgba(19, 124, 189, 0), 0 0 0 0 rgba(19, 124, 189, 0), inset 0 0 0 1px rgba(19, 124, 189, 0.4);
            box-shadow:0 0 0 0 rgba(19, 124, 189, 0), 0 0 0 0 rgba(19, 124, 189, 0), inset 0 0 0 1px rgba(19, 124, 189, 0.4); }
  .bp3-editable-text.bp3-intent-primary.bp3-editable-text-editing::before{
    -webkit-box-shadow:0 0 0 1px #137cbd, 0 0 0 3px rgba(19, 124, 189, 0.3), inset 0 1px 1px rgba(16, 22, 26, 0.2);
            box-shadow:0 0 0 1px #137cbd, 0 0 0 3px rgba(19, 124, 189, 0.3), inset 0 1px 1px rgba(16, 22, 26, 0.2); }
  .bp3-editable-text.bp3-intent-success .bp3-editable-text-input,
  .bp3-editable-text.bp3-intent-success .bp3-editable-text-content{
    color:#0f9960; }
  .bp3-editable-text.bp3-intent-success:hover::before{
    -webkit-box-shadow:0 0 0 0 rgba(15, 153, 96, 0), 0 0 0 0 rgba(15, 153, 96, 0), inset 0 0 0 1px rgba(15, 153, 96, 0.4);
            box-shadow:0 0 0 0 rgba(15, 153, 96, 0), 0 0 0 0 rgba(15, 153, 96, 0), inset 0 0 0 1px rgba(15, 153, 96, 0.4); }
  .bp3-editable-text.bp3-intent-success.bp3-editable-text-editing::before{
    -webkit-box-shadow:0 0 0 1px #0f9960, 0 0 0 3px rgba(15, 153, 96, 0.3), inset 0 1px 1px rgba(16, 22, 26, 0.2);
            box-shadow:0 0 0 1px #0f9960, 0 0 0 3px rgba(15, 153, 96, 0.3), inset 0 1px 1px rgba(16, 22, 26, 0.2); }
  .bp3-editable-text.bp3-intent-warning .bp3-editable-text-input,
  .bp3-editable-text.bp3-intent-warning .bp3-editable-text-content{
    color:#d9822b; }
  .bp3-editable-text.bp3-intent-warning:hover::before{
    -webkit-box-shadow:0 0 0 0 rgba(217, 130, 43, 0), 0 0 0 0 rgba(217, 130, 43, 0), inset 0 0 0 1px rgba(217, 130, 43, 0.4);
            box-shadow:0 0 0 0 rgba(217, 130, 43, 0), 0 0 0 0 rgba(217, 130, 43, 0), inset 0 0 0 1px rgba(217, 130, 43, 0.4); }
  .bp3-editable-text.bp3-intent-warning.bp3-editable-text-editing::before{
    -webkit-box-shadow:0 0 0 1px #d9822b, 0 0 0 3px rgba(217, 130, 43, 0.3), inset 0 1px 1px rgba(16, 22, 26, 0.2);
            box-shadow:0 0 0 1px #d9822b, 0 0 0 3px rgba(217, 130, 43, 0.3), inset 0 1px 1px rgba(16, 22, 26, 0.2); }
  .bp3-editable-text.bp3-intent-danger .bp3-editable-text-input,
  .bp3-editable-text.bp3-intent-danger .bp3-editable-text-content{
    color:#db3737; }
  .bp3-editable-text.bp3-intent-danger:hover::before{
    -webkit-box-shadow:0 0 0 0 rgba(219, 55, 55, 0), 0 0 0 0 rgba(219, 55, 55, 0), inset 0 0 0 1px rgba(219, 55, 55, 0.4);
            box-shadow:0 0 0 0 rgba(219, 55, 55, 0), 0 0 0 0 rgba(219, 55, 55, 0), inset 0 0 0 1px rgba(219, 55, 55, 0.4); }
  .bp3-editable-text.bp3-intent-danger.bp3-editable-text-editing::before{
    -webkit-box-shadow:0 0 0 1px #db3737, 0 0 0 3px rgba(219, 55, 55, 0.3), inset 0 1px 1px rgba(16, 22, 26, 0.2);
            box-shadow:0 0 0 1px #db3737, 0 0 0 3px rgba(219, 55, 55, 0.3), inset 0 1px 1px rgba(16, 22, 26, 0.2); }
  .bp3-dark .bp3-editable-text:hover::before{
    -webkit-box-shadow:0 0 0 0 rgba(19, 124, 189, 0), 0 0 0 0 rgba(19, 124, 189, 0), inset 0 0 0 1px rgba(255, 255, 255, 0.15);
            box-shadow:0 0 0 0 rgba(19, 124, 189, 0), 0 0 0 0 rgba(19, 124, 189, 0), inset 0 0 0 1px rgba(255, 255, 255, 0.15); }
  .bp3-dark .bp3-editable-text.bp3-editable-text-editing::before{
    background-color:rgba(16, 22, 26, 0.3);
    -webkit-box-shadow:0 0 0 1px #137cbd, 0 0 0 3px rgba(19, 124, 189, 0.3), inset 0 0 0 1px rgba(16, 22, 26, 0.3), inset 0 1px 1px rgba(16, 22, 26, 0.4);
            box-shadow:0 0 0 1px #137cbd, 0 0 0 3px rgba(19, 124, 189, 0.3), inset 0 0 0 1px rgba(16, 22, 26, 0.3), inset 0 1px 1px rgba(16, 22, 26, 0.4); }
  .bp3-dark .bp3-editable-text.bp3-disabled::before{
    -webkit-box-shadow:none;
            box-shadow:none; }
  .bp3-dark .bp3-editable-text.bp3-intent-primary .bp3-editable-text-content{
    color:#48aff0; }
  .bp3-dark .bp3-editable-text.bp3-intent-primary:hover::before{
    -webkit-box-shadow:0 0 0 0 rgba(72, 175, 240, 0), 0 0 0 0 rgba(72, 175, 240, 0), inset 0 0 0 1px rgba(72, 175, 240, 0.4);
            box-shadow:0 0 0 0 rgba(72, 175, 240, 0), 0 0 0 0 rgba(72, 175, 240, 0), inset 0 0 0 1px rgba(72, 175, 240, 0.4); }
  .bp3-dark .bp3-editable-text.bp3-intent-primary.bp3-editable-text-editing::before{
    -webkit-box-shadow:0 0 0 1px #48aff0, 0 0 0 3px rgba(72, 175, 240, 0.3), inset 0 0 0 1px rgba(16, 22, 26, 0.3), inset 0 1px 1px rgba(16, 22, 26, 0.4);
            box-shadow:0 0 0 1px #48aff0, 0 0 0 3px rgba(72, 175, 240, 0.3), inset 0 0 0 1px rgba(16, 22, 26, 0.3), inset 0 1px 1px rgba(16, 22, 26, 0.4); }
  .bp3-dark .bp3-editable-text.bp3-intent-success .bp3-editable-text-content{
    color:#3dcc91; }
  .bp3-dark .bp3-editable-text.bp3-intent-success:hover::before{
    -webkit-box-shadow:0 0 0 0 rgba(61, 204, 145, 0), 0 0 0 0 rgba(61, 204, 145, 0), inset 0 0 0 1px rgba(61, 204, 145, 0.4);
            box-shadow:0 0 0 0 rgba(61, 204, 145, 0), 0 0 0 0 rgba(61, 204, 145, 0), inset 0 0 0 1px rgba(61, 204, 145, 0.4); }
  .bp3-dark .bp3-editable-text.bp3-intent-success.bp3-editable-text-editing::before{
    -webkit-box-shadow:0 0 0 1px #3dcc91, 0 0 0 3px rgba(61, 204, 145, 0.3), inset 0 0 0 1px rgba(16, 22, 26, 0.3), inset 0 1px 1px rgba(16, 22, 26, 0.4);
            box-shadow:0 0 0 1px #3dcc91, 0 0 0 3px rgba(61, 204, 145, 0.3), inset 0 0 0 1px rgba(16, 22, 26, 0.3), inset 0 1px 1px rgba(16, 22, 26, 0.4); }
  .bp3-dark .bp3-editable-text.bp3-intent-warning .bp3-editable-text-content{
    color:#ffb366; }
  .bp3-dark .bp3-editable-text.bp3-intent-warning:hover::before{
    -webkit-box-shadow:0 0 0 0 rgba(255, 179, 102, 0), 0 0 0 0 rgba(255, 179, 102, 0), inset 0 0 0 1px rgba(255, 179, 102, 0.4);
            box-shadow:0 0 0 0 rgba(255, 179, 102, 0), 0 0 0 0 rgba(255, 179, 102, 0), inset 0 0 0 1px rgba(255, 179, 102, 0.4); }
  .bp3-dark .bp3-editable-text.bp3-intent-warning.bp3-editable-text-editing::before{
    -webkit-box-shadow:0 0 0 1px #ffb366, 0 0 0 3px rgba(255, 179, 102, 0.3), inset 0 0 0 1px rgba(16, 22, 26, 0.3), inset 0 1px 1px rgba(16, 22, 26, 0.4);
            box-shadow:0 0 0 1px #ffb366, 0 0 0 3px rgba(255, 179, 102, 0.3), inset 0 0 0 1px rgba(16, 22, 26, 0.3), inset 0 1px 1px rgba(16, 22, 26, 0.4); }
  .bp3-dark .bp3-editable-text.bp3-intent-danger .bp3-editable-text-content{
    color:#ff7373; }
  .bp3-dark .bp3-editable-text.bp3-intent-danger:hover::before{
    -webkit-box-shadow:0 0 0 0 rgba(255, 115, 115, 0), 0 0 0 0 rgba(255, 115, 115, 0), inset 0 0 0 1px rgba(255, 115, 115, 0.4);
            box-shadow:0 0 0 0 rgba(255, 115, 115, 0), 0 0 0 0 rgba(255, 115, 115, 0), inset 0 0 0 1px rgba(255, 115, 115, 0.4); }
  .bp3-dark .bp3-editable-text.bp3-intent-danger.bp3-editable-text-editing::before{
    -webkit-box-shadow:0 0 0 1px #ff7373, 0 0 0 3px rgba(255, 115, 115, 0.3), inset 0 0 0 1px rgba(16, 22, 26, 0.3), inset 0 1px 1px rgba(16, 22, 26, 0.4);
            box-shadow:0 0 0 1px #ff7373, 0 0 0 3px rgba(255, 115, 115, 0.3), inset 0 0 0 1px rgba(16, 22, 26, 0.3), inset 0 1px 1px rgba(16, 22, 26, 0.4); }

.bp3-editable-text-input,
.bp3-editable-text-content{
  color:inherit;
  display:inherit;
  font:inherit;
  letter-spacing:inherit;
  max-width:inherit;
  min-width:inherit;
  position:relative;
  resize:none;
  text-transform:inherit;
  vertical-align:top; }

.bp3-editable-text-input{
  background:none;
  border:none;
  -webkit-box-shadow:none;
          box-shadow:none;
  padding:0;
  white-space:pre-wrap;
  width:100%; }
  .bp3-editable-text-input::-webkit-input-placeholder{
    color:rgba(92, 112, 128, 0.6);
    opacity:1; }
  .bp3-editable-text-input::-moz-placeholder{
    color:rgba(92, 112, 128, 0.6);
    opacity:1; }
  .bp3-editable-text-input:-ms-input-placeholder{
    color:rgba(92, 112, 128, 0.6);
    opacity:1; }
  .bp3-editable-text-input::-ms-input-placeholder{
    color:rgba(92, 112, 128, 0.6);
    opacity:1; }
  .bp3-editable-text-input::placeholder{
    color:rgba(92, 112, 128, 0.6);
    opacity:1; }
  .bp3-editable-text-input:focus{
    outline:none; }
  .bp3-editable-text-input::-ms-clear{
    display:none; }

.bp3-editable-text-content{
  overflow:hidden;
  padding-right:2px;
  text-overflow:ellipsis;
  white-space:pre; }
  .bp3-editable-text-editing > .bp3-editable-text-content{
    left:0;
    position:absolute;
    visibility:hidden; }
  .bp3-editable-text-placeholder > .bp3-editable-text-content{
    color:rgba(92, 112, 128, 0.6); }
    .bp3-dark .bp3-editable-text-placeholder > .bp3-editable-text-content{
      color:rgba(167, 182, 194, 0.6); }

.bp3-editable-text.bp3-multiline{
  display:block; }
  .bp3-editable-text.bp3-multiline .bp3-editable-text-content{
    overflow:auto;
    white-space:pre-wrap;
    word-wrap:break-word; }
.bp3-divider{
  border-bottom:1px solid rgba(16, 22, 26, 0.15);
  border-right:1px solid rgba(16, 22, 26, 0.15);
  margin:5px; }
  .bp3-dark .bp3-divider{
    border-color:rgba(16, 22, 26, 0.4); }
.bp3-control-group{
  -webkit-transform:translateZ(0);
          transform:translateZ(0);
  display:-webkit-box;
  display:-ms-flexbox;
  display:flex;
  -webkit-box-orient:horizontal;
  -webkit-box-direction:normal;
      -ms-flex-direction:row;
          flex-direction:row;
  -webkit-box-align:stretch;
      -ms-flex-align:stretch;
          align-items:stretch; }
  .bp3-control-group > *{
    -webkit-box-flex:0;
        -ms-flex-positive:0;
            flex-grow:0;
    -ms-flex-negative:0;
        flex-shrink:0; }
  .bp3-control-group > .bp3-fill{
    -webkit-box-flex:1;
        -ms-flex-positive:1;
            flex-grow:1;
    -ms-flex-negative:1;
        flex-shrink:1; }
  .bp3-control-group .bp3-button,
  .bp3-control-group .bp3-html-select,
  .bp3-control-group .bp3-input,
  .bp3-control-group .bp3-select{
    position:relative; }
  .bp3-control-group .bp3-input{
    border-radius:inherit;
    z-index:2; }
    .bp3-control-group .bp3-input:focus{
      border-radius:3px;
      z-index:14; }
    .bp3-control-group .bp3-input[class*="bp3-intent"]{
      z-index:13; }
      .bp3-control-group .bp3-input[class*="bp3-intent"]:focus{
        z-index:15; }
    .bp3-control-group .bp3-input[readonly], .bp3-control-group .bp3-input:disabled, .bp3-control-group .bp3-input.bp3-disabled{
      z-index:1; }
  .bp3-control-group .bp3-input-group[class*="bp3-intent"] .bp3-input{
    z-index:13; }
    .bp3-control-group .bp3-input-group[class*="bp3-intent"] .bp3-input:focus{
      z-index:15; }
  .bp3-control-group .bp3-button,
  .bp3-control-group .bp3-html-select select,
  .bp3-control-group .bp3-select select{
    -webkit-transform:translateZ(0);
            transform:translateZ(0);
    border-radius:inherit;
    z-index:4; }
    .bp3-control-group .bp3-button:focus,
    .bp3-control-group .bp3-html-select select:focus,
    .bp3-control-group .bp3-select select:focus{
      z-index:5; }
    .bp3-control-group .bp3-button:hover,
    .bp3-control-group .bp3-html-select select:hover,
    .bp3-control-group .bp3-select select:hover{
      z-index:6; }
    .bp3-control-group .bp3-button:active,
    .bp3-control-group .bp3-html-select select:active,
    .bp3-control-group .bp3-select select:active{
      z-index:7; }
    .bp3-control-group .bp3-button[readonly], .bp3-control-group .bp3-button:disabled, .bp3-control-group .bp3-button.bp3-disabled,
    .bp3-control-group .bp3-html-select select[readonly],
    .bp3-control-group .bp3-html-select select:disabled,
    .bp3-control-group .bp3-html-select select.bp3-disabled,
    .bp3-control-group .bp3-select select[readonly],
    .bp3-control-group .bp3-select select:disabled,
    .bp3-control-group .bp3-select select.bp3-disabled{
      z-index:3; }
    .bp3-control-group .bp3-button[class*="bp3-intent"],
    .bp3-control-group .bp3-html-select select[class*="bp3-intent"],
    .bp3-control-group .bp3-select select[class*="bp3-intent"]{
      z-index:9; }
      .bp3-control-group .bp3-button[class*="bp3-intent"]:focus,
      .bp3-control-group .bp3-html-select select[class*="bp3-intent"]:focus,
      .bp3-control-group .bp3-select select[class*="bp3-intent"]:focus{
        z-index:10; }
      .bp3-control-group .bp3-button[class*="bp3-intent"]:hover,
      .bp3-control-group .bp3-html-select select[class*="bp3-intent"]:hover,
      .bp3-control-group .bp3-select select[class*="bp3-intent"]:hover{
        z-index:11; }
      .bp3-control-group .bp3-button[class*="bp3-intent"]:active,
      .bp3-control-group .bp3-html-select select[class*="bp3-intent"]:active,
      .bp3-control-group .bp3-select select[class*="bp3-intent"]:active{
        z-index:12; }
      .bp3-control-group .bp3-button[class*="bp3-intent"][readonly], .bp3-control-group .bp3-button[class*="bp3-intent"]:disabled, .bp3-control-group .bp3-button[class*="bp3-intent"].bp3-disabled,
      .bp3-control-group .bp3-html-select select[class*="bp3-intent"][readonly],
      .bp3-control-group .bp3-html-select select[class*="bp3-intent"]:disabled,
      .bp3-control-group .bp3-html-select select[class*="bp3-intent"].bp3-disabled,
      .bp3-control-group .bp3-select select[class*="bp3-intent"][readonly],
      .bp3-control-group .bp3-select select[class*="bp3-intent"]:disabled,
      .bp3-control-group .bp3-select select[class*="bp3-intent"].bp3-disabled{
        z-index:8; }
  .bp3-control-group .bp3-input-group > .bp3-icon,
  .bp3-control-group .bp3-input-group > .bp3-button,
  .bp3-control-group .bp3-input-group > .bp3-input-action{
    z-index:16; }
  .bp3-control-group .bp3-select::after,
  .bp3-control-group .bp3-html-select::after,
  .bp3-control-group .bp3-select > .bp3-icon,
  .bp3-control-group .bp3-html-select > .bp3-icon{
    z-index:17; }
  .bp3-control-group .bp3-select:focus-within{
    z-index:5; }
  .bp3-control-group:not(.bp3-vertical) > *:not(.bp3-divider){
    margin-right:-1px; }
  .bp3-control-group:not(.bp3-vertical) > .bp3-divider:not(:first-child){
    margin-left:6px; }
  .bp3-dark .bp3-control-group:not(.bp3-vertical) > *:not(.bp3-divider){
    margin-right:0; }
  .bp3-dark .bp3-control-group:not(.bp3-vertical) > .bp3-button + .bp3-button{
    margin-left:1px; }
  .bp3-control-group .bp3-popover-wrapper,
  .bp3-control-group .bp3-popover-target{
    border-radius:inherit; }
  .bp3-control-group > :first-child{
    border-radius:3px 0 0 3px; }
  .bp3-control-group > :last-child{
    border-radius:0 3px 3px 0;
    margin-right:0; }
  .bp3-control-group > :only-child{
    border-radius:3px;
    margin-right:0; }
  .bp3-control-group .bp3-input-group .bp3-button{
    border-radius:3px; }
  .bp3-control-group .bp3-numeric-input:not(:first-child) .bp3-input-group{
    border-bottom-left-radius:0;
    border-top-left-radius:0; }
  .bp3-control-group.bp3-fill{
    width:100%; }
  .bp3-control-group > .bp3-fill{
    -webkit-box-flex:1;
        -ms-flex:1 1 auto;
            flex:1 1 auto; }
  .bp3-control-group.bp3-fill > *:not(.bp3-fixed){
    -webkit-box-flex:1;
        -ms-flex:1 1 auto;
            flex:1 1 auto; }
  .bp3-control-group.bp3-vertical{
    -webkit-box-orient:vertical;
    -webkit-box-direction:normal;
        -ms-flex-direction:column;
            flex-direction:column; }
    .bp3-control-group.bp3-vertical > *{
      margin-top:-1px; }
    .bp3-control-group.bp3-vertical > :first-child{
      border-radius:3px 3px 0 0;
      margin-top:0; }
    .bp3-control-group.bp3-vertical > :last-child{
      border-radius:0 0 3px 3px; }
.bp3-control{
  cursor:pointer;
  display:block;
  margin-bottom:10px;
  position:relative;
  text-transform:none; }
  .bp3-control input:checked ~ .bp3-control-indicator{
    background-color:#137cbd;
    background-image:-webkit-gradient(linear, left top, left bottom, from(rgba(255, 255, 255, 0.1)), to(rgba(255, 255, 255, 0)));
    background-image:linear-gradient(to bottom, rgba(255, 255, 255, 0.1), rgba(255, 255, 255, 0));
    -webkit-box-shadow:inset 0 0 0 1px rgba(16, 22, 26, 0.4), inset 0 -1px 0 rgba(16, 22, 26, 0.2);
            box-shadow:inset 0 0 0 1px rgba(16, 22, 26, 0.4), inset 0 -1px 0 rgba(16, 22, 26, 0.2);
    color:#ffffff; }
  .bp3-control:hover input:checked ~ .bp3-control-indicator{
    background-color:#106ba3;
    -webkit-box-shadow:inset 0 0 0 1px rgba(16, 22, 26, 0.4), inset 0 -1px 0 rgba(16, 22, 26, 0.2);
            box-shadow:inset 0 0 0 1px rgba(16, 22, 26, 0.4), inset 0 -1px 0 rgba(16, 22, 26, 0.2); }
  .bp3-control input:not(:disabled):active:checked ~ .bp3-control-indicator{
    background:#0e5a8a;
    -webkit-box-shadow:inset 0 0 0 1px rgba(16, 22, 26, 0.4), inset 0 1px 2px rgba(16, 22, 26, 0.2);
            box-shadow:inset 0 0 0 1px rgba(16, 22, 26, 0.4), inset 0 1px 2px rgba(16, 22, 26, 0.2); }
  .bp3-control input:disabled:checked ~ .bp3-control-indicator{
    background:rgba(19, 124, 189, 0.5);
    -webkit-box-shadow:none;
            box-shadow:none; }
  .bp3-dark .bp3-control input:checked ~ .bp3-control-indicator{
    -webkit-box-shadow:0 0 0 1px rgba(16, 22, 26, 0.4);
            box-shadow:0 0 0 1px rgba(16, 22, 26, 0.4); }
  .bp3-dark .bp3-control:hover input:checked ~ .bp3-control-indicator{
    background-color:#106ba3;
    -webkit-box-shadow:0 0 0 1px rgba(16, 22, 26, 0.4);
            box-shadow:0 0 0 1px rgba(16, 22, 26, 0.4); }
  .bp3-dark .bp3-control input:not(:disabled):active:checked ~ .bp3-control-indicator{
    background-color:#0e5a8a;
    -webkit-box-shadow:0 0 0 1px rgba(16, 22, 26, 0.4), inset 0 1px 2px rgba(16, 22, 26, 0.2);
            box-shadow:0 0 0 1px rgba(16, 22, 26, 0.4), inset 0 1px 2px rgba(16, 22, 26, 0.2); }
  .bp3-dark .bp3-control input:disabled:checked ~ .bp3-control-indicator{
    background:rgba(14, 90, 138, 0.5);
    -webkit-box-shadow:none;
            box-shadow:none; }
  .bp3-control:not(.bp3-align-right){
    padding-left:26px; }
    .bp3-control:not(.bp3-align-right) .bp3-control-indicator{
      margin-left:-26px; }
  .bp3-control.bp3-align-right{
    padding-right:26px; }
    .bp3-control.bp3-align-right .bp3-control-indicator{
      margin-right:-26px; }
  .bp3-control.bp3-disabled{
    color:rgba(92, 112, 128, 0.6);
    cursor:not-allowed; }
  .bp3-control.bp3-inline{
    display:inline-block;
    margin-right:20px; }
  .bp3-control input{
    left:0;
    opacity:0;
    position:absolute;
    top:0;
    z-index:-1; }
  .bp3-control .bp3-control-indicator{
    background-clip:padding-box;
    background-color:#f5f8fa;
    background-image:-webkit-gradient(linear, left top, left bottom, from(rgba(255, 255, 255, 0.8)), to(rgba(255, 255, 255, 0)));
    background-image:linear-gradient(to bottom, rgba(255, 255, 255, 0.8), rgba(255, 255, 255, 0));
    border:none;
    -webkit-box-shadow:inset 0 0 0 1px rgba(16, 22, 26, 0.2), inset 0 -1px 0 rgba(16, 22, 26, 0.1);
            box-shadow:inset 0 0 0 1px rgba(16, 22, 26, 0.2), inset 0 -1px 0 rgba(16, 22, 26, 0.1);
    cursor:pointer;
    display:inline-block;
    font-size:16px;
    height:1em;
    margin-right:10px;
    margin-top:-3px;
    position:relative;
    -webkit-user-select:none;
       -moz-user-select:none;
        -ms-user-select:none;
            user-select:none;
    vertical-align:middle;
    width:1em; }
    .bp3-control .bp3-control-indicator::before{
      content:"";
      display:block;
      height:1em;
      width:1em; }
  .bp3-control:hover .bp3-control-indicator{
    background-color:#ebf1f5; }
  .bp3-control input:not(:disabled):active ~ .bp3-control-indicator{
    background:#d8e1e8;
    -webkit-box-shadow:inset 0 0 0 1px rgba(16, 22, 26, 0.2), inset 0 1px 2px rgba(16, 22, 26, 0.2);
            box-shadow:inset 0 0 0 1px rgba(16, 22, 26, 0.2), inset 0 1px 2px rgba(16, 22, 26, 0.2); }
  .bp3-control input:disabled ~ .bp3-control-indicator{
    background:rgba(206, 217, 224, 0.5);
    -webkit-box-shadow:none;
            box-shadow:none;
    cursor:not-allowed; }
  .bp3-control input:focus ~ .bp3-control-indicator{
    outline:rgba(19, 124, 189, 0.6) auto 2px;
    outline-offset:2px;
    -moz-outline-radius:6px; }
  .bp3-control.bp3-align-right .bp3-control-indicator{
    float:right;
    margin-left:10px;
    margin-top:1px; }
  .bp3-control.bp3-large{
    font-size:16px; }
    .bp3-control.bp3-large:not(.bp3-align-right){
      padding-left:30px; }
      .bp3-control.bp3-large:not(.bp3-align-right) .bp3-control-indicator{
        margin-left:-30px; }
    .bp3-control.bp3-large.bp3-align-right{
      padding-right:30px; }
      .bp3-control.bp3-large.bp3-align-right .bp3-control-indicator{
        margin-right:-30px; }
    .bp3-control.bp3-large .bp3-control-indicator{
      font-size:20px; }
    .bp3-control.bp3-large.bp3-align-right .bp3-control-indicator{
      margin-top:0; }
  .bp3-control.bp3-checkbox input:indeterminate ~ .bp3-control-indicator{
    background-color:#137cbd;
    background-image:-webkit-gradient(linear, left top, left bottom, from(rgba(255, 255, 255, 0.1)), to(rgba(255, 255, 255, 0)));
    background-image:linear-gradient(to bottom, rgba(255, 255, 255, 0.1), rgba(255, 255, 255, 0));
    -webkit-box-shadow:inset 0 0 0 1px rgba(16, 22, 26, 0.4), inset 0 -1px 0 rgba(16, 22, 26, 0.2);
            box-shadow:inset 0 0 0 1px rgba(16, 22, 26, 0.4), inset 0 -1px 0 rgba(16, 22, 26, 0.2);
    color:#ffffff; }
  .bp3-control.bp3-checkbox:hover input:indeterminate ~ .bp3-control-indicator{
    background-color:#106ba3;
    -webkit-box-shadow:inset 0 0 0 1px rgba(16, 22, 26, 0.4), inset 0 -1px 0 rgba(16, 22, 26, 0.2);
            box-shadow:inset 0 0 0 1px rgba(16, 22, 26, 0.4), inset 0 -1px 0 rgba(16, 22, 26, 0.2); }
  .bp3-control.bp3-checkbox input:not(:disabled):active:indeterminate ~ .bp3-control-indicator{
    background:#0e5a8a;
    -webkit-box-shadow:inset 0 0 0 1px rgba(16, 22, 26, 0.4), inset 0 1px 2px rgba(16, 22, 26, 0.2);
            box-shadow:inset 0 0 0 1px rgba(16, 22, 26, 0.4), inset 0 1px 2px rgba(16, 22, 26, 0.2); }
  .bp3-control.bp3-checkbox input:disabled:indeterminate ~ .bp3-control-indicator{
    background:rgba(19, 124, 189, 0.5);
    -webkit-box-shadow:none;
            box-shadow:none; }
  .bp3-dark .bp3-control.bp3-checkbox input:indeterminate ~ .bp3-control-indicator{
    -webkit-box-shadow:0 0 0 1px rgba(16, 22, 26, 0.4);
            box-shadow:0 0 0 1px rgba(16, 22, 26, 0.4); }
  .bp3-dark .bp3-control.bp3-checkbox:hover input:indeterminate ~ .bp3-control-indicator{
    background-color:#106ba3;
    -webkit-box-shadow:0 0 0 1px rgba(16, 22, 26, 0.4);
            box-shadow:0 0 0 1px rgba(16, 22, 26, 0.4); }
  .bp3-dark .bp3-control.bp3-checkbox input:not(:disabled):active:indeterminate ~ .bp3-control-indicator{
    background-color:#0e5a8a;
    -webkit-box-shadow:0 0 0 1px rgba(16, 22, 26, 0.4), inset 0 1px 2px rgba(16, 22, 26, 0.2);
            box-shadow:0 0 0 1px rgba(16, 22, 26, 0.4), inset 0 1px 2px rgba(16, 22, 26, 0.2); }
  .bp3-dark .bp3-control.bp3-checkbox input:disabled:indeterminate ~ .bp3-control-indicator{
    background:rgba(14, 90, 138, 0.5);
    -webkit-box-shadow:none;
            box-shadow:none; }
  .bp3-control.bp3-checkbox .bp3-control-indicator{
    border-radius:3px; }
  .bp3-control.bp3-checkbox input:checked ~ .bp3-control-indicator::before{
    background-image:url("data:image/svg+xml,%3csvg xmlns='http://www.w3.org/2000/svg' viewBox='0 0 16 16'%3e%3cpath fill-rule='evenodd' clip-rule='evenodd' d='M12 5c-.28 0-.53.11-.71.29L7 9.59l-2.29-2.3a1.003 1.003 0 00-1.42 1.42l3 3c.18.18.43.29.71.29s.53-.11.71-.29l5-5A1.003 1.003 0 0012 5z' fill='white'/%3e%3c/svg%3e"); }
  .bp3-control.bp3-checkbox input:indeterminate ~ .bp3-control-indicator::before{
    background-image:url("data:image/svg+xml,%3csvg xmlns='http://www.w3.org/2000/svg' viewBox='0 0 16 16'%3e%3cpath fill-rule='evenodd' clip-rule='evenodd' d='M11 7H5c-.55 0-1 .45-1 1s.45 1 1 1h6c.55 0 1-.45 1-1s-.45-1-1-1z' fill='white'/%3e%3c/svg%3e"); }
  .bp3-control.bp3-radio .bp3-control-indicator{
    border-radius:50%; }
  .bp3-control.bp3-radio input:checked ~ .bp3-control-indicator::before{
    background-image:radial-gradient(#ffffff, #ffffff 28%, transparent 32%); }
  .bp3-control.bp3-radio input:checked:disabled ~ .bp3-control-indicator::before{
    opacity:0.5; }
  .bp3-control.bp3-radio input:focus ~ .bp3-control-indicator{
    -moz-outline-radius:16px; }
  .bp3-control.bp3-switch input ~ .bp3-control-indicator{
    background:rgba(167, 182, 194, 0.5); }
  .bp3-control.bp3-switch:hover input ~ .bp3-control-indicator{
    background:rgba(115, 134, 148, 0.5); }
  .bp3-control.bp3-switch input:not(:disabled):active ~ .bp3-control-indicator{
    background:rgba(92, 112, 128, 0.5); }
  .bp3-control.bp3-switch input:disabled ~ .bp3-control-indicator{
    background:rgba(206, 217, 224, 0.5); }
    .bp3-control.bp3-switch input:disabled ~ .bp3-control-indicator::before{
      background:rgba(255, 255, 255, 0.8); }
  .bp3-control.bp3-switch input:checked ~ .bp3-control-indicator{
    background:#137cbd; }
  .bp3-control.bp3-switch:hover input:checked ~ .bp3-control-indicator{
    background:#106ba3; }
  .bp3-control.bp3-switch input:checked:not(:disabled):active ~ .bp3-control-indicator{
    background:#0e5a8a; }
  .bp3-control.bp3-switch input:checked:disabled ~ .bp3-control-indicator{
    background:rgba(19, 124, 189, 0.5); }
    .bp3-control.bp3-switch input:checked:disabled ~ .bp3-control-indicator::before{
      background:rgba(255, 255, 255, 0.8); }
  .bp3-control.bp3-switch:not(.bp3-align-right){
    padding-left:38px; }
    .bp3-control.bp3-switch:not(.bp3-align-right) .bp3-control-indicator{
      margin-left:-38px; }
  .bp3-control.bp3-switch.bp3-align-right{
    padding-right:38px; }
    .bp3-control.bp3-switch.bp3-align-right .bp3-control-indicator{
      margin-right:-38px; }
  .bp3-control.bp3-switch .bp3-control-indicator{
    border:none;
    border-radius:1.75em;
    -webkit-box-shadow:none !important;
            box-shadow:none !important;
    min-width:1.75em;
    -webkit-transition:background-color 100ms cubic-bezier(0.4, 1, 0.75, 0.9);
    transition:background-color 100ms cubic-bezier(0.4, 1, 0.75, 0.9);
    width:auto; }
    .bp3-control.bp3-switch .bp3-control-indicator::before{
      background:#ffffff;
      border-radius:50%;
      -webkit-box-shadow:0 0 0 1px rgba(16, 22, 26, 0.2), 0 1px 1px rgba(16, 22, 26, 0.2);
              box-shadow:0 0 0 1px rgba(16, 22, 26, 0.2), 0 1px 1px rgba(16, 22, 26, 0.2);
      height:calc(1em - 4px);
      left:0;
      margin:2px;
      position:absolute;
      -webkit-transition:left 100ms cubic-bezier(0.4, 1, 0.75, 0.9);
      transition:left 100ms cubic-bezier(0.4, 1, 0.75, 0.9);
      width:calc(1em - 4px); }
  .bp3-control.bp3-switch input:checked ~ .bp3-control-indicator::before{
    left:calc(100% - 1em); }
  .bp3-control.bp3-switch.bp3-large:not(.bp3-align-right){
    padding-left:45px; }
    .bp3-control.bp3-switch.bp3-large:not(.bp3-align-right) .bp3-control-indicator{
      margin-left:-45px; }
  .bp3-control.bp3-switch.bp3-large.bp3-align-right{
    padding-right:45px; }
    .bp3-control.bp3-switch.bp3-large.bp3-align-right .bp3-control-indicator{
      margin-right:-45px; }
  .bp3-dark .bp3-control.bp3-switch input ~ .bp3-control-indicator{
    background:rgba(16, 22, 26, 0.5); }
  .bp3-dark .bp3-control.bp3-switch:hover input ~ .bp3-control-indicator{
    background:rgba(16, 22, 26, 0.7); }
  .bp3-dark .bp3-control.bp3-switch input:not(:disabled):active ~ .bp3-control-indicator{
    background:rgba(16, 22, 26, 0.9); }
  .bp3-dark .bp3-control.bp3-switch input:disabled ~ .bp3-control-indicator{
    background:rgba(57, 75, 89, 0.5); }
    .bp3-dark .bp3-control.bp3-switch input:disabled ~ .bp3-control-indicator::before{
      background:rgba(16, 22, 26, 0.4); }
  .bp3-dark .bp3-control.bp3-switch input:checked ~ .bp3-control-indicator{
    background:#137cbd; }
  .bp3-dark .bp3-control.bp3-switch:hover input:checked ~ .bp3-control-indicator{
    background:#106ba3; }
  .bp3-dark .bp3-control.bp3-switch input:checked:not(:disabled):active ~ .bp3-control-indicator{
    background:#0e5a8a; }
  .bp3-dark .bp3-control.bp3-switch input:checked:disabled ~ .bp3-control-indicator{
    background:rgba(14, 90, 138, 0.5); }
    .bp3-dark .bp3-control.bp3-switch input:checked:disabled ~ .bp3-control-indicator::before{
      background:rgba(16, 22, 26, 0.4); }
  .bp3-dark .bp3-control.bp3-switch .bp3-control-indicator::before{
    background:#394b59;
    -webkit-box-shadow:0 0 0 1px rgba(16, 22, 26, 0.4);
            box-shadow:0 0 0 1px rgba(16, 22, 26, 0.4); }
  .bp3-dark .bp3-control.bp3-switch input:checked ~ .bp3-control-indicator::before{
    -webkit-box-shadow:inset 0 0 0 1px rgba(16, 22, 26, 0.4);
            box-shadow:inset 0 0 0 1px rgba(16, 22, 26, 0.4); }
  .bp3-control.bp3-switch .bp3-switch-inner-text{
    font-size:0.7em;
    text-align:center; }
  .bp3-control.bp3-switch .bp3-control-indicator-child:first-child{
    line-height:0;
    margin-left:0.5em;
    margin-right:1.2em;
    visibility:hidden; }
  .bp3-control.bp3-switch .bp3-control-indicator-child:last-child{
    line-height:1em;
    margin-left:1.2em;
    margin-right:0.5em;
    visibility:visible; }
  .bp3-control.bp3-switch input:checked ~ .bp3-control-indicator .bp3-control-indicator-child:first-child{
    line-height:1em;
    visibility:visible; }
  .bp3-control.bp3-switch input:checked ~ .bp3-control-indicator .bp3-control-indicator-child:last-child{
    line-height:0;
    visibility:hidden; }
  .bp3-dark .bp3-control{
    color:#f5f8fa; }
    .bp3-dark .bp3-control.bp3-disabled{
      color:rgba(167, 182, 194, 0.6); }
    .bp3-dark .bp3-control .bp3-control-indicator{
      background-color:#394b59;
      background-image:-webkit-gradient(linear, left top, left bottom, from(rgba(255, 255, 255, 0.05)), to(rgba(255, 255, 255, 0)));
      background-image:linear-gradient(to bottom, rgba(255, 255, 255, 0.05), rgba(255, 255, 255, 0));
      -webkit-box-shadow:0 0 0 1px rgba(16, 22, 26, 0.4);
              box-shadow:0 0 0 1px rgba(16, 22, 26, 0.4); }
    .bp3-dark .bp3-control:hover .bp3-control-indicator{
      background-color:#30404d; }
    .bp3-dark .bp3-control input:not(:disabled):active ~ .bp3-control-indicator{
      background:#202b33;
      -webkit-box-shadow:0 0 0 1px rgba(16, 22, 26, 0.6), inset 0 1px 2px rgba(16, 22, 26, 0.2);
              box-shadow:0 0 0 1px rgba(16, 22, 26, 0.6), inset 0 1px 2px rgba(16, 22, 26, 0.2); }
    .bp3-dark .bp3-control input:disabled ~ .bp3-control-indicator{
      background:rgba(57, 75, 89, 0.5);
      -webkit-box-shadow:none;
              box-shadow:none;
      cursor:not-allowed; }
    .bp3-dark .bp3-control.bp3-checkbox input:disabled:checked ~ .bp3-control-indicator, .bp3-dark .bp3-control.bp3-checkbox input:disabled:indeterminate ~ .bp3-control-indicator{
      color:rgba(167, 182, 194, 0.6); }
.bp3-file-input{
  cursor:pointer;
  display:inline-block;
  height:30px;
  position:relative; }
  .bp3-file-input input{
    margin:0;
    min-width:200px;
    opacity:0; }
    .bp3-file-input input:disabled + .bp3-file-upload-input,
    .bp3-file-input input.bp3-disabled + .bp3-file-upload-input{
      background:rgba(206, 217, 224, 0.5);
      -webkit-box-shadow:none;
              box-shadow:none;
      color:rgba(92, 112, 128, 0.6);
      cursor:not-allowed;
      resize:none; }
      .bp3-file-input input:disabled + .bp3-file-upload-input::after,
      .bp3-file-input input.bp3-disabled + .bp3-file-upload-input::after{
        background-color:rgba(206, 217, 224, 0.5);
        background-image:none;
        -webkit-box-shadow:none;
                box-shadow:none;
        color:rgba(92, 112, 128, 0.6);
        cursor:not-allowed;
        outline:none; }
        .bp3-file-input input:disabled + .bp3-file-upload-input::after.bp3-active, .bp3-file-input input:disabled + .bp3-file-upload-input::after.bp3-active:hover,
        .bp3-file-input input.bp3-disabled + .bp3-file-upload-input::after.bp3-active,
        .bp3-file-input input.bp3-disabled + .bp3-file-upload-input::after.bp3-active:hover{
          background:rgba(206, 217, 224, 0.7); }
      .bp3-dark .bp3-file-input input:disabled + .bp3-file-upload-input, .bp3-dark
      .bp3-file-input input.bp3-disabled + .bp3-file-upload-input{
        background:rgba(57, 75, 89, 0.5);
        -webkit-box-shadow:none;
                box-shadow:none;
        color:rgba(167, 182, 194, 0.6); }
        .bp3-dark .bp3-file-input input:disabled + .bp3-file-upload-input::after, .bp3-dark
        .bp3-file-input input.bp3-disabled + .bp3-file-upload-input::after{
          background-color:rgba(57, 75, 89, 0.5);
          background-image:none;
          -webkit-box-shadow:none;
                  box-shadow:none;
          color:rgba(167, 182, 194, 0.6); }
          .bp3-dark .bp3-file-input input:disabled + .bp3-file-upload-input::after.bp3-active, .bp3-dark
          .bp3-file-input input.bp3-disabled + .bp3-file-upload-input::after.bp3-active{
            background:rgba(57, 75, 89, 0.7); }
  .bp3-file-input.bp3-file-input-has-selection .bp3-file-upload-input{
    color:#182026; }
  .bp3-dark .bp3-file-input.bp3-file-input-has-selection .bp3-file-upload-input{
    color:#f5f8fa; }
  .bp3-file-input.bp3-fill{
    width:100%; }
  .bp3-file-input.bp3-large,
  .bp3-large .bp3-file-input{
    height:40px; }
  .bp3-file-input .bp3-file-upload-input-custom-text::after{
    content:attr(bp3-button-text); }

.bp3-file-upload-input{
  -webkit-appearance:none;
     -moz-appearance:none;
          appearance:none;
  background:#ffffff;
  border:none;
  border-radius:3px;
  -webkit-box-shadow:0 0 0 0 rgba(19, 124, 189, 0), 0 0 0 0 rgba(19, 124, 189, 0), inset 0 0 0 1px rgba(16, 22, 26, 0.15), inset 0 1px 1px rgba(16, 22, 26, 0.2);
          box-shadow:0 0 0 0 rgba(19, 124, 189, 0), 0 0 0 0 rgba(19, 124, 189, 0), inset 0 0 0 1px rgba(16, 22, 26, 0.15), inset 0 1px 1px rgba(16, 22, 26, 0.2);
  color:#182026;
  font-size:14px;
  font-weight:400;
  height:30px;
  line-height:30px;
  outline:none;
  padding:0 10px;
  -webkit-transition:-webkit-box-shadow 100ms cubic-bezier(0.4, 1, 0.75, 0.9);
  transition:-webkit-box-shadow 100ms cubic-bezier(0.4, 1, 0.75, 0.9);
  transition:box-shadow 100ms cubic-bezier(0.4, 1, 0.75, 0.9);
  transition:box-shadow 100ms cubic-bezier(0.4, 1, 0.75, 0.9), -webkit-box-shadow 100ms cubic-bezier(0.4, 1, 0.75, 0.9);
  vertical-align:middle;
  overflow:hidden;
  text-overflow:ellipsis;
  white-space:nowrap;
  word-wrap:normal;
  color:rgba(92, 112, 128, 0.6);
  left:0;
  padding-right:80px;
  position:absolute;
  right:0;
  top:0;
  -webkit-user-select:none;
     -moz-user-select:none;
      -ms-user-select:none;
          user-select:none; }
  .bp3-file-upload-input::-webkit-input-placeholder{
    color:rgba(92, 112, 128, 0.6);
    opacity:1; }
  .bp3-file-upload-input::-moz-placeholder{
    color:rgba(92, 112, 128, 0.6);
    opacity:1; }
  .bp3-file-upload-input:-ms-input-placeholder{
    color:rgba(92, 112, 128, 0.6);
    opacity:1; }
  .bp3-file-upload-input::-ms-input-placeholder{
    color:rgba(92, 112, 128, 0.6);
    opacity:1; }
  .bp3-file-upload-input::placeholder{
    color:rgba(92, 112, 128, 0.6);
    opacity:1; }
  .bp3-file-upload-input:focus, .bp3-file-upload-input.bp3-active{
    -webkit-box-shadow:0 0 0 1px #137cbd, 0 0 0 3px rgba(19, 124, 189, 0.3), inset 0 1px 1px rgba(16, 22, 26, 0.2);
            box-shadow:0 0 0 1px #137cbd, 0 0 0 3px rgba(19, 124, 189, 0.3), inset 0 1px 1px rgba(16, 22, 26, 0.2); }
  .bp3-file-upload-input[type="search"], .bp3-file-upload-input.bp3-round{
    border-radius:30px;
    -webkit-box-sizing:border-box;
            box-sizing:border-box;
    padding-left:10px; }
  .bp3-file-upload-input[readonly]{
    -webkit-box-shadow:inset 0 0 0 1px rgba(16, 22, 26, 0.15);
            box-shadow:inset 0 0 0 1px rgba(16, 22, 26, 0.15); }
  .bp3-file-upload-input:disabled, .bp3-file-upload-input.bp3-disabled{
    background:rgba(206, 217, 224, 0.5);
    -webkit-box-shadow:none;
            box-shadow:none;
    color:rgba(92, 112, 128, 0.6);
    cursor:not-allowed;
    resize:none; }
  .bp3-file-upload-input::after{
    background-color:#f5f8fa;
    background-image:-webkit-gradient(linear, left top, left bottom, from(rgba(255, 255, 255, 0.8)), to(rgba(255, 255, 255, 0)));
    background-image:linear-gradient(to bottom, rgba(255, 255, 255, 0.8), rgba(255, 255, 255, 0));
    -webkit-box-shadow:inset 0 0 0 1px rgba(16, 22, 26, 0.2), inset 0 -1px 0 rgba(16, 22, 26, 0.1);
            box-shadow:inset 0 0 0 1px rgba(16, 22, 26, 0.2), inset 0 -1px 0 rgba(16, 22, 26, 0.1);
    color:#182026;
    min-height:24px;
    min-width:24px;
    overflow:hidden;
    text-overflow:ellipsis;
    white-space:nowrap;
    word-wrap:normal;
    border-radius:3px;
    content:"Browse";
    line-height:24px;
    margin:3px;
    position:absolute;
    right:0;
    text-align:center;
    top:0;
    width:70px; }
    .bp3-file-upload-input::after:hover{
      background-clip:padding-box;
      background-color:#ebf1f5;
      -webkit-box-shadow:inset 0 0 0 1px rgba(16, 22, 26, 0.2), inset 0 -1px 0 rgba(16, 22, 26, 0.1);
              box-shadow:inset 0 0 0 1px rgba(16, 22, 26, 0.2), inset 0 -1px 0 rgba(16, 22, 26, 0.1); }
    .bp3-file-upload-input::after:active, .bp3-file-upload-input::after.bp3-active{
      background-color:#d8e1e8;
      background-image:none;
      -webkit-box-shadow:inset 0 0 0 1px rgba(16, 22, 26, 0.2), inset 0 1px 2px rgba(16, 22, 26, 0.2);
              box-shadow:inset 0 0 0 1px rgba(16, 22, 26, 0.2), inset 0 1px 2px rgba(16, 22, 26, 0.2); }
    .bp3-file-upload-input::after:disabled, .bp3-file-upload-input::after.bp3-disabled{
      background-color:rgba(206, 217, 224, 0.5);
      background-image:none;
      -webkit-box-shadow:none;
              box-shadow:none;
      color:rgba(92, 112, 128, 0.6);
      cursor:not-allowed;
      outline:none; }
      .bp3-file-upload-input::after:disabled.bp3-active, .bp3-file-upload-input::after:disabled.bp3-active:hover, .bp3-file-upload-input::after.bp3-disabled.bp3-active, .bp3-file-upload-input::after.bp3-disabled.bp3-active:hover{
        background:rgba(206, 217, 224, 0.7); }
  .bp3-file-upload-input:hover::after{
    background-clip:padding-box;
    background-color:#ebf1f5;
    -webkit-box-shadow:inset 0 0 0 1px rgba(16, 22, 26, 0.2), inset 0 -1px 0 rgba(16, 22, 26, 0.1);
            box-shadow:inset 0 0 0 1px rgba(16, 22, 26, 0.2), inset 0 -1px 0 rgba(16, 22, 26, 0.1); }
  .bp3-file-upload-input:active::after{
    background-color:#d8e1e8;
    background-image:none;
    -webkit-box-shadow:inset 0 0 0 1px rgba(16, 22, 26, 0.2), inset 0 1px 2px rgba(16, 22, 26, 0.2);
            box-shadow:inset 0 0 0 1px rgba(16, 22, 26, 0.2), inset 0 1px 2px rgba(16, 22, 26, 0.2); }
  .bp3-large .bp3-file-upload-input{
    font-size:16px;
    height:40px;
    line-height:40px;
    padding-right:95px; }
    .bp3-large .bp3-file-upload-input[type="search"], .bp3-large .bp3-file-upload-input.bp3-round{
      padding:0 15px; }
    .bp3-large .bp3-file-upload-input::after{
      min-height:30px;
      min-width:30px;
      line-height:30px;
      margin:5px;
      width:85px; }
  .bp3-dark .bp3-file-upload-input{
    background:rgba(16, 22, 26, 0.3);
    -webkit-box-shadow:0 0 0 0 rgba(19, 124, 189, 0), 0 0 0 0 rgba(19, 124, 189, 0), 0 0 0 0 rgba(19, 124, 189, 0), inset 0 0 0 1px rgba(16, 22, 26, 0.3), inset 0 1px 1px rgba(16, 22, 26, 0.4);
            box-shadow:0 0 0 0 rgba(19, 124, 189, 0), 0 0 0 0 rgba(19, 124, 189, 0), 0 0 0 0 rgba(19, 124, 189, 0), inset 0 0 0 1px rgba(16, 22, 26, 0.3), inset 0 1px 1px rgba(16, 22, 26, 0.4);
    color:#f5f8fa;
    color:rgba(167, 182, 194, 0.6); }
    .bp3-dark .bp3-file-upload-input::-webkit-input-placeholder{
      color:rgba(167, 182, 194, 0.6); }
    .bp3-dark .bp3-file-upload-input::-moz-placeholder{
      color:rgba(167, 182, 194, 0.6); }
    .bp3-dark .bp3-file-upload-input:-ms-input-placeholder{
      color:rgba(167, 182, 194, 0.6); }
    .bp3-dark .bp3-file-upload-input::-ms-input-placeholder{
      color:rgba(167, 182, 194, 0.6); }
    .bp3-dark .bp3-file-upload-input::placeholder{
      color:rgba(167, 182, 194, 0.6); }
    .bp3-dark .bp3-file-upload-input:focus{
      -webkit-box-shadow:0 0 0 1px #137cbd, 0 0 0 1px #137cbd, 0 0 0 3px rgba(19, 124, 189, 0.3), inset 0 0 0 1px rgba(16, 22, 26, 0.3), inset 0 1px 1px rgba(16, 22, 26, 0.4);
              box-shadow:0 0 0 1px #137cbd, 0 0 0 1px #137cbd, 0 0 0 3px rgba(19, 124, 189, 0.3), inset 0 0 0 1px rgba(16, 22, 26, 0.3), inset 0 1px 1px rgba(16, 22, 26, 0.4); }
    .bp3-dark .bp3-file-upload-input[readonly]{
      -webkit-box-shadow:inset 0 0 0 1px rgba(16, 22, 26, 0.4);
              box-shadow:inset 0 0 0 1px rgba(16, 22, 26, 0.4); }
    .bp3-dark .bp3-file-upload-input:disabled, .bp3-dark .bp3-file-upload-input.bp3-disabled{
      background:rgba(57, 75, 89, 0.5);
      -webkit-box-shadow:none;
              box-shadow:none;
      color:rgba(167, 182, 194, 0.6); }
    .bp3-dark .bp3-file-upload-input::after{
      background-color:#394b59;
      background-image:-webkit-gradient(linear, left top, left bottom, from(rgba(255, 255, 255, 0.05)), to(rgba(255, 255, 255, 0)));
      background-image:linear-gradient(to bottom, rgba(255, 255, 255, 0.05), rgba(255, 255, 255, 0));
      -webkit-box-shadow:0 0 0 1px rgba(16, 22, 26, 0.4);
              box-shadow:0 0 0 1px rgba(16, 22, 26, 0.4);
      color:#f5f8fa; }
      .bp3-dark .bp3-file-upload-input::after:hover, .bp3-dark .bp3-file-upload-input::after:active, .bp3-dark .bp3-file-upload-input::after.bp3-active{
        color:#f5f8fa; }
      .bp3-dark .bp3-file-upload-input::after:hover{
        background-color:#30404d;
        -webkit-box-shadow:0 0 0 1px rgba(16, 22, 26, 0.4);
                box-shadow:0 0 0 1px rgba(16, 22, 26, 0.4); }
      .bp3-dark .bp3-file-upload-input::after:active, .bp3-dark .bp3-file-upload-input::after.bp3-active{
        background-color:#202b33;
        background-image:none;
        -webkit-box-shadow:0 0 0 1px rgba(16, 22, 26, 0.6), inset 0 1px 2px rgba(16, 22, 26, 0.2);
                box-shadow:0 0 0 1px rgba(16, 22, 26, 0.6), inset 0 1px 2px rgba(16, 22, 26, 0.2); }
      .bp3-dark .bp3-file-upload-input::after:disabled, .bp3-dark .bp3-file-upload-input::after.bp3-disabled{
        background-color:rgba(57, 75, 89, 0.5);
        background-image:none;
        -webkit-box-shadow:none;
                box-shadow:none;
        color:rgba(167, 182, 194, 0.6); }
        .bp3-dark .bp3-file-upload-input::after:disabled.bp3-active, .bp3-dark .bp3-file-upload-input::after.bp3-disabled.bp3-active{
          background:rgba(57, 75, 89, 0.7); }
      .bp3-dark .bp3-file-upload-input::after .bp3-button-spinner .bp3-spinner-head{
        background:rgba(16, 22, 26, 0.5);
        stroke:#8a9ba8; }
    .bp3-dark .bp3-file-upload-input:hover::after{
      background-color:#30404d;
      -webkit-box-shadow:0 0 0 1px rgba(16, 22, 26, 0.4);
              box-shadow:0 0 0 1px rgba(16, 22, 26, 0.4); }
    .bp3-dark .bp3-file-upload-input:active::after{
      background-color:#202b33;
      background-image:none;
      -webkit-box-shadow:0 0 0 1px rgba(16, 22, 26, 0.6), inset 0 1px 2px rgba(16, 22, 26, 0.2);
              box-shadow:0 0 0 1px rgba(16, 22, 26, 0.6), inset 0 1px 2px rgba(16, 22, 26, 0.2); }
.bp3-file-upload-input::after{
  -webkit-box-shadow:inset 0 0 0 1px rgba(16, 22, 26, 0.2), inset 0 -1px 0 rgba(16, 22, 26, 0.1);
          box-shadow:inset 0 0 0 1px rgba(16, 22, 26, 0.2), inset 0 -1px 0 rgba(16, 22, 26, 0.1); }
.bp3-form-group{
  display:-webkit-box;
  display:-ms-flexbox;
  display:flex;
  -webkit-box-orient:vertical;
  -webkit-box-direction:normal;
      -ms-flex-direction:column;
          flex-direction:column;
  margin:0 0 15px; }
  .bp3-form-group label.bp3-label{
    margin-bottom:5px; }
  .bp3-form-group .bp3-control{
    margin-top:7px; }
  .bp3-form-group .bp3-form-helper-text{
    color:#5c7080;
    font-size:12px;
    margin-top:5px; }
  .bp3-form-group.bp3-intent-primary .bp3-form-helper-text{
    color:#106ba3; }
  .bp3-form-group.bp3-intent-success .bp3-form-helper-text{
    color:#0d8050; }
  .bp3-form-group.bp3-intent-warning .bp3-form-helper-text{
    color:#bf7326; }
  .bp3-form-group.bp3-intent-danger .bp3-form-helper-text{
    color:#c23030; }
  .bp3-form-group.bp3-inline{
    -webkit-box-align:start;
        -ms-flex-align:start;
            align-items:flex-start;
    -webkit-box-orient:horizontal;
    -webkit-box-direction:normal;
        -ms-flex-direction:row;
            flex-direction:row; }
    .bp3-form-group.bp3-inline.bp3-large label.bp3-label{
      line-height:40px;
      margin:0 10px 0 0; }
    .bp3-form-group.bp3-inline label.bp3-label{
      line-height:30px;
      margin:0 10px 0 0; }
  .bp3-form-group.bp3-disabled .bp3-label,
  .bp3-form-group.bp3-disabled .bp3-text-muted,
  .bp3-form-group.bp3-disabled .bp3-form-helper-text{
    color:rgba(92, 112, 128, 0.6) !important; }
  .bp3-dark .bp3-form-group.bp3-intent-primary .bp3-form-helper-text{
    color:#48aff0; }
  .bp3-dark .bp3-form-group.bp3-intent-success .bp3-form-helper-text{
    color:#3dcc91; }
  .bp3-dark .bp3-form-group.bp3-intent-warning .bp3-form-helper-text{
    color:#ffb366; }
  .bp3-dark .bp3-form-group.bp3-intent-danger .bp3-form-helper-text{
    color:#ff7373; }
  .bp3-dark .bp3-form-group .bp3-form-helper-text{
    color:#a7b6c2; }
  .bp3-dark .bp3-form-group.bp3-disabled .bp3-label,
  .bp3-dark .bp3-form-group.bp3-disabled .bp3-text-muted,
  .bp3-dark .bp3-form-group.bp3-disabled .bp3-form-helper-text{
    color:rgba(167, 182, 194, 0.6) !important; }
.bp3-input-group{
  display:block;
  position:relative; }
  .bp3-input-group .bp3-input{
    position:relative;
    width:100%; }
    .bp3-input-group .bp3-input:not(:first-child){
      padding-left:30px; }
    .bp3-input-group .bp3-input:not(:last-child){
      padding-right:30px; }
  .bp3-input-group .bp3-input-action,
  .bp3-input-group > .bp3-input-left-container,
  .bp3-input-group > .bp3-button,
  .bp3-input-group > .bp3-icon{
    position:absolute;
    top:0; }
    .bp3-input-group .bp3-input-action:first-child,
    .bp3-input-group > .bp3-input-left-container:first-child,
    .bp3-input-group > .bp3-button:first-child,
    .bp3-input-group > .bp3-icon:first-child{
      left:0; }
    .bp3-input-group .bp3-input-action:last-child,
    .bp3-input-group > .bp3-input-left-container:last-child,
    .bp3-input-group > .bp3-button:last-child,
    .bp3-input-group > .bp3-icon:last-child{
      right:0; }
  .bp3-input-group .bp3-button{
    min-height:24px;
    min-width:24px;
    margin:3px;
    padding:0 7px; }
    .bp3-input-group .bp3-button:empty{
      padding:0; }
  .bp3-input-group > .bp3-input-left-container,
  .bp3-input-group > .bp3-icon{
    z-index:1; }
  .bp3-input-group > .bp3-input-left-container > .bp3-icon,
  .bp3-input-group > .bp3-icon{
    color:#5c7080; }
    .bp3-input-group > .bp3-input-left-container > .bp3-icon:empty,
    .bp3-input-group > .bp3-icon:empty{
      font-family:"Icons16", sans-serif;
      font-size:16px;
      font-style:normal;
      font-weight:400;
      line-height:1;
      -moz-osx-font-smoothing:grayscale;
      -webkit-font-smoothing:antialiased; }
  .bp3-input-group > .bp3-input-left-container > .bp3-icon,
  .bp3-input-group > .bp3-icon,
  .bp3-input-group .bp3-input-action > .bp3-spinner{
    margin:7px; }
  .bp3-input-group .bp3-tag{
    margin:5px; }
  .bp3-input-group .bp3-input:not(:focus) + .bp3-button.bp3-minimal:not(:hover):not(:focus),
  .bp3-input-group .bp3-input:not(:focus) + .bp3-input-action .bp3-button.bp3-minimal:not(:hover):not(:focus){
    color:#5c7080; }
    .bp3-dark .bp3-input-group .bp3-input:not(:focus) + .bp3-button.bp3-minimal:not(:hover):not(:focus), .bp3-dark
    .bp3-input-group .bp3-input:not(:focus) + .bp3-input-action .bp3-button.bp3-minimal:not(:hover):not(:focus){
      color:#a7b6c2; }
    .bp3-input-group .bp3-input:not(:focus) + .bp3-button.bp3-minimal:not(:hover):not(:focus) .bp3-icon, .bp3-input-group .bp3-input:not(:focus) + .bp3-button.bp3-minimal:not(:hover):not(:focus) .bp3-icon-standard, .bp3-input-group .bp3-input:not(:focus) + .bp3-button.bp3-minimal:not(:hover):not(:focus) .bp3-icon-large,
    .bp3-input-group .bp3-input:not(:focus) + .bp3-input-action .bp3-button.bp3-minimal:not(:hover):not(:focus) .bp3-icon,
    .bp3-input-group .bp3-input:not(:focus) + .bp3-input-action .bp3-button.bp3-minimal:not(:hover):not(:focus) .bp3-icon-standard,
    .bp3-input-group .bp3-input:not(:focus) + .bp3-input-action .bp3-button.bp3-minimal:not(:hover):not(:focus) .bp3-icon-large{
      color:#5c7080; }
  .bp3-input-group .bp3-input:not(:focus) + .bp3-button.bp3-minimal:disabled,
  .bp3-input-group .bp3-input:not(:focus) + .bp3-input-action .bp3-button.bp3-minimal:disabled{
    color:rgba(92, 112, 128, 0.6) !important; }
    .bp3-input-group .bp3-input:not(:focus) + .bp3-button.bp3-minimal:disabled .bp3-icon, .bp3-input-group .bp3-input:not(:focus) + .bp3-button.bp3-minimal:disabled .bp3-icon-standard, .bp3-input-group .bp3-input:not(:focus) + .bp3-button.bp3-minimal:disabled .bp3-icon-large,
    .bp3-input-group .bp3-input:not(:focus) + .bp3-input-action .bp3-button.bp3-minimal:disabled .bp3-icon,
    .bp3-input-group .bp3-input:not(:focus) + .bp3-input-action .bp3-button.bp3-minimal:disabled .bp3-icon-standard,
    .bp3-input-group .bp3-input:not(:focus) + .bp3-input-action .bp3-button.bp3-minimal:disabled .bp3-icon-large{
      color:rgba(92, 112, 128, 0.6) !important; }
  .bp3-input-group.bp3-disabled{
    cursor:not-allowed; }
    .bp3-input-group.bp3-disabled .bp3-icon{
      color:rgba(92, 112, 128, 0.6); }
  .bp3-input-group.bp3-large .bp3-button{
    min-height:30px;
    min-width:30px;
    margin:5px; }
  .bp3-input-group.bp3-large > .bp3-input-left-container > .bp3-icon,
  .bp3-input-group.bp3-large > .bp3-icon,
  .bp3-input-group.bp3-large .bp3-input-action > .bp3-spinner{
    margin:12px; }
  .bp3-input-group.bp3-large .bp3-input{
    font-size:16px;
    height:40px;
    line-height:40px; }
    .bp3-input-group.bp3-large .bp3-input[type="search"], .bp3-input-group.bp3-large .bp3-input.bp3-round{
      padding:0 15px; }
    .bp3-input-group.bp3-large .bp3-input:not(:first-child){
      padding-left:40px; }
    .bp3-input-group.bp3-large .bp3-input:not(:last-child){
      padding-right:40px; }
  .bp3-input-group.bp3-small .bp3-button{
    min-height:20px;
    min-width:20px;
    margin:2px; }
  .bp3-input-group.bp3-small .bp3-tag{
    min-height:20px;
    min-width:20px;
    margin:2px; }
  .bp3-input-group.bp3-small > .bp3-input-left-container > .bp3-icon,
  .bp3-input-group.bp3-small > .bp3-icon,
  .bp3-input-group.bp3-small .bp3-input-action > .bp3-spinner{
    margin:4px; }
  .bp3-input-group.bp3-small .bp3-input{
    font-size:12px;
    height:24px;
    line-height:24px;
    padding-left:8px;
    padding-right:8px; }
    .bp3-input-group.bp3-small .bp3-input[type="search"], .bp3-input-group.bp3-small .bp3-input.bp3-round{
      padding:0 12px; }
    .bp3-input-group.bp3-small .bp3-input:not(:first-child){
      padding-left:24px; }
    .bp3-input-group.bp3-small .bp3-input:not(:last-child){
      padding-right:24px; }
  .bp3-input-group.bp3-fill{
    -webkit-box-flex:1;
        -ms-flex:1 1 auto;
            flex:1 1 auto;
    width:100%; }
  .bp3-input-group.bp3-round .bp3-button,
  .bp3-input-group.bp3-round .bp3-input,
  .bp3-input-group.bp3-round .bp3-tag{
    border-radius:30px; }
  .bp3-dark .bp3-input-group .bp3-icon{
    color:#a7b6c2; }
  .bp3-dark .bp3-input-group.bp3-disabled .bp3-icon{
    color:rgba(167, 182, 194, 0.6); }
  .bp3-input-group.bp3-intent-primary .bp3-input{
    -webkit-box-shadow:0 0 0 0 rgba(19, 124, 189, 0), 0 0 0 0 rgba(19, 124, 189, 0), inset 0 0 0 1px #137cbd, inset 0 0 0 1px rgba(16, 22, 26, 0.15), inset 0 1px 1px rgba(16, 22, 26, 0.2);
            box-shadow:0 0 0 0 rgba(19, 124, 189, 0), 0 0 0 0 rgba(19, 124, 189, 0), inset 0 0 0 1px #137cbd, inset 0 0 0 1px rgba(16, 22, 26, 0.15), inset 0 1px 1px rgba(16, 22, 26, 0.2); }
    .bp3-input-group.bp3-intent-primary .bp3-input:focus{
      -webkit-box-shadow:0 0 0 1px #137cbd, 0 0 0 3px rgba(19, 124, 189, 0.3), inset 0 1px 1px rgba(16, 22, 26, 0.2);
              box-shadow:0 0 0 1px #137cbd, 0 0 0 3px rgba(19, 124, 189, 0.3), inset 0 1px 1px rgba(16, 22, 26, 0.2); }
    .bp3-input-group.bp3-intent-primary .bp3-input[readonly]{
      -webkit-box-shadow:inset 0 0 0 1px #137cbd;
              box-shadow:inset 0 0 0 1px #137cbd; }
    .bp3-input-group.bp3-intent-primary .bp3-input:disabled, .bp3-input-group.bp3-intent-primary .bp3-input.bp3-disabled{
      -webkit-box-shadow:none;
              box-shadow:none; }
  .bp3-input-group.bp3-intent-primary > .bp3-icon{
    color:#106ba3; }
    .bp3-dark .bp3-input-group.bp3-intent-primary > .bp3-icon{
      color:#48aff0; }
  .bp3-input-group.bp3-intent-success .bp3-input{
    -webkit-box-shadow:0 0 0 0 rgba(15, 153, 96, 0), 0 0 0 0 rgba(15, 153, 96, 0), inset 0 0 0 1px #0f9960, inset 0 0 0 1px rgba(16, 22, 26, 0.15), inset 0 1px 1px rgba(16, 22, 26, 0.2);
            box-shadow:0 0 0 0 rgba(15, 153, 96, 0), 0 0 0 0 rgba(15, 153, 96, 0), inset 0 0 0 1px #0f9960, inset 0 0 0 1px rgba(16, 22, 26, 0.15), inset 0 1px 1px rgba(16, 22, 26, 0.2); }
    .bp3-input-group.bp3-intent-success .bp3-input:focus{
      -webkit-box-shadow:0 0 0 1px #0f9960, 0 0 0 3px rgba(15, 153, 96, 0.3), inset 0 1px 1px rgba(16, 22, 26, 0.2);
              box-shadow:0 0 0 1px #0f9960, 0 0 0 3px rgba(15, 153, 96, 0.3), inset 0 1px 1px rgba(16, 22, 26, 0.2); }
    .bp3-input-group.bp3-intent-success .bp3-input[readonly]{
      -webkit-box-shadow:inset 0 0 0 1px #0f9960;
              box-shadow:inset 0 0 0 1px #0f9960; }
    .bp3-input-group.bp3-intent-success .bp3-input:disabled, .bp3-input-group.bp3-intent-success .bp3-input.bp3-disabled{
      -webkit-box-shadow:none;
              box-shadow:none; }
  .bp3-input-group.bp3-intent-success > .bp3-icon{
    color:#0d8050; }
    .bp3-dark .bp3-input-group.bp3-intent-success > .bp3-icon{
      color:#3dcc91; }
  .bp3-input-group.bp3-intent-warning .bp3-input{
    -webkit-box-shadow:0 0 0 0 rgba(217, 130, 43, 0), 0 0 0 0 rgba(217, 130, 43, 0), inset 0 0 0 1px #d9822b, inset 0 0 0 1px rgba(16, 22, 26, 0.15), inset 0 1px 1px rgba(16, 22, 26, 0.2);
            box-shadow:0 0 0 0 rgba(217, 130, 43, 0), 0 0 0 0 rgba(217, 130, 43, 0), inset 0 0 0 1px #d9822b, inset 0 0 0 1px rgba(16, 22, 26, 0.15), inset 0 1px 1px rgba(16, 22, 26, 0.2); }
    .bp3-input-group.bp3-intent-warning .bp3-input:focus{
      -webkit-box-shadow:0 0 0 1px #d9822b, 0 0 0 3px rgba(217, 130, 43, 0.3), inset 0 1px 1px rgba(16, 22, 26, 0.2);
              box-shadow:0 0 0 1px #d9822b, 0 0 0 3px rgba(217, 130, 43, 0.3), inset 0 1px 1px rgba(16, 22, 26, 0.2); }
    .bp3-input-group.bp3-intent-warning .bp3-input[readonly]{
      -webkit-box-shadow:inset 0 0 0 1px #d9822b;
              box-shadow:inset 0 0 0 1px #d9822b; }
    .bp3-input-group.bp3-intent-warning .bp3-input:disabled, .bp3-input-group.bp3-intent-warning .bp3-input.bp3-disabled{
      -webkit-box-shadow:none;
              box-shadow:none; }
  .bp3-input-group.bp3-intent-warning > .bp3-icon{
    color:#bf7326; }
    .bp3-dark .bp3-input-group.bp3-intent-warning > .bp3-icon{
      color:#ffb366; }
  .bp3-input-group.bp3-intent-danger .bp3-input{
    -webkit-box-shadow:0 0 0 0 rgba(219, 55, 55, 0), 0 0 0 0 rgba(219, 55, 55, 0), inset 0 0 0 1px #db3737, inset 0 0 0 1px rgba(16, 22, 26, 0.15), inset 0 1px 1px rgba(16, 22, 26, 0.2);
            box-shadow:0 0 0 0 rgba(219, 55, 55, 0), 0 0 0 0 rgba(219, 55, 55, 0), inset 0 0 0 1px #db3737, inset 0 0 0 1px rgba(16, 22, 26, 0.15), inset 0 1px 1px rgba(16, 22, 26, 0.2); }
    .bp3-input-group.bp3-intent-danger .bp3-input:focus{
      -webkit-box-shadow:0 0 0 1px #db3737, 0 0 0 3px rgba(219, 55, 55, 0.3), inset 0 1px 1px rgba(16, 22, 26, 0.2);
              box-shadow:0 0 0 1px #db3737, 0 0 0 3px rgba(219, 55, 55, 0.3), inset 0 1px 1px rgba(16, 22, 26, 0.2); }
    .bp3-input-group.bp3-intent-danger .bp3-input[readonly]{
      -webkit-box-shadow:inset 0 0 0 1px #db3737;
              box-shadow:inset 0 0 0 1px #db3737; }
    .bp3-input-group.bp3-intent-danger .bp3-input:disabled, .bp3-input-group.bp3-intent-danger .bp3-input.bp3-disabled{
      -webkit-box-shadow:none;
              box-shadow:none; }
  .bp3-input-group.bp3-intent-danger > .bp3-icon{
    color:#c23030; }
    .bp3-dark .bp3-input-group.bp3-intent-danger > .bp3-icon{
      color:#ff7373; }
.bp3-input{
  -webkit-appearance:none;
     -moz-appearance:none;
          appearance:none;
  background:#ffffff;
  border:none;
  border-radius:3px;
  -webkit-box-shadow:0 0 0 0 rgba(19, 124, 189, 0), 0 0 0 0 rgba(19, 124, 189, 0), inset 0 0 0 1px rgba(16, 22, 26, 0.15), inset 0 1px 1px rgba(16, 22, 26, 0.2);
          box-shadow:0 0 0 0 rgba(19, 124, 189, 0), 0 0 0 0 rgba(19, 124, 189, 0), inset 0 0 0 1px rgba(16, 22, 26, 0.15), inset 0 1px 1px rgba(16, 22, 26, 0.2);
  color:#182026;
  font-size:14px;
  font-weight:400;
  height:30px;
  line-height:30px;
  outline:none;
  padding:0 10px;
  -webkit-transition:-webkit-box-shadow 100ms cubic-bezier(0.4, 1, 0.75, 0.9);
  transition:-webkit-box-shadow 100ms cubic-bezier(0.4, 1, 0.75, 0.9);
  transition:box-shadow 100ms cubic-bezier(0.4, 1, 0.75, 0.9);
  transition:box-shadow 100ms cubic-bezier(0.4, 1, 0.75, 0.9), -webkit-box-shadow 100ms cubic-bezier(0.4, 1, 0.75, 0.9);
  vertical-align:middle; }
  .bp3-input::-webkit-input-placeholder{
    color:rgba(92, 112, 128, 0.6);
    opacity:1; }
  .bp3-input::-moz-placeholder{
    color:rgba(92, 112, 128, 0.6);
    opacity:1; }
  .bp3-input:-ms-input-placeholder{
    color:rgba(92, 112, 128, 0.6);
    opacity:1; }
  .bp3-input::-ms-input-placeholder{
    color:rgba(92, 112, 128, 0.6);
    opacity:1; }
  .bp3-input::placeholder{
    color:rgba(92, 112, 128, 0.6);
    opacity:1; }
  .bp3-input:focus, .bp3-input.bp3-active{
    -webkit-box-shadow:0 0 0 1px #137cbd, 0 0 0 3px rgba(19, 124, 189, 0.3), inset 0 1px 1px rgba(16, 22, 26, 0.2);
            box-shadow:0 0 0 1px #137cbd, 0 0 0 3px rgba(19, 124, 189, 0.3), inset 0 1px 1px rgba(16, 22, 26, 0.2); }
  .bp3-input[type="search"], .bp3-input.bp3-round{
    border-radius:30px;
    -webkit-box-sizing:border-box;
            box-sizing:border-box;
    padding-left:10px; }
  .bp3-input[readonly]{
    -webkit-box-shadow:inset 0 0 0 1px rgba(16, 22, 26, 0.15);
            box-shadow:inset 0 0 0 1px rgba(16, 22, 26, 0.15); }
  .bp3-input:disabled, .bp3-input.bp3-disabled{
    background:rgba(206, 217, 224, 0.5);
    -webkit-box-shadow:none;
            box-shadow:none;
    color:rgba(92, 112, 128, 0.6);
    cursor:not-allowed;
    resize:none; }
  .bp3-input.bp3-large{
    font-size:16px;
    height:40px;
    line-height:40px; }
    .bp3-input.bp3-large[type="search"], .bp3-input.bp3-large.bp3-round{
      padding:0 15px; }
  .bp3-input.bp3-small{
    font-size:12px;
    height:24px;
    line-height:24px;
    padding-left:8px;
    padding-right:8px; }
    .bp3-input.bp3-small[type="search"], .bp3-input.bp3-small.bp3-round{
      padding:0 12px; }
  .bp3-input.bp3-fill{
    -webkit-box-flex:1;
        -ms-flex:1 1 auto;
            flex:1 1 auto;
    width:100%; }
  .bp3-dark .bp3-input{
    background:rgba(16, 22, 26, 0.3);
    -webkit-box-shadow:0 0 0 0 rgba(19, 124, 189, 0), 0 0 0 0 rgba(19, 124, 189, 0), 0 0 0 0 rgba(19, 124, 189, 0), inset 0 0 0 1px rgba(16, 22, 26, 0.3), inset 0 1px 1px rgba(16, 22, 26, 0.4);
            box-shadow:0 0 0 0 rgba(19, 124, 189, 0), 0 0 0 0 rgba(19, 124, 189, 0), 0 0 0 0 rgba(19, 124, 189, 0), inset 0 0 0 1px rgba(16, 22, 26, 0.3), inset 0 1px 1px rgba(16, 22, 26, 0.4);
    color:#f5f8fa; }
    .bp3-dark .bp3-input::-webkit-input-placeholder{
      color:rgba(167, 182, 194, 0.6); }
    .bp3-dark .bp3-input::-moz-placeholder{
      color:rgba(167, 182, 194, 0.6); }
    .bp3-dark .bp3-input:-ms-input-placeholder{
      color:rgba(167, 182, 194, 0.6); }
    .bp3-dark .bp3-input::-ms-input-placeholder{
      color:rgba(167, 182, 194, 0.6); }
    .bp3-dark .bp3-input::placeholder{
      color:rgba(167, 182, 194, 0.6); }
    .bp3-dark .bp3-input:focus{
      -webkit-box-shadow:0 0 0 1px #137cbd, 0 0 0 1px #137cbd, 0 0 0 3px rgba(19, 124, 189, 0.3), inset 0 0 0 1px rgba(16, 22, 26, 0.3), inset 0 1px 1px rgba(16, 22, 26, 0.4);
              box-shadow:0 0 0 1px #137cbd, 0 0 0 1px #137cbd, 0 0 0 3px rgba(19, 124, 189, 0.3), inset 0 0 0 1px rgba(16, 22, 26, 0.3), inset 0 1px 1px rgba(16, 22, 26, 0.4); }
    .bp3-dark .bp3-input[readonly]{
      -webkit-box-shadow:inset 0 0 0 1px rgba(16, 22, 26, 0.4);
              box-shadow:inset 0 0 0 1px rgba(16, 22, 26, 0.4); }
    .bp3-dark .bp3-input:disabled, .bp3-dark .bp3-input.bp3-disabled{
      background:rgba(57, 75, 89, 0.5);
      -webkit-box-shadow:none;
              box-shadow:none;
      color:rgba(167, 182, 194, 0.6); }
  .bp3-input.bp3-intent-primary{
    -webkit-box-shadow:0 0 0 0 rgba(19, 124, 189, 0), 0 0 0 0 rgba(19, 124, 189, 0), inset 0 0 0 1px #137cbd, inset 0 0 0 1px rgba(16, 22, 26, 0.15), inset 0 1px 1px rgba(16, 22, 26, 0.2);
            box-shadow:0 0 0 0 rgba(19, 124, 189, 0), 0 0 0 0 rgba(19, 124, 189, 0), inset 0 0 0 1px #137cbd, inset 0 0 0 1px rgba(16, 22, 26, 0.15), inset 0 1px 1px rgba(16, 22, 26, 0.2); }
    .bp3-input.bp3-intent-primary:focus{
      -webkit-box-shadow:0 0 0 1px #137cbd, 0 0 0 3px rgba(19, 124, 189, 0.3), inset 0 1px 1px rgba(16, 22, 26, 0.2);
              box-shadow:0 0 0 1px #137cbd, 0 0 0 3px rgba(19, 124, 189, 0.3), inset 0 1px 1px rgba(16, 22, 26, 0.2); }
    .bp3-input.bp3-intent-primary[readonly]{
      -webkit-box-shadow:inset 0 0 0 1px #137cbd;
              box-shadow:inset 0 0 0 1px #137cbd; }
    .bp3-input.bp3-intent-primary:disabled, .bp3-input.bp3-intent-primary.bp3-disabled{
      -webkit-box-shadow:none;
              box-shadow:none; }
    .bp3-dark .bp3-input.bp3-intent-primary{
      -webkit-box-shadow:0 0 0 0 rgba(19, 124, 189, 0), 0 0 0 0 rgba(19, 124, 189, 0), 0 0 0 0 rgba(19, 124, 189, 0), inset 0 0 0 1px #137cbd, inset 0 0 0 1px rgba(16, 22, 26, 0.3), inset 0 1px 1px rgba(16, 22, 26, 0.4);
              box-shadow:0 0 0 0 rgba(19, 124, 189, 0), 0 0 0 0 rgba(19, 124, 189, 0), 0 0 0 0 rgba(19, 124, 189, 0), inset 0 0 0 1px #137cbd, inset 0 0 0 1px rgba(16, 22, 26, 0.3), inset 0 1px 1px rgba(16, 22, 26, 0.4); }
      .bp3-dark .bp3-input.bp3-intent-primary:focus{
        -webkit-box-shadow:0 0 0 1px #137cbd, 0 0 0 1px #137cbd, 0 0 0 3px rgba(19, 124, 189, 0.3), inset 0 0 0 1px rgba(16, 22, 26, 0.3), inset 0 1px 1px rgba(16, 22, 26, 0.4);
                box-shadow:0 0 0 1px #137cbd, 0 0 0 1px #137cbd, 0 0 0 3px rgba(19, 124, 189, 0.3), inset 0 0 0 1px rgba(16, 22, 26, 0.3), inset 0 1px 1px rgba(16, 22, 26, 0.4); }
      .bp3-dark .bp3-input.bp3-intent-primary[readonly]{
        -webkit-box-shadow:inset 0 0 0 1px #137cbd;
                box-shadow:inset 0 0 0 1px #137cbd; }
      .bp3-dark .bp3-input.bp3-intent-primary:disabled, .bp3-dark .bp3-input.bp3-intent-primary.bp3-disabled{
        -webkit-box-shadow:none;
                box-shadow:none; }
  .bp3-input.bp3-intent-success{
    -webkit-box-shadow:0 0 0 0 rgba(15, 153, 96, 0), 0 0 0 0 rgba(15, 153, 96, 0), inset 0 0 0 1px #0f9960, inset 0 0 0 1px rgba(16, 22, 26, 0.15), inset 0 1px 1px rgba(16, 22, 26, 0.2);
            box-shadow:0 0 0 0 rgba(15, 153, 96, 0), 0 0 0 0 rgba(15, 153, 96, 0), inset 0 0 0 1px #0f9960, inset 0 0 0 1px rgba(16, 22, 26, 0.15), inset 0 1px 1px rgba(16, 22, 26, 0.2); }
    .bp3-input.bp3-intent-success:focus{
      -webkit-box-shadow:0 0 0 1px #0f9960, 0 0 0 3px rgba(15, 153, 96, 0.3), inset 0 1px 1px rgba(16, 22, 26, 0.2);
              box-shadow:0 0 0 1px #0f9960, 0 0 0 3px rgba(15, 153, 96, 0.3), inset 0 1px 1px rgba(16, 22, 26, 0.2); }
    .bp3-input.bp3-intent-success[readonly]{
      -webkit-box-shadow:inset 0 0 0 1px #0f9960;
              box-shadow:inset 0 0 0 1px #0f9960; }
    .bp3-input.bp3-intent-success:disabled, .bp3-input.bp3-intent-success.bp3-disabled{
      -webkit-box-shadow:none;
              box-shadow:none; }
    .bp3-dark .bp3-input.bp3-intent-success{
      -webkit-box-shadow:0 0 0 0 rgba(15, 153, 96, 0), 0 0 0 0 rgba(15, 153, 96, 0), 0 0 0 0 rgba(15, 153, 96, 0), inset 0 0 0 1px #0f9960, inset 0 0 0 1px rgba(16, 22, 26, 0.3), inset 0 1px 1px rgba(16, 22, 26, 0.4);
              box-shadow:0 0 0 0 rgba(15, 153, 96, 0), 0 0 0 0 rgba(15, 153, 96, 0), 0 0 0 0 rgba(15, 153, 96, 0), inset 0 0 0 1px #0f9960, inset 0 0 0 1px rgba(16, 22, 26, 0.3), inset 0 1px 1px rgba(16, 22, 26, 0.4); }
      .bp3-dark .bp3-input.bp3-intent-success:focus{
        -webkit-box-shadow:0 0 0 1px #0f9960, 0 0 0 1px #0f9960, 0 0 0 3px rgba(15, 153, 96, 0.3), inset 0 0 0 1px rgba(16, 22, 26, 0.3), inset 0 1px 1px rgba(16, 22, 26, 0.4);
                box-shadow:0 0 0 1px #0f9960, 0 0 0 1px #0f9960, 0 0 0 3px rgba(15, 153, 96, 0.3), inset 0 0 0 1px rgba(16, 22, 26, 0.3), inset 0 1px 1px rgba(16, 22, 26, 0.4); }
      .bp3-dark .bp3-input.bp3-intent-success[readonly]{
        -webkit-box-shadow:inset 0 0 0 1px #0f9960;
                box-shadow:inset 0 0 0 1px #0f9960; }
      .bp3-dark .bp3-input.bp3-intent-success:disabled, .bp3-dark .bp3-input.bp3-intent-success.bp3-disabled{
        -webkit-box-shadow:none;
                box-shadow:none; }
  .bp3-input.bp3-intent-warning{
    -webkit-box-shadow:0 0 0 0 rgba(217, 130, 43, 0), 0 0 0 0 rgba(217, 130, 43, 0), inset 0 0 0 1px #d9822b, inset 0 0 0 1px rgba(16, 22, 26, 0.15), inset 0 1px 1px rgba(16, 22, 26, 0.2);
            box-shadow:0 0 0 0 rgba(217, 130, 43, 0), 0 0 0 0 rgba(217, 130, 43, 0), inset 0 0 0 1px #d9822b, inset 0 0 0 1px rgba(16, 22, 26, 0.15), inset 0 1px 1px rgba(16, 22, 26, 0.2); }
    .bp3-input.bp3-intent-warning:focus{
      -webkit-box-shadow:0 0 0 1px #d9822b, 0 0 0 3px rgba(217, 130, 43, 0.3), inset 0 1px 1px rgba(16, 22, 26, 0.2);
              box-shadow:0 0 0 1px #d9822b, 0 0 0 3px rgba(217, 130, 43, 0.3), inset 0 1px 1px rgba(16, 22, 26, 0.2); }
    .bp3-input.bp3-intent-warning[readonly]{
      -webkit-box-shadow:inset 0 0 0 1px #d9822b;
              box-shadow:inset 0 0 0 1px #d9822b; }
    .bp3-input.bp3-intent-warning:disabled, .bp3-input.bp3-intent-warning.bp3-disabled{
      -webkit-box-shadow:none;
              box-shadow:none; }
    .bp3-dark .bp3-input.bp3-intent-warning{
      -webkit-box-shadow:0 0 0 0 rgba(217, 130, 43, 0), 0 0 0 0 rgba(217, 130, 43, 0), 0 0 0 0 rgba(217, 130, 43, 0), inset 0 0 0 1px #d9822b, inset 0 0 0 1px rgba(16, 22, 26, 0.3), inset 0 1px 1px rgba(16, 22, 26, 0.4);
              box-shadow:0 0 0 0 rgba(217, 130, 43, 0), 0 0 0 0 rgba(217, 130, 43, 0), 0 0 0 0 rgba(217, 130, 43, 0), inset 0 0 0 1px #d9822b, inset 0 0 0 1px rgba(16, 22, 26, 0.3), inset 0 1px 1px rgba(16, 22, 26, 0.4); }
      .bp3-dark .bp3-input.bp3-intent-warning:focus{
        -webkit-box-shadow:0 0 0 1px #d9822b, 0 0 0 1px #d9822b, 0 0 0 3px rgba(217, 130, 43, 0.3), inset 0 0 0 1px rgba(16, 22, 26, 0.3), inset 0 1px 1px rgba(16, 22, 26, 0.4);
                box-shadow:0 0 0 1px #d9822b, 0 0 0 1px #d9822b, 0 0 0 3px rgba(217, 130, 43, 0.3), inset 0 0 0 1px rgba(16, 22, 26, 0.3), inset 0 1px 1px rgba(16, 22, 26, 0.4); }
      .bp3-dark .bp3-input.bp3-intent-warning[readonly]{
        -webkit-box-shadow:inset 0 0 0 1px #d9822b;
                box-shadow:inset 0 0 0 1px #d9822b; }
      .bp3-dark .bp3-input.bp3-intent-warning:disabled, .bp3-dark .bp3-input.bp3-intent-warning.bp3-disabled{
        -webkit-box-shadow:none;
                box-shadow:none; }
  .bp3-input.bp3-intent-danger{
    -webkit-box-shadow:0 0 0 0 rgba(219, 55, 55, 0), 0 0 0 0 rgba(219, 55, 55, 0), inset 0 0 0 1px #db3737, inset 0 0 0 1px rgba(16, 22, 26, 0.15), inset 0 1px 1px rgba(16, 22, 26, 0.2);
            box-shadow:0 0 0 0 rgba(219, 55, 55, 0), 0 0 0 0 rgba(219, 55, 55, 0), inset 0 0 0 1px #db3737, inset 0 0 0 1px rgba(16, 22, 26, 0.15), inset 0 1px 1px rgba(16, 22, 26, 0.2); }
    .bp3-input.bp3-intent-danger:focus{
      -webkit-box-shadow:0 0 0 1px #db3737, 0 0 0 3px rgba(219, 55, 55, 0.3), inset 0 1px 1px rgba(16, 22, 26, 0.2);
              box-shadow:0 0 0 1px #db3737, 0 0 0 3px rgba(219, 55, 55, 0.3), inset 0 1px 1px rgba(16, 22, 26, 0.2); }
    .bp3-input.bp3-intent-danger[readonly]{
      -webkit-box-shadow:inset 0 0 0 1px #db3737;
              box-shadow:inset 0 0 0 1px #db3737; }
    .bp3-input.bp3-intent-danger:disabled, .bp3-input.bp3-intent-danger.bp3-disabled{
      -webkit-box-shadow:none;
              box-shadow:none; }
    .bp3-dark .bp3-input.bp3-intent-danger{
      -webkit-box-shadow:0 0 0 0 rgba(219, 55, 55, 0), 0 0 0 0 rgba(219, 55, 55, 0), 0 0 0 0 rgba(219, 55, 55, 0), inset 0 0 0 1px #db3737, inset 0 0 0 1px rgba(16, 22, 26, 0.3), inset 0 1px 1px rgba(16, 22, 26, 0.4);
              box-shadow:0 0 0 0 rgba(219, 55, 55, 0), 0 0 0 0 rgba(219, 55, 55, 0), 0 0 0 0 rgba(219, 55, 55, 0), inset 0 0 0 1px #db3737, inset 0 0 0 1px rgba(16, 22, 26, 0.3), inset 0 1px 1px rgba(16, 22, 26, 0.4); }
      .bp3-dark .bp3-input.bp3-intent-danger:focus{
        -webkit-box-shadow:0 0 0 1px #db3737, 0 0 0 1px #db3737, 0 0 0 3px rgba(219, 55, 55, 0.3), inset 0 0 0 1px rgba(16, 22, 26, 0.3), inset 0 1px 1px rgba(16, 22, 26, 0.4);
                box-shadow:0 0 0 1px #db3737, 0 0 0 1px #db3737, 0 0 0 3px rgba(219, 55, 55, 0.3), inset 0 0 0 1px rgba(16, 22, 26, 0.3), inset 0 1px 1px rgba(16, 22, 26, 0.4); }
      .bp3-dark .bp3-input.bp3-intent-danger[readonly]{
        -webkit-box-shadow:inset 0 0 0 1px #db3737;
                box-shadow:inset 0 0 0 1px #db3737; }
      .bp3-dark .bp3-input.bp3-intent-danger:disabled, .bp3-dark .bp3-input.bp3-intent-danger.bp3-disabled{
        -webkit-box-shadow:none;
                box-shadow:none; }
  .bp3-input::-ms-clear{
    display:none; }
textarea.bp3-input{
  max-width:100%;
  padding:10px; }
  textarea.bp3-input, textarea.bp3-input.bp3-large, textarea.bp3-input.bp3-small{
    height:auto;
    line-height:inherit; }
  textarea.bp3-input.bp3-small{
    padding:8px; }
  .bp3-dark textarea.bp3-input{
    background:rgba(16, 22, 26, 0.3);
    -webkit-box-shadow:0 0 0 0 rgba(19, 124, 189, 0), 0 0 0 0 rgba(19, 124, 189, 0), 0 0 0 0 rgba(19, 124, 189, 0), inset 0 0 0 1px rgba(16, 22, 26, 0.3), inset 0 1px 1px rgba(16, 22, 26, 0.4);
            box-shadow:0 0 0 0 rgba(19, 124, 189, 0), 0 0 0 0 rgba(19, 124, 189, 0), 0 0 0 0 rgba(19, 124, 189, 0), inset 0 0 0 1px rgba(16, 22, 26, 0.3), inset 0 1px 1px rgba(16, 22, 26, 0.4);
    color:#f5f8fa; }
    .bp3-dark textarea.bp3-input::-webkit-input-placeholder{
      color:rgba(167, 182, 194, 0.6); }
    .bp3-dark textarea.bp3-input::-moz-placeholder{
      color:rgba(167, 182, 194, 0.6); }
    .bp3-dark textarea.bp3-input:-ms-input-placeholder{
      color:rgba(167, 182, 194, 0.6); }
    .bp3-dark textarea.bp3-input::-ms-input-placeholder{
      color:rgba(167, 182, 194, 0.6); }
    .bp3-dark textarea.bp3-input::placeholder{
      color:rgba(167, 182, 194, 0.6); }
    .bp3-dark textarea.bp3-input:focus{
      -webkit-box-shadow:0 0 0 1px #137cbd, 0 0 0 1px #137cbd, 0 0 0 3px rgba(19, 124, 189, 0.3), inset 0 0 0 1px rgba(16, 22, 26, 0.3), inset 0 1px 1px rgba(16, 22, 26, 0.4);
              box-shadow:0 0 0 1px #137cbd, 0 0 0 1px #137cbd, 0 0 0 3px rgba(19, 124, 189, 0.3), inset 0 0 0 1px rgba(16, 22, 26, 0.3), inset 0 1px 1px rgba(16, 22, 26, 0.4); }
    .bp3-dark textarea.bp3-input[readonly]{
      -webkit-box-shadow:inset 0 0 0 1px rgba(16, 22, 26, 0.4);
              box-shadow:inset 0 0 0 1px rgba(16, 22, 26, 0.4); }
    .bp3-dark textarea.bp3-input:disabled, .bp3-dark textarea.bp3-input.bp3-disabled{
      background:rgba(57, 75, 89, 0.5);
      -webkit-box-shadow:none;
              box-shadow:none;
      color:rgba(167, 182, 194, 0.6); }
label.bp3-label{
  display:block;
  margin-bottom:15px;
  margin-top:0; }
  label.bp3-label .bp3-html-select,
  label.bp3-label .bp3-input,
  label.bp3-label .bp3-select,
  label.bp3-label .bp3-slider,
  label.bp3-label .bp3-popover-wrapper{
    display:block;
    margin-top:5px;
    text-transform:none; }
  label.bp3-label .bp3-button-group{
    margin-top:5px; }
  label.bp3-label .bp3-select select,
  label.bp3-label .bp3-html-select select{
    font-weight:400;
    vertical-align:top;
    width:100%; }
  label.bp3-label.bp3-disabled,
  label.bp3-label.bp3-disabled .bp3-text-muted{
    color:rgba(92, 112, 128, 0.6); }
  label.bp3-label.bp3-inline{
    line-height:30px; }
    label.bp3-label.bp3-inline .bp3-html-select,
    label.bp3-label.bp3-inline .bp3-input,
    label.bp3-label.bp3-inline .bp3-input-group,
    label.bp3-label.bp3-inline .bp3-select,
    label.bp3-label.bp3-inline .bp3-popover-wrapper{
      display:inline-block;
      margin:0 0 0 5px;
      vertical-align:top; }
    label.bp3-label.bp3-inline .bp3-button-group{
      margin:0 0 0 5px; }
    label.bp3-label.bp3-inline .bp3-input-group .bp3-input{
      margin-left:0; }
    label.bp3-label.bp3-inline.bp3-large{
      line-height:40px; }
  label.bp3-label:not(.bp3-inline) .bp3-popover-target{
    display:block; }
  .bp3-dark label.bp3-label{
    color:#f5f8fa; }
    .bp3-dark label.bp3-label.bp3-disabled,
    .bp3-dark label.bp3-label.bp3-disabled .bp3-text-muted{
      color:rgba(167, 182, 194, 0.6); }
.bp3-numeric-input .bp3-button-group.bp3-vertical > .bp3-button{
  -webkit-box-flex:1;
      -ms-flex:1 1 14px;
          flex:1 1 14px;
  min-height:0;
  padding:0;
  width:30px; }
  .bp3-numeric-input .bp3-button-group.bp3-vertical > .bp3-button:first-child{
    border-radius:0 3px 0 0; }
  .bp3-numeric-input .bp3-button-group.bp3-vertical > .bp3-button:last-child{
    border-radius:0 0 3px 0; }

.bp3-numeric-input .bp3-button-group.bp3-vertical:first-child > .bp3-button:first-child{
  border-radius:3px 0 0 0; }

.bp3-numeric-input .bp3-button-group.bp3-vertical:first-child > .bp3-button:last-child{
  border-radius:0 0 0 3px; }

.bp3-numeric-input.bp3-large .bp3-button-group.bp3-vertical > .bp3-button{
  width:40px; }

form{
  display:block; }
.bp3-html-select select,
.bp3-select select{
  display:-webkit-inline-box;
  display:-ms-inline-flexbox;
  display:inline-flex;
  -webkit-box-orient:horizontal;
  -webkit-box-direction:normal;
      -ms-flex-direction:row;
          flex-direction:row;
  -webkit-box-align:center;
      -ms-flex-align:center;
          align-items:center;
  border:none;
  border-radius:3px;
  cursor:pointer;
  font-size:14px;
  -webkit-box-pack:center;
      -ms-flex-pack:center;
          justify-content:center;
  padding:5px 10px;
  text-align:left;
  vertical-align:middle;
  background-color:#f5f8fa;
  background-image:-webkit-gradient(linear, left top, left bottom, from(rgba(255, 255, 255, 0.8)), to(rgba(255, 255, 255, 0)));
  background-image:linear-gradient(to bottom, rgba(255, 255, 255, 0.8), rgba(255, 255, 255, 0));
  -webkit-box-shadow:inset 0 0 0 1px rgba(16, 22, 26, 0.2), inset 0 -1px 0 rgba(16, 22, 26, 0.1);
          box-shadow:inset 0 0 0 1px rgba(16, 22, 26, 0.2), inset 0 -1px 0 rgba(16, 22, 26, 0.1);
  color:#182026;
  -moz-appearance:none;
  -webkit-appearance:none;
  border-radius:3px;
  height:30px;
  padding:0 25px 0 10px;
  width:100%; }
  .bp3-html-select select > *, .bp3-select select > *{
    -webkit-box-flex:0;
        -ms-flex-positive:0;
            flex-grow:0;
    -ms-flex-negative:0;
        flex-shrink:0; }
  .bp3-html-select select > .bp3-fill, .bp3-select select > .bp3-fill{
    -webkit-box-flex:1;
        -ms-flex-positive:1;
            flex-grow:1;
    -ms-flex-negative:1;
        flex-shrink:1; }
  .bp3-html-select select::before,
  .bp3-select select::before, .bp3-html-select select > *, .bp3-select select > *{
    margin-right:7px; }
  .bp3-html-select select:empty::before,
  .bp3-select select:empty::before,
  .bp3-html-select select > :last-child,
  .bp3-select select > :last-child{
    margin-right:0; }
  .bp3-html-select select:hover,
  .bp3-select select:hover{
    background-clip:padding-box;
    background-color:#ebf1f5;
    -webkit-box-shadow:inset 0 0 0 1px rgba(16, 22, 26, 0.2), inset 0 -1px 0 rgba(16, 22, 26, 0.1);
            box-shadow:inset 0 0 0 1px rgba(16, 22, 26, 0.2), inset 0 -1px 0 rgba(16, 22, 26, 0.1); }
  .bp3-html-select select:active,
  .bp3-select select:active, .bp3-html-select select.bp3-active,
  .bp3-select select.bp3-active{
    background-color:#d8e1e8;
    background-image:none;
    -webkit-box-shadow:inset 0 0 0 1px rgba(16, 22, 26, 0.2), inset 0 1px 2px rgba(16, 22, 26, 0.2);
            box-shadow:inset 0 0 0 1px rgba(16, 22, 26, 0.2), inset 0 1px 2px rgba(16, 22, 26, 0.2); }
  .bp3-html-select select:disabled,
  .bp3-select select:disabled, .bp3-html-select select.bp3-disabled,
  .bp3-select select.bp3-disabled{
    background-color:rgba(206, 217, 224, 0.5);
    background-image:none;
    -webkit-box-shadow:none;
            box-shadow:none;
    color:rgba(92, 112, 128, 0.6);
    cursor:not-allowed;
    outline:none; }
    .bp3-html-select select:disabled.bp3-active,
    .bp3-select select:disabled.bp3-active, .bp3-html-select select:disabled.bp3-active:hover,
    .bp3-select select:disabled.bp3-active:hover, .bp3-html-select select.bp3-disabled.bp3-active,
    .bp3-select select.bp3-disabled.bp3-active, .bp3-html-select select.bp3-disabled.bp3-active:hover,
    .bp3-select select.bp3-disabled.bp3-active:hover{
      background:rgba(206, 217, 224, 0.7); }

.bp3-html-select.bp3-minimal select,
.bp3-select.bp3-minimal select{
  background:none;
  -webkit-box-shadow:none;
          box-shadow:none; }
  .bp3-html-select.bp3-minimal select:hover,
  .bp3-select.bp3-minimal select:hover{
    background:rgba(167, 182, 194, 0.3);
    -webkit-box-shadow:none;
            box-shadow:none;
    color:#182026;
    text-decoration:none; }
  .bp3-html-select.bp3-minimal select:active,
  .bp3-select.bp3-minimal select:active, .bp3-html-select.bp3-minimal select.bp3-active,
  .bp3-select.bp3-minimal select.bp3-active{
    background:rgba(115, 134, 148, 0.3);
    -webkit-box-shadow:none;
            box-shadow:none;
    color:#182026; }
  .bp3-html-select.bp3-minimal select:disabled,
  .bp3-select.bp3-minimal select:disabled, .bp3-html-select.bp3-minimal select:disabled:hover,
  .bp3-select.bp3-minimal select:disabled:hover, .bp3-html-select.bp3-minimal select.bp3-disabled,
  .bp3-select.bp3-minimal select.bp3-disabled, .bp3-html-select.bp3-minimal select.bp3-disabled:hover,
  .bp3-select.bp3-minimal select.bp3-disabled:hover{
    background:none;
    color:rgba(92, 112, 128, 0.6);
    cursor:not-allowed; }
    .bp3-html-select.bp3-minimal select:disabled.bp3-active,
    .bp3-select.bp3-minimal select:disabled.bp3-active, .bp3-html-select.bp3-minimal select:disabled:hover.bp3-active,
    .bp3-select.bp3-minimal select:disabled:hover.bp3-active, .bp3-html-select.bp3-minimal select.bp3-disabled.bp3-active,
    .bp3-select.bp3-minimal select.bp3-disabled.bp3-active, .bp3-html-select.bp3-minimal select.bp3-disabled:hover.bp3-active,
    .bp3-select.bp3-minimal select.bp3-disabled:hover.bp3-active{
      background:rgba(115, 134, 148, 0.3); }
  .bp3-dark .bp3-html-select.bp3-minimal select, .bp3-html-select.bp3-minimal .bp3-dark select,
  .bp3-dark .bp3-select.bp3-minimal select, .bp3-select.bp3-minimal .bp3-dark select{
    background:none;
    -webkit-box-shadow:none;
            box-shadow:none;
    color:inherit; }
    .bp3-dark .bp3-html-select.bp3-minimal select:hover, .bp3-html-select.bp3-minimal .bp3-dark select:hover,
    .bp3-dark .bp3-select.bp3-minimal select:hover, .bp3-select.bp3-minimal .bp3-dark select:hover, .bp3-dark .bp3-html-select.bp3-minimal select:active, .bp3-html-select.bp3-minimal .bp3-dark select:active,
    .bp3-dark .bp3-select.bp3-minimal select:active, .bp3-select.bp3-minimal .bp3-dark select:active, .bp3-dark .bp3-html-select.bp3-minimal select.bp3-active, .bp3-html-select.bp3-minimal .bp3-dark select.bp3-active,
    .bp3-dark .bp3-select.bp3-minimal select.bp3-active, .bp3-select.bp3-minimal .bp3-dark select.bp3-active{
      background:none;
      -webkit-box-shadow:none;
              box-shadow:none; }
    .bp3-dark .bp3-html-select.bp3-minimal select:hover, .bp3-html-select.bp3-minimal .bp3-dark select:hover,
    .bp3-dark .bp3-select.bp3-minimal select:hover, .bp3-select.bp3-minimal .bp3-dark select:hover{
      background:rgba(138, 155, 168, 0.15); }
    .bp3-dark .bp3-html-select.bp3-minimal select:active, .bp3-html-select.bp3-minimal .bp3-dark select:active,
    .bp3-dark .bp3-select.bp3-minimal select:active, .bp3-select.bp3-minimal .bp3-dark select:active, .bp3-dark .bp3-html-select.bp3-minimal select.bp3-active, .bp3-html-select.bp3-minimal .bp3-dark select.bp3-active,
    .bp3-dark .bp3-select.bp3-minimal select.bp3-active, .bp3-select.bp3-minimal .bp3-dark select.bp3-active{
      background:rgba(138, 155, 168, 0.3);
      color:#f5f8fa; }
    .bp3-dark .bp3-html-select.bp3-minimal select:disabled, .bp3-html-select.bp3-minimal .bp3-dark select:disabled,
    .bp3-dark .bp3-select.bp3-minimal select:disabled, .bp3-select.bp3-minimal .bp3-dark select:disabled, .bp3-dark .bp3-html-select.bp3-minimal select:disabled:hover, .bp3-html-select.bp3-minimal .bp3-dark select:disabled:hover,
    .bp3-dark .bp3-select.bp3-minimal select:disabled:hover, .bp3-select.bp3-minimal .bp3-dark select:disabled:hover, .bp3-dark .bp3-html-select.bp3-minimal select.bp3-disabled, .bp3-html-select.bp3-minimal .bp3-dark select.bp3-disabled,
    .bp3-dark .bp3-select.bp3-minimal select.bp3-disabled, .bp3-select.bp3-minimal .bp3-dark select.bp3-disabled, .bp3-dark .bp3-html-select.bp3-minimal select.bp3-disabled:hover, .bp3-html-select.bp3-minimal .bp3-dark select.bp3-disabled:hover,
    .bp3-dark .bp3-select.bp3-minimal select.bp3-disabled:hover, .bp3-select.bp3-minimal .bp3-dark select.bp3-disabled:hover{
      background:none;
      color:rgba(167, 182, 194, 0.6);
      cursor:not-allowed; }
      .bp3-dark .bp3-html-select.bp3-minimal select:disabled.bp3-active, .bp3-html-select.bp3-minimal .bp3-dark select:disabled.bp3-active,
      .bp3-dark .bp3-select.bp3-minimal select:disabled.bp3-active, .bp3-select.bp3-minimal .bp3-dark select:disabled.bp3-active, .bp3-dark .bp3-html-select.bp3-minimal select:disabled:hover.bp3-active, .bp3-html-select.bp3-minimal .bp3-dark select:disabled:hover.bp3-active,
      .bp3-dark .bp3-select.bp3-minimal select:disabled:hover.bp3-active, .bp3-select.bp3-minimal .bp3-dark select:disabled:hover.bp3-active, .bp3-dark .bp3-html-select.bp3-minimal select.bp3-disabled.bp3-active, .bp3-html-select.bp3-minimal .bp3-dark select.bp3-disabled.bp3-active,
      .bp3-dark .bp3-select.bp3-minimal select.bp3-disabled.bp3-active, .bp3-select.bp3-minimal .bp3-dark select.bp3-disabled.bp3-active, .bp3-dark .bp3-html-select.bp3-minimal select.bp3-disabled:hover.bp3-active, .bp3-html-select.bp3-minimal .bp3-dark select.bp3-disabled:hover.bp3-active,
      .bp3-dark .bp3-select.bp3-minimal select.bp3-disabled:hover.bp3-active, .bp3-select.bp3-minimal .bp3-dark select.bp3-disabled:hover.bp3-active{
        background:rgba(138, 155, 168, 0.3); }
  .bp3-html-select.bp3-minimal select.bp3-intent-primary,
  .bp3-select.bp3-minimal select.bp3-intent-primary{
    color:#106ba3; }
    .bp3-html-select.bp3-minimal select.bp3-intent-primary:hover,
    .bp3-select.bp3-minimal select.bp3-intent-primary:hover, .bp3-html-select.bp3-minimal select.bp3-intent-primary:active,
    .bp3-select.bp3-minimal select.bp3-intent-primary:active, .bp3-html-select.bp3-minimal select.bp3-intent-primary.bp3-active,
    .bp3-select.bp3-minimal select.bp3-intent-primary.bp3-active{
      background:none;
      -webkit-box-shadow:none;
              box-shadow:none;
      color:#106ba3; }
    .bp3-html-select.bp3-minimal select.bp3-intent-primary:hover,
    .bp3-select.bp3-minimal select.bp3-intent-primary:hover{
      background:rgba(19, 124, 189, 0.15);
      color:#106ba3; }
    .bp3-html-select.bp3-minimal select.bp3-intent-primary:active,
    .bp3-select.bp3-minimal select.bp3-intent-primary:active, .bp3-html-select.bp3-minimal select.bp3-intent-primary.bp3-active,
    .bp3-select.bp3-minimal select.bp3-intent-primary.bp3-active{
      background:rgba(19, 124, 189, 0.3);
      color:#106ba3; }
    .bp3-html-select.bp3-minimal select.bp3-intent-primary:disabled,
    .bp3-select.bp3-minimal select.bp3-intent-primary:disabled, .bp3-html-select.bp3-minimal select.bp3-intent-primary.bp3-disabled,
    .bp3-select.bp3-minimal select.bp3-intent-primary.bp3-disabled{
      background:none;
      color:rgba(16, 107, 163, 0.5); }
      .bp3-html-select.bp3-minimal select.bp3-intent-primary:disabled.bp3-active,
      .bp3-select.bp3-minimal select.bp3-intent-primary:disabled.bp3-active, .bp3-html-select.bp3-minimal select.bp3-intent-primary.bp3-disabled.bp3-active,
      .bp3-select.bp3-minimal select.bp3-intent-primary.bp3-disabled.bp3-active{
        background:rgba(19, 124, 189, 0.3); }
    .bp3-html-select.bp3-minimal select.bp3-intent-primary .bp3-button-spinner .bp3-spinner-head, .bp3-select.bp3-minimal select.bp3-intent-primary .bp3-button-spinner .bp3-spinner-head{
      stroke:#106ba3; }
    .bp3-dark .bp3-html-select.bp3-minimal select.bp3-intent-primary, .bp3-html-select.bp3-minimal .bp3-dark select.bp3-intent-primary,
    .bp3-dark .bp3-select.bp3-minimal select.bp3-intent-primary, .bp3-select.bp3-minimal .bp3-dark select.bp3-intent-primary{
      color:#48aff0; }
      .bp3-dark .bp3-html-select.bp3-minimal select.bp3-intent-primary:hover, .bp3-html-select.bp3-minimal .bp3-dark select.bp3-intent-primary:hover,
      .bp3-dark .bp3-select.bp3-minimal select.bp3-intent-primary:hover, .bp3-select.bp3-minimal .bp3-dark select.bp3-intent-primary:hover{
        background:rgba(19, 124, 189, 0.2);
        color:#48aff0; }
      .bp3-dark .bp3-html-select.bp3-minimal select.bp3-intent-primary:active, .bp3-html-select.bp3-minimal .bp3-dark select.bp3-intent-primary:active,
      .bp3-dark .bp3-select.bp3-minimal select.bp3-intent-primary:active, .bp3-select.bp3-minimal .bp3-dark select.bp3-intent-primary:active, .bp3-dark .bp3-html-select.bp3-minimal select.bp3-intent-primary.bp3-active, .bp3-html-select.bp3-minimal .bp3-dark select.bp3-intent-primary.bp3-active,
      .bp3-dark .bp3-select.bp3-minimal select.bp3-intent-primary.bp3-active, .bp3-select.bp3-minimal .bp3-dark select.bp3-intent-primary.bp3-active{
        background:rgba(19, 124, 189, 0.3);
        color:#48aff0; }
      .bp3-dark .bp3-html-select.bp3-minimal select.bp3-intent-primary:disabled, .bp3-html-select.bp3-minimal .bp3-dark select.bp3-intent-primary:disabled,
      .bp3-dark .bp3-select.bp3-minimal select.bp3-intent-primary:disabled, .bp3-select.bp3-minimal .bp3-dark select.bp3-intent-primary:disabled, .bp3-dark .bp3-html-select.bp3-minimal select.bp3-intent-primary.bp3-disabled, .bp3-html-select.bp3-minimal .bp3-dark select.bp3-intent-primary.bp3-disabled,
      .bp3-dark .bp3-select.bp3-minimal select.bp3-intent-primary.bp3-disabled, .bp3-select.bp3-minimal .bp3-dark select.bp3-intent-primary.bp3-disabled{
        background:none;
        color:rgba(72, 175, 240, 0.5); }
        .bp3-dark .bp3-html-select.bp3-minimal select.bp3-intent-primary:disabled.bp3-active, .bp3-html-select.bp3-minimal .bp3-dark select.bp3-intent-primary:disabled.bp3-active,
        .bp3-dark .bp3-select.bp3-minimal select.bp3-intent-primary:disabled.bp3-active, .bp3-select.bp3-minimal .bp3-dark select.bp3-intent-primary:disabled.bp3-active, .bp3-dark .bp3-html-select.bp3-minimal select.bp3-intent-primary.bp3-disabled.bp3-active, .bp3-html-select.bp3-minimal .bp3-dark select.bp3-intent-primary.bp3-disabled.bp3-active,
        .bp3-dark .bp3-select.bp3-minimal select.bp3-intent-primary.bp3-disabled.bp3-active, .bp3-select.bp3-minimal .bp3-dark select.bp3-intent-primary.bp3-disabled.bp3-active{
          background:rgba(19, 124, 189, 0.3); }
  .bp3-html-select.bp3-minimal select.bp3-intent-success,
  .bp3-select.bp3-minimal select.bp3-intent-success{
    color:#0d8050; }
    .bp3-html-select.bp3-minimal select.bp3-intent-success:hover,
    .bp3-select.bp3-minimal select.bp3-intent-success:hover, .bp3-html-select.bp3-minimal select.bp3-intent-success:active,
    .bp3-select.bp3-minimal select.bp3-intent-success:active, .bp3-html-select.bp3-minimal select.bp3-intent-success.bp3-active,
    .bp3-select.bp3-minimal select.bp3-intent-success.bp3-active{
      background:none;
      -webkit-box-shadow:none;
              box-shadow:none;
      color:#0d8050; }
    .bp3-html-select.bp3-minimal select.bp3-intent-success:hover,
    .bp3-select.bp3-minimal select.bp3-intent-success:hover{
      background:rgba(15, 153, 96, 0.15);
      color:#0d8050; }
    .bp3-html-select.bp3-minimal select.bp3-intent-success:active,
    .bp3-select.bp3-minimal select.bp3-intent-success:active, .bp3-html-select.bp3-minimal select.bp3-intent-success.bp3-active,
    .bp3-select.bp3-minimal select.bp3-intent-success.bp3-active{
      background:rgba(15, 153, 96, 0.3);
      color:#0d8050; }
    .bp3-html-select.bp3-minimal select.bp3-intent-success:disabled,
    .bp3-select.bp3-minimal select.bp3-intent-success:disabled, .bp3-html-select.bp3-minimal select.bp3-intent-success.bp3-disabled,
    .bp3-select.bp3-minimal select.bp3-intent-success.bp3-disabled{
      background:none;
      color:rgba(13, 128, 80, 0.5); }
      .bp3-html-select.bp3-minimal select.bp3-intent-success:disabled.bp3-active,
      .bp3-select.bp3-minimal select.bp3-intent-success:disabled.bp3-active, .bp3-html-select.bp3-minimal select.bp3-intent-success.bp3-disabled.bp3-active,
      .bp3-select.bp3-minimal select.bp3-intent-success.bp3-disabled.bp3-active{
        background:rgba(15, 153, 96, 0.3); }
    .bp3-html-select.bp3-minimal select.bp3-intent-success .bp3-button-spinner .bp3-spinner-head, .bp3-select.bp3-minimal select.bp3-intent-success .bp3-button-spinner .bp3-spinner-head{
      stroke:#0d8050; }
    .bp3-dark .bp3-html-select.bp3-minimal select.bp3-intent-success, .bp3-html-select.bp3-minimal .bp3-dark select.bp3-intent-success,
    .bp3-dark .bp3-select.bp3-minimal select.bp3-intent-success, .bp3-select.bp3-minimal .bp3-dark select.bp3-intent-success{
      color:#3dcc91; }
      .bp3-dark .bp3-html-select.bp3-minimal select.bp3-intent-success:hover, .bp3-html-select.bp3-minimal .bp3-dark select.bp3-intent-success:hover,
      .bp3-dark .bp3-select.bp3-minimal select.bp3-intent-success:hover, .bp3-select.bp3-minimal .bp3-dark select.bp3-intent-success:hover{
        background:rgba(15, 153, 96, 0.2);
        color:#3dcc91; }
      .bp3-dark .bp3-html-select.bp3-minimal select.bp3-intent-success:active, .bp3-html-select.bp3-minimal .bp3-dark select.bp3-intent-success:active,
      .bp3-dark .bp3-select.bp3-minimal select.bp3-intent-success:active, .bp3-select.bp3-minimal .bp3-dark select.bp3-intent-success:active, .bp3-dark .bp3-html-select.bp3-minimal select.bp3-intent-success.bp3-active, .bp3-html-select.bp3-minimal .bp3-dark select.bp3-intent-success.bp3-active,
      .bp3-dark .bp3-select.bp3-minimal select.bp3-intent-success.bp3-active, .bp3-select.bp3-minimal .bp3-dark select.bp3-intent-success.bp3-active{
        background:rgba(15, 153, 96, 0.3);
        color:#3dcc91; }
      .bp3-dark .bp3-html-select.bp3-minimal select.bp3-intent-success:disabled, .bp3-html-select.bp3-minimal .bp3-dark select.bp3-intent-success:disabled,
      .bp3-dark .bp3-select.bp3-minimal select.bp3-intent-success:disabled, .bp3-select.bp3-minimal .bp3-dark select.bp3-intent-success:disabled, .bp3-dark .bp3-html-select.bp3-minimal select.bp3-intent-success.bp3-disabled, .bp3-html-select.bp3-minimal .bp3-dark select.bp3-intent-success.bp3-disabled,
      .bp3-dark .bp3-select.bp3-minimal select.bp3-intent-success.bp3-disabled, .bp3-select.bp3-minimal .bp3-dark select.bp3-intent-success.bp3-disabled{
        background:none;
        color:rgba(61, 204, 145, 0.5); }
        .bp3-dark .bp3-html-select.bp3-minimal select.bp3-intent-success:disabled.bp3-active, .bp3-html-select.bp3-minimal .bp3-dark select.bp3-intent-success:disabled.bp3-active,
        .bp3-dark .bp3-select.bp3-minimal select.bp3-intent-success:disabled.bp3-active, .bp3-select.bp3-minimal .bp3-dark select.bp3-intent-success:disabled.bp3-active, .bp3-dark .bp3-html-select.bp3-minimal select.bp3-intent-success.bp3-disabled.bp3-active, .bp3-html-select.bp3-minimal .bp3-dark select.bp3-intent-success.bp3-disabled.bp3-active,
        .bp3-dark .bp3-select.bp3-minimal select.bp3-intent-success.bp3-disabled.bp3-active, .bp3-select.bp3-minimal .bp3-dark select.bp3-intent-success.bp3-disabled.bp3-active{
          background:rgba(15, 153, 96, 0.3); }
  .bp3-html-select.bp3-minimal select.bp3-intent-warning,
  .bp3-select.bp3-minimal select.bp3-intent-warning{
    color:#bf7326; }
    .bp3-html-select.bp3-minimal select.bp3-intent-warning:hover,
    .bp3-select.bp3-minimal select.bp3-intent-warning:hover, .bp3-html-select.bp3-minimal select.bp3-intent-warning:active,
    .bp3-select.bp3-minimal select.bp3-intent-warning:active, .bp3-html-select.bp3-minimal select.bp3-intent-warning.bp3-active,
    .bp3-select.bp3-minimal select.bp3-intent-warning.bp3-active{
      background:none;
      -webkit-box-shadow:none;
              box-shadow:none;
      color:#bf7326; }
    .bp3-html-select.bp3-minimal select.bp3-intent-warning:hover,
    .bp3-select.bp3-minimal select.bp3-intent-warning:hover{
      background:rgba(217, 130, 43, 0.15);
      color:#bf7326; }
    .bp3-html-select.bp3-minimal select.bp3-intent-warning:active,
    .bp3-select.bp3-minimal select.bp3-intent-warning:active, .bp3-html-select.bp3-minimal select.bp3-intent-warning.bp3-active,
    .bp3-select.bp3-minimal select.bp3-intent-warning.bp3-active{
      background:rgba(217, 130, 43, 0.3);
      color:#bf7326; }
    .bp3-html-select.bp3-minimal select.bp3-intent-warning:disabled,
    .bp3-select.bp3-minimal select.bp3-intent-warning:disabled, .bp3-html-select.bp3-minimal select.bp3-intent-warning.bp3-disabled,
    .bp3-select.bp3-minimal select.bp3-intent-warning.bp3-disabled{
      background:none;
      color:rgba(191, 115, 38, 0.5); }
      .bp3-html-select.bp3-minimal select.bp3-intent-warning:disabled.bp3-active,
      .bp3-select.bp3-minimal select.bp3-intent-warning:disabled.bp3-active, .bp3-html-select.bp3-minimal select.bp3-intent-warning.bp3-disabled.bp3-active,
      .bp3-select.bp3-minimal select.bp3-intent-warning.bp3-disabled.bp3-active{
        background:rgba(217, 130, 43, 0.3); }
    .bp3-html-select.bp3-minimal select.bp3-intent-warning .bp3-button-spinner .bp3-spinner-head, .bp3-select.bp3-minimal select.bp3-intent-warning .bp3-button-spinner .bp3-spinner-head{
      stroke:#bf7326; }
    .bp3-dark .bp3-html-select.bp3-minimal select.bp3-intent-warning, .bp3-html-select.bp3-minimal .bp3-dark select.bp3-intent-warning,
    .bp3-dark .bp3-select.bp3-minimal select.bp3-intent-warning, .bp3-select.bp3-minimal .bp3-dark select.bp3-intent-warning{
      color:#ffb366; }
      .bp3-dark .bp3-html-select.bp3-minimal select.bp3-intent-warning:hover, .bp3-html-select.bp3-minimal .bp3-dark select.bp3-intent-warning:hover,
      .bp3-dark .bp3-select.bp3-minimal select.bp3-intent-warning:hover, .bp3-select.bp3-minimal .bp3-dark select.bp3-intent-warning:hover{
        background:rgba(217, 130, 43, 0.2);
        color:#ffb366; }
      .bp3-dark .bp3-html-select.bp3-minimal select.bp3-intent-warning:active, .bp3-html-select.bp3-minimal .bp3-dark select.bp3-intent-warning:active,
      .bp3-dark .bp3-select.bp3-minimal select.bp3-intent-warning:active, .bp3-select.bp3-minimal .bp3-dark select.bp3-intent-warning:active, .bp3-dark .bp3-html-select.bp3-minimal select.bp3-intent-warning.bp3-active, .bp3-html-select.bp3-minimal .bp3-dark select.bp3-intent-warning.bp3-active,
      .bp3-dark .bp3-select.bp3-minimal select.bp3-intent-warning.bp3-active, .bp3-select.bp3-minimal .bp3-dark select.bp3-intent-warning.bp3-active{
        background:rgba(217, 130, 43, 0.3);
        color:#ffb366; }
      .bp3-dark .bp3-html-select.bp3-minimal select.bp3-intent-warning:disabled, .bp3-html-select.bp3-minimal .bp3-dark select.bp3-intent-warning:disabled,
      .bp3-dark .bp3-select.bp3-minimal select.bp3-intent-warning:disabled, .bp3-select.bp3-minimal .bp3-dark select.bp3-intent-warning:disabled, .bp3-dark .bp3-html-select.bp3-minimal select.bp3-intent-warning.bp3-disabled, .bp3-html-select.bp3-minimal .bp3-dark select.bp3-intent-warning.bp3-disabled,
      .bp3-dark .bp3-select.bp3-minimal select.bp3-intent-warning.bp3-disabled, .bp3-select.bp3-minimal .bp3-dark select.bp3-intent-warning.bp3-disabled{
        background:none;
        color:rgba(255, 179, 102, 0.5); }
        .bp3-dark .bp3-html-select.bp3-minimal select.bp3-intent-warning:disabled.bp3-active, .bp3-html-select.bp3-minimal .bp3-dark select.bp3-intent-warning:disabled.bp3-active,
        .bp3-dark .bp3-select.bp3-minimal select.bp3-intent-warning:disabled.bp3-active, .bp3-select.bp3-minimal .bp3-dark select.bp3-intent-warning:disabled.bp3-active, .bp3-dark .bp3-html-select.bp3-minimal select.bp3-intent-warning.bp3-disabled.bp3-active, .bp3-html-select.bp3-minimal .bp3-dark select.bp3-intent-warning.bp3-disabled.bp3-active,
        .bp3-dark .bp3-select.bp3-minimal select.bp3-intent-warning.bp3-disabled.bp3-active, .bp3-select.bp3-minimal .bp3-dark select.bp3-intent-warning.bp3-disabled.bp3-active{
          background:rgba(217, 130, 43, 0.3); }
  .bp3-html-select.bp3-minimal select.bp3-intent-danger,
  .bp3-select.bp3-minimal select.bp3-intent-danger{
    color:#c23030; }
    .bp3-html-select.bp3-minimal select.bp3-intent-danger:hover,
    .bp3-select.bp3-minimal select.bp3-intent-danger:hover, .bp3-html-select.bp3-minimal select.bp3-intent-danger:active,
    .bp3-select.bp3-minimal select.bp3-intent-danger:active, .bp3-html-select.bp3-minimal select.bp3-intent-danger.bp3-active,
    .bp3-select.bp3-minimal select.bp3-intent-danger.bp3-active{
      background:none;
      -webkit-box-shadow:none;
              box-shadow:none;
      color:#c23030; }
    .bp3-html-select.bp3-minimal select.bp3-intent-danger:hover,
    .bp3-select.bp3-minimal select.bp3-intent-danger:hover{
      background:rgba(219, 55, 55, 0.15);
      color:#c23030; }
    .bp3-html-select.bp3-minimal select.bp3-intent-danger:active,
    .bp3-select.bp3-minimal select.bp3-intent-danger:active, .bp3-html-select.bp3-minimal select.bp3-intent-danger.bp3-active,
    .bp3-select.bp3-minimal select.bp3-intent-danger.bp3-active{
      background:rgba(219, 55, 55, 0.3);
      color:#c23030; }
    .bp3-html-select.bp3-minimal select.bp3-intent-danger:disabled,
    .bp3-select.bp3-minimal select.bp3-intent-danger:disabled, .bp3-html-select.bp3-minimal select.bp3-intent-danger.bp3-disabled,
    .bp3-select.bp3-minimal select.bp3-intent-danger.bp3-disabled{
      background:none;
      color:rgba(194, 48, 48, 0.5); }
      .bp3-html-select.bp3-minimal select.bp3-intent-danger:disabled.bp3-active,
      .bp3-select.bp3-minimal select.bp3-intent-danger:disabled.bp3-active, .bp3-html-select.bp3-minimal select.bp3-intent-danger.bp3-disabled.bp3-active,
      .bp3-select.bp3-minimal select.bp3-intent-danger.bp3-disabled.bp3-active{
        background:rgba(219, 55, 55, 0.3); }
    .bp3-html-select.bp3-minimal select.bp3-intent-danger .bp3-button-spinner .bp3-spinner-head, .bp3-select.bp3-minimal select.bp3-intent-danger .bp3-button-spinner .bp3-spinner-head{
      stroke:#c23030; }
    .bp3-dark .bp3-html-select.bp3-minimal select.bp3-intent-danger, .bp3-html-select.bp3-minimal .bp3-dark select.bp3-intent-danger,
    .bp3-dark .bp3-select.bp3-minimal select.bp3-intent-danger, .bp3-select.bp3-minimal .bp3-dark select.bp3-intent-danger{
      color:#ff7373; }
      .bp3-dark .bp3-html-select.bp3-minimal select.bp3-intent-danger:hover, .bp3-html-select.bp3-minimal .bp3-dark select.bp3-intent-danger:hover,
      .bp3-dark .bp3-select.bp3-minimal select.bp3-intent-danger:hover, .bp3-select.bp3-minimal .bp3-dark select.bp3-intent-danger:hover{
        background:rgba(219, 55, 55, 0.2);
        color:#ff7373; }
      .bp3-dark .bp3-html-select.bp3-minimal select.bp3-intent-danger:active, .bp3-html-select.bp3-minimal .bp3-dark select.bp3-intent-danger:active,
      .bp3-dark .bp3-select.bp3-minimal select.bp3-intent-danger:active, .bp3-select.bp3-minimal .bp3-dark select.bp3-intent-danger:active, .bp3-dark .bp3-html-select.bp3-minimal select.bp3-intent-danger.bp3-active, .bp3-html-select.bp3-minimal .bp3-dark select.bp3-intent-danger.bp3-active,
      .bp3-dark .bp3-select.bp3-minimal select.bp3-intent-danger.bp3-active, .bp3-select.bp3-minimal .bp3-dark select.bp3-intent-danger.bp3-active{
        background:rgba(219, 55, 55, 0.3);
        color:#ff7373; }
      .bp3-dark .bp3-html-select.bp3-minimal select.bp3-intent-danger:disabled, .bp3-html-select.bp3-minimal .bp3-dark select.bp3-intent-danger:disabled,
      .bp3-dark .bp3-select.bp3-minimal select.bp3-intent-danger:disabled, .bp3-select.bp3-minimal .bp3-dark select.bp3-intent-danger:disabled, .bp3-dark .bp3-html-select.bp3-minimal select.bp3-intent-danger.bp3-disabled, .bp3-html-select.bp3-minimal .bp3-dark select.bp3-intent-danger.bp3-disabled,
      .bp3-dark .bp3-select.bp3-minimal select.bp3-intent-danger.bp3-disabled, .bp3-select.bp3-minimal .bp3-dark select.bp3-intent-danger.bp3-disabled{
        background:none;
        color:rgba(255, 115, 115, 0.5); }
        .bp3-dark .bp3-html-select.bp3-minimal select.bp3-intent-danger:disabled.bp3-active, .bp3-html-select.bp3-minimal .bp3-dark select.bp3-intent-danger:disabled.bp3-active,
        .bp3-dark .bp3-select.bp3-minimal select.bp3-intent-danger:disabled.bp3-active, .bp3-select.bp3-minimal .bp3-dark select.bp3-intent-danger:disabled.bp3-active, .bp3-dark .bp3-html-select.bp3-minimal select.bp3-intent-danger.bp3-disabled.bp3-active, .bp3-html-select.bp3-minimal .bp3-dark select.bp3-intent-danger.bp3-disabled.bp3-active,
        .bp3-dark .bp3-select.bp3-minimal select.bp3-intent-danger.bp3-disabled.bp3-active, .bp3-select.bp3-minimal .bp3-dark select.bp3-intent-danger.bp3-disabled.bp3-active{
          background:rgba(219, 55, 55, 0.3); }

.bp3-html-select.bp3-large select,
.bp3-select.bp3-large select{
  font-size:16px;
  height:40px;
  padding-right:35px; }

.bp3-dark .bp3-html-select select, .bp3-dark .bp3-select select{
  background-color:#394b59;
  background-image:-webkit-gradient(linear, left top, left bottom, from(rgba(255, 255, 255, 0.05)), to(rgba(255, 255, 255, 0)));
  background-image:linear-gradient(to bottom, rgba(255, 255, 255, 0.05), rgba(255, 255, 255, 0));
  -webkit-box-shadow:0 0 0 1px rgba(16, 22, 26, 0.4);
          box-shadow:0 0 0 1px rgba(16, 22, 26, 0.4);
  color:#f5f8fa; }
  .bp3-dark .bp3-html-select select:hover, .bp3-dark .bp3-select select:hover, .bp3-dark .bp3-html-select select:active, .bp3-dark .bp3-select select:active, .bp3-dark .bp3-html-select select.bp3-active, .bp3-dark .bp3-select select.bp3-active{
    color:#f5f8fa; }
  .bp3-dark .bp3-html-select select:hover, .bp3-dark .bp3-select select:hover{
    background-color:#30404d;
    -webkit-box-shadow:0 0 0 1px rgba(16, 22, 26, 0.4);
            box-shadow:0 0 0 1px rgba(16, 22, 26, 0.4); }
  .bp3-dark .bp3-html-select select:active, .bp3-dark .bp3-select select:active, .bp3-dark .bp3-html-select select.bp3-active, .bp3-dark .bp3-select select.bp3-active{
    background-color:#202b33;
    background-image:none;
    -webkit-box-shadow:0 0 0 1px rgba(16, 22, 26, 0.6), inset 0 1px 2px rgba(16, 22, 26, 0.2);
            box-shadow:0 0 0 1px rgba(16, 22, 26, 0.6), inset 0 1px 2px rgba(16, 22, 26, 0.2); }
  .bp3-dark .bp3-html-select select:disabled, .bp3-dark .bp3-select select:disabled, .bp3-dark .bp3-html-select select.bp3-disabled, .bp3-dark .bp3-select select.bp3-disabled{
    background-color:rgba(57, 75, 89, 0.5);
    background-image:none;
    -webkit-box-shadow:none;
            box-shadow:none;
    color:rgba(167, 182, 194, 0.6); }
    .bp3-dark .bp3-html-select select:disabled.bp3-active, .bp3-dark .bp3-select select:disabled.bp3-active, .bp3-dark .bp3-html-select select.bp3-disabled.bp3-active, .bp3-dark .bp3-select select.bp3-disabled.bp3-active{
      background:rgba(57, 75, 89, 0.7); }
  .bp3-dark .bp3-html-select select .bp3-button-spinner .bp3-spinner-head, .bp3-dark .bp3-select select .bp3-button-spinner .bp3-spinner-head{
    background:rgba(16, 22, 26, 0.5);
    stroke:#8a9ba8; }

.bp3-html-select select:disabled,
.bp3-select select:disabled{
  background-color:rgba(206, 217, 224, 0.5);
  -webkit-box-shadow:none;
          box-shadow:none;
  color:rgba(92, 112, 128, 0.6);
  cursor:not-allowed; }

.bp3-html-select .bp3-icon,
.bp3-select .bp3-icon, .bp3-select::after{
  color:#5c7080;
  pointer-events:none;
  position:absolute;
  right:7px;
  top:7px; }
  .bp3-html-select .bp3-disabled.bp3-icon,
  .bp3-select .bp3-disabled.bp3-icon, .bp3-disabled.bp3-select::after{
    color:rgba(92, 112, 128, 0.6); }
.bp3-html-select,
.bp3-select{
  display:inline-block;
  letter-spacing:normal;
  position:relative;
  vertical-align:middle; }
  .bp3-html-select select::-ms-expand,
  .bp3-select select::-ms-expand{
    display:none; }
  .bp3-html-select .bp3-icon,
  .bp3-select .bp3-icon{
    color:#5c7080; }
    .bp3-html-select .bp3-icon:hover,
    .bp3-select .bp3-icon:hover{
      color:#182026; }
    .bp3-dark .bp3-html-select .bp3-icon, .bp3-dark
    .bp3-select .bp3-icon{
      color:#a7b6c2; }
      .bp3-dark .bp3-html-select .bp3-icon:hover, .bp3-dark
      .bp3-select .bp3-icon:hover{
        color:#f5f8fa; }
  .bp3-html-select.bp3-large::after,
  .bp3-html-select.bp3-large .bp3-icon,
  .bp3-select.bp3-large::after,
  .bp3-select.bp3-large .bp3-icon{
    right:12px;
    top:12px; }
  .bp3-html-select.bp3-fill,
  .bp3-html-select.bp3-fill select,
  .bp3-select.bp3-fill,
  .bp3-select.bp3-fill select{
    width:100%; }
  .bp3-dark .bp3-html-select option, .bp3-dark
  .bp3-select option{
    background-color:#30404d;
    color:#f5f8fa; }
  .bp3-dark .bp3-html-select option:disabled, .bp3-dark
  .bp3-select option:disabled{
    color:rgba(167, 182, 194, 0.6); }
  .bp3-dark .bp3-html-select::after, .bp3-dark
  .bp3-select::after{
    color:#a7b6c2; }

.bp3-select::after{
  font-family:"Icons16", sans-serif;
  font-size:16px;
  font-style:normal;
  font-weight:400;
  line-height:1;
  -moz-osx-font-smoothing:grayscale;
  -webkit-font-smoothing:antialiased;
  content:""; }
.bp3-running-text table, table.bp3-html-table{
  border-spacing:0;
  font-size:14px; }
  .bp3-running-text table th, table.bp3-html-table th,
  .bp3-running-text table td,
  table.bp3-html-table td{
    padding:11px;
    text-align:left;
    vertical-align:top; }
  .bp3-running-text table th, table.bp3-html-table th{
    color:#182026;
    font-weight:600; }
  
  .bp3-running-text table td,
  table.bp3-html-table td{
    color:#182026; }
  .bp3-running-text table tbody tr:first-child th, table.bp3-html-table tbody tr:first-child th,
  .bp3-running-text table tbody tr:first-child td,
  table.bp3-html-table tbody tr:first-child td{
    -webkit-box-shadow:inset 0 1px 0 0 rgba(16, 22, 26, 0.15);
            box-shadow:inset 0 1px 0 0 rgba(16, 22, 26, 0.15); }
  .bp3-dark .bp3-running-text table th, .bp3-running-text .bp3-dark table th, .bp3-dark table.bp3-html-table th{
    color:#f5f8fa; }
  .bp3-dark .bp3-running-text table td, .bp3-running-text .bp3-dark table td, .bp3-dark table.bp3-html-table td{
    color:#f5f8fa; }
  .bp3-dark .bp3-running-text table tbody tr:first-child th, .bp3-running-text .bp3-dark table tbody tr:first-child th, .bp3-dark table.bp3-html-table tbody tr:first-child th,
  .bp3-dark .bp3-running-text table tbody tr:first-child td,
  .bp3-running-text .bp3-dark table tbody tr:first-child td,
  .bp3-dark table.bp3-html-table tbody tr:first-child td{
    -webkit-box-shadow:inset 0 1px 0 0 rgba(255, 255, 255, 0.15);
            box-shadow:inset 0 1px 0 0 rgba(255, 255, 255, 0.15); }

table.bp3-html-table.bp3-html-table-condensed th,
table.bp3-html-table.bp3-html-table-condensed td, table.bp3-html-table.bp3-small th,
table.bp3-html-table.bp3-small td{
  padding-bottom:6px;
  padding-top:6px; }

table.bp3-html-table.bp3-html-table-striped tbody tr:nth-child(odd) td{
  background:rgba(191, 204, 214, 0.15); }

table.bp3-html-table.bp3-html-table-bordered th:not(:first-child){
  -webkit-box-shadow:inset 1px 0 0 0 rgba(16, 22, 26, 0.15);
          box-shadow:inset 1px 0 0 0 rgba(16, 22, 26, 0.15); }

table.bp3-html-table.bp3-html-table-bordered tbody tr td{
  -webkit-box-shadow:inset 0 1px 0 0 rgba(16, 22, 26, 0.15);
          box-shadow:inset 0 1px 0 0 rgba(16, 22, 26, 0.15); }
  table.bp3-html-table.bp3-html-table-bordered tbody tr td:not(:first-child){
    -webkit-box-shadow:inset 1px 1px 0 0 rgba(16, 22, 26, 0.15);
            box-shadow:inset 1px 1px 0 0 rgba(16, 22, 26, 0.15); }

table.bp3-html-table.bp3-html-table-bordered.bp3-html-table-striped tbody tr:not(:first-child) td{
  -webkit-box-shadow:none;
          box-shadow:none; }
  table.bp3-html-table.bp3-html-table-bordered.bp3-html-table-striped tbody tr:not(:first-child) td:not(:first-child){
    -webkit-box-shadow:inset 1px 0 0 0 rgba(16, 22, 26, 0.15);
            box-shadow:inset 1px 0 0 0 rgba(16, 22, 26, 0.15); }

table.bp3-html-table.bp3-interactive tbody tr:hover td{
  background-color:rgba(191, 204, 214, 0.3);
  cursor:pointer; }

table.bp3-html-table.bp3-interactive tbody tr:active td{
  background-color:rgba(191, 204, 214, 0.4); }

.bp3-dark table.bp3-html-table{ }
  .bp3-dark table.bp3-html-table.bp3-html-table-striped tbody tr:nth-child(odd) td{
    background:rgba(92, 112, 128, 0.15); }
  .bp3-dark table.bp3-html-table.bp3-html-table-bordered th:not(:first-child){
    -webkit-box-shadow:inset 1px 0 0 0 rgba(255, 255, 255, 0.15);
            box-shadow:inset 1px 0 0 0 rgba(255, 255, 255, 0.15); }
  .bp3-dark table.bp3-html-table.bp3-html-table-bordered tbody tr td{
    -webkit-box-shadow:inset 0 1px 0 0 rgba(255, 255, 255, 0.15);
            box-shadow:inset 0 1px 0 0 rgba(255, 255, 255, 0.15); }
    .bp3-dark table.bp3-html-table.bp3-html-table-bordered tbody tr td:not(:first-child){
      -webkit-box-shadow:inset 1px 1px 0 0 rgba(255, 255, 255, 0.15);
              box-shadow:inset 1px 1px 0 0 rgba(255, 255, 255, 0.15); }
  .bp3-dark table.bp3-html-table.bp3-html-table-bordered.bp3-html-table-striped tbody tr:not(:first-child) td{
    -webkit-box-shadow:inset 1px 0 0 0 rgba(255, 255, 255, 0.15);
            box-shadow:inset 1px 0 0 0 rgba(255, 255, 255, 0.15); }
    .bp3-dark table.bp3-html-table.bp3-html-table-bordered.bp3-html-table-striped tbody tr:not(:first-child) td:first-child{
      -webkit-box-shadow:none;
              box-shadow:none; }
  .bp3-dark table.bp3-html-table.bp3-interactive tbody tr:hover td{
    background-color:rgba(92, 112, 128, 0.3);
    cursor:pointer; }
  .bp3-dark table.bp3-html-table.bp3-interactive tbody tr:active td{
    background-color:rgba(92, 112, 128, 0.4); }

.bp3-key-combo{
  display:-webkit-box;
  display:-ms-flexbox;
  display:flex;
  -webkit-box-orient:horizontal;
  -webkit-box-direction:normal;
      -ms-flex-direction:row;
          flex-direction:row;
  -webkit-box-align:center;
      -ms-flex-align:center;
          align-items:center; }
  .bp3-key-combo > *{
    -webkit-box-flex:0;
        -ms-flex-positive:0;
            flex-grow:0;
    -ms-flex-negative:0;
        flex-shrink:0; }
  .bp3-key-combo > .bp3-fill{
    -webkit-box-flex:1;
        -ms-flex-positive:1;
            flex-grow:1;
    -ms-flex-negative:1;
        flex-shrink:1; }
  .bp3-key-combo::before,
  .bp3-key-combo > *{
    margin-right:5px; }
  .bp3-key-combo:empty::before,
  .bp3-key-combo > :last-child{
    margin-right:0; }

.bp3-hotkey-dialog{
  padding-bottom:0;
  top:40px; }
  .bp3-hotkey-dialog .bp3-dialog-body{
    margin:0;
    padding:0; }
  .bp3-hotkey-dialog .bp3-hotkey-label{
    -webkit-box-flex:1;
        -ms-flex-positive:1;
            flex-grow:1; }

.bp3-hotkey-column{
  margin:auto;
  max-height:80vh;
  overflow-y:auto;
  padding:30px; }
  .bp3-hotkey-column .bp3-heading{
    margin-bottom:20px; }
    .bp3-hotkey-column .bp3-heading:not(:first-child){
      margin-top:40px; }

.bp3-hotkey{
  -webkit-box-align:center;
      -ms-flex-align:center;
          align-items:center;
  display:-webkit-box;
  display:-ms-flexbox;
  display:flex;
  -webkit-box-pack:justify;
      -ms-flex-pack:justify;
          justify-content:space-between;
  margin-left:0;
  margin-right:0; }
  .bp3-hotkey:not(:last-child){
    margin-bottom:10px; }
.bp3-icon{
  display:inline-block;
  -webkit-box-flex:0;
      -ms-flex:0 0 auto;
          flex:0 0 auto;
  vertical-align:text-bottom; }
  .bp3-icon:not(:empty)::before{
    content:"" !important;
    content:unset !important; }
  .bp3-icon > svg{
    display:block; }
    .bp3-icon > svg:not([fill]){
      fill:currentColor; }

.bp3-icon.bp3-intent-primary, .bp3-icon-standard.bp3-intent-primary, .bp3-icon-large.bp3-intent-primary{
  color:#106ba3; }
  .bp3-dark .bp3-icon.bp3-intent-primary, .bp3-dark .bp3-icon-standard.bp3-intent-primary, .bp3-dark .bp3-icon-large.bp3-intent-primary{
    color:#48aff0; }

.bp3-icon.bp3-intent-success, .bp3-icon-standard.bp3-intent-success, .bp3-icon-large.bp3-intent-success{
  color:#0d8050; }
  .bp3-dark .bp3-icon.bp3-intent-success, .bp3-dark .bp3-icon-standard.bp3-intent-success, .bp3-dark .bp3-icon-large.bp3-intent-success{
    color:#3dcc91; }

.bp3-icon.bp3-intent-warning, .bp3-icon-standard.bp3-intent-warning, .bp3-icon-large.bp3-intent-warning{
  color:#bf7326; }
  .bp3-dark .bp3-icon.bp3-intent-warning, .bp3-dark .bp3-icon-standard.bp3-intent-warning, .bp3-dark .bp3-icon-large.bp3-intent-warning{
    color:#ffb366; }

.bp3-icon.bp3-intent-danger, .bp3-icon-standard.bp3-intent-danger, .bp3-icon-large.bp3-intent-danger{
  color:#c23030; }
  .bp3-dark .bp3-icon.bp3-intent-danger, .bp3-dark .bp3-icon-standard.bp3-intent-danger, .bp3-dark .bp3-icon-large.bp3-intent-danger{
    color:#ff7373; }

span.bp3-icon-standard{
  font-family:"Icons16", sans-serif;
  font-size:16px;
  font-style:normal;
  font-weight:400;
  line-height:1;
  -moz-osx-font-smoothing:grayscale;
  -webkit-font-smoothing:antialiased;
  display:inline-block; }

span.bp3-icon-large{
  font-family:"Icons20", sans-serif;
  font-size:20px;
  font-style:normal;
  font-weight:400;
  line-height:1;
  -moz-osx-font-smoothing:grayscale;
  -webkit-font-smoothing:antialiased;
  display:inline-block; }

span.bp3-icon:empty{
  font-family:"Icons20";
  font-size:inherit;
  font-style:normal;
  font-weight:400;
  line-height:1; }
  span.bp3-icon:empty::before{
    -moz-osx-font-smoothing:grayscale;
    -webkit-font-smoothing:antialiased; }

.bp3-icon-add::before{
  content:""; }

.bp3-icon-add-column-left::before{
  content:""; }

.bp3-icon-add-column-right::before{
  content:""; }

.bp3-icon-add-row-bottom::before{
  content:""; }

.bp3-icon-add-row-top::before{
  content:""; }

.bp3-icon-add-to-artifact::before{
  content:""; }

.bp3-icon-add-to-folder::before{
  content:""; }

.bp3-icon-airplane::before{
  content:""; }

.bp3-icon-align-center::before{
  content:""; }

.bp3-icon-align-justify::before{
  content:""; }

.bp3-icon-align-left::before{
  content:""; }

.bp3-icon-align-right::before{
  content:""; }

.bp3-icon-alignment-bottom::before{
  content:""; }

.bp3-icon-alignment-horizontal-center::before{
  content:""; }

.bp3-icon-alignment-left::before{
  content:""; }

.bp3-icon-alignment-right::before{
  content:""; }

.bp3-icon-alignment-top::before{
  content:""; }

.bp3-icon-alignment-vertical-center::before{
  content:""; }

.bp3-icon-annotation::before{
  content:""; }

.bp3-icon-application::before{
  content:""; }

.bp3-icon-applications::before{
  content:""; }

.bp3-icon-archive::before{
  content:""; }

.bp3-icon-arrow-bottom-left::before{
  content:"↙"; }

.bp3-icon-arrow-bottom-right::before{
  content:"↘"; }

.bp3-icon-arrow-down::before{
  content:"↓"; }

.bp3-icon-arrow-left::before{
  content:"←"; }

.bp3-icon-arrow-right::before{
  content:"→"; }

.bp3-icon-arrow-top-left::before{
  content:"↖"; }

.bp3-icon-arrow-top-right::before{
  content:"↗"; }

.bp3-icon-arrow-up::before{
  content:"↑"; }

.bp3-icon-arrows-horizontal::before{
  content:"↔"; }

.bp3-icon-arrows-vertical::before{
  content:"↕"; }

.bp3-icon-asterisk::before{
  content:"*"; }

.bp3-icon-automatic-updates::before{
  content:""; }

.bp3-icon-badge::before{
  content:""; }

.bp3-icon-ban-circle::before{
  content:""; }

.bp3-icon-bank-account::before{
  content:""; }

.bp3-icon-barcode::before{
  content:""; }

.bp3-icon-blank::before{
  content:""; }

.bp3-icon-blocked-person::before{
  content:""; }

.bp3-icon-bold::before{
  content:""; }

.bp3-icon-book::before{
  content:""; }

.bp3-icon-bookmark::before{
  content:""; }

.bp3-icon-box::before{
  content:""; }

.bp3-icon-briefcase::before{
  content:""; }

.bp3-icon-bring-data::before{
  content:""; }

.bp3-icon-build::before{
  content:""; }

.bp3-icon-calculator::before{
  content:""; }

.bp3-icon-calendar::before{
  content:""; }

.bp3-icon-camera::before{
  content:""; }

.bp3-icon-caret-down::before{
  content:"⌄"; }

.bp3-icon-caret-left::before{
  content:"〈"; }

.bp3-icon-caret-right::before{
  content:"〉"; }

.bp3-icon-caret-up::before{
  content:"⌃"; }

.bp3-icon-cell-tower::before{
  content:""; }

.bp3-icon-changes::before{
  content:""; }

.bp3-icon-chart::before{
  content:""; }

.bp3-icon-chat::before{
  content:""; }

.bp3-icon-chevron-backward::before{
  content:""; }

.bp3-icon-chevron-down::before{
  content:""; }

.bp3-icon-chevron-forward::before{
  content:""; }

.bp3-icon-chevron-left::before{
  content:""; }

.bp3-icon-chevron-right::before{
  content:""; }

.bp3-icon-chevron-up::before{
  content:""; }

.bp3-icon-circle::before{
  content:""; }

.bp3-icon-circle-arrow-down::before{
  content:""; }

.bp3-icon-circle-arrow-left::before{
  content:""; }

.bp3-icon-circle-arrow-right::before{
  content:""; }

.bp3-icon-circle-arrow-up::before{
  content:""; }

.bp3-icon-citation::before{
  content:""; }

.bp3-icon-clean::before{
  content:""; }

.bp3-icon-clipboard::before{
  content:""; }

.bp3-icon-cloud::before{
  content:"☁"; }

.bp3-icon-cloud-download::before{
  content:""; }

.bp3-icon-cloud-upload::before{
  content:""; }

.bp3-icon-code::before{
  content:""; }

.bp3-icon-code-block::before{
  content:""; }

.bp3-icon-cog::before{
  content:""; }

.bp3-icon-collapse-all::before{
  content:""; }

.bp3-icon-column-layout::before{
  content:""; }

.bp3-icon-comment::before{
  content:""; }

.bp3-icon-comparison::before{
  content:""; }

.bp3-icon-compass::before{
  content:""; }

.bp3-icon-compressed::before{
  content:""; }

.bp3-icon-confirm::before{
  content:""; }

.bp3-icon-console::before{
  content:""; }

.bp3-icon-contrast::before{
  content:""; }

.bp3-icon-control::before{
  content:""; }

.bp3-icon-credit-card::before{
  content:""; }

.bp3-icon-cross::before{
  content:"✗"; }

.bp3-icon-crown::before{
  content:""; }

.bp3-icon-cube::before{
  content:""; }

.bp3-icon-cube-add::before{
  content:""; }

.bp3-icon-cube-remove::before{
  content:""; }

.bp3-icon-curved-range-chart::before{
  content:""; }

.bp3-icon-cut::before{
  content:""; }

.bp3-icon-dashboard::before{
  content:""; }

.bp3-icon-data-lineage::before{
  content:""; }

.bp3-icon-database::before{
  content:""; }

.bp3-icon-delete::before{
  content:""; }

.bp3-icon-delta::before{
  content:"Δ"; }

.bp3-icon-derive-column::before{
  content:""; }

.bp3-icon-desktop::before{
  content:""; }

.bp3-icon-diagnosis::before{
  content:""; }

.bp3-icon-diagram-tree::before{
  content:""; }

.bp3-icon-direction-left::before{
  content:""; }

.bp3-icon-direction-right::before{
  content:""; }

.bp3-icon-disable::before{
  content:""; }

.bp3-icon-document::before{
  content:""; }

.bp3-icon-document-open::before{
  content:""; }

.bp3-icon-document-share::before{
  content:""; }

.bp3-icon-dollar::before{
  content:"$"; }

.bp3-icon-dot::before{
  content:"•"; }

.bp3-icon-double-caret-horizontal::before{
  content:""; }

.bp3-icon-double-caret-vertical::before{
  content:""; }

.bp3-icon-double-chevron-down::before{
  content:""; }

.bp3-icon-double-chevron-left::before{
  content:""; }

.bp3-icon-double-chevron-right::before{
  content:""; }

.bp3-icon-double-chevron-up::before{
  content:""; }

.bp3-icon-doughnut-chart::before{
  content:""; }

.bp3-icon-download::before{
  content:""; }

.bp3-icon-drag-handle-horizontal::before{
  content:""; }

.bp3-icon-drag-handle-vertical::before{
  content:""; }

.bp3-icon-draw::before{
  content:""; }

.bp3-icon-drive-time::before{
  content:""; }

.bp3-icon-duplicate::before{
  content:""; }

.bp3-icon-edit::before{
  content:"✎"; }

.bp3-icon-eject::before{
  content:"⏏"; }

.bp3-icon-endorsed::before{
  content:""; }

.bp3-icon-envelope::before{
  content:"✉"; }

.bp3-icon-equals::before{
  content:""; }

.bp3-icon-eraser::before{
  content:""; }

.bp3-icon-error::before{
  content:""; }

.bp3-icon-euro::before{
  content:"€"; }

.bp3-icon-exchange::before{
  content:""; }

.bp3-icon-exclude-row::before{
  content:""; }

.bp3-icon-expand-all::before{
  content:""; }

.bp3-icon-export::before{
  content:""; }

.bp3-icon-eye-off::before{
  content:""; }

.bp3-icon-eye-on::before{
  content:""; }

.bp3-icon-eye-open::before{
  content:""; }

.bp3-icon-fast-backward::before{
  content:""; }

.bp3-icon-fast-forward::before{
  content:""; }

.bp3-icon-feed::before{
  content:""; }

.bp3-icon-feed-subscribed::before{
  content:""; }

.bp3-icon-film::before{
  content:""; }

.bp3-icon-filter::before{
  content:""; }

.bp3-icon-filter-keep::before{
  content:""; }

.bp3-icon-filter-list::before{
  content:""; }

.bp3-icon-filter-open::before{
  content:""; }

.bp3-icon-filter-remove::before{
  content:""; }

.bp3-icon-flag::before{
  content:"⚑"; }

.bp3-icon-flame::before{
  content:""; }

.bp3-icon-flash::before{
  content:""; }

.bp3-icon-floppy-disk::before{
  content:""; }

.bp3-icon-flow-branch::before{
  content:""; }

.bp3-icon-flow-end::before{
  content:""; }

.bp3-icon-flow-linear::before{
  content:""; }

.bp3-icon-flow-review::before{
  content:""; }

.bp3-icon-flow-review-branch::before{
  content:""; }

.bp3-icon-flows::before{
  content:""; }

.bp3-icon-folder-close::before{
  content:""; }

.bp3-icon-folder-new::before{
  content:""; }

.bp3-icon-folder-open::before{
  content:""; }

.bp3-icon-folder-shared::before{
  content:""; }

.bp3-icon-folder-shared-open::before{
  content:""; }

.bp3-icon-follower::before{
  content:""; }

.bp3-icon-following::before{
  content:""; }

.bp3-icon-font::before{
  content:""; }

.bp3-icon-fork::before{
  content:""; }

.bp3-icon-form::before{
  content:""; }

.bp3-icon-full-circle::before{
  content:""; }

.bp3-icon-full-stacked-chart::before{
  content:""; }

.bp3-icon-fullscreen::before{
  content:""; }

.bp3-icon-function::before{
  content:""; }

.bp3-icon-gantt-chart::before{
  content:""; }

.bp3-icon-geolocation::before{
  content:""; }

.bp3-icon-geosearch::before{
  content:""; }

.bp3-icon-git-branch::before{
  content:""; }

.bp3-icon-git-commit::before{
  content:""; }

.bp3-icon-git-merge::before{
  content:""; }

.bp3-icon-git-new-branch::before{
  content:""; }

.bp3-icon-git-pull::before{
  content:""; }

.bp3-icon-git-push::before{
  content:""; }

.bp3-icon-git-repo::before{
  content:""; }

.bp3-icon-glass::before{
  content:""; }

.bp3-icon-globe::before{
  content:""; }

.bp3-icon-globe-network::before{
  content:""; }

.bp3-icon-graph::before{
  content:""; }

.bp3-icon-graph-remove::before{
  content:""; }

.bp3-icon-greater-than::before{
  content:""; }

.bp3-icon-greater-than-or-equal-to::before{
  content:""; }

.bp3-icon-grid::before{
  content:""; }

.bp3-icon-grid-view::before{
  content:""; }

.bp3-icon-group-objects::before{
  content:""; }

.bp3-icon-grouped-bar-chart::before{
  content:""; }

.bp3-icon-hand::before{
  content:""; }

.bp3-icon-hand-down::before{
  content:""; }

.bp3-icon-hand-left::before{
  content:""; }

.bp3-icon-hand-right::before{
  content:""; }

.bp3-icon-hand-up::before{
  content:""; }

.bp3-icon-header::before{
  content:""; }

.bp3-icon-header-one::before{
  content:""; }

.bp3-icon-header-two::before{
  content:""; }

.bp3-icon-headset::before{
  content:""; }

.bp3-icon-heart::before{
  content:"♥"; }

.bp3-icon-heart-broken::before{
  content:""; }

.bp3-icon-heat-grid::before{
  content:""; }

.bp3-icon-heatmap::before{
  content:""; }

.bp3-icon-help::before{
  content:"?"; }

.bp3-icon-helper-management::before{
  content:""; }

.bp3-icon-highlight::before{
  content:""; }

.bp3-icon-history::before{
  content:""; }

.bp3-icon-home::before{
  content:"⌂"; }

.bp3-icon-horizontal-bar-chart::before{
  content:""; }

.bp3-icon-horizontal-bar-chart-asc::before{
  content:""; }

.bp3-icon-horizontal-bar-chart-desc::before{
  content:""; }

.bp3-icon-horizontal-distribution::before{
  content:""; }

.bp3-icon-id-number::before{
  content:""; }

.bp3-icon-image-rotate-left::before{
  content:""; }

.bp3-icon-image-rotate-right::before{
  content:""; }

.bp3-icon-import::before{
  content:""; }

.bp3-icon-inbox::before{
  content:""; }

.bp3-icon-inbox-filtered::before{
  content:""; }

.bp3-icon-inbox-geo::before{
  content:""; }

.bp3-icon-inbox-search::before{
  content:""; }

.bp3-icon-inbox-update::before{
  content:""; }

.bp3-icon-info-sign::before{
  content:"ℹ"; }

.bp3-icon-inheritance::before{
  content:""; }

.bp3-icon-inner-join::before{
  content:""; }

.bp3-icon-insert::before{
  content:""; }

.bp3-icon-intersection::before{
  content:""; }

.bp3-icon-ip-address::before{
  content:""; }

.bp3-icon-issue::before{
  content:""; }

.bp3-icon-issue-closed::before{
  content:""; }

.bp3-icon-issue-new::before{
  content:""; }

.bp3-icon-italic::before{
  content:""; }

.bp3-icon-join-table::before{
  content:""; }

.bp3-icon-key::before{
  content:""; }

.bp3-icon-key-backspace::before{
  content:""; }

.bp3-icon-key-command::before{
  content:""; }

.bp3-icon-key-control::before{
  content:""; }

.bp3-icon-key-delete::before{
  content:""; }

.bp3-icon-key-enter::before{
  content:""; }

.bp3-icon-key-escape::before{
  content:""; }

.bp3-icon-key-option::before{
  content:""; }

.bp3-icon-key-shift::before{
  content:""; }

.bp3-icon-key-tab::before{
  content:""; }

.bp3-icon-known-vehicle::before{
  content:""; }

.bp3-icon-lab-test::before{
  content:""; }

.bp3-icon-label::before{
  content:""; }

.bp3-icon-layer::before{
  content:""; }

.bp3-icon-layers::before{
  content:""; }

.bp3-icon-layout::before{
  content:""; }

.bp3-icon-layout-auto::before{
  content:""; }

.bp3-icon-layout-balloon::before{
  content:""; }

.bp3-icon-layout-circle::before{
  content:""; }

.bp3-icon-layout-grid::before{
  content:""; }

.bp3-icon-layout-group-by::before{
  content:""; }

.bp3-icon-layout-hierarchy::before{
  content:""; }

.bp3-icon-layout-linear::before{
  content:""; }

.bp3-icon-layout-skew-grid::before{
  content:""; }

.bp3-icon-layout-sorted-clusters::before{
  content:""; }

.bp3-icon-learning::before{
  content:""; }

.bp3-icon-left-join::before{
  content:""; }

.bp3-icon-less-than::before{
  content:""; }

.bp3-icon-less-than-or-equal-to::before{
  content:""; }

.bp3-icon-lifesaver::before{
  content:""; }

.bp3-icon-lightbulb::before{
  content:""; }

.bp3-icon-link::before{
  content:""; }

.bp3-icon-list::before{
  content:"☰"; }

.bp3-icon-list-columns::before{
  content:""; }

.bp3-icon-list-detail-view::before{
  content:""; }

.bp3-icon-locate::before{
  content:""; }

.bp3-icon-lock::before{
  content:""; }

.bp3-icon-log-in::before{
  content:""; }

.bp3-icon-log-out::before{
  content:""; }

.bp3-icon-manual::before{
  content:""; }

.bp3-icon-manually-entered-data::before{
  content:""; }

.bp3-icon-map::before{
  content:""; }

.bp3-icon-map-create::before{
  content:""; }

.bp3-icon-map-marker::before{
  content:""; }

.bp3-icon-maximize::before{
  content:""; }

.bp3-icon-media::before{
  content:""; }

.bp3-icon-menu::before{
  content:""; }

.bp3-icon-menu-closed::before{
  content:""; }

.bp3-icon-menu-open::before{
  content:""; }

.bp3-icon-merge-columns::before{
  content:""; }

.bp3-icon-merge-links::before{
  content:""; }

.bp3-icon-minimize::before{
  content:""; }

.bp3-icon-minus::before{
  content:"−"; }

.bp3-icon-mobile-phone::before{
  content:""; }

.bp3-icon-mobile-video::before{
  content:""; }

.bp3-icon-moon::before{
  content:""; }

.bp3-icon-more::before{
  content:""; }

.bp3-icon-mountain::before{
  content:""; }

.bp3-icon-move::before{
  content:""; }

.bp3-icon-mugshot::before{
  content:""; }

.bp3-icon-multi-select::before{
  content:""; }

.bp3-icon-music::before{
  content:""; }

.bp3-icon-new-drawing::before{
  content:""; }

.bp3-icon-new-grid-item::before{
  content:""; }

.bp3-icon-new-layer::before{
  content:""; }

.bp3-icon-new-layers::before{
  content:""; }

.bp3-icon-new-link::before{
  content:""; }

.bp3-icon-new-object::before{
  content:""; }

.bp3-icon-new-person::before{
  content:""; }

.bp3-icon-new-prescription::before{
  content:""; }

.bp3-icon-new-text-box::before{
  content:""; }

.bp3-icon-ninja::before{
  content:""; }

.bp3-icon-not-equal-to::before{
  content:""; }

.bp3-icon-notifications::before{
  content:""; }

.bp3-icon-notifications-updated::before{
  content:""; }

.bp3-icon-numbered-list::before{
  content:""; }

.bp3-icon-numerical::before{
  content:""; }

.bp3-icon-office::before{
  content:""; }

.bp3-icon-offline::before{
  content:""; }

.bp3-icon-oil-field::before{
  content:""; }

.bp3-icon-one-column::before{
  content:""; }

.bp3-icon-outdated::before{
  content:""; }

.bp3-icon-page-layout::before{
  content:""; }

.bp3-icon-panel-stats::before{
  content:""; }

.bp3-icon-panel-table::before{
  content:""; }

.bp3-icon-paperclip::before{
  content:""; }

.bp3-icon-paragraph::before{
  content:""; }

.bp3-icon-path::before{
  content:""; }

.bp3-icon-path-search::before{
  content:""; }

.bp3-icon-pause::before{
  content:""; }

.bp3-icon-people::before{
  content:""; }

.bp3-icon-percentage::before{
  content:""; }

.bp3-icon-person::before{
  content:""; }

.bp3-icon-phone::before{
  content:"☎"; }

.bp3-icon-pie-chart::before{
  content:""; }

.bp3-icon-pin::before{
  content:""; }

.bp3-icon-pivot::before{
  content:""; }

.bp3-icon-pivot-table::before{
  content:""; }

.bp3-icon-play::before{
  content:""; }

.bp3-icon-plus::before{
  content:"+"; }

.bp3-icon-polygon-filter::before{
  content:""; }

.bp3-icon-power::before{
  content:""; }

.bp3-icon-predictive-analysis::before{
  content:""; }

.bp3-icon-prescription::before{
  content:""; }

.bp3-icon-presentation::before{
  content:""; }

.bp3-icon-print::before{
  content:"⎙"; }

.bp3-icon-projects::before{
  content:""; }

.bp3-icon-properties::before{
  content:""; }

.bp3-icon-property::before{
  content:""; }

.bp3-icon-publish-function::before{
  content:""; }

.bp3-icon-pulse::before{
  content:""; }

.bp3-icon-random::before{
  content:""; }

.bp3-icon-record::before{
  content:""; }

.bp3-icon-redo::before{
  content:""; }

.bp3-icon-refresh::before{
  content:""; }

.bp3-icon-regression-chart::before{
  content:""; }

.bp3-icon-remove::before{
  content:""; }

.bp3-icon-remove-column::before{
  content:""; }

.bp3-icon-remove-column-left::before{
  content:""; }

.bp3-icon-remove-column-right::before{
  content:""; }

.bp3-icon-remove-row-bottom::before{
  content:""; }

.bp3-icon-remove-row-top::before{
  content:""; }

.bp3-icon-repeat::before{
  content:""; }

.bp3-icon-reset::before{
  content:""; }

.bp3-icon-resolve::before{
  content:""; }

.bp3-icon-rig::before{
  content:""; }

.bp3-icon-right-join::before{
  content:""; }

.bp3-icon-ring::before{
  content:""; }

.bp3-icon-rotate-document::before{
  content:""; }

.bp3-icon-rotate-page::before{
  content:""; }

.bp3-icon-satellite::before{
  content:""; }

.bp3-icon-saved::before{
  content:""; }

.bp3-icon-scatter-plot::before{
  content:""; }

.bp3-icon-search::before{
  content:""; }

.bp3-icon-search-around::before{
  content:""; }

.bp3-icon-search-template::before{
  content:""; }

.bp3-icon-search-text::before{
  content:""; }

.bp3-icon-segmented-control::before{
  content:""; }

.bp3-icon-select::before{
  content:""; }

.bp3-icon-selection::before{
  content:"⦿"; }

.bp3-icon-send-to::before{
  content:""; }

.bp3-icon-send-to-graph::before{
  content:""; }

.bp3-icon-send-to-map::before{
  content:""; }

.bp3-icon-series-add::before{
  content:""; }

.bp3-icon-series-configuration::before{
  content:""; }

.bp3-icon-series-derived::before{
  content:""; }

.bp3-icon-series-filtered::before{
  content:""; }

.bp3-icon-series-search::before{
  content:""; }

.bp3-icon-settings::before{
  content:""; }

.bp3-icon-share::before{
  content:""; }

.bp3-icon-shield::before{
  content:""; }

.bp3-icon-shop::before{
  content:""; }

.bp3-icon-shopping-cart::before{
  content:""; }

.bp3-icon-signal-search::before{
  content:""; }

.bp3-icon-sim-card::before{
  content:""; }

.bp3-icon-slash::before{
  content:""; }

.bp3-icon-small-cross::before{
  content:""; }

.bp3-icon-small-minus::before{
  content:""; }

.bp3-icon-small-plus::before{
  content:""; }

.bp3-icon-small-tick::before{
  content:""; }

.bp3-icon-snowflake::before{
  content:""; }

.bp3-icon-social-media::before{
  content:""; }

.bp3-icon-sort::before{
  content:""; }

.bp3-icon-sort-alphabetical::before{
  content:""; }

.bp3-icon-sort-alphabetical-desc::before{
  content:""; }

.bp3-icon-sort-asc::before{
  content:""; }

.bp3-icon-sort-desc::before{
  content:""; }

.bp3-icon-sort-numerical::before{
  content:""; }

.bp3-icon-sort-numerical-desc::before{
  content:""; }

.bp3-icon-split-columns::before{
  content:""; }

.bp3-icon-square::before{
  content:""; }

.bp3-icon-stacked-chart::before{
  content:""; }

.bp3-icon-star::before{
  content:"★"; }

.bp3-icon-star-empty::before{
  content:"☆"; }

.bp3-icon-step-backward::before{
  content:""; }

.bp3-icon-step-chart::before{
  content:""; }

.bp3-icon-step-forward::before{
  content:""; }

.bp3-icon-stop::before{
  content:""; }

.bp3-icon-stopwatch::before{
  content:""; }

.bp3-icon-strikethrough::before{
  content:""; }

.bp3-icon-style::before{
  content:""; }

.bp3-icon-swap-horizontal::before{
  content:""; }

.bp3-icon-swap-vertical::before{
  content:""; }

.bp3-icon-symbol-circle::before{
  content:""; }

.bp3-icon-symbol-cross::before{
  content:""; }

.bp3-icon-symbol-diamond::before{
  content:""; }

.bp3-icon-symbol-square::before{
  content:""; }

.bp3-icon-symbol-triangle-down::before{
  content:""; }

.bp3-icon-symbol-triangle-up::before{
  content:""; }

.bp3-icon-tag::before{
  content:""; }

.bp3-icon-take-action::before{
  content:""; }

.bp3-icon-taxi::before{
  content:""; }

.bp3-icon-text-highlight::before{
  content:""; }

.bp3-icon-th::before{
  content:""; }

.bp3-icon-th-derived::before{
  content:""; }

.bp3-icon-th-disconnect::before{
  content:""; }

.bp3-icon-th-filtered::before{
  content:""; }

.bp3-icon-th-list::before{
  content:""; }

.bp3-icon-thumbs-down::before{
  content:""; }

.bp3-icon-thumbs-up::before{
  content:""; }

.bp3-icon-tick::before{
  content:"✓"; }

.bp3-icon-tick-circle::before{
  content:""; }

.bp3-icon-time::before{
  content:"⏲"; }

.bp3-icon-timeline-area-chart::before{
  content:""; }

.bp3-icon-timeline-bar-chart::before{
  content:""; }

.bp3-icon-timeline-events::before{
  content:""; }

.bp3-icon-timeline-line-chart::before{
  content:""; }

.bp3-icon-tint::before{
  content:""; }

.bp3-icon-torch::before{
  content:""; }

.bp3-icon-tractor::before{
  content:""; }

.bp3-icon-train::before{
  content:""; }

.bp3-icon-translate::before{
  content:""; }

.bp3-icon-trash::before{
  content:""; }

.bp3-icon-tree::before{
  content:""; }

.bp3-icon-trending-down::before{
  content:""; }

.bp3-icon-trending-up::before{
  content:""; }

.bp3-icon-truck::before{
  content:""; }

.bp3-icon-two-columns::before{
  content:""; }

.bp3-icon-unarchive::before{
  content:""; }

.bp3-icon-underline::before{
  content:"⎁"; }

.bp3-icon-undo::before{
  content:"⎌"; }

.bp3-icon-ungroup-objects::before{
  content:""; }

.bp3-icon-unknown-vehicle::before{
  content:""; }

.bp3-icon-unlock::before{
  content:""; }

.bp3-icon-unpin::before{
  content:""; }

.bp3-icon-unresolve::before{
  content:""; }

.bp3-icon-updated::before{
  content:""; }

.bp3-icon-upload::before{
  content:""; }

.bp3-icon-user::before{
  content:""; }

.bp3-icon-variable::before{
  content:""; }

.bp3-icon-vertical-bar-chart-asc::before{
  content:""; }

.bp3-icon-vertical-bar-chart-desc::before{
  content:""; }

.bp3-icon-vertical-distribution::before{
  content:""; }

.bp3-icon-video::before{
  content:""; }

.bp3-icon-volume-down::before{
  content:""; }

.bp3-icon-volume-off::before{
  content:""; }

.bp3-icon-volume-up::before{
  content:""; }

.bp3-icon-walk::before{
  content:""; }

.bp3-icon-warning-sign::before{
  content:""; }

.bp3-icon-waterfall-chart::before{
  content:""; }

.bp3-icon-widget::before{
  content:""; }

.bp3-icon-widget-button::before{
  content:""; }

.bp3-icon-widget-footer::before{
  content:""; }

.bp3-icon-widget-header::before{
  content:""; }

.bp3-icon-wrench::before{
  content:""; }

.bp3-icon-zoom-in::before{
  content:""; }

.bp3-icon-zoom-out::before{
  content:""; }

.bp3-icon-zoom-to-fit::before{
  content:""; }
.bp3-submenu > .bp3-popover-wrapper{
  display:block; }

.bp3-submenu .bp3-popover-target{
  display:block; }
  .bp3-submenu .bp3-popover-target.bp3-popover-open > .bp3-menu-item{ }

.bp3-submenu.bp3-popover{
  -webkit-box-shadow:none;
          box-shadow:none;
  padding:0 5px; }
  .bp3-submenu.bp3-popover > .bp3-popover-content{
    -webkit-box-shadow:0 0 0 1px rgba(16, 22, 26, 0.1), 0 2px 4px rgba(16, 22, 26, 0.2), 0 8px 24px rgba(16, 22, 26, 0.2);
            box-shadow:0 0 0 1px rgba(16, 22, 26, 0.1), 0 2px 4px rgba(16, 22, 26, 0.2), 0 8px 24px rgba(16, 22, 26, 0.2); }
  .bp3-dark .bp3-submenu.bp3-popover, .bp3-submenu.bp3-popover.bp3-dark{
    -webkit-box-shadow:none;
            box-shadow:none; }
    .bp3-dark .bp3-submenu.bp3-popover > .bp3-popover-content, .bp3-submenu.bp3-popover.bp3-dark > .bp3-popover-content{
      -webkit-box-shadow:0 0 0 1px rgba(16, 22, 26, 0.2), 0 2px 4px rgba(16, 22, 26, 0.4), 0 8px 24px rgba(16, 22, 26, 0.4);
              box-shadow:0 0 0 1px rgba(16, 22, 26, 0.2), 0 2px 4px rgba(16, 22, 26, 0.4), 0 8px 24px rgba(16, 22, 26, 0.4); }
.bp3-menu{
  background:#ffffff;
  border-radius:3px;
  color:#182026;
  list-style:none;
  margin:0;
  min-width:180px;
  padding:5px;
  text-align:left; }

.bp3-menu-divider{
  border-top:1px solid rgba(16, 22, 26, 0.15);
  display:block;
  margin:5px; }
  .bp3-dark .bp3-menu-divider{
    border-top-color:rgba(255, 255, 255, 0.15); }

.bp3-menu-item{
  display:-webkit-box;
  display:-ms-flexbox;
  display:flex;
  -webkit-box-orient:horizontal;
  -webkit-box-direction:normal;
      -ms-flex-direction:row;
          flex-direction:row;
  -webkit-box-align:start;
      -ms-flex-align:start;
          align-items:flex-start;
  border-radius:2px;
  color:inherit;
  line-height:20px;
  padding:5px 7px;
  text-decoration:none;
  -webkit-user-select:none;
     -moz-user-select:none;
      -ms-user-select:none;
          user-select:none; }
  .bp3-menu-item > *{
    -webkit-box-flex:0;
        -ms-flex-positive:0;
            flex-grow:0;
    -ms-flex-negative:0;
        flex-shrink:0; }
  .bp3-menu-item > .bp3-fill{
    -webkit-box-flex:1;
        -ms-flex-positive:1;
            flex-grow:1;
    -ms-flex-negative:1;
        flex-shrink:1; }
  .bp3-menu-item::before,
  .bp3-menu-item > *{
    margin-right:7px; }
  .bp3-menu-item:empty::before,
  .bp3-menu-item > :last-child{
    margin-right:0; }
  .bp3-menu-item > .bp3-fill{
    word-break:break-word; }
  .bp3-menu-item:hover, .bp3-submenu .bp3-popover-target.bp3-popover-open > .bp3-menu-item{
    background-color:rgba(167, 182, 194, 0.3);
    cursor:pointer;
    text-decoration:none; }
  .bp3-menu-item.bp3-disabled{
    background-color:inherit;
    color:rgba(92, 112, 128, 0.6);
    cursor:not-allowed; }
  .bp3-dark .bp3-menu-item{
    color:inherit; }
    .bp3-dark .bp3-menu-item:hover, .bp3-dark .bp3-submenu .bp3-popover-target.bp3-popover-open > .bp3-menu-item, .bp3-submenu .bp3-dark .bp3-popover-target.bp3-popover-open > .bp3-menu-item{
      background-color:rgba(138, 155, 168, 0.15);
      color:inherit; }
    .bp3-dark .bp3-menu-item.bp3-disabled{
      background-color:inherit;
      color:rgba(167, 182, 194, 0.6); }
  .bp3-menu-item.bp3-intent-primary{
    color:#106ba3; }
    .bp3-menu-item.bp3-intent-primary .bp3-icon{
      color:inherit; }
    .bp3-menu-item.bp3-intent-primary::before, .bp3-menu-item.bp3-intent-primary::after,
    .bp3-menu-item.bp3-intent-primary .bp3-menu-item-label{
      color:#106ba3; }
    .bp3-menu-item.bp3-intent-primary:hover, .bp3-submenu .bp3-popover-target.bp3-popover-open > .bp3-intent-primary.bp3-menu-item, .bp3-menu-item.bp3-intent-primary.bp3-active{
      background-color:#137cbd; }
    .bp3-menu-item.bp3-intent-primary:active{
      background-color:#106ba3; }
    .bp3-menu-item.bp3-intent-primary:hover, .bp3-submenu .bp3-popover-target.bp3-popover-open > .bp3-intent-primary.bp3-menu-item, .bp3-menu-item.bp3-intent-primary:hover::before, .bp3-submenu .bp3-popover-target.bp3-popover-open > .bp3-intent-primary.bp3-menu-item::before, .bp3-menu-item.bp3-intent-primary:hover::after, .bp3-submenu .bp3-popover-target.bp3-popover-open > .bp3-intent-primary.bp3-menu-item::after,
    .bp3-menu-item.bp3-intent-primary:hover .bp3-menu-item-label,
    .bp3-submenu .bp3-popover-target.bp3-popover-open > .bp3-intent-primary.bp3-menu-item .bp3-menu-item-label, .bp3-menu-item.bp3-intent-primary:active, .bp3-menu-item.bp3-intent-primary:active::before, .bp3-menu-item.bp3-intent-primary:active::after,
    .bp3-menu-item.bp3-intent-primary:active .bp3-menu-item-label, .bp3-menu-item.bp3-intent-primary.bp3-active, .bp3-menu-item.bp3-intent-primary.bp3-active::before, .bp3-menu-item.bp3-intent-primary.bp3-active::after,
    .bp3-menu-item.bp3-intent-primary.bp3-active .bp3-menu-item-label{
      color:#ffffff; }
  .bp3-menu-item.bp3-intent-success{
    color:#0d8050; }
    .bp3-menu-item.bp3-intent-success .bp3-icon{
      color:inherit; }
    .bp3-menu-item.bp3-intent-success::before, .bp3-menu-item.bp3-intent-success::after,
    .bp3-menu-item.bp3-intent-success .bp3-menu-item-label{
      color:#0d8050; }
    .bp3-menu-item.bp3-intent-success:hover, .bp3-submenu .bp3-popover-target.bp3-popover-open > .bp3-intent-success.bp3-menu-item, .bp3-menu-item.bp3-intent-success.bp3-active{
      background-color:#0f9960; }
    .bp3-menu-item.bp3-intent-success:active{
      background-color:#0d8050; }
    .bp3-menu-item.bp3-intent-success:hover, .bp3-submenu .bp3-popover-target.bp3-popover-open > .bp3-intent-success.bp3-menu-item, .bp3-menu-item.bp3-intent-success:hover::before, .bp3-submenu .bp3-popover-target.bp3-popover-open > .bp3-intent-success.bp3-menu-item::before, .bp3-menu-item.bp3-intent-success:hover::after, .bp3-submenu .bp3-popover-target.bp3-popover-open > .bp3-intent-success.bp3-menu-item::after,
    .bp3-menu-item.bp3-intent-success:hover .bp3-menu-item-label,
    .bp3-submenu .bp3-popover-target.bp3-popover-open > .bp3-intent-success.bp3-menu-item .bp3-menu-item-label, .bp3-menu-item.bp3-intent-success:active, .bp3-menu-item.bp3-intent-success:active::before, .bp3-menu-item.bp3-intent-success:active::after,
    .bp3-menu-item.bp3-intent-success:active .bp3-menu-item-label, .bp3-menu-item.bp3-intent-success.bp3-active, .bp3-menu-item.bp3-intent-success.bp3-active::before, .bp3-menu-item.bp3-intent-success.bp3-active::after,
    .bp3-menu-item.bp3-intent-success.bp3-active .bp3-menu-item-label{
      color:#ffffff; }
  .bp3-menu-item.bp3-intent-warning{
    color:#bf7326; }
    .bp3-menu-item.bp3-intent-warning .bp3-icon{
      color:inherit; }
    .bp3-menu-item.bp3-intent-warning::before, .bp3-menu-item.bp3-intent-warning::after,
    .bp3-menu-item.bp3-intent-warning .bp3-menu-item-label{
      color:#bf7326; }
    .bp3-menu-item.bp3-intent-warning:hover, .bp3-submenu .bp3-popover-target.bp3-popover-open > .bp3-intent-warning.bp3-menu-item, .bp3-menu-item.bp3-intent-warning.bp3-active{
      background-color:#d9822b; }
    .bp3-menu-item.bp3-intent-warning:active{
      background-color:#bf7326; }
    .bp3-menu-item.bp3-intent-warning:hover, .bp3-submenu .bp3-popover-target.bp3-popover-open > .bp3-intent-warning.bp3-menu-item, .bp3-menu-item.bp3-intent-warning:hover::before, .bp3-submenu .bp3-popover-target.bp3-popover-open > .bp3-intent-warning.bp3-menu-item::before, .bp3-menu-item.bp3-intent-warning:hover::after, .bp3-submenu .bp3-popover-target.bp3-popover-open > .bp3-intent-warning.bp3-menu-item::after,
    .bp3-menu-item.bp3-intent-warning:hover .bp3-menu-item-label,
    .bp3-submenu .bp3-popover-target.bp3-popover-open > .bp3-intent-warning.bp3-menu-item .bp3-menu-item-label, .bp3-menu-item.bp3-intent-warning:active, .bp3-menu-item.bp3-intent-warning:active::before, .bp3-menu-item.bp3-intent-warning:active::after,
    .bp3-menu-item.bp3-intent-warning:active .bp3-menu-item-label, .bp3-menu-item.bp3-intent-warning.bp3-active, .bp3-menu-item.bp3-intent-warning.bp3-active::before, .bp3-menu-item.bp3-intent-warning.bp3-active::after,
    .bp3-menu-item.bp3-intent-warning.bp3-active .bp3-menu-item-label{
      color:#ffffff; }
  .bp3-menu-item.bp3-intent-danger{
    color:#c23030; }
    .bp3-menu-item.bp3-intent-danger .bp3-icon{
      color:inherit; }
    .bp3-menu-item.bp3-intent-danger::before, .bp3-menu-item.bp3-intent-danger::after,
    .bp3-menu-item.bp3-intent-danger .bp3-menu-item-label{
      color:#c23030; }
    .bp3-menu-item.bp3-intent-danger:hover, .bp3-submenu .bp3-popover-target.bp3-popover-open > .bp3-intent-danger.bp3-menu-item, .bp3-menu-item.bp3-intent-danger.bp3-active{
      background-color:#db3737; }
    .bp3-menu-item.bp3-intent-danger:active{
      background-color:#c23030; }
    .bp3-menu-item.bp3-intent-danger:hover, .bp3-submenu .bp3-popover-target.bp3-popover-open > .bp3-intent-danger.bp3-menu-item, .bp3-menu-item.bp3-intent-danger:hover::before, .bp3-submenu .bp3-popover-target.bp3-popover-open > .bp3-intent-danger.bp3-menu-item::before, .bp3-menu-item.bp3-intent-danger:hover::after, .bp3-submenu .bp3-popover-target.bp3-popover-open > .bp3-intent-danger.bp3-menu-item::after,
    .bp3-menu-item.bp3-intent-danger:hover .bp3-menu-item-label,
    .bp3-submenu .bp3-popover-target.bp3-popover-open > .bp3-intent-danger.bp3-menu-item .bp3-menu-item-label, .bp3-menu-item.bp3-intent-danger:active, .bp3-menu-item.bp3-intent-danger:active::before, .bp3-menu-item.bp3-intent-danger:active::after,
    .bp3-menu-item.bp3-intent-danger:active .bp3-menu-item-label, .bp3-menu-item.bp3-intent-danger.bp3-active, .bp3-menu-item.bp3-intent-danger.bp3-active::before, .bp3-menu-item.bp3-intent-danger.bp3-active::after,
    .bp3-menu-item.bp3-intent-danger.bp3-active .bp3-menu-item-label{
      color:#ffffff; }
  .bp3-menu-item::before{
    font-family:"Icons16", sans-serif;
    font-size:16px;
    font-style:normal;
    font-weight:400;
    line-height:1;
    -moz-osx-font-smoothing:grayscale;
    -webkit-font-smoothing:antialiased;
    margin-right:7px; }
  .bp3-menu-item::before,
  .bp3-menu-item > .bp3-icon{
    color:#5c7080;
    margin-top:2px; }
  .bp3-menu-item .bp3-menu-item-label{
    color:#5c7080; }
  .bp3-menu-item:hover, .bp3-submenu .bp3-popover-target.bp3-popover-open > .bp3-menu-item{
    color:inherit; }
  .bp3-menu-item.bp3-active, .bp3-menu-item:active{
    background-color:rgba(115, 134, 148, 0.3); }
  .bp3-menu-item.bp3-disabled{
    background-color:inherit !important;
    color:rgba(92, 112, 128, 0.6) !important;
    cursor:not-allowed !important;
    outline:none !important; }
    .bp3-menu-item.bp3-disabled::before,
    .bp3-menu-item.bp3-disabled > .bp3-icon,
    .bp3-menu-item.bp3-disabled .bp3-menu-item-label{
      color:rgba(92, 112, 128, 0.6) !important; }
  .bp3-large .bp3-menu-item{
    font-size:16px;
    line-height:22px;
    padding:9px 7px; }
    .bp3-large .bp3-menu-item .bp3-icon{
      margin-top:3px; }
    .bp3-large .bp3-menu-item::before{
      font-family:"Icons20", sans-serif;
      font-size:20px;
      font-style:normal;
      font-weight:400;
      line-height:1;
      -moz-osx-font-smoothing:grayscale;
      -webkit-font-smoothing:antialiased;
      margin-right:10px;
      margin-top:1px; }

button.bp3-menu-item{
  background:none;
  border:none;
  text-align:left;
  width:100%; }
.bp3-menu-header{
  border-top:1px solid rgba(16, 22, 26, 0.15);
  display:block;
  margin:5px;
  cursor:default;
  padding-left:2px; }
  .bp3-dark .bp3-menu-header{
    border-top-color:rgba(255, 255, 255, 0.15); }
  .bp3-menu-header:first-of-type{
    border-top:none; }
  .bp3-menu-header > h6{
    color:#182026;
    font-weight:600;
    overflow:hidden;
    text-overflow:ellipsis;
    white-space:nowrap;
    word-wrap:normal;
    line-height:17px;
    margin:0;
    padding:10px 7px 0 1px; }
    .bp3-dark .bp3-menu-header > h6{
      color:#f5f8fa; }
  .bp3-menu-header:first-of-type > h6{
    padding-top:0; }
  .bp3-large .bp3-menu-header > h6{
    font-size:18px;
    padding-bottom:5px;
    padding-top:15px; }
  .bp3-large .bp3-menu-header:first-of-type > h6{
    padding-top:0; }

.bp3-dark .bp3-menu{
  background:#30404d;
  color:#f5f8fa; }

.bp3-dark .bp3-menu-item{ }
  .bp3-dark .bp3-menu-item.bp3-intent-primary{
    color:#48aff0; }
    .bp3-dark .bp3-menu-item.bp3-intent-primary .bp3-icon{
      color:inherit; }
    .bp3-dark .bp3-menu-item.bp3-intent-primary::before, .bp3-dark .bp3-menu-item.bp3-intent-primary::after,
    .bp3-dark .bp3-menu-item.bp3-intent-primary .bp3-menu-item-label{
      color:#48aff0; }
    .bp3-dark .bp3-menu-item.bp3-intent-primary:hover, .bp3-dark .bp3-submenu .bp3-popover-target.bp3-popover-open > .bp3-intent-primary.bp3-menu-item, .bp3-submenu .bp3-dark .bp3-popover-target.bp3-popover-open > .bp3-intent-primary.bp3-menu-item, .bp3-dark .bp3-menu-item.bp3-intent-primary.bp3-active{
      background-color:#137cbd; }
    .bp3-dark .bp3-menu-item.bp3-intent-primary:active{
      background-color:#106ba3; }
    .bp3-dark .bp3-menu-item.bp3-intent-primary:hover, .bp3-dark .bp3-submenu .bp3-popover-target.bp3-popover-open > .bp3-intent-primary.bp3-menu-item, .bp3-submenu .bp3-dark .bp3-popover-target.bp3-popover-open > .bp3-intent-primary.bp3-menu-item, .bp3-dark .bp3-menu-item.bp3-intent-primary:hover::before, .bp3-dark .bp3-submenu .bp3-popover-target.bp3-popover-open > .bp3-intent-primary.bp3-menu-item::before, .bp3-submenu .bp3-dark .bp3-popover-target.bp3-popover-open > .bp3-intent-primary.bp3-menu-item::before, .bp3-dark .bp3-menu-item.bp3-intent-primary:hover::after, .bp3-dark .bp3-submenu .bp3-popover-target.bp3-popover-open > .bp3-intent-primary.bp3-menu-item::after, .bp3-submenu .bp3-dark .bp3-popover-target.bp3-popover-open > .bp3-intent-primary.bp3-menu-item::after,
    .bp3-dark .bp3-menu-item.bp3-intent-primary:hover .bp3-menu-item-label,
    .bp3-dark .bp3-submenu .bp3-popover-target.bp3-popover-open > .bp3-intent-primary.bp3-menu-item .bp3-menu-item-label,
    .bp3-submenu .bp3-dark .bp3-popover-target.bp3-popover-open > .bp3-intent-primary.bp3-menu-item .bp3-menu-item-label, .bp3-dark .bp3-menu-item.bp3-intent-primary:active, .bp3-dark .bp3-menu-item.bp3-intent-primary:active::before, .bp3-dark .bp3-menu-item.bp3-intent-primary:active::after,
    .bp3-dark .bp3-menu-item.bp3-intent-primary:active .bp3-menu-item-label, .bp3-dark .bp3-menu-item.bp3-intent-primary.bp3-active, .bp3-dark .bp3-menu-item.bp3-intent-primary.bp3-active::before, .bp3-dark .bp3-menu-item.bp3-intent-primary.bp3-active::after,
    .bp3-dark .bp3-menu-item.bp3-intent-primary.bp3-active .bp3-menu-item-label{
      color:#ffffff; }
  .bp3-dark .bp3-menu-item.bp3-intent-success{
    color:#3dcc91; }
    .bp3-dark .bp3-menu-item.bp3-intent-success .bp3-icon{
      color:inherit; }
    .bp3-dark .bp3-menu-item.bp3-intent-success::before, .bp3-dark .bp3-menu-item.bp3-intent-success::after,
    .bp3-dark .bp3-menu-item.bp3-intent-success .bp3-menu-item-label{
      color:#3dcc91; }
    .bp3-dark .bp3-menu-item.bp3-intent-success:hover, .bp3-dark .bp3-submenu .bp3-popover-target.bp3-popover-open > .bp3-intent-success.bp3-menu-item, .bp3-submenu .bp3-dark .bp3-popover-target.bp3-popover-open > .bp3-intent-success.bp3-menu-item, .bp3-dark .bp3-menu-item.bp3-intent-success.bp3-active{
      background-color:#0f9960; }
    .bp3-dark .bp3-menu-item.bp3-intent-success:active{
      background-color:#0d8050; }
    .bp3-dark .bp3-menu-item.bp3-intent-success:hover, .bp3-dark .bp3-submenu .bp3-popover-target.bp3-popover-open > .bp3-intent-success.bp3-menu-item, .bp3-submenu .bp3-dark .bp3-popover-target.bp3-popover-open > .bp3-intent-success.bp3-menu-item, .bp3-dark .bp3-menu-item.bp3-intent-success:hover::before, .bp3-dark .bp3-submenu .bp3-popover-target.bp3-popover-open > .bp3-intent-success.bp3-menu-item::before, .bp3-submenu .bp3-dark .bp3-popover-target.bp3-popover-open > .bp3-intent-success.bp3-menu-item::before, .bp3-dark .bp3-menu-item.bp3-intent-success:hover::after, .bp3-dark .bp3-submenu .bp3-popover-target.bp3-popover-open > .bp3-intent-success.bp3-menu-item::after, .bp3-submenu .bp3-dark .bp3-popover-target.bp3-popover-open > .bp3-intent-success.bp3-menu-item::after,
    .bp3-dark .bp3-menu-item.bp3-intent-success:hover .bp3-menu-item-label,
    .bp3-dark .bp3-submenu .bp3-popover-target.bp3-popover-open > .bp3-intent-success.bp3-menu-item .bp3-menu-item-label,
    .bp3-submenu .bp3-dark .bp3-popover-target.bp3-popover-open > .bp3-intent-success.bp3-menu-item .bp3-menu-item-label, .bp3-dark .bp3-menu-item.bp3-intent-success:active, .bp3-dark .bp3-menu-item.bp3-intent-success:active::before, .bp3-dark .bp3-menu-item.bp3-intent-success:active::after,
    .bp3-dark .bp3-menu-item.bp3-intent-success:active .bp3-menu-item-label, .bp3-dark .bp3-menu-item.bp3-intent-success.bp3-active, .bp3-dark .bp3-menu-item.bp3-intent-success.bp3-active::before, .bp3-dark .bp3-menu-item.bp3-intent-success.bp3-active::after,
    .bp3-dark .bp3-menu-item.bp3-intent-success.bp3-active .bp3-menu-item-label{
      color:#ffffff; }
  .bp3-dark .bp3-menu-item.bp3-intent-warning{
    color:#ffb366; }
    .bp3-dark .bp3-menu-item.bp3-intent-warning .bp3-icon{
      color:inherit; }
    .bp3-dark .bp3-menu-item.bp3-intent-warning::before, .bp3-dark .bp3-menu-item.bp3-intent-warning::after,
    .bp3-dark .bp3-menu-item.bp3-intent-warning .bp3-menu-item-label{
      color:#ffb366; }
    .bp3-dark .bp3-menu-item.bp3-intent-warning:hover, .bp3-dark .bp3-submenu .bp3-popover-target.bp3-popover-open > .bp3-intent-warning.bp3-menu-item, .bp3-submenu .bp3-dark .bp3-popover-target.bp3-popover-open > .bp3-intent-warning.bp3-menu-item, .bp3-dark .bp3-menu-item.bp3-intent-warning.bp3-active{
      background-color:#d9822b; }
    .bp3-dark .bp3-menu-item.bp3-intent-warning:active{
      background-color:#bf7326; }
    .bp3-dark .bp3-menu-item.bp3-intent-warning:hover, .bp3-dark .bp3-submenu .bp3-popover-target.bp3-popover-open > .bp3-intent-warning.bp3-menu-item, .bp3-submenu .bp3-dark .bp3-popover-target.bp3-popover-open > .bp3-intent-warning.bp3-menu-item, .bp3-dark .bp3-menu-item.bp3-intent-warning:hover::before, .bp3-dark .bp3-submenu .bp3-popover-target.bp3-popover-open > .bp3-intent-warning.bp3-menu-item::before, .bp3-submenu .bp3-dark .bp3-popover-target.bp3-popover-open > .bp3-intent-warning.bp3-menu-item::before, .bp3-dark .bp3-menu-item.bp3-intent-warning:hover::after, .bp3-dark .bp3-submenu .bp3-popover-target.bp3-popover-open > .bp3-intent-warning.bp3-menu-item::after, .bp3-submenu .bp3-dark .bp3-popover-target.bp3-popover-open > .bp3-intent-warning.bp3-menu-item::after,
    .bp3-dark .bp3-menu-item.bp3-intent-warning:hover .bp3-menu-item-label,
    .bp3-dark .bp3-submenu .bp3-popover-target.bp3-popover-open > .bp3-intent-warning.bp3-menu-item .bp3-menu-item-label,
    .bp3-submenu .bp3-dark .bp3-popover-target.bp3-popover-open > .bp3-intent-warning.bp3-menu-item .bp3-menu-item-label, .bp3-dark .bp3-menu-item.bp3-intent-warning:active, .bp3-dark .bp3-menu-item.bp3-intent-warning:active::before, .bp3-dark .bp3-menu-item.bp3-intent-warning:active::after,
    .bp3-dark .bp3-menu-item.bp3-intent-warning:active .bp3-menu-item-label, .bp3-dark .bp3-menu-item.bp3-intent-warning.bp3-active, .bp3-dark .bp3-menu-item.bp3-intent-warning.bp3-active::before, .bp3-dark .bp3-menu-item.bp3-intent-warning.bp3-active::after,
    .bp3-dark .bp3-menu-item.bp3-intent-warning.bp3-active .bp3-menu-item-label{
      color:#ffffff; }
  .bp3-dark .bp3-menu-item.bp3-intent-danger{
    color:#ff7373; }
    .bp3-dark .bp3-menu-item.bp3-intent-danger .bp3-icon{
      color:inherit; }
    .bp3-dark .bp3-menu-item.bp3-intent-danger::before, .bp3-dark .bp3-menu-item.bp3-intent-danger::after,
    .bp3-dark .bp3-menu-item.bp3-intent-danger .bp3-menu-item-label{
      color:#ff7373; }
    .bp3-dark .bp3-menu-item.bp3-intent-danger:hover, .bp3-dark .bp3-submenu .bp3-popover-target.bp3-popover-open > .bp3-intent-danger.bp3-menu-item, .bp3-submenu .bp3-dark .bp3-popover-target.bp3-popover-open > .bp3-intent-danger.bp3-menu-item, .bp3-dark .bp3-menu-item.bp3-intent-danger.bp3-active{
      background-color:#db3737; }
    .bp3-dark .bp3-menu-item.bp3-intent-danger:active{
      background-color:#c23030; }
    .bp3-dark .bp3-menu-item.bp3-intent-danger:hover, .bp3-dark .bp3-submenu .bp3-popover-target.bp3-popover-open > .bp3-intent-danger.bp3-menu-item, .bp3-submenu .bp3-dark .bp3-popover-target.bp3-popover-open > .bp3-intent-danger.bp3-menu-item, .bp3-dark .bp3-menu-item.bp3-intent-danger:hover::before, .bp3-dark .bp3-submenu .bp3-popover-target.bp3-popover-open > .bp3-intent-danger.bp3-menu-item::before, .bp3-submenu .bp3-dark .bp3-popover-target.bp3-popover-open > .bp3-intent-danger.bp3-menu-item::before, .bp3-dark .bp3-menu-item.bp3-intent-danger:hover::after, .bp3-dark .bp3-submenu .bp3-popover-target.bp3-popover-open > .bp3-intent-danger.bp3-menu-item::after, .bp3-submenu .bp3-dark .bp3-popover-target.bp3-popover-open > .bp3-intent-danger.bp3-menu-item::after,
    .bp3-dark .bp3-menu-item.bp3-intent-danger:hover .bp3-menu-item-label,
    .bp3-dark .bp3-submenu .bp3-popover-target.bp3-popover-open > .bp3-intent-danger.bp3-menu-item .bp3-menu-item-label,
    .bp3-submenu .bp3-dark .bp3-popover-target.bp3-popover-open > .bp3-intent-danger.bp3-menu-item .bp3-menu-item-label, .bp3-dark .bp3-menu-item.bp3-intent-danger:active, .bp3-dark .bp3-menu-item.bp3-intent-danger:active::before, .bp3-dark .bp3-menu-item.bp3-intent-danger:active::after,
    .bp3-dark .bp3-menu-item.bp3-intent-danger:active .bp3-menu-item-label, .bp3-dark .bp3-menu-item.bp3-intent-danger.bp3-active, .bp3-dark .bp3-menu-item.bp3-intent-danger.bp3-active::before, .bp3-dark .bp3-menu-item.bp3-intent-danger.bp3-active::after,
    .bp3-dark .bp3-menu-item.bp3-intent-danger.bp3-active .bp3-menu-item-label{
      color:#ffffff; }
  .bp3-dark .bp3-menu-item::before,
  .bp3-dark .bp3-menu-item > .bp3-icon{
    color:#a7b6c2; }
  .bp3-dark .bp3-menu-item .bp3-menu-item-label{
    color:#a7b6c2; }
  .bp3-dark .bp3-menu-item.bp3-active, .bp3-dark .bp3-menu-item:active{
    background-color:rgba(138, 155, 168, 0.3); }
  .bp3-dark .bp3-menu-item.bp3-disabled{
    color:rgba(167, 182, 194, 0.6) !important; }
    .bp3-dark .bp3-menu-item.bp3-disabled::before,
    .bp3-dark .bp3-menu-item.bp3-disabled > .bp3-icon,
    .bp3-dark .bp3-menu-item.bp3-disabled .bp3-menu-item-label{
      color:rgba(167, 182, 194, 0.6) !important; }

.bp3-dark .bp3-menu-divider,
.bp3-dark .bp3-menu-header{
  border-color:rgba(255, 255, 255, 0.15); }

.bp3-dark .bp3-menu-header > h6{
  color:#f5f8fa; }

.bp3-label .bp3-menu{
  margin-top:5px; }
.bp3-navbar{
  background-color:#ffffff;
  -webkit-box-shadow:0 0 0 1px rgba(16, 22, 26, 0.1), 0 0 0 rgba(16, 22, 26, 0), 0 1px 1px rgba(16, 22, 26, 0.2);
          box-shadow:0 0 0 1px rgba(16, 22, 26, 0.1), 0 0 0 rgba(16, 22, 26, 0), 0 1px 1px rgba(16, 22, 26, 0.2);
  height:50px;
  padding:0 15px;
  position:relative;
  width:100%;
  z-index:10; }
  .bp3-navbar.bp3-dark,
  .bp3-dark .bp3-navbar{
    background-color:#394b59; }
  .bp3-navbar.bp3-dark{
    -webkit-box-shadow:inset 0 0 0 1px rgba(16, 22, 26, 0.2), 0 0 0 rgba(16, 22, 26, 0), 0 1px 1px rgba(16, 22, 26, 0.4);
            box-shadow:inset 0 0 0 1px rgba(16, 22, 26, 0.2), 0 0 0 rgba(16, 22, 26, 0), 0 1px 1px rgba(16, 22, 26, 0.4); }
  .bp3-dark .bp3-navbar{
    -webkit-box-shadow:0 0 0 1px rgba(16, 22, 26, 0.2), 0 0 0 rgba(16, 22, 26, 0), 0 1px 1px rgba(16, 22, 26, 0.4);
            box-shadow:0 0 0 1px rgba(16, 22, 26, 0.2), 0 0 0 rgba(16, 22, 26, 0), 0 1px 1px rgba(16, 22, 26, 0.4); }
  .bp3-navbar.bp3-fixed-top{
    left:0;
    position:fixed;
    right:0;
    top:0; }

.bp3-navbar-heading{
  font-size:16px;
  margin-right:15px; }

.bp3-navbar-group{
  -webkit-box-align:center;
      -ms-flex-align:center;
          align-items:center;
  display:-webkit-box;
  display:-ms-flexbox;
  display:flex;
  height:50px; }
  .bp3-navbar-group.bp3-align-left{
    float:left; }
  .bp3-navbar-group.bp3-align-right{
    float:right; }

.bp3-navbar-divider{
  border-left:1px solid rgba(16, 22, 26, 0.15);
  height:20px;
  margin:0 10px; }
  .bp3-dark .bp3-navbar-divider{
    border-left-color:rgba(255, 255, 255, 0.15); }
.bp3-non-ideal-state{
  display:-webkit-box;
  display:-ms-flexbox;
  display:flex;
  -webkit-box-orient:vertical;
  -webkit-box-direction:normal;
      -ms-flex-direction:column;
          flex-direction:column;
  -webkit-box-align:center;
      -ms-flex-align:center;
          align-items:center;
  height:100%;
  -webkit-box-pack:center;
      -ms-flex-pack:center;
          justify-content:center;
  text-align:center;
  width:100%; }
  .bp3-non-ideal-state > *{
    -webkit-box-flex:0;
        -ms-flex-positive:0;
            flex-grow:0;
    -ms-flex-negative:0;
        flex-shrink:0; }
  .bp3-non-ideal-state > .bp3-fill{
    -webkit-box-flex:1;
        -ms-flex-positive:1;
            flex-grow:1;
    -ms-flex-negative:1;
        flex-shrink:1; }
  .bp3-non-ideal-state::before,
  .bp3-non-ideal-state > *{
    margin-bottom:20px; }
  .bp3-non-ideal-state:empty::before,
  .bp3-non-ideal-state > :last-child{
    margin-bottom:0; }
  .bp3-non-ideal-state > *{
    max-width:400px; }

.bp3-non-ideal-state-visual{
  color:rgba(92, 112, 128, 0.6);
  font-size:60px; }
  .bp3-dark .bp3-non-ideal-state-visual{
    color:rgba(167, 182, 194, 0.6); }

.bp3-overflow-list{
  display:-webkit-box;
  display:-ms-flexbox;
  display:flex;
  -ms-flex-wrap:nowrap;
      flex-wrap:nowrap;
  min-width:0; }

.bp3-overflow-list-spacer{
  -ms-flex-negative:1;
      flex-shrink:1;
  width:1px; }

body.bp3-overlay-open{
  overflow:hidden; }

.bp3-overlay{
  bottom:0;
  left:0;
  position:static;
  right:0;
  top:0;
  z-index:20; }
  .bp3-overlay:not(.bp3-overlay-open){
    pointer-events:none; }
  .bp3-overlay.bp3-overlay-container{
    overflow:hidden;
    position:fixed; }
    .bp3-overlay.bp3-overlay-container.bp3-overlay-inline{
      position:absolute; }
  .bp3-overlay.bp3-overlay-scroll-container{
    overflow:auto;
    position:fixed; }
    .bp3-overlay.bp3-overlay-scroll-container.bp3-overlay-inline{
      position:absolute; }
  .bp3-overlay.bp3-overlay-inline{
    display:inline;
    overflow:visible; }

.bp3-overlay-content{
  position:fixed;
  z-index:20; }
  .bp3-overlay-inline .bp3-overlay-content,
  .bp3-overlay-scroll-container .bp3-overlay-content{
    position:absolute; }

.bp3-overlay-backdrop{
  bottom:0;
  left:0;
  position:fixed;
  right:0;
  top:0;
  opacity:1;
  background-color:rgba(16, 22, 26, 0.7);
  overflow:auto;
  -webkit-user-select:none;
     -moz-user-select:none;
      -ms-user-select:none;
          user-select:none;
  z-index:20; }
  .bp3-overlay-backdrop.bp3-overlay-enter, .bp3-overlay-backdrop.bp3-overlay-appear{
    opacity:0; }
  .bp3-overlay-backdrop.bp3-overlay-enter-active, .bp3-overlay-backdrop.bp3-overlay-appear-active{
    opacity:1;
    -webkit-transition-delay:0;
            transition-delay:0;
    -webkit-transition-duration:200ms;
            transition-duration:200ms;
    -webkit-transition-property:opacity;
    transition-property:opacity;
    -webkit-transition-timing-function:cubic-bezier(0.4, 1, 0.75, 0.9);
            transition-timing-function:cubic-bezier(0.4, 1, 0.75, 0.9); }
  .bp3-overlay-backdrop.bp3-overlay-exit{
    opacity:1; }
  .bp3-overlay-backdrop.bp3-overlay-exit-active{
    opacity:0;
    -webkit-transition-delay:0;
            transition-delay:0;
    -webkit-transition-duration:200ms;
            transition-duration:200ms;
    -webkit-transition-property:opacity;
    transition-property:opacity;
    -webkit-transition-timing-function:cubic-bezier(0.4, 1, 0.75, 0.9);
            transition-timing-function:cubic-bezier(0.4, 1, 0.75, 0.9); }
  .bp3-overlay-backdrop:focus{
    outline:none; }
  .bp3-overlay-inline .bp3-overlay-backdrop{
    position:absolute; }
.bp3-panel-stack{
  overflow:hidden;
  position:relative; }

.bp3-panel-stack-header{
  -webkit-box-align:center;
      -ms-flex-align:center;
          align-items:center;
  -webkit-box-shadow:0 1px rgba(16, 22, 26, 0.15);
          box-shadow:0 1px rgba(16, 22, 26, 0.15);
  display:-webkit-box;
  display:-ms-flexbox;
  display:flex;
  -ms-flex-negative:0;
      flex-shrink:0;
  height:30px;
  z-index:1; }
  .bp3-dark .bp3-panel-stack-header{
    -webkit-box-shadow:0 1px rgba(255, 255, 255, 0.15);
            box-shadow:0 1px rgba(255, 255, 255, 0.15); }
  .bp3-panel-stack-header > span{
    -webkit-box-align:stretch;
        -ms-flex-align:stretch;
            align-items:stretch;
    display:-webkit-box;
    display:-ms-flexbox;
    display:flex;
    -webkit-box-flex:1;
        -ms-flex:1;
            flex:1; }
  .bp3-panel-stack-header .bp3-heading{
    margin:0 5px; }

.bp3-button.bp3-panel-stack-header-back{
  margin-left:5px;
  padding-left:0;
  white-space:nowrap; }
  .bp3-button.bp3-panel-stack-header-back .bp3-icon{
    margin:0 2px; }

.bp3-panel-stack-view{
  bottom:0;
  left:0;
  position:absolute;
  right:0;
  top:0;
  background-color:#ffffff;
  border-right:1px solid rgba(16, 22, 26, 0.15);
  display:-webkit-box;
  display:-ms-flexbox;
  display:flex;
  -webkit-box-orient:vertical;
  -webkit-box-direction:normal;
      -ms-flex-direction:column;
          flex-direction:column;
  margin-right:-1px;
  overflow-y:auto;
  z-index:1; }
  .bp3-dark .bp3-panel-stack-view{
    background-color:#30404d; }
  .bp3-panel-stack-view:nth-last-child(n + 4){
    display:none; }

.bp3-panel-stack-push .bp3-panel-stack-enter, .bp3-panel-stack-push .bp3-panel-stack-appear{
  -webkit-transform:translateX(100%);
          transform:translateX(100%);
  opacity:0; }

.bp3-panel-stack-push .bp3-panel-stack-enter-active, .bp3-panel-stack-push .bp3-panel-stack-appear-active{
  -webkit-transform:translate(0%);
          transform:translate(0%);
  opacity:1;
  -webkit-transition-delay:0;
          transition-delay:0;
  -webkit-transition-duration:400ms;
          transition-duration:400ms;
  -webkit-transition-property:opacity, -webkit-transform;
  transition-property:opacity, -webkit-transform;
  transition-property:transform, opacity;
  transition-property:transform, opacity, -webkit-transform;
  -webkit-transition-timing-function:ease;
          transition-timing-function:ease; }

.bp3-panel-stack-push .bp3-panel-stack-exit{
  -webkit-transform:translate(0%);
          transform:translate(0%);
  opacity:1; }

.bp3-panel-stack-push .bp3-panel-stack-exit-active{
  -webkit-transform:translateX(-50%);
          transform:translateX(-50%);
  opacity:0;
  -webkit-transition-delay:0;
          transition-delay:0;
  -webkit-transition-duration:400ms;
          transition-duration:400ms;
  -webkit-transition-property:opacity, -webkit-transform;
  transition-property:opacity, -webkit-transform;
  transition-property:transform, opacity;
  transition-property:transform, opacity, -webkit-transform;
  -webkit-transition-timing-function:ease;
          transition-timing-function:ease; }

.bp3-panel-stack-pop .bp3-panel-stack-enter, .bp3-panel-stack-pop .bp3-panel-stack-appear{
  -webkit-transform:translateX(-50%);
          transform:translateX(-50%);
  opacity:0; }

.bp3-panel-stack-pop .bp3-panel-stack-enter-active, .bp3-panel-stack-pop .bp3-panel-stack-appear-active{
  -webkit-transform:translate(0%);
          transform:translate(0%);
  opacity:1;
  -webkit-transition-delay:0;
          transition-delay:0;
  -webkit-transition-duration:400ms;
          transition-duration:400ms;
  -webkit-transition-property:opacity, -webkit-transform;
  transition-property:opacity, -webkit-transform;
  transition-property:transform, opacity;
  transition-property:transform, opacity, -webkit-transform;
  -webkit-transition-timing-function:ease;
          transition-timing-function:ease; }

.bp3-panel-stack-pop .bp3-panel-stack-exit{
  -webkit-transform:translate(0%);
          transform:translate(0%);
  opacity:1; }

.bp3-panel-stack-pop .bp3-panel-stack-exit-active{
  -webkit-transform:translateX(100%);
          transform:translateX(100%);
  opacity:0;
  -webkit-transition-delay:0;
          transition-delay:0;
  -webkit-transition-duration:400ms;
          transition-duration:400ms;
  -webkit-transition-property:opacity, -webkit-transform;
  transition-property:opacity, -webkit-transform;
  transition-property:transform, opacity;
  transition-property:transform, opacity, -webkit-transform;
  -webkit-transition-timing-function:ease;
          transition-timing-function:ease; }
.bp3-popover{
  -webkit-box-shadow:0 0 0 1px rgba(16, 22, 26, 0.1), 0 2px 4px rgba(16, 22, 26, 0.2), 0 8px 24px rgba(16, 22, 26, 0.2);
          box-shadow:0 0 0 1px rgba(16, 22, 26, 0.1), 0 2px 4px rgba(16, 22, 26, 0.2), 0 8px 24px rgba(16, 22, 26, 0.2);
  -webkit-transform:scale(1);
          transform:scale(1);
  border-radius:3px;
  display:inline-block;
  z-index:20; }
  .bp3-popover .bp3-popover-arrow{
    height:30px;
    position:absolute;
    width:30px; }
    .bp3-popover .bp3-popover-arrow::before{
      height:20px;
      margin:5px;
      width:20px; }
  .bp3-tether-element-attached-bottom.bp3-tether-target-attached-top > .bp3-popover{
    margin-bottom:17px;
    margin-top:-17px; }
    .bp3-tether-element-attached-bottom.bp3-tether-target-attached-top > .bp3-popover > .bp3-popover-arrow{
      bottom:-11px; }
      .bp3-tether-element-attached-bottom.bp3-tether-target-attached-top > .bp3-popover > .bp3-popover-arrow svg{
        -webkit-transform:rotate(-90deg);
                transform:rotate(-90deg); }
  .bp3-tether-element-attached-left.bp3-tether-target-attached-right > .bp3-popover{
    margin-left:17px; }
    .bp3-tether-element-attached-left.bp3-tether-target-attached-right > .bp3-popover > .bp3-popover-arrow{
      left:-11px; }
      .bp3-tether-element-attached-left.bp3-tether-target-attached-right > .bp3-popover > .bp3-popover-arrow svg{
        -webkit-transform:rotate(0);
                transform:rotate(0); }
  .bp3-tether-element-attached-top.bp3-tether-target-attached-bottom > .bp3-popover{
    margin-top:17px; }
    .bp3-tether-element-attached-top.bp3-tether-target-attached-bottom > .bp3-popover > .bp3-popover-arrow{
      top:-11px; }
      .bp3-tether-element-attached-top.bp3-tether-target-attached-bottom > .bp3-popover > .bp3-popover-arrow svg{
        -webkit-transform:rotate(90deg);
                transform:rotate(90deg); }
  .bp3-tether-element-attached-right.bp3-tether-target-attached-left > .bp3-popover{
    margin-left:-17px;
    margin-right:17px; }
    .bp3-tether-element-attached-right.bp3-tether-target-attached-left > .bp3-popover > .bp3-popover-arrow{
      right:-11px; }
      .bp3-tether-element-attached-right.bp3-tether-target-attached-left > .bp3-popover > .bp3-popover-arrow svg{
        -webkit-transform:rotate(180deg);
                transform:rotate(180deg); }
  .bp3-tether-element-attached-middle > .bp3-popover > .bp3-popover-arrow{
    top:50%;
    -webkit-transform:translateY(-50%);
            transform:translateY(-50%); }
  .bp3-tether-element-attached-center > .bp3-popover > .bp3-popover-arrow{
    right:50%;
    -webkit-transform:translateX(50%);
            transform:translateX(50%); }
  .bp3-tether-element-attached-top.bp3-tether-target-attached-top > .bp3-popover > .bp3-popover-arrow{
    top:-0.3934px; }
  .bp3-tether-element-attached-right.bp3-tether-target-attached-right > .bp3-popover > .bp3-popover-arrow{
    right:-0.3934px; }
  .bp3-tether-element-attached-left.bp3-tether-target-attached-left > .bp3-popover > .bp3-popover-arrow{
    left:-0.3934px; }
  .bp3-tether-element-attached-bottom.bp3-tether-target-attached-bottom > .bp3-popover > .bp3-popover-arrow{
    bottom:-0.3934px; }
  .bp3-tether-element-attached-top.bp3-tether-element-attached-left > .bp3-popover{
    -webkit-transform-origin:top left;
            transform-origin:top left; }
  .bp3-tether-element-attached-top.bp3-tether-element-attached-center > .bp3-popover{
    -webkit-transform-origin:top center;
            transform-origin:top center; }
  .bp3-tether-element-attached-top.bp3-tether-element-attached-right > .bp3-popover{
    -webkit-transform-origin:top right;
            transform-origin:top right; }
  .bp3-tether-element-attached-middle.bp3-tether-element-attached-left > .bp3-popover{
    -webkit-transform-origin:center left;
            transform-origin:center left; }
  .bp3-tether-element-attached-middle.bp3-tether-element-attached-center > .bp3-popover{
    -webkit-transform-origin:center center;
            transform-origin:center center; }
  .bp3-tether-element-attached-middle.bp3-tether-element-attached-right > .bp3-popover{
    -webkit-transform-origin:center right;
            transform-origin:center right; }
  .bp3-tether-element-attached-bottom.bp3-tether-element-attached-left > .bp3-popover{
    -webkit-transform-origin:bottom left;
            transform-origin:bottom left; }
  .bp3-tether-element-attached-bottom.bp3-tether-element-attached-center > .bp3-popover{
    -webkit-transform-origin:bottom center;
            transform-origin:bottom center; }
  .bp3-tether-element-attached-bottom.bp3-tether-element-attached-right > .bp3-popover{
    -webkit-transform-origin:bottom right;
            transform-origin:bottom right; }
  .bp3-popover .bp3-popover-content{
    background:#ffffff;
    color:inherit; }
  .bp3-popover .bp3-popover-arrow::before{
    -webkit-box-shadow:1px 1px 6px rgba(16, 22, 26, 0.2);
            box-shadow:1px 1px 6px rgba(16, 22, 26, 0.2); }
  .bp3-popover .bp3-popover-arrow-border{
    fill:#10161a;
    fill-opacity:0.1; }
  .bp3-popover .bp3-popover-arrow-fill{
    fill:#ffffff; }
  .bp3-popover-enter > .bp3-popover, .bp3-popover-appear > .bp3-popover{
    -webkit-transform:scale(0.3);
            transform:scale(0.3); }
  .bp3-popover-enter-active > .bp3-popover, .bp3-popover-appear-active > .bp3-popover{
    -webkit-transform:scale(1);
            transform:scale(1);
    -webkit-transition-delay:0;
            transition-delay:0;
    -webkit-transition-duration:300ms;
            transition-duration:300ms;
    -webkit-transition-property:-webkit-transform;
    transition-property:-webkit-transform;
    transition-property:transform;
    transition-property:transform, -webkit-transform;
    -webkit-transition-timing-function:cubic-bezier(0.54, 1.12, 0.38, 1.11);
            transition-timing-function:cubic-bezier(0.54, 1.12, 0.38, 1.11); }
  .bp3-popover-exit > .bp3-popover{
    -webkit-transform:scale(1);
            transform:scale(1); }
  .bp3-popover-exit-active > .bp3-popover{
    -webkit-transform:scale(0.3);
            transform:scale(0.3);
    -webkit-transition-delay:0;
            transition-delay:0;
    -webkit-transition-duration:300ms;
            transition-duration:300ms;
    -webkit-transition-property:-webkit-transform;
    transition-property:-webkit-transform;
    transition-property:transform;
    transition-property:transform, -webkit-transform;
    -webkit-transition-timing-function:cubic-bezier(0.54, 1.12, 0.38, 1.11);
            transition-timing-function:cubic-bezier(0.54, 1.12, 0.38, 1.11); }
  .bp3-popover .bp3-popover-content{
    border-radius:3px;
    position:relative; }
  .bp3-popover.bp3-popover-content-sizing .bp3-popover-content{
    max-width:350px;
    padding:20px; }
  .bp3-popover-target + .bp3-overlay .bp3-popover.bp3-popover-content-sizing{
    width:350px; }
  .bp3-popover.bp3-minimal{
    margin:0 !important; }
    .bp3-popover.bp3-minimal .bp3-popover-arrow{
      display:none; }
    .bp3-popover.bp3-minimal.bp3-popover{
      -webkit-transform:scale(1);
              transform:scale(1); }
      .bp3-popover-enter > .bp3-popover.bp3-minimal.bp3-popover, .bp3-popover-appear > .bp3-popover.bp3-minimal.bp3-popover{
        -webkit-transform:scale(1);
                transform:scale(1); }
      .bp3-popover-enter-active > .bp3-popover.bp3-minimal.bp3-popover, .bp3-popover-appear-active > .bp3-popover.bp3-minimal.bp3-popover{
        -webkit-transform:scale(1);
                transform:scale(1);
        -webkit-transition-delay:0;
                transition-delay:0;
        -webkit-transition-duration:100ms;
                transition-duration:100ms;
        -webkit-transition-property:-webkit-transform;
        transition-property:-webkit-transform;
        transition-property:transform;
        transition-property:transform, -webkit-transform;
        -webkit-transition-timing-function:cubic-bezier(0.4, 1, 0.75, 0.9);
                transition-timing-function:cubic-bezier(0.4, 1, 0.75, 0.9); }
      .bp3-popover-exit > .bp3-popover.bp3-minimal.bp3-popover{
        -webkit-transform:scale(1);
                transform:scale(1); }
      .bp3-popover-exit-active > .bp3-popover.bp3-minimal.bp3-popover{
        -webkit-transform:scale(1);
                transform:scale(1);
        -webkit-transition-delay:0;
                transition-delay:0;
        -webkit-transition-duration:100ms;
                transition-duration:100ms;
        -webkit-transition-property:-webkit-transform;
        transition-property:-webkit-transform;
        transition-property:transform;
        transition-property:transform, -webkit-transform;
        -webkit-transition-timing-function:cubic-bezier(0.4, 1, 0.75, 0.9);
                transition-timing-function:cubic-bezier(0.4, 1, 0.75, 0.9); }
  .bp3-popover.bp3-dark,
  .bp3-dark .bp3-popover{
    -webkit-box-shadow:0 0 0 1px rgba(16, 22, 26, 0.2), 0 2px 4px rgba(16, 22, 26, 0.4), 0 8px 24px rgba(16, 22, 26, 0.4);
            box-shadow:0 0 0 1px rgba(16, 22, 26, 0.2), 0 2px 4px rgba(16, 22, 26, 0.4), 0 8px 24px rgba(16, 22, 26, 0.4); }
    .bp3-popover.bp3-dark .bp3-popover-content,
    .bp3-dark .bp3-popover .bp3-popover-content{
      background:#30404d;
      color:inherit; }
    .bp3-popover.bp3-dark .bp3-popover-arrow::before,
    .bp3-dark .bp3-popover .bp3-popover-arrow::before{
      -webkit-box-shadow:1px 1px 6px rgba(16, 22, 26, 0.4);
              box-shadow:1px 1px 6px rgba(16, 22, 26, 0.4); }
    .bp3-popover.bp3-dark .bp3-popover-arrow-border,
    .bp3-dark .bp3-popover .bp3-popover-arrow-border{
      fill:#10161a;
      fill-opacity:0.2; }
    .bp3-popover.bp3-dark .bp3-popover-arrow-fill,
    .bp3-dark .bp3-popover .bp3-popover-arrow-fill{
      fill:#30404d; }

.bp3-popover-arrow::before{
  border-radius:2px;
  content:"";
  display:block;
  position:absolute;
  -webkit-transform:rotate(45deg);
          transform:rotate(45deg); }

.bp3-tether-pinned .bp3-popover-arrow{
  display:none; }

.bp3-popover-backdrop{
  background:rgba(255, 255, 255, 0); }

.bp3-transition-container{
  opacity:1;
  display:-webkit-box;
  display:-ms-flexbox;
  display:flex;
  z-index:20; }
  .bp3-transition-container.bp3-popover-enter, .bp3-transition-container.bp3-popover-appear{
    opacity:0; }
  .bp3-transition-container.bp3-popover-enter-active, .bp3-transition-container.bp3-popover-appear-active{
    opacity:1;
    -webkit-transition-delay:0;
            transition-delay:0;
    -webkit-transition-duration:100ms;
            transition-duration:100ms;
    -webkit-transition-property:opacity;
    transition-property:opacity;
    -webkit-transition-timing-function:cubic-bezier(0.4, 1, 0.75, 0.9);
            transition-timing-function:cubic-bezier(0.4, 1, 0.75, 0.9); }
  .bp3-transition-container.bp3-popover-exit{
    opacity:1; }
  .bp3-transition-container.bp3-popover-exit-active{
    opacity:0;
    -webkit-transition-delay:0;
            transition-delay:0;
    -webkit-transition-duration:100ms;
            transition-duration:100ms;
    -webkit-transition-property:opacity;
    transition-property:opacity;
    -webkit-transition-timing-function:cubic-bezier(0.4, 1, 0.75, 0.9);
            transition-timing-function:cubic-bezier(0.4, 1, 0.75, 0.9); }
  .bp3-transition-container:focus{
    outline:none; }
  .bp3-transition-container.bp3-popover-leave .bp3-popover-content{
    pointer-events:none; }
  .bp3-transition-container[data-x-out-of-boundaries]{
    display:none; }

span.bp3-popover-target{
  display:inline-block; }

.bp3-popover-wrapper.bp3-fill{
  width:100%; }

.bp3-portal{
  left:0;
  position:absolute;
  right:0;
  top:0; }
@-webkit-keyframes linear-progress-bar-stripes{
  from{
    background-position:0 0; }
  to{
    background-position:30px 0; } }
@keyframes linear-progress-bar-stripes{
  from{
    background-position:0 0; }
  to{
    background-position:30px 0; } }

.bp3-progress-bar{
  background:rgba(92, 112, 128, 0.2);
  border-radius:40px;
  display:block;
  height:8px;
  overflow:hidden;
  position:relative;
  width:100%; }
  .bp3-progress-bar .bp3-progress-meter{
    background:linear-gradient(-45deg, rgba(255, 255, 255, 0.2) 25%, transparent 25%, transparent 50%, rgba(255, 255, 255, 0.2) 50%, rgba(255, 255, 255, 0.2) 75%, transparent 75%);
    background-color:rgba(92, 112, 128, 0.8);
    background-size:30px 30px;
    border-radius:40px;
    height:100%;
    position:absolute;
    -webkit-transition:width 200ms cubic-bezier(0.4, 1, 0.75, 0.9);
    transition:width 200ms cubic-bezier(0.4, 1, 0.75, 0.9);
    width:100%; }
  .bp3-progress-bar:not(.bp3-no-animation):not(.bp3-no-stripes) .bp3-progress-meter{
    animation:linear-progress-bar-stripes 300ms linear infinite reverse; }
  .bp3-progress-bar.bp3-no-stripes .bp3-progress-meter{
    background-image:none; }

.bp3-dark .bp3-progress-bar{
  background:rgba(16, 22, 26, 0.5); }
  .bp3-dark .bp3-progress-bar .bp3-progress-meter{
    background-color:#8a9ba8; }

.bp3-progress-bar.bp3-intent-primary .bp3-progress-meter{
  background-color:#137cbd; }

.bp3-progress-bar.bp3-intent-success .bp3-progress-meter{
  background-color:#0f9960; }

.bp3-progress-bar.bp3-intent-warning .bp3-progress-meter{
  background-color:#d9822b; }

.bp3-progress-bar.bp3-intent-danger .bp3-progress-meter{
  background-color:#db3737; }
@-webkit-keyframes skeleton-glow{
  from{
    background:rgba(206, 217, 224, 0.2);
    border-color:rgba(206, 217, 224, 0.2); }
  to{
    background:rgba(92, 112, 128, 0.2);
    border-color:rgba(92, 112, 128, 0.2); } }
@keyframes skeleton-glow{
  from{
    background:rgba(206, 217, 224, 0.2);
    border-color:rgba(206, 217, 224, 0.2); }
  to{
    background:rgba(92, 112, 128, 0.2);
    border-color:rgba(92, 112, 128, 0.2); } }
.bp3-skeleton{
  -webkit-animation:1000ms linear infinite alternate skeleton-glow;
          animation:1000ms linear infinite alternate skeleton-glow;
  background:rgba(206, 217, 224, 0.2);
  background-clip:padding-box !important;
  border-color:rgba(206, 217, 224, 0.2) !important;
  border-radius:2px;
  -webkit-box-shadow:none !important;
          box-shadow:none !important;
  color:transparent !important;
  cursor:default;
  pointer-events:none;
  -webkit-user-select:none;
     -moz-user-select:none;
      -ms-user-select:none;
          user-select:none; }
  .bp3-skeleton::before, .bp3-skeleton::after,
  .bp3-skeleton *{
    visibility:hidden !important; }
.bp3-slider{
  height:40px;
  min-width:150px;
  width:100%;
  cursor:default;
  outline:none;
  position:relative;
  -webkit-user-select:none;
     -moz-user-select:none;
      -ms-user-select:none;
          user-select:none; }
  .bp3-slider:hover{
    cursor:pointer; }
  .bp3-slider:active{
    cursor:-webkit-grabbing;
    cursor:grabbing; }
  .bp3-slider.bp3-disabled{
    cursor:not-allowed;
    opacity:0.5; }
  .bp3-slider.bp3-slider-unlabeled{
    height:16px; }

.bp3-slider-track,
.bp3-slider-progress{
  height:6px;
  left:0;
  right:0;
  top:5px;
  position:absolute; }

.bp3-slider-track{
  border-radius:3px;
  overflow:hidden; }

.bp3-slider-progress{
  background:rgba(92, 112, 128, 0.2); }
  .bp3-dark .bp3-slider-progress{
    background:rgba(16, 22, 26, 0.5); }
  .bp3-slider-progress.bp3-intent-primary{
    background-color:#137cbd; }
  .bp3-slider-progress.bp3-intent-success{
    background-color:#0f9960; }
  .bp3-slider-progress.bp3-intent-warning{
    background-color:#d9822b; }
  .bp3-slider-progress.bp3-intent-danger{
    background-color:#db3737; }

.bp3-slider-handle{
  background-color:#f5f8fa;
  background-image:-webkit-gradient(linear, left top, left bottom, from(rgba(255, 255, 255, 0.8)), to(rgba(255, 255, 255, 0)));
  background-image:linear-gradient(to bottom, rgba(255, 255, 255, 0.8), rgba(255, 255, 255, 0));
  -webkit-box-shadow:inset 0 0 0 1px rgba(16, 22, 26, 0.2), inset 0 -1px 0 rgba(16, 22, 26, 0.1);
          box-shadow:inset 0 0 0 1px rgba(16, 22, 26, 0.2), inset 0 -1px 0 rgba(16, 22, 26, 0.1);
  color:#182026;
  border-radius:3px;
  -webkit-box-shadow:0 0 0 1px rgba(16, 22, 26, 0.2), 0 1px 1px rgba(16, 22, 26, 0.2);
          box-shadow:0 0 0 1px rgba(16, 22, 26, 0.2), 0 1px 1px rgba(16, 22, 26, 0.2);
  cursor:pointer;
  height:16px;
  left:0;
  position:absolute;
  top:0;
  width:16px; }
  .bp3-slider-handle:hover{
    background-clip:padding-box;
    background-color:#ebf1f5;
    -webkit-box-shadow:inset 0 0 0 1px rgba(16, 22, 26, 0.2), inset 0 -1px 0 rgba(16, 22, 26, 0.1);
            box-shadow:inset 0 0 0 1px rgba(16, 22, 26, 0.2), inset 0 -1px 0 rgba(16, 22, 26, 0.1); }
  .bp3-slider-handle:active, .bp3-slider-handle.bp3-active{
    background-color:#d8e1e8;
    background-image:none;
    -webkit-box-shadow:inset 0 0 0 1px rgba(16, 22, 26, 0.2), inset 0 1px 2px rgba(16, 22, 26, 0.2);
            box-shadow:inset 0 0 0 1px rgba(16, 22, 26, 0.2), inset 0 1px 2px rgba(16, 22, 26, 0.2); }
  .bp3-slider-handle:disabled, .bp3-slider-handle.bp3-disabled{
    background-color:rgba(206, 217, 224, 0.5);
    background-image:none;
    -webkit-box-shadow:none;
            box-shadow:none;
    color:rgba(92, 112, 128, 0.6);
    cursor:not-allowed;
    outline:none; }
    .bp3-slider-handle:disabled.bp3-active, .bp3-slider-handle:disabled.bp3-active:hover, .bp3-slider-handle.bp3-disabled.bp3-active, .bp3-slider-handle.bp3-disabled.bp3-active:hover{
      background:rgba(206, 217, 224, 0.7); }
  .bp3-slider-handle:focus{
    z-index:1; }
  .bp3-slider-handle:hover{
    background-clip:padding-box;
    background-color:#ebf1f5;
    -webkit-box-shadow:inset 0 0 0 1px rgba(16, 22, 26, 0.2), inset 0 -1px 0 rgba(16, 22, 26, 0.1);
            box-shadow:inset 0 0 0 1px rgba(16, 22, 26, 0.2), inset 0 -1px 0 rgba(16, 22, 26, 0.1);
    -webkit-box-shadow:0 0 0 1px rgba(16, 22, 26, 0.2), 0 1px 1px rgba(16, 22, 26, 0.2);
            box-shadow:0 0 0 1px rgba(16, 22, 26, 0.2), 0 1px 1px rgba(16, 22, 26, 0.2);
    cursor:-webkit-grab;
    cursor:grab;
    z-index:2; }
  .bp3-slider-handle.bp3-active{
    background-color:#d8e1e8;
    background-image:none;
    -webkit-box-shadow:inset 0 0 0 1px rgba(16, 22, 26, 0.2), inset 0 1px 2px rgba(16, 22, 26, 0.2);
            box-shadow:inset 0 0 0 1px rgba(16, 22, 26, 0.2), inset 0 1px 2px rgba(16, 22, 26, 0.2);
    -webkit-box-shadow:0 0 0 1px rgba(16, 22, 26, 0.2), inset 0 1px 1px rgba(16, 22, 26, 0.1);
            box-shadow:0 0 0 1px rgba(16, 22, 26, 0.2), inset 0 1px 1px rgba(16, 22, 26, 0.1);
    cursor:-webkit-grabbing;
    cursor:grabbing; }
  .bp3-disabled .bp3-slider-handle{
    background:#bfccd6;
    -webkit-box-shadow:none;
            box-shadow:none;
    pointer-events:none; }
  .bp3-dark .bp3-slider-handle{
    background-color:#394b59;
    background-image:-webkit-gradient(linear, left top, left bottom, from(rgba(255, 255, 255, 0.05)), to(rgba(255, 255, 255, 0)));
    background-image:linear-gradient(to bottom, rgba(255, 255, 255, 0.05), rgba(255, 255, 255, 0));
    -webkit-box-shadow:0 0 0 1px rgba(16, 22, 26, 0.4);
            box-shadow:0 0 0 1px rgba(16, 22, 26, 0.4);
    color:#f5f8fa; }
    .bp3-dark .bp3-slider-handle:hover, .bp3-dark .bp3-slider-handle:active, .bp3-dark .bp3-slider-handle.bp3-active{
      color:#f5f8fa; }
    .bp3-dark .bp3-slider-handle:hover{
      background-color:#30404d;
      -webkit-box-shadow:0 0 0 1px rgba(16, 22, 26, 0.4);
              box-shadow:0 0 0 1px rgba(16, 22, 26, 0.4); }
    .bp3-dark .bp3-slider-handle:active, .bp3-dark .bp3-slider-handle.bp3-active{
      background-color:#202b33;
      background-image:none;
      -webkit-box-shadow:0 0 0 1px rgba(16, 22, 26, 0.6), inset 0 1px 2px rgba(16, 22, 26, 0.2);
              box-shadow:0 0 0 1px rgba(16, 22, 26, 0.6), inset 0 1px 2px rgba(16, 22, 26, 0.2); }
    .bp3-dark .bp3-slider-handle:disabled, .bp3-dark .bp3-slider-handle.bp3-disabled{
      background-color:rgba(57, 75, 89, 0.5);
      background-image:none;
      -webkit-box-shadow:none;
              box-shadow:none;
      color:rgba(167, 182, 194, 0.6); }
      .bp3-dark .bp3-slider-handle:disabled.bp3-active, .bp3-dark .bp3-slider-handle.bp3-disabled.bp3-active{
        background:rgba(57, 75, 89, 0.7); }
    .bp3-dark .bp3-slider-handle .bp3-button-spinner .bp3-spinner-head{
      background:rgba(16, 22, 26, 0.5);
      stroke:#8a9ba8; }
    .bp3-dark .bp3-slider-handle, .bp3-dark .bp3-slider-handle:hover{
      background-color:#394b59; }
    .bp3-dark .bp3-slider-handle.bp3-active{
      background-color:#293742; }
  .bp3-dark .bp3-disabled .bp3-slider-handle{
    background:#5c7080;
    border-color:#5c7080;
    -webkit-box-shadow:none;
            box-shadow:none; }
  .bp3-slider-handle .bp3-slider-label{
    background:#394b59;
    border-radius:3px;
    -webkit-box-shadow:0 0 0 1px rgba(16, 22, 26, 0.1), 0 2px 4px rgba(16, 22, 26, 0.2), 0 8px 24px rgba(16, 22, 26, 0.2);
            box-shadow:0 0 0 1px rgba(16, 22, 26, 0.1), 0 2px 4px rgba(16, 22, 26, 0.2), 0 8px 24px rgba(16, 22, 26, 0.2);
    color:#f5f8fa;
    margin-left:8px; }
    .bp3-dark .bp3-slider-handle .bp3-slider-label{
      background:#e1e8ed;
      -webkit-box-shadow:0 0 0 1px rgba(16, 22, 26, 0.2), 0 2px 4px rgba(16, 22, 26, 0.4), 0 8px 24px rgba(16, 22, 26, 0.4);
              box-shadow:0 0 0 1px rgba(16, 22, 26, 0.2), 0 2px 4px rgba(16, 22, 26, 0.4), 0 8px 24px rgba(16, 22, 26, 0.4);
      color:#394b59; }
    .bp3-disabled .bp3-slider-handle .bp3-slider-label{
      -webkit-box-shadow:none;
              box-shadow:none; }
  .bp3-slider-handle.bp3-start, .bp3-slider-handle.bp3-end{
    width:8px; }
  .bp3-slider-handle.bp3-start{
    border-bottom-right-radius:0;
    border-top-right-radius:0; }
  .bp3-slider-handle.bp3-end{
    border-bottom-left-radius:0;
    border-top-left-radius:0;
    margin-left:8px; }
    .bp3-slider-handle.bp3-end .bp3-slider-label{
      margin-left:0; }

.bp3-slider-label{
  -webkit-transform:translate(-50%, 20px);
          transform:translate(-50%, 20px);
  display:inline-block;
  font-size:12px;
  line-height:1;
  padding:2px 5px;
  position:absolute;
  vertical-align:top; }

.bp3-slider.bp3-vertical{
  height:150px;
  min-width:40px;
  width:40px; }
  .bp3-slider.bp3-vertical .bp3-slider-track,
  .bp3-slider.bp3-vertical .bp3-slider-progress{
    bottom:0;
    height:auto;
    left:5px;
    top:0;
    width:6px; }
  .bp3-slider.bp3-vertical .bp3-slider-progress{
    top:auto; }
  .bp3-slider.bp3-vertical .bp3-slider-label{
    -webkit-transform:translate(20px, 50%);
            transform:translate(20px, 50%); }
  .bp3-slider.bp3-vertical .bp3-slider-handle{
    top:auto; }
    .bp3-slider.bp3-vertical .bp3-slider-handle .bp3-slider-label{
      margin-left:0;
      margin-top:-8px; }
    .bp3-slider.bp3-vertical .bp3-slider-handle.bp3-end, .bp3-slider.bp3-vertical .bp3-slider-handle.bp3-start{
      height:8px;
      margin-left:0;
      width:16px; }
    .bp3-slider.bp3-vertical .bp3-slider-handle.bp3-start{
      border-bottom-right-radius:3px;
      border-top-left-radius:0; }
      .bp3-slider.bp3-vertical .bp3-slider-handle.bp3-start .bp3-slider-label{
        -webkit-transform:translate(20px);
                transform:translate(20px); }
    .bp3-slider.bp3-vertical .bp3-slider-handle.bp3-end{
      border-bottom-left-radius:0;
      border-bottom-right-radius:0;
      border-top-left-radius:3px;
      margin-bottom:8px; }

@-webkit-keyframes pt-spinner-animation{
  from{
    -webkit-transform:rotate(0deg);
            transform:rotate(0deg); }
  to{
    -webkit-transform:rotate(360deg);
            transform:rotate(360deg); } }

@keyframes pt-spinner-animation{
  from{
    -webkit-transform:rotate(0deg);
            transform:rotate(0deg); }
  to{
    -webkit-transform:rotate(360deg);
            transform:rotate(360deg); } }

.bp3-spinner{
  -webkit-box-align:center;
      -ms-flex-align:center;
          align-items:center;
  display:-webkit-box;
  display:-ms-flexbox;
  display:flex;
  -webkit-box-pack:center;
      -ms-flex-pack:center;
          justify-content:center;
  overflow:visible;
  vertical-align:middle; }
  .bp3-spinner svg{
    display:block; }
  .bp3-spinner path{
    fill-opacity:0; }
  .bp3-spinner .bp3-spinner-head{
    stroke:rgba(92, 112, 128, 0.8);
    stroke-linecap:round;
    -webkit-transform-origin:center;
            transform-origin:center;
    -webkit-transition:stroke-dashoffset 200ms cubic-bezier(0.4, 1, 0.75, 0.9);
    transition:stroke-dashoffset 200ms cubic-bezier(0.4, 1, 0.75, 0.9); }
  .bp3-spinner .bp3-spinner-track{
    stroke:rgba(92, 112, 128, 0.2); }

.bp3-spinner-animation{
  -webkit-animation:pt-spinner-animation 500ms linear infinite;
          animation:pt-spinner-animation 500ms linear infinite; }
  .bp3-no-spin > .bp3-spinner-animation{
    -webkit-animation:none;
            animation:none; }

.bp3-dark .bp3-spinner .bp3-spinner-head{
  stroke:#8a9ba8; }

.bp3-dark .bp3-spinner .bp3-spinner-track{
  stroke:rgba(16, 22, 26, 0.5); }

.bp3-spinner.bp3-intent-primary .bp3-spinner-head{
  stroke:#137cbd; }

.bp3-spinner.bp3-intent-success .bp3-spinner-head{
  stroke:#0f9960; }

.bp3-spinner.bp3-intent-warning .bp3-spinner-head{
  stroke:#d9822b; }

.bp3-spinner.bp3-intent-danger .bp3-spinner-head{
  stroke:#db3737; }
.bp3-tabs.bp3-vertical{
  display:-webkit-box;
  display:-ms-flexbox;
  display:flex; }
  .bp3-tabs.bp3-vertical > .bp3-tab-list{
    -webkit-box-align:start;
        -ms-flex-align:start;
            align-items:flex-start;
    -webkit-box-orient:vertical;
    -webkit-box-direction:normal;
        -ms-flex-direction:column;
            flex-direction:column; }
    .bp3-tabs.bp3-vertical > .bp3-tab-list .bp3-tab{
      border-radius:3px;
      padding:0 10px;
      width:100%; }
      .bp3-tabs.bp3-vertical > .bp3-tab-list .bp3-tab[aria-selected="true"]{
        background-color:rgba(19, 124, 189, 0.2);
        -webkit-box-shadow:none;
                box-shadow:none; }
    .bp3-tabs.bp3-vertical > .bp3-tab-list .bp3-tab-indicator-wrapper .bp3-tab-indicator{
      background-color:rgba(19, 124, 189, 0.2);
      border-radius:3px;
      bottom:0;
      height:auto;
      left:0;
      right:0;
      top:0; }
  .bp3-tabs.bp3-vertical > .bp3-tab-panel{
    margin-top:0;
    padding-left:20px; }

.bp3-tab-list{
  -webkit-box-align:end;
      -ms-flex-align:end;
          align-items:flex-end;
  border:none;
  display:-webkit-box;
  display:-ms-flexbox;
  display:flex;
  -webkit-box-flex:0;
      -ms-flex:0 0 auto;
          flex:0 0 auto;
  list-style:none;
  margin:0;
  padding:0;
  position:relative; }
  .bp3-tab-list > *:not(:last-child){
    margin-right:20px; }

.bp3-tab{
  overflow:hidden;
  text-overflow:ellipsis;
  white-space:nowrap;
  word-wrap:normal;
  color:#182026;
  cursor:pointer;
  -webkit-box-flex:0;
      -ms-flex:0 0 auto;
          flex:0 0 auto;
  font-size:14px;
  line-height:30px;
  max-width:100%;
  position:relative;
  vertical-align:top; }
  .bp3-tab a{
    color:inherit;
    display:block;
    text-decoration:none; }
  .bp3-tab-indicator-wrapper ~ .bp3-tab{
    background-color:transparent !important;
    -webkit-box-shadow:none !important;
            box-shadow:none !important; }
  .bp3-tab[aria-disabled="true"]{
    color:rgba(92, 112, 128, 0.6);
    cursor:not-allowed; }
  .bp3-tab[aria-selected="true"]{
    border-radius:0;
    -webkit-box-shadow:inset 0 -3px 0 #106ba3;
            box-shadow:inset 0 -3px 0 #106ba3; }
  .bp3-tab[aria-selected="true"], .bp3-tab:not([aria-disabled="true"]):hover{
    color:#106ba3; }
  .bp3-tab:focus{
    -moz-outline-radius:0; }
  .bp3-large > .bp3-tab{
    font-size:16px;
    line-height:40px; }

.bp3-tab-panel{
  margin-top:20px; }
  .bp3-tab-panel[aria-hidden="true"]{
    display:none; }

.bp3-tab-indicator-wrapper{
  left:0;
  pointer-events:none;
  position:absolute;
  top:0;
  -webkit-transform:translateX(0), translateY(0);
          transform:translateX(0), translateY(0);
  -webkit-transition:height, width, -webkit-transform;
  transition:height, width, -webkit-transform;
  transition:height, transform, width;
  transition:height, transform, width, -webkit-transform;
  -webkit-transition-duration:200ms;
          transition-duration:200ms;
  -webkit-transition-timing-function:cubic-bezier(0.4, 1, 0.75, 0.9);
          transition-timing-function:cubic-bezier(0.4, 1, 0.75, 0.9); }
  .bp3-tab-indicator-wrapper .bp3-tab-indicator{
    background-color:#106ba3;
    bottom:0;
    height:3px;
    left:0;
    position:absolute;
    right:0; }
  .bp3-tab-indicator-wrapper.bp3-no-animation{
    -webkit-transition:none;
    transition:none; }

.bp3-dark .bp3-tab{
  color:#f5f8fa; }
  .bp3-dark .bp3-tab[aria-disabled="true"]{
    color:rgba(167, 182, 194, 0.6); }
  .bp3-dark .bp3-tab[aria-selected="true"]{
    -webkit-box-shadow:inset 0 -3px 0 #48aff0;
            box-shadow:inset 0 -3px 0 #48aff0; }
  .bp3-dark .bp3-tab[aria-selected="true"], .bp3-dark .bp3-tab:not([aria-disabled="true"]):hover{
    color:#48aff0; }

.bp3-dark .bp3-tab-indicator{
  background-color:#48aff0; }

.bp3-flex-expander{
  -webkit-box-flex:1;
      -ms-flex:1 1;
          flex:1 1; }
.bp3-tag{
  display:-webkit-inline-box;
  display:-ms-inline-flexbox;
  display:inline-flex;
  -webkit-box-orient:horizontal;
  -webkit-box-direction:normal;
      -ms-flex-direction:row;
          flex-direction:row;
  -webkit-box-align:center;
      -ms-flex-align:center;
          align-items:center;
  background-color:#5c7080;
  border:none;
  border-radius:3px;
  -webkit-box-shadow:none;
          box-shadow:none;
  color:#f5f8fa;
  font-size:12px;
  line-height:16px;
  max-width:100%;
  min-height:20px;
  min-width:20px;
  padding:2px 6px;
  position:relative; }
  .bp3-tag.bp3-interactive{
    cursor:pointer; }
    .bp3-tag.bp3-interactive:hover{
      background-color:rgba(92, 112, 128, 0.85); }
    .bp3-tag.bp3-interactive.bp3-active, .bp3-tag.bp3-interactive:active{
      background-color:rgba(92, 112, 128, 0.7); }
  .bp3-tag > *{
    -webkit-box-flex:0;
        -ms-flex-positive:0;
            flex-grow:0;
    -ms-flex-negative:0;
        flex-shrink:0; }
  .bp3-tag > .bp3-fill{
    -webkit-box-flex:1;
        -ms-flex-positive:1;
            flex-grow:1;
    -ms-flex-negative:1;
        flex-shrink:1; }
  .bp3-tag::before,
  .bp3-tag > *{
    margin-right:4px; }
  .bp3-tag:empty::before,
  .bp3-tag > :last-child{
    margin-right:0; }
  .bp3-tag:focus{
    outline:rgba(19, 124, 189, 0.6) auto 2px;
    outline-offset:0;
    -moz-outline-radius:6px; }
  .bp3-tag.bp3-round{
    border-radius:30px;
    padding-left:8px;
    padding-right:8px; }
  .bp3-dark .bp3-tag{
    background-color:#bfccd6;
    color:#182026; }
    .bp3-dark .bp3-tag.bp3-interactive{
      cursor:pointer; }
      .bp3-dark .bp3-tag.bp3-interactive:hover{
        background-color:rgba(191, 204, 214, 0.85); }
      .bp3-dark .bp3-tag.bp3-interactive.bp3-active, .bp3-dark .bp3-tag.bp3-interactive:active{
        background-color:rgba(191, 204, 214, 0.7); }
    .bp3-dark .bp3-tag > .bp3-icon, .bp3-dark .bp3-tag .bp3-icon-standard, .bp3-dark .bp3-tag .bp3-icon-large{
      fill:currentColor; }
  .bp3-tag > .bp3-icon, .bp3-tag .bp3-icon-standard, .bp3-tag .bp3-icon-large{
    fill:#ffffff; }
  .bp3-tag.bp3-large,
  .bp3-large .bp3-tag{
    font-size:14px;
    line-height:20px;
    min-height:30px;
    min-width:30px;
    padding:5px 10px; }
    .bp3-tag.bp3-large::before,
    .bp3-tag.bp3-large > *,
    .bp3-large .bp3-tag::before,
    .bp3-large .bp3-tag > *{
      margin-right:7px; }
    .bp3-tag.bp3-large:empty::before,
    .bp3-tag.bp3-large > :last-child,
    .bp3-large .bp3-tag:empty::before,
    .bp3-large .bp3-tag > :last-child{
      margin-right:0; }
    .bp3-tag.bp3-large.bp3-round,
    .bp3-large .bp3-tag.bp3-round{
      padding-left:12px;
      padding-right:12px; }
  .bp3-tag.bp3-intent-primary{
    background:#137cbd;
    color:#ffffff; }
    .bp3-tag.bp3-intent-primary.bp3-interactive{
      cursor:pointer; }
      .bp3-tag.bp3-intent-primary.bp3-interactive:hover{
        background-color:rgba(19, 124, 189, 0.85); }
      .bp3-tag.bp3-intent-primary.bp3-interactive.bp3-active, .bp3-tag.bp3-intent-primary.bp3-interactive:active{
        background-color:rgba(19, 124, 189, 0.7); }
  .bp3-tag.bp3-intent-success{
    background:#0f9960;
    color:#ffffff; }
    .bp3-tag.bp3-intent-success.bp3-interactive{
      cursor:pointer; }
      .bp3-tag.bp3-intent-success.bp3-interactive:hover{
        background-color:rgba(15, 153, 96, 0.85); }
      .bp3-tag.bp3-intent-success.bp3-interactive.bp3-active, .bp3-tag.bp3-intent-success.bp3-interactive:active{
        background-color:rgba(15, 153, 96, 0.7); }
  .bp3-tag.bp3-intent-warning{
    background:#d9822b;
    color:#ffffff; }
    .bp3-tag.bp3-intent-warning.bp3-interactive{
      cursor:pointer; }
      .bp3-tag.bp3-intent-warning.bp3-interactive:hover{
        background-color:rgba(217, 130, 43, 0.85); }
      .bp3-tag.bp3-intent-warning.bp3-interactive.bp3-active, .bp3-tag.bp3-intent-warning.bp3-interactive:active{
        background-color:rgba(217, 130, 43, 0.7); }
  .bp3-tag.bp3-intent-danger{
    background:#db3737;
    color:#ffffff; }
    .bp3-tag.bp3-intent-danger.bp3-interactive{
      cursor:pointer; }
      .bp3-tag.bp3-intent-danger.bp3-interactive:hover{
        background-color:rgba(219, 55, 55, 0.85); }
      .bp3-tag.bp3-intent-danger.bp3-interactive.bp3-active, .bp3-tag.bp3-intent-danger.bp3-interactive:active{
        background-color:rgba(219, 55, 55, 0.7); }
  .bp3-tag.bp3-fill{
    display:-webkit-box;
    display:-ms-flexbox;
    display:flex;
    width:100%; }
  .bp3-tag.bp3-minimal > .bp3-icon, .bp3-tag.bp3-minimal .bp3-icon-standard, .bp3-tag.bp3-minimal .bp3-icon-large{
    fill:#5c7080; }
  .bp3-tag.bp3-minimal:not([class*="bp3-intent-"]){
    background-color:rgba(138, 155, 168, 0.2);
    color:#182026; }
    .bp3-tag.bp3-minimal:not([class*="bp3-intent-"]).bp3-interactive{
      cursor:pointer; }
      .bp3-tag.bp3-minimal:not([class*="bp3-intent-"]).bp3-interactive:hover{
        background-color:rgba(92, 112, 128, 0.3); }
      .bp3-tag.bp3-minimal:not([class*="bp3-intent-"]).bp3-interactive.bp3-active, .bp3-tag.bp3-minimal:not([class*="bp3-intent-"]).bp3-interactive:active{
        background-color:rgba(92, 112, 128, 0.4); }
    .bp3-dark .bp3-tag.bp3-minimal:not([class*="bp3-intent-"]){
      color:#f5f8fa; }
      .bp3-dark .bp3-tag.bp3-minimal:not([class*="bp3-intent-"]).bp3-interactive{
        cursor:pointer; }
        .bp3-dark .bp3-tag.bp3-minimal:not([class*="bp3-intent-"]).bp3-interactive:hover{
          background-color:rgba(191, 204, 214, 0.3); }
        .bp3-dark .bp3-tag.bp3-minimal:not([class*="bp3-intent-"]).bp3-interactive.bp3-active, .bp3-dark .bp3-tag.bp3-minimal:not([class*="bp3-intent-"]).bp3-interactive:active{
          background-color:rgba(191, 204, 214, 0.4); }
      .bp3-dark .bp3-tag.bp3-minimal:not([class*="bp3-intent-"]) > .bp3-icon, .bp3-dark .bp3-tag.bp3-minimal:not([class*="bp3-intent-"]) .bp3-icon-standard, .bp3-dark .bp3-tag.bp3-minimal:not([class*="bp3-intent-"]) .bp3-icon-large{
        fill:#a7b6c2; }
  .bp3-tag.bp3-minimal.bp3-intent-primary{
    background-color:rgba(19, 124, 189, 0.15);
    color:#106ba3; }
    .bp3-tag.bp3-minimal.bp3-intent-primary.bp3-interactive{
      cursor:pointer; }
      .bp3-tag.bp3-minimal.bp3-intent-primary.bp3-interactive:hover{
        background-color:rgba(19, 124, 189, 0.25); }
      .bp3-tag.bp3-minimal.bp3-intent-primary.bp3-interactive.bp3-active, .bp3-tag.bp3-minimal.bp3-intent-primary.bp3-interactive:active{
        background-color:rgba(19, 124, 189, 0.35); }
    .bp3-tag.bp3-minimal.bp3-intent-primary > .bp3-icon, .bp3-tag.bp3-minimal.bp3-intent-primary .bp3-icon-standard, .bp3-tag.bp3-minimal.bp3-intent-primary .bp3-icon-large{
      fill:#137cbd; }
    .bp3-dark .bp3-tag.bp3-minimal.bp3-intent-primary{
      background-color:rgba(19, 124, 189, 0.25);
      color:#48aff0; }
      .bp3-dark .bp3-tag.bp3-minimal.bp3-intent-primary.bp3-interactive{
        cursor:pointer; }
        .bp3-dark .bp3-tag.bp3-minimal.bp3-intent-primary.bp3-interactive:hover{
          background-color:rgba(19, 124, 189, 0.35); }
        .bp3-dark .bp3-tag.bp3-minimal.bp3-intent-primary.bp3-interactive.bp3-active, .bp3-dark .bp3-tag.bp3-minimal.bp3-intent-primary.bp3-interactive:active{
          background-color:rgba(19, 124, 189, 0.45); }
  .bp3-tag.bp3-minimal.bp3-intent-success{
    background-color:rgba(15, 153, 96, 0.15);
    color:#0d8050; }
    .bp3-tag.bp3-minimal.bp3-intent-success.bp3-interactive{
      cursor:pointer; }
      .bp3-tag.bp3-minimal.bp3-intent-success.bp3-interactive:hover{
        background-color:rgba(15, 153, 96, 0.25); }
      .bp3-tag.bp3-minimal.bp3-intent-success.bp3-interactive.bp3-active, .bp3-tag.bp3-minimal.bp3-intent-success.bp3-interactive:active{
        background-color:rgba(15, 153, 96, 0.35); }
    .bp3-tag.bp3-minimal.bp3-intent-success > .bp3-icon, .bp3-tag.bp3-minimal.bp3-intent-success .bp3-icon-standard, .bp3-tag.bp3-minimal.bp3-intent-success .bp3-icon-large{
      fill:#0f9960; }
    .bp3-dark .bp3-tag.bp3-minimal.bp3-intent-success{
      background-color:rgba(15, 153, 96, 0.25);
      color:#3dcc91; }
      .bp3-dark .bp3-tag.bp3-minimal.bp3-intent-success.bp3-interactive{
        cursor:pointer; }
        .bp3-dark .bp3-tag.bp3-minimal.bp3-intent-success.bp3-interactive:hover{
          background-color:rgba(15, 153, 96, 0.35); }
        .bp3-dark .bp3-tag.bp3-minimal.bp3-intent-success.bp3-interactive.bp3-active, .bp3-dark .bp3-tag.bp3-minimal.bp3-intent-success.bp3-interactive:active{
          background-color:rgba(15, 153, 96, 0.45); }
  .bp3-tag.bp3-minimal.bp3-intent-warning{
    background-color:rgba(217, 130, 43, 0.15);
    color:#bf7326; }
    .bp3-tag.bp3-minimal.bp3-intent-warning.bp3-interactive{
      cursor:pointer; }
      .bp3-tag.bp3-minimal.bp3-intent-warning.bp3-interactive:hover{
        background-color:rgba(217, 130, 43, 0.25); }
      .bp3-tag.bp3-minimal.bp3-intent-warning.bp3-interactive.bp3-active, .bp3-tag.bp3-minimal.bp3-intent-warning.bp3-interactive:active{
        background-color:rgba(217, 130, 43, 0.35); }
    .bp3-tag.bp3-minimal.bp3-intent-warning > .bp3-icon, .bp3-tag.bp3-minimal.bp3-intent-warning .bp3-icon-standard, .bp3-tag.bp3-minimal.bp3-intent-warning .bp3-icon-large{
      fill:#d9822b; }
    .bp3-dark .bp3-tag.bp3-minimal.bp3-intent-warning{
      background-color:rgba(217, 130, 43, 0.25);
      color:#ffb366; }
      .bp3-dark .bp3-tag.bp3-minimal.bp3-intent-warning.bp3-interactive{
        cursor:pointer; }
        .bp3-dark .bp3-tag.bp3-minimal.bp3-intent-warning.bp3-interactive:hover{
          background-color:rgba(217, 130, 43, 0.35); }
        .bp3-dark .bp3-tag.bp3-minimal.bp3-intent-warning.bp3-interactive.bp3-active, .bp3-dark .bp3-tag.bp3-minimal.bp3-intent-warning.bp3-interactive:active{
          background-color:rgba(217, 130, 43, 0.45); }
  .bp3-tag.bp3-minimal.bp3-intent-danger{
    background-color:rgba(219, 55, 55, 0.15);
    color:#c23030; }
    .bp3-tag.bp3-minimal.bp3-intent-danger.bp3-interactive{
      cursor:pointer; }
      .bp3-tag.bp3-minimal.bp3-intent-danger.bp3-interactive:hover{
        background-color:rgba(219, 55, 55, 0.25); }
      .bp3-tag.bp3-minimal.bp3-intent-danger.bp3-interactive.bp3-active, .bp3-tag.bp3-minimal.bp3-intent-danger.bp3-interactive:active{
        background-color:rgba(219, 55, 55, 0.35); }
    .bp3-tag.bp3-minimal.bp3-intent-danger > .bp3-icon, .bp3-tag.bp3-minimal.bp3-intent-danger .bp3-icon-standard, .bp3-tag.bp3-minimal.bp3-intent-danger .bp3-icon-large{
      fill:#db3737; }
    .bp3-dark .bp3-tag.bp3-minimal.bp3-intent-danger{
      background-color:rgba(219, 55, 55, 0.25);
      color:#ff7373; }
      .bp3-dark .bp3-tag.bp3-minimal.bp3-intent-danger.bp3-interactive{
        cursor:pointer; }
        .bp3-dark .bp3-tag.bp3-minimal.bp3-intent-danger.bp3-interactive:hover{
          background-color:rgba(219, 55, 55, 0.35); }
        .bp3-dark .bp3-tag.bp3-minimal.bp3-intent-danger.bp3-interactive.bp3-active, .bp3-dark .bp3-tag.bp3-minimal.bp3-intent-danger.bp3-interactive:active{
          background-color:rgba(219, 55, 55, 0.45); }

.bp3-tag-remove{
  background:none;
  border:none;
  color:inherit;
  cursor:pointer;
  display:-webkit-box;
  display:-ms-flexbox;
  display:flex;
  margin-bottom:-2px;
  margin-right:-6px !important;
  margin-top:-2px;
  opacity:0.5;
  padding:2px;
  padding-left:0; }
  .bp3-tag-remove:hover{
    background:none;
    opacity:0.8;
    text-decoration:none; }
  .bp3-tag-remove:active{
    opacity:1; }
  .bp3-tag-remove:empty::before{
    font-family:"Icons16", sans-serif;
    font-size:16px;
    font-style:normal;
    font-weight:400;
    line-height:1;
    -moz-osx-font-smoothing:grayscale;
    -webkit-font-smoothing:antialiased;
    content:""; }
  .bp3-large .bp3-tag-remove{
    margin-right:-10px !important;
    padding:0 5px 0 0; }
    .bp3-large .bp3-tag-remove:empty::before{
      font-family:"Icons20", sans-serif;
      font-size:20px;
      font-style:normal;
      font-weight:400;
      line-height:1; }
.bp3-tag-input{
  display:-webkit-box;
  display:-ms-flexbox;
  display:flex;
  -webkit-box-orient:horizontal;
  -webkit-box-direction:normal;
      -ms-flex-direction:row;
          flex-direction:row;
  -webkit-box-align:start;
      -ms-flex-align:start;
          align-items:flex-start;
  cursor:text;
  height:auto;
  line-height:inherit;
  min-height:30px;
  padding-left:5px;
  padding-right:0; }
  .bp3-tag-input > *{
    -webkit-box-flex:0;
        -ms-flex-positive:0;
            flex-grow:0;
    -ms-flex-negative:0;
        flex-shrink:0; }
  .bp3-tag-input > .bp3-tag-input-values{
    -webkit-box-flex:1;
        -ms-flex-positive:1;
            flex-grow:1;
    -ms-flex-negative:1;
        flex-shrink:1; }
  .bp3-tag-input .bp3-tag-input-icon{
    color:#5c7080;
    margin-left:2px;
    margin-right:7px;
    margin-top:7px; }
  .bp3-tag-input .bp3-tag-input-values{
    display:-webkit-box;
    display:-ms-flexbox;
    display:flex;
    -webkit-box-orient:horizontal;
    -webkit-box-direction:normal;
        -ms-flex-direction:row;
            flex-direction:row;
    -webkit-box-align:center;
        -ms-flex-align:center;
            align-items:center;
    -ms-flex-item-align:stretch;
        align-self:stretch;
    -ms-flex-wrap:wrap;
        flex-wrap:wrap;
    margin-right:7px;
    margin-top:5px;
    min-width:0; }
    .bp3-tag-input .bp3-tag-input-values > *{
      -webkit-box-flex:0;
          -ms-flex-positive:0;
              flex-grow:0;
      -ms-flex-negative:0;
          flex-shrink:0; }
    .bp3-tag-input .bp3-tag-input-values > .bp3-fill{
      -webkit-box-flex:1;
          -ms-flex-positive:1;
              flex-grow:1;
      -ms-flex-negative:1;
          flex-shrink:1; }
    .bp3-tag-input .bp3-tag-input-values::before,
    .bp3-tag-input .bp3-tag-input-values > *{
      margin-right:5px; }
    .bp3-tag-input .bp3-tag-input-values:empty::before,
    .bp3-tag-input .bp3-tag-input-values > :last-child{
      margin-right:0; }
    .bp3-tag-input .bp3-tag-input-values:first-child .bp3-input-ghost:first-child{
      padding-left:5px; }
    .bp3-tag-input .bp3-tag-input-values > *{
      margin-bottom:5px; }
  .bp3-tag-input .bp3-tag{
    overflow-wrap:break-word; }
    .bp3-tag-input .bp3-tag.bp3-active{
      outline:rgba(19, 124, 189, 0.6) auto 2px;
      outline-offset:0;
      -moz-outline-radius:6px; }
  .bp3-tag-input .bp3-input-ghost{
    -webkit-box-flex:1;
        -ms-flex:1 1 auto;
            flex:1 1 auto;
    line-height:20px;
    width:80px; }
    .bp3-tag-input .bp3-input-ghost:disabled, .bp3-tag-input .bp3-input-ghost.bp3-disabled{
      cursor:not-allowed; }
  .bp3-tag-input .bp3-button,
  .bp3-tag-input .bp3-spinner{
    margin:3px;
    margin-left:0; }
  .bp3-tag-input .bp3-button{
    min-height:24px;
    min-width:24px;
    padding:0 7px; }
  .bp3-tag-input.bp3-large{
    height:auto;
    min-height:40px; }
    .bp3-tag-input.bp3-large::before,
    .bp3-tag-input.bp3-large > *{
      margin-right:10px; }
    .bp3-tag-input.bp3-large:empty::before,
    .bp3-tag-input.bp3-large > :last-child{
      margin-right:0; }
    .bp3-tag-input.bp3-large .bp3-tag-input-icon{
      margin-left:5px;
      margin-top:10px; }
    .bp3-tag-input.bp3-large .bp3-input-ghost{
      line-height:30px; }
    .bp3-tag-input.bp3-large .bp3-button{
      min-height:30px;
      min-width:30px;
      padding:5px 10px;
      margin:5px;
      margin-left:0; }
    .bp3-tag-input.bp3-large .bp3-spinner{
      margin:8px;
      margin-left:0; }
  .bp3-tag-input.bp3-active{
    background-color:#ffffff;
    -webkit-box-shadow:0 0 0 1px #137cbd, 0 0 0 3px rgba(19, 124, 189, 0.3), inset 0 1px 1px rgba(16, 22, 26, 0.2);
            box-shadow:0 0 0 1px #137cbd, 0 0 0 3px rgba(19, 124, 189, 0.3), inset 0 1px 1px rgba(16, 22, 26, 0.2); }
    .bp3-tag-input.bp3-active.bp3-intent-primary{
      -webkit-box-shadow:0 0 0 1px #106ba3, 0 0 0 3px rgba(16, 107, 163, 0.3), inset 0 1px 1px rgba(16, 22, 26, 0.2);
              box-shadow:0 0 0 1px #106ba3, 0 0 0 3px rgba(16, 107, 163, 0.3), inset 0 1px 1px rgba(16, 22, 26, 0.2); }
    .bp3-tag-input.bp3-active.bp3-intent-success{
      -webkit-box-shadow:0 0 0 1px #0d8050, 0 0 0 3px rgba(13, 128, 80, 0.3), inset 0 1px 1px rgba(16, 22, 26, 0.2);
              box-shadow:0 0 0 1px #0d8050, 0 0 0 3px rgba(13, 128, 80, 0.3), inset 0 1px 1px rgba(16, 22, 26, 0.2); }
    .bp3-tag-input.bp3-active.bp3-intent-warning{
      -webkit-box-shadow:0 0 0 1px #bf7326, 0 0 0 3px rgba(191, 115, 38, 0.3), inset 0 1px 1px rgba(16, 22, 26, 0.2);
              box-shadow:0 0 0 1px #bf7326, 0 0 0 3px rgba(191, 115, 38, 0.3), inset 0 1px 1px rgba(16, 22, 26, 0.2); }
    .bp3-tag-input.bp3-active.bp3-intent-danger{
      -webkit-box-shadow:0 0 0 1px #c23030, 0 0 0 3px rgba(194, 48, 48, 0.3), inset 0 1px 1px rgba(16, 22, 26, 0.2);
              box-shadow:0 0 0 1px #c23030, 0 0 0 3px rgba(194, 48, 48, 0.3), inset 0 1px 1px rgba(16, 22, 26, 0.2); }
  .bp3-dark .bp3-tag-input .bp3-tag-input-icon, .bp3-tag-input.bp3-dark .bp3-tag-input-icon{
    color:#a7b6c2; }
  .bp3-dark .bp3-tag-input .bp3-input-ghost, .bp3-tag-input.bp3-dark .bp3-input-ghost{
    color:#f5f8fa; }
    .bp3-dark .bp3-tag-input .bp3-input-ghost::-webkit-input-placeholder, .bp3-tag-input.bp3-dark .bp3-input-ghost::-webkit-input-placeholder{
      color:rgba(167, 182, 194, 0.6); }
    .bp3-dark .bp3-tag-input .bp3-input-ghost::-moz-placeholder, .bp3-tag-input.bp3-dark .bp3-input-ghost::-moz-placeholder{
      color:rgba(167, 182, 194, 0.6); }
    .bp3-dark .bp3-tag-input .bp3-input-ghost:-ms-input-placeholder, .bp3-tag-input.bp3-dark .bp3-input-ghost:-ms-input-placeholder{
      color:rgba(167, 182, 194, 0.6); }
    .bp3-dark .bp3-tag-input .bp3-input-ghost::-ms-input-placeholder, .bp3-tag-input.bp3-dark .bp3-input-ghost::-ms-input-placeholder{
      color:rgba(167, 182, 194, 0.6); }
    .bp3-dark .bp3-tag-input .bp3-input-ghost::placeholder, .bp3-tag-input.bp3-dark .bp3-input-ghost::placeholder{
      color:rgba(167, 182, 194, 0.6); }
  .bp3-dark .bp3-tag-input.bp3-active, .bp3-tag-input.bp3-dark.bp3-active{
    background-color:rgba(16, 22, 26, 0.3);
    -webkit-box-shadow:0 0 0 1px #137cbd, 0 0 0 1px #137cbd, 0 0 0 3px rgba(19, 124, 189, 0.3), inset 0 0 0 1px rgba(16, 22, 26, 0.3), inset 0 1px 1px rgba(16, 22, 26, 0.4);
            box-shadow:0 0 0 1px #137cbd, 0 0 0 1px #137cbd, 0 0 0 3px rgba(19, 124, 189, 0.3), inset 0 0 0 1px rgba(16, 22, 26, 0.3), inset 0 1px 1px rgba(16, 22, 26, 0.4); }
    .bp3-dark .bp3-tag-input.bp3-active.bp3-intent-primary, .bp3-tag-input.bp3-dark.bp3-active.bp3-intent-primary{
      -webkit-box-shadow:0 0 0 1px #106ba3, 0 0 0 3px rgba(16, 107, 163, 0.3), inset 0 0 0 1px rgba(16, 22, 26, 0.3), inset 0 1px 1px rgba(16, 22, 26, 0.4);
              box-shadow:0 0 0 1px #106ba3, 0 0 0 3px rgba(16, 107, 163, 0.3), inset 0 0 0 1px rgba(16, 22, 26, 0.3), inset 0 1px 1px rgba(16, 22, 26, 0.4); }
    .bp3-dark .bp3-tag-input.bp3-active.bp3-intent-success, .bp3-tag-input.bp3-dark.bp3-active.bp3-intent-success{
      -webkit-box-shadow:0 0 0 1px #0d8050, 0 0 0 3px rgba(13, 128, 80, 0.3), inset 0 0 0 1px rgba(16, 22, 26, 0.3), inset 0 1px 1px rgba(16, 22, 26, 0.4);
              box-shadow:0 0 0 1px #0d8050, 0 0 0 3px rgba(13, 128, 80, 0.3), inset 0 0 0 1px rgba(16, 22, 26, 0.3), inset 0 1px 1px rgba(16, 22, 26, 0.4); }
    .bp3-dark .bp3-tag-input.bp3-active.bp3-intent-warning, .bp3-tag-input.bp3-dark.bp3-active.bp3-intent-warning{
      -webkit-box-shadow:0 0 0 1px #bf7326, 0 0 0 3px rgba(191, 115, 38, 0.3), inset 0 0 0 1px rgba(16, 22, 26, 0.3), inset 0 1px 1px rgba(16, 22, 26, 0.4);
              box-shadow:0 0 0 1px #bf7326, 0 0 0 3px rgba(191, 115, 38, 0.3), inset 0 0 0 1px rgba(16, 22, 26, 0.3), inset 0 1px 1px rgba(16, 22, 26, 0.4); }
    .bp3-dark .bp3-tag-input.bp3-active.bp3-intent-danger, .bp3-tag-input.bp3-dark.bp3-active.bp3-intent-danger{
      -webkit-box-shadow:0 0 0 1px #c23030, 0 0 0 3px rgba(194, 48, 48, 0.3), inset 0 0 0 1px rgba(16, 22, 26, 0.3), inset 0 1px 1px rgba(16, 22, 26, 0.4);
              box-shadow:0 0 0 1px #c23030, 0 0 0 3px rgba(194, 48, 48, 0.3), inset 0 0 0 1px rgba(16, 22, 26, 0.3), inset 0 1px 1px rgba(16, 22, 26, 0.4); }

.bp3-input-ghost{
  background:none;
  border:none;
  -webkit-box-shadow:none;
          box-shadow:none;
  padding:0; }
  .bp3-input-ghost::-webkit-input-placeholder{
    color:rgba(92, 112, 128, 0.6);
    opacity:1; }
  .bp3-input-ghost::-moz-placeholder{
    color:rgba(92, 112, 128, 0.6);
    opacity:1; }
  .bp3-input-ghost:-ms-input-placeholder{
    color:rgba(92, 112, 128, 0.6);
    opacity:1; }
  .bp3-input-ghost::-ms-input-placeholder{
    color:rgba(92, 112, 128, 0.6);
    opacity:1; }
  .bp3-input-ghost::placeholder{
    color:rgba(92, 112, 128, 0.6);
    opacity:1; }
  .bp3-input-ghost:focus{
    outline:none !important; }
.bp3-toast{
  -webkit-box-align:start;
      -ms-flex-align:start;
          align-items:flex-start;
  background-color:#ffffff;
  border-radius:3px;
  -webkit-box-shadow:0 0 0 1px rgba(16, 22, 26, 0.1), 0 2px 4px rgba(16, 22, 26, 0.2), 0 8px 24px rgba(16, 22, 26, 0.2);
          box-shadow:0 0 0 1px rgba(16, 22, 26, 0.1), 0 2px 4px rgba(16, 22, 26, 0.2), 0 8px 24px rgba(16, 22, 26, 0.2);
  display:-webkit-box;
  display:-ms-flexbox;
  display:flex;
  margin:20px 0 0;
  max-width:500px;
  min-width:300px;
  pointer-events:all;
  position:relative !important; }
  .bp3-toast.bp3-toast-enter, .bp3-toast.bp3-toast-appear{
    -webkit-transform:translateY(-40px);
            transform:translateY(-40px); }
  .bp3-toast.bp3-toast-enter-active, .bp3-toast.bp3-toast-appear-active{
    -webkit-transform:translateY(0);
            transform:translateY(0);
    -webkit-transition-delay:0;
            transition-delay:0;
    -webkit-transition-duration:300ms;
            transition-duration:300ms;
    -webkit-transition-property:-webkit-transform;
    transition-property:-webkit-transform;
    transition-property:transform;
    transition-property:transform, -webkit-transform;
    -webkit-transition-timing-function:cubic-bezier(0.54, 1.12, 0.38, 1.11);
            transition-timing-function:cubic-bezier(0.54, 1.12, 0.38, 1.11); }
  .bp3-toast.bp3-toast-enter ~ .bp3-toast, .bp3-toast.bp3-toast-appear ~ .bp3-toast{
    -webkit-transform:translateY(-40px);
            transform:translateY(-40px); }
  .bp3-toast.bp3-toast-enter-active ~ .bp3-toast, .bp3-toast.bp3-toast-appear-active ~ .bp3-toast{
    -webkit-transform:translateY(0);
            transform:translateY(0);
    -webkit-transition-delay:0;
            transition-delay:0;
    -webkit-transition-duration:300ms;
            transition-duration:300ms;
    -webkit-transition-property:-webkit-transform;
    transition-property:-webkit-transform;
    transition-property:transform;
    transition-property:transform, -webkit-transform;
    -webkit-transition-timing-function:cubic-bezier(0.54, 1.12, 0.38, 1.11);
            transition-timing-function:cubic-bezier(0.54, 1.12, 0.38, 1.11); }
  .bp3-toast.bp3-toast-exit{
    opacity:1;
    -webkit-filter:blur(0);
            filter:blur(0); }
  .bp3-toast.bp3-toast-exit-active{
    opacity:0;
    -webkit-filter:blur(10px);
            filter:blur(10px);
    -webkit-transition-delay:0;
            transition-delay:0;
    -webkit-transition-duration:300ms;
            transition-duration:300ms;
    -webkit-transition-property:opacity, -webkit-filter;
    transition-property:opacity, -webkit-filter;
    transition-property:opacity, filter;
    transition-property:opacity, filter, -webkit-filter;
    -webkit-transition-timing-function:cubic-bezier(0.4, 1, 0.75, 0.9);
            transition-timing-function:cubic-bezier(0.4, 1, 0.75, 0.9); }
  .bp3-toast.bp3-toast-exit ~ .bp3-toast{
    -webkit-transform:translateY(0);
            transform:translateY(0); }
  .bp3-toast.bp3-toast-exit-active ~ .bp3-toast{
    -webkit-transform:translateY(-40px);
            transform:translateY(-40px);
    -webkit-transition-delay:50ms;
            transition-delay:50ms;
    -webkit-transition-duration:100ms;
            transition-duration:100ms;
    -webkit-transition-property:-webkit-transform;
    transition-property:-webkit-transform;
    transition-property:transform;
    transition-property:transform, -webkit-transform;
    -webkit-transition-timing-function:cubic-bezier(0.4, 1, 0.75, 0.9);
            transition-timing-function:cubic-bezier(0.4, 1, 0.75, 0.9); }
  .bp3-toast .bp3-button-group{
    -webkit-box-flex:0;
        -ms-flex:0 0 auto;
            flex:0 0 auto;
    padding:5px;
    padding-left:0; }
  .bp3-toast > .bp3-icon{
    color:#5c7080;
    margin:12px;
    margin-right:0; }
  .bp3-toast.bp3-dark,
  .bp3-dark .bp3-toast{
    background-color:#394b59;
    -webkit-box-shadow:0 0 0 1px rgba(16, 22, 26, 0.2), 0 2px 4px rgba(16, 22, 26, 0.4), 0 8px 24px rgba(16, 22, 26, 0.4);
            box-shadow:0 0 0 1px rgba(16, 22, 26, 0.2), 0 2px 4px rgba(16, 22, 26, 0.4), 0 8px 24px rgba(16, 22, 26, 0.4); }
    .bp3-toast.bp3-dark > .bp3-icon,
    .bp3-dark .bp3-toast > .bp3-icon{
      color:#a7b6c2; }
  .bp3-toast[class*="bp3-intent-"] a{
    color:rgba(255, 255, 255, 0.7); }
    .bp3-toast[class*="bp3-intent-"] a:hover{
      color:#ffffff; }
  .bp3-toast[class*="bp3-intent-"] > .bp3-icon{
    color:#ffffff; }
  .bp3-toast[class*="bp3-intent-"] .bp3-button, .bp3-toast[class*="bp3-intent-"] .bp3-button::before,
  .bp3-toast[class*="bp3-intent-"] .bp3-button .bp3-icon, .bp3-toast[class*="bp3-intent-"] .bp3-button:active{
    color:rgba(255, 255, 255, 0.7) !important; }
  .bp3-toast[class*="bp3-intent-"] .bp3-button:focus{
    outline-color:rgba(255, 255, 255, 0.5); }
  .bp3-toast[class*="bp3-intent-"] .bp3-button:hover{
    background-color:rgba(255, 255, 255, 0.15) !important;
    color:#ffffff !important; }
  .bp3-toast[class*="bp3-intent-"] .bp3-button:active{
    background-color:rgba(255, 255, 255, 0.3) !important;
    color:#ffffff !important; }
  .bp3-toast[class*="bp3-intent-"] .bp3-button::after{
    background:rgba(255, 255, 255, 0.3) !important; }
  .bp3-toast.bp3-intent-primary{
    background-color:#137cbd;
    color:#ffffff; }
  .bp3-toast.bp3-intent-success{
    background-color:#0f9960;
    color:#ffffff; }
  .bp3-toast.bp3-intent-warning{
    background-color:#d9822b;
    color:#ffffff; }
  .bp3-toast.bp3-intent-danger{
    background-color:#db3737;
    color:#ffffff; }

.bp3-toast-message{
  -webkit-box-flex:1;
      -ms-flex:1 1 auto;
          flex:1 1 auto;
  padding:11px;
  word-break:break-word; }

.bp3-toast-container{
  -webkit-box-align:center;
      -ms-flex-align:center;
          align-items:center;
  display:-webkit-box !important;
  display:-ms-flexbox !important;
  display:flex !important;
  -webkit-box-orient:vertical;
  -webkit-box-direction:normal;
      -ms-flex-direction:column;
          flex-direction:column;
  left:0;
  overflow:hidden;
  padding:0 20px 20px;
  pointer-events:none;
  position:fixed;
  right:0;
  z-index:40; }
  .bp3-toast-container.bp3-toast-container-top{
    top:0; }
  .bp3-toast-container.bp3-toast-container-bottom{
    bottom:0;
    -webkit-box-orient:vertical;
    -webkit-box-direction:reverse;
        -ms-flex-direction:column-reverse;
            flex-direction:column-reverse;
    top:auto; }
  .bp3-toast-container.bp3-toast-container-left{
    -webkit-box-align:start;
        -ms-flex-align:start;
            align-items:flex-start; }
  .bp3-toast-container.bp3-toast-container-right{
    -webkit-box-align:end;
        -ms-flex-align:end;
            align-items:flex-end; }

.bp3-toast-container-bottom .bp3-toast.bp3-toast-enter:not(.bp3-toast-enter-active),
.bp3-toast-container-bottom .bp3-toast.bp3-toast-enter:not(.bp3-toast-enter-active) ~ .bp3-toast, .bp3-toast-container-bottom .bp3-toast.bp3-toast-appear:not(.bp3-toast-appear-active),
.bp3-toast-container-bottom .bp3-toast.bp3-toast-appear:not(.bp3-toast-appear-active) ~ .bp3-toast,
.bp3-toast-container-bottom .bp3-toast.bp3-toast-exit-active ~ .bp3-toast,
.bp3-toast-container-bottom .bp3-toast.bp3-toast-leave-active ~ .bp3-toast{
  -webkit-transform:translateY(60px);
          transform:translateY(60px); }
.bp3-tooltip{
  -webkit-box-shadow:0 0 0 1px rgba(16, 22, 26, 0.1), 0 2px 4px rgba(16, 22, 26, 0.2), 0 8px 24px rgba(16, 22, 26, 0.2);
          box-shadow:0 0 0 1px rgba(16, 22, 26, 0.1), 0 2px 4px rgba(16, 22, 26, 0.2), 0 8px 24px rgba(16, 22, 26, 0.2);
  -webkit-transform:scale(1);
          transform:scale(1); }
  .bp3-tooltip .bp3-popover-arrow{
    height:22px;
    position:absolute;
    width:22px; }
    .bp3-tooltip .bp3-popover-arrow::before{
      height:14px;
      margin:4px;
      width:14px; }
  .bp3-tether-element-attached-bottom.bp3-tether-target-attached-top > .bp3-tooltip{
    margin-bottom:11px;
    margin-top:-11px; }
    .bp3-tether-element-attached-bottom.bp3-tether-target-attached-top > .bp3-tooltip > .bp3-popover-arrow{
      bottom:-8px; }
      .bp3-tether-element-attached-bottom.bp3-tether-target-attached-top > .bp3-tooltip > .bp3-popover-arrow svg{
        -webkit-transform:rotate(-90deg);
                transform:rotate(-90deg); }
  .bp3-tether-element-attached-left.bp3-tether-target-attached-right > .bp3-tooltip{
    margin-left:11px; }
    .bp3-tether-element-attached-left.bp3-tether-target-attached-right > .bp3-tooltip > .bp3-popover-arrow{
      left:-8px; }
      .bp3-tether-element-attached-left.bp3-tether-target-attached-right > .bp3-tooltip > .bp3-popover-arrow svg{
        -webkit-transform:rotate(0);
                transform:rotate(0); }
  .bp3-tether-element-attached-top.bp3-tether-target-attached-bottom > .bp3-tooltip{
    margin-top:11px; }
    .bp3-tether-element-attached-top.bp3-tether-target-attached-bottom > .bp3-tooltip > .bp3-popover-arrow{
      top:-8px; }
      .bp3-tether-element-attached-top.bp3-tether-target-attached-bottom > .bp3-tooltip > .bp3-popover-arrow svg{
        -webkit-transform:rotate(90deg);
                transform:rotate(90deg); }
  .bp3-tether-element-attached-right.bp3-tether-target-attached-left > .bp3-tooltip{
    margin-left:-11px;
    margin-right:11px; }
    .bp3-tether-element-attached-right.bp3-tether-target-attached-left > .bp3-tooltip > .bp3-popover-arrow{
      right:-8px; }
      .bp3-tether-element-attached-right.bp3-tether-target-attached-left > .bp3-tooltip > .bp3-popover-arrow svg{
        -webkit-transform:rotate(180deg);
                transform:rotate(180deg); }
  .bp3-tether-element-attached-middle > .bp3-tooltip > .bp3-popover-arrow{
    top:50%;
    -webkit-transform:translateY(-50%);
            transform:translateY(-50%); }
  .bp3-tether-element-attached-center > .bp3-tooltip > .bp3-popover-arrow{
    right:50%;
    -webkit-transform:translateX(50%);
            transform:translateX(50%); }
  .bp3-tether-element-attached-top.bp3-tether-target-attached-top > .bp3-tooltip > .bp3-popover-arrow{
    top:-0.22183px; }
  .bp3-tether-element-attached-right.bp3-tether-target-attached-right > .bp3-tooltip > .bp3-popover-arrow{
    right:-0.22183px; }
  .bp3-tether-element-attached-left.bp3-tether-target-attached-left > .bp3-tooltip > .bp3-popover-arrow{
    left:-0.22183px; }
  .bp3-tether-element-attached-bottom.bp3-tether-target-attached-bottom > .bp3-tooltip > .bp3-popover-arrow{
    bottom:-0.22183px; }
  .bp3-tether-element-attached-top.bp3-tether-element-attached-left > .bp3-tooltip{
    -webkit-transform-origin:top left;
            transform-origin:top left; }
  .bp3-tether-element-attached-top.bp3-tether-element-attached-center > .bp3-tooltip{
    -webkit-transform-origin:top center;
            transform-origin:top center; }
  .bp3-tether-element-attached-top.bp3-tether-element-attached-right > .bp3-tooltip{
    -webkit-transform-origin:top right;
            transform-origin:top right; }
  .bp3-tether-element-attached-middle.bp3-tether-element-attached-left > .bp3-tooltip{
    -webkit-transform-origin:center left;
            transform-origin:center left; }
  .bp3-tether-element-attached-middle.bp3-tether-element-attached-center > .bp3-tooltip{
    -webkit-transform-origin:center center;
            transform-origin:center center; }
  .bp3-tether-element-attached-middle.bp3-tether-element-attached-right > .bp3-tooltip{
    -webkit-transform-origin:center right;
            transform-origin:center right; }
  .bp3-tether-element-attached-bottom.bp3-tether-element-attached-left > .bp3-tooltip{
    -webkit-transform-origin:bottom left;
            transform-origin:bottom left; }
  .bp3-tether-element-attached-bottom.bp3-tether-element-attached-center > .bp3-tooltip{
    -webkit-transform-origin:bottom center;
            transform-origin:bottom center; }
  .bp3-tether-element-attached-bottom.bp3-tether-element-attached-right > .bp3-tooltip{
    -webkit-transform-origin:bottom right;
            transform-origin:bottom right; }
  .bp3-tooltip .bp3-popover-content{
    background:#394b59;
    color:#f5f8fa; }
  .bp3-tooltip .bp3-popover-arrow::before{
    -webkit-box-shadow:1px 1px 6px rgba(16, 22, 26, 0.2);
            box-shadow:1px 1px 6px rgba(16, 22, 26, 0.2); }
  .bp3-tooltip .bp3-popover-arrow-border{
    fill:#10161a;
    fill-opacity:0.1; }
  .bp3-tooltip .bp3-popover-arrow-fill{
    fill:#394b59; }
  .bp3-popover-enter > .bp3-tooltip, .bp3-popover-appear > .bp3-tooltip{
    -webkit-transform:scale(0.8);
            transform:scale(0.8); }
  .bp3-popover-enter-active > .bp3-tooltip, .bp3-popover-appear-active > .bp3-tooltip{
    -webkit-transform:scale(1);
            transform:scale(1);
    -webkit-transition-delay:0;
            transition-delay:0;
    -webkit-transition-duration:100ms;
            transition-duration:100ms;
    -webkit-transition-property:-webkit-transform;
    transition-property:-webkit-transform;
    transition-property:transform;
    transition-property:transform, -webkit-transform;
    -webkit-transition-timing-function:cubic-bezier(0.4, 1, 0.75, 0.9);
            transition-timing-function:cubic-bezier(0.4, 1, 0.75, 0.9); }
  .bp3-popover-exit > .bp3-tooltip{
    -webkit-transform:scale(1);
            transform:scale(1); }
  .bp3-popover-exit-active > .bp3-tooltip{
    -webkit-transform:scale(0.8);
            transform:scale(0.8);
    -webkit-transition-delay:0;
            transition-delay:0;
    -webkit-transition-duration:100ms;
            transition-duration:100ms;
    -webkit-transition-property:-webkit-transform;
    transition-property:-webkit-transform;
    transition-property:transform;
    transition-property:transform, -webkit-transform;
    -webkit-transition-timing-function:cubic-bezier(0.4, 1, 0.75, 0.9);
            transition-timing-function:cubic-bezier(0.4, 1, 0.75, 0.9); }
  .bp3-tooltip .bp3-popover-content{
    padding:10px 12px; }
  .bp3-tooltip.bp3-dark,
  .bp3-dark .bp3-tooltip{
    -webkit-box-shadow:0 0 0 1px rgba(16, 22, 26, 0.2), 0 2px 4px rgba(16, 22, 26, 0.4), 0 8px 24px rgba(16, 22, 26, 0.4);
            box-shadow:0 0 0 1px rgba(16, 22, 26, 0.2), 0 2px 4px rgba(16, 22, 26, 0.4), 0 8px 24px rgba(16, 22, 26, 0.4); }
    .bp3-tooltip.bp3-dark .bp3-popover-content,
    .bp3-dark .bp3-tooltip .bp3-popover-content{
      background:#e1e8ed;
      color:#394b59; }
    .bp3-tooltip.bp3-dark .bp3-popover-arrow::before,
    .bp3-dark .bp3-tooltip .bp3-popover-arrow::before{
      -webkit-box-shadow:1px 1px 6px rgba(16, 22, 26, 0.4);
              box-shadow:1px 1px 6px rgba(16, 22, 26, 0.4); }
    .bp3-tooltip.bp3-dark .bp3-popover-arrow-border,
    .bp3-dark .bp3-tooltip .bp3-popover-arrow-border{
      fill:#10161a;
      fill-opacity:0.2; }
    .bp3-tooltip.bp3-dark .bp3-popover-arrow-fill,
    .bp3-dark .bp3-tooltip .bp3-popover-arrow-fill{
      fill:#e1e8ed; }
  .bp3-tooltip.bp3-intent-primary .bp3-popover-content{
    background:#137cbd;
    color:#ffffff; }
  .bp3-tooltip.bp3-intent-primary .bp3-popover-arrow-fill{
    fill:#137cbd; }
  .bp3-tooltip.bp3-intent-success .bp3-popover-content{
    background:#0f9960;
    color:#ffffff; }
  .bp3-tooltip.bp3-intent-success .bp3-popover-arrow-fill{
    fill:#0f9960; }
  .bp3-tooltip.bp3-intent-warning .bp3-popover-content{
    background:#d9822b;
    color:#ffffff; }
  .bp3-tooltip.bp3-intent-warning .bp3-popover-arrow-fill{
    fill:#d9822b; }
  .bp3-tooltip.bp3-intent-danger .bp3-popover-content{
    background:#db3737;
    color:#ffffff; }
  .bp3-tooltip.bp3-intent-danger .bp3-popover-arrow-fill{
    fill:#db3737; }

.bp3-tooltip-indicator{
  border-bottom:dotted 1px;
  cursor:help; }
.bp3-tree .bp3-icon, .bp3-tree .bp3-icon-standard, .bp3-tree .bp3-icon-large{
  color:#5c7080; }
  .bp3-tree .bp3-icon.bp3-intent-primary, .bp3-tree .bp3-icon-standard.bp3-intent-primary, .bp3-tree .bp3-icon-large.bp3-intent-primary{
    color:#137cbd; }
  .bp3-tree .bp3-icon.bp3-intent-success, .bp3-tree .bp3-icon-standard.bp3-intent-success, .bp3-tree .bp3-icon-large.bp3-intent-success{
    color:#0f9960; }
  .bp3-tree .bp3-icon.bp3-intent-warning, .bp3-tree .bp3-icon-standard.bp3-intent-warning, .bp3-tree .bp3-icon-large.bp3-intent-warning{
    color:#d9822b; }
  .bp3-tree .bp3-icon.bp3-intent-danger, .bp3-tree .bp3-icon-standard.bp3-intent-danger, .bp3-tree .bp3-icon-large.bp3-intent-danger{
    color:#db3737; }

.bp3-tree-node-list{
  list-style:none;
  margin:0;
  padding-left:0; }

.bp3-tree-root{
  background-color:transparent;
  cursor:default;
  padding-left:0;
  position:relative; }

.bp3-tree-node-content-0{
  padding-left:0px; }

.bp3-tree-node-content-1{
  padding-left:23px; }

.bp3-tree-node-content-2{
  padding-left:46px; }

.bp3-tree-node-content-3{
  padding-left:69px; }

.bp3-tree-node-content-4{
  padding-left:92px; }

.bp3-tree-node-content-5{
  padding-left:115px; }

.bp3-tree-node-content-6{
  padding-left:138px; }

.bp3-tree-node-content-7{
  padding-left:161px; }

.bp3-tree-node-content-8{
  padding-left:184px; }

.bp3-tree-node-content-9{
  padding-left:207px; }

.bp3-tree-node-content-10{
  padding-left:230px; }

.bp3-tree-node-content-11{
  padding-left:253px; }

.bp3-tree-node-content-12{
  padding-left:276px; }

.bp3-tree-node-content-13{
  padding-left:299px; }

.bp3-tree-node-content-14{
  padding-left:322px; }

.bp3-tree-node-content-15{
  padding-left:345px; }

.bp3-tree-node-content-16{
  padding-left:368px; }

.bp3-tree-node-content-17{
  padding-left:391px; }

.bp3-tree-node-content-18{
  padding-left:414px; }

.bp3-tree-node-content-19{
  padding-left:437px; }

.bp3-tree-node-content-20{
  padding-left:460px; }

.bp3-tree-node-content{
  -webkit-box-align:center;
      -ms-flex-align:center;
          align-items:center;
  display:-webkit-box;
  display:-ms-flexbox;
  display:flex;
  height:30px;
  padding-right:5px;
  width:100%; }
  .bp3-tree-node-content:hover{
    background-color:rgba(191, 204, 214, 0.4); }

.bp3-tree-node-caret,
.bp3-tree-node-caret-none{
  min-width:30px; }

.bp3-tree-node-caret{
  color:#5c7080;
  cursor:pointer;
  padding:7px;
  -webkit-transform:rotate(0deg);
          transform:rotate(0deg);
  -webkit-transition:-webkit-transform 200ms cubic-bezier(0.4, 1, 0.75, 0.9);
  transition:-webkit-transform 200ms cubic-bezier(0.4, 1, 0.75, 0.9);
  transition:transform 200ms cubic-bezier(0.4, 1, 0.75, 0.9);
  transition:transform 200ms cubic-bezier(0.4, 1, 0.75, 0.9), -webkit-transform 200ms cubic-bezier(0.4, 1, 0.75, 0.9); }
  .bp3-tree-node-caret:hover{
    color:#182026; }
  .bp3-dark .bp3-tree-node-caret{
    color:#a7b6c2; }
    .bp3-dark .bp3-tree-node-caret:hover{
      color:#f5f8fa; }
  .bp3-tree-node-caret.bp3-tree-node-caret-open{
    -webkit-transform:rotate(90deg);
            transform:rotate(90deg); }
  .bp3-tree-node-caret.bp3-icon-standard::before{
    content:""; }

.bp3-tree-node-icon{
  margin-right:7px;
  position:relative; }

.bp3-tree-node-label{
  overflow:hidden;
  text-overflow:ellipsis;
  white-space:nowrap;
  word-wrap:normal;
  -webkit-box-flex:1;
      -ms-flex:1 1 auto;
          flex:1 1 auto;
  position:relative;
  -webkit-user-select:none;
     -moz-user-select:none;
      -ms-user-select:none;
          user-select:none; }
  .bp3-tree-node-label span{
    display:inline; }

.bp3-tree-node-secondary-label{
  padding:0 5px;
  -webkit-user-select:none;
     -moz-user-select:none;
      -ms-user-select:none;
          user-select:none; }
  .bp3-tree-node-secondary-label .bp3-popover-wrapper,
  .bp3-tree-node-secondary-label .bp3-popover-target{
    -webkit-box-align:center;
        -ms-flex-align:center;
            align-items:center;
    display:-webkit-box;
    display:-ms-flexbox;
    display:flex; }

.bp3-tree-node.bp3-disabled .bp3-tree-node-content{
  background-color:inherit;
  color:rgba(92, 112, 128, 0.6);
  cursor:not-allowed; }

.bp3-tree-node.bp3-disabled .bp3-tree-node-caret,
.bp3-tree-node.bp3-disabled .bp3-tree-node-icon{
  color:rgba(92, 112, 128, 0.6);
  cursor:not-allowed; }

.bp3-tree-node.bp3-tree-node-selected > .bp3-tree-node-content{
  background-color:#137cbd; }
  .bp3-tree-node.bp3-tree-node-selected > .bp3-tree-node-content,
  .bp3-tree-node.bp3-tree-node-selected > .bp3-tree-node-content .bp3-icon, .bp3-tree-node.bp3-tree-node-selected > .bp3-tree-node-content .bp3-icon-standard, .bp3-tree-node.bp3-tree-node-selected > .bp3-tree-node-content .bp3-icon-large{
    color:#ffffff; }
  .bp3-tree-node.bp3-tree-node-selected > .bp3-tree-node-content .bp3-tree-node-caret::before{
    color:rgba(255, 255, 255, 0.7); }
  .bp3-tree-node.bp3-tree-node-selected > .bp3-tree-node-content .bp3-tree-node-caret:hover::before{
    color:#ffffff; }

.bp3-dark .bp3-tree-node-content:hover{
  background-color:rgba(92, 112, 128, 0.3); }

.bp3-dark .bp3-tree .bp3-icon, .bp3-dark .bp3-tree .bp3-icon-standard, .bp3-dark .bp3-tree .bp3-icon-large{
  color:#a7b6c2; }
  .bp3-dark .bp3-tree .bp3-icon.bp3-intent-primary, .bp3-dark .bp3-tree .bp3-icon-standard.bp3-intent-primary, .bp3-dark .bp3-tree .bp3-icon-large.bp3-intent-primary{
    color:#137cbd; }
  .bp3-dark .bp3-tree .bp3-icon.bp3-intent-success, .bp3-dark .bp3-tree .bp3-icon-standard.bp3-intent-success, .bp3-dark .bp3-tree .bp3-icon-large.bp3-intent-success{
    color:#0f9960; }
  .bp3-dark .bp3-tree .bp3-icon.bp3-intent-warning, .bp3-dark .bp3-tree .bp3-icon-standard.bp3-intent-warning, .bp3-dark .bp3-tree .bp3-icon-large.bp3-intent-warning{
    color:#d9822b; }
  .bp3-dark .bp3-tree .bp3-icon.bp3-intent-danger, .bp3-dark .bp3-tree .bp3-icon-standard.bp3-intent-danger, .bp3-dark .bp3-tree .bp3-icon-large.bp3-intent-danger{
    color:#db3737; }

.bp3-dark .bp3-tree-node.bp3-tree-node-selected > .bp3-tree-node-content{
  background-color:#137cbd; }
.bp3-omnibar{
  -webkit-filter:blur(0);
          filter:blur(0);
  opacity:1;
  background-color:#ffffff;
  border-radius:3px;
  -webkit-box-shadow:0 0 0 1px rgba(16, 22, 26, 0.1), 0 4px 8px rgba(16, 22, 26, 0.2), 0 18px 46px 6px rgba(16, 22, 26, 0.2);
          box-shadow:0 0 0 1px rgba(16, 22, 26, 0.1), 0 4px 8px rgba(16, 22, 26, 0.2), 0 18px 46px 6px rgba(16, 22, 26, 0.2);
  left:calc(50% - 250px);
  top:20vh;
  width:500px;
  z-index:21; }
  .bp3-omnibar.bp3-overlay-enter, .bp3-omnibar.bp3-overlay-appear{
    -webkit-filter:blur(20px);
            filter:blur(20px);
    opacity:0.2; }
  .bp3-omnibar.bp3-overlay-enter-active, .bp3-omnibar.bp3-overlay-appear-active{
    -webkit-filter:blur(0);
            filter:blur(0);
    opacity:1;
    -webkit-transition-delay:0;
            transition-delay:0;
    -webkit-transition-duration:200ms;
            transition-duration:200ms;
    -webkit-transition-property:opacity, -webkit-filter;
    transition-property:opacity, -webkit-filter;
    transition-property:filter, opacity;
    transition-property:filter, opacity, -webkit-filter;
    -webkit-transition-timing-function:cubic-bezier(0.4, 1, 0.75, 0.9);
            transition-timing-function:cubic-bezier(0.4, 1, 0.75, 0.9); }
  .bp3-omnibar.bp3-overlay-exit{
    -webkit-filter:blur(0);
            filter:blur(0);
    opacity:1; }
  .bp3-omnibar.bp3-overlay-exit-active{
    -webkit-filter:blur(20px);
            filter:blur(20px);
    opacity:0.2;
    -webkit-transition-delay:0;
            transition-delay:0;
    -webkit-transition-duration:200ms;
            transition-duration:200ms;
    -webkit-transition-property:opacity, -webkit-filter;
    transition-property:opacity, -webkit-filter;
    transition-property:filter, opacity;
    transition-property:filter, opacity, -webkit-filter;
    -webkit-transition-timing-function:cubic-bezier(0.4, 1, 0.75, 0.9);
            transition-timing-function:cubic-bezier(0.4, 1, 0.75, 0.9); }
  .bp3-omnibar .bp3-input{
    background-color:transparent;
    border-radius:0; }
    .bp3-omnibar .bp3-input, .bp3-omnibar .bp3-input:focus{
      -webkit-box-shadow:none;
              box-shadow:none; }
  .bp3-omnibar .bp3-menu{
    background-color:transparent;
    border-radius:0;
    -webkit-box-shadow:inset 0 1px 0 rgba(16, 22, 26, 0.15);
            box-shadow:inset 0 1px 0 rgba(16, 22, 26, 0.15);
    max-height:calc(60vh - 40px);
    overflow:auto; }
    .bp3-omnibar .bp3-menu:empty{
      display:none; }
  .bp3-dark .bp3-omnibar, .bp3-omnibar.bp3-dark{
    background-color:#30404d;
    -webkit-box-shadow:0 0 0 1px rgba(16, 22, 26, 0.2), 0 4px 8px rgba(16, 22, 26, 0.4), 0 18px 46px 6px rgba(16, 22, 26, 0.4);
            box-shadow:0 0 0 1px rgba(16, 22, 26, 0.2), 0 4px 8px rgba(16, 22, 26, 0.4), 0 18px 46px 6px rgba(16, 22, 26, 0.4); }

.bp3-omnibar-overlay .bp3-overlay-backdrop{
  background-color:rgba(16, 22, 26, 0.2); }

.bp3-select-popover .bp3-popover-content{
  padding:5px; }

.bp3-select-popover .bp3-input-group{
  margin-bottom:0; }

.bp3-select-popover .bp3-menu{
  max-height:300px;
  max-width:400px;
  overflow:auto;
  padding:0; }
  .bp3-select-popover .bp3-menu:not(:first-child){
    padding-top:5px; }

.bp3-multi-select{
  min-width:150px; }

.bp3-multi-select-popover .bp3-menu{
  max-height:300px;
  max-width:400px;
  overflow:auto; }

.bp3-select-popover .bp3-popover-content{
  padding:5px; }

.bp3-select-popover .bp3-input-group{
  margin-bottom:0; }

.bp3-select-popover .bp3-menu{
  max-height:300px;
  max-width:400px;
  overflow:auto;
  padding:0; }
  .bp3-select-popover .bp3-menu:not(:first-child){
    padding-top:5px; }
/*-----------------------------------------------------------------------------
| Copyright (c) Jupyter Development Team.
| Distributed under the terms of the Modified BSD License.
|----------------------------------------------------------------------------*/

/* This file was auto-generated by ensureUiComponents() in @jupyterlab/buildutils */

/**
 * (DEPRECATED) Support for consuming icons as CSS background images
 */

/* Icons urls */

:root {
  --jp-icon-add: url(data:image/svg+xml;base64,PHN2ZyB4bWxucz0iaHR0cDovL3d3dy53My5vcmcvMjAwMC9zdmciIHdpZHRoPSIxNiIgdmlld0JveD0iMCAwIDI0IDI0Ij4KICA8ZyBjbGFzcz0ianAtaWNvbjMiIGZpbGw9IiM2MTYxNjEiPgogICAgPHBhdGggZD0iTTE5IDEzaC02djZoLTJ2LTZINXYtMmg2VjVoMnY2aDZ2MnoiLz4KICA8L2c+Cjwvc3ZnPgo=);
  --jp-icon-bug: url(data:image/svg+xml;base64,PHN2ZyB2aWV3Qm94PSIwIDAgMjQgMjQiIHdpZHRoPSIxNiIgeG1sbnM9Imh0dHA6Ly93d3cudzMub3JnLzIwMDAvc3ZnIj4KICA8ZyBjbGFzcz0ianAtaWNvbjMiIGZpbGw9IiM2MTYxNjEiPgogICAgPHBhdGggZD0iTTIwIDhoLTIuODFjLS40NS0uNzgtMS4wNy0xLjQ1LTEuODItMS45NkwxNyA0LjQxIDE1LjU5IDNsLTIuMTcgMi4xN0MxMi45NiA1LjA2IDEyLjQ5IDUgMTIgNWMtLjQ5IDAtLjk2LjA2LTEuNDEuMTdMOC40MSAzIDcgNC40MWwxLjYyIDEuNjNDNy44OCA2LjU1IDcuMjYgNy4yMiA2LjgxIDhINHYyaDIuMDljLS4wNS4zMy0uMDkuNjYtLjA5IDF2MUg0djJoMnYxYzAgLjM0LjA0LjY3LjA5IDFINHYyaDIuODFjMS4wNCAxLjc5IDIuOTcgMyA1LjE5IDNzNC4xNS0xLjIxIDUuMTktM0gyMHYtMmgtMi4wOWMuMDUtLjMzLjA5LS42Ni4wOS0xdi0xaDJ2LTJoLTJ2LTFjMC0uMzQtLjA0LS42Ny0uMDktMUgyMFY4em0tNiA4aC00di0yaDR2MnptMC00aC00di0yaDR2MnoiLz4KICA8L2c+Cjwvc3ZnPgo=);
  --jp-icon-build: url(data:image/svg+xml;base64,PHN2ZyB3aWR0aD0iMTYiIHZpZXdCb3g9IjAgMCAyNCAyNCIgeG1sbnM9Imh0dHA6Ly93d3cudzMub3JnLzIwMDAvc3ZnIj4KICA8ZyBjbGFzcz0ianAtaWNvbjMiIGZpbGw9IiM2MTYxNjEiPgogICAgPHBhdGggZD0iTTE0LjkgMTcuNDVDMTYuMjUgMTcuNDUgMTcuMzUgMTYuMzUgMTcuMzUgMTVDMTcuMzUgMTMuNjUgMTYuMjUgMTIuNTUgMTQuOSAxMi41NUMxMy41NCAxMi41NSAxMi40NSAxMy42NSAxMi40NSAxNUMxMi40NSAxNi4zNSAxMy41NCAxNy40NSAxNC45IDE3LjQ1Wk0yMC4xIDE1LjY4TDIxLjU4IDE2Ljg0QzIxLjcxIDE2Ljk1IDIxLjc1IDE3LjEzIDIxLjY2IDE3LjI5TDIwLjI2IDE5LjcxQzIwLjE3IDE5Ljg2IDIwIDE5LjkyIDE5LjgzIDE5Ljg2TDE4LjA5IDE5LjE2QzE3LjczIDE5LjQ0IDE3LjMzIDE5LjY3IDE2LjkxIDE5Ljg1TDE2LjY0IDIxLjdDMTYuNjIgMjEuODcgMTYuNDcgMjIgMTYuMyAyMkgxMy41QzEzLjMyIDIyIDEzLjE4IDIxLjg3IDEzLjE1IDIxLjdMMTIuODkgMTkuODVDMTIuNDYgMTkuNjcgMTIuMDcgMTkuNDQgMTEuNzEgMTkuMTZMOS45NjAwMiAxOS44NkM5LjgxMDAyIDE5LjkyIDkuNjIwMDIgMTkuODYgOS41NDAwMiAxOS43MUw4LjE0MDAyIDE3LjI5QzguMDUwMDIgMTcuMTMgOC4wOTAwMiAxNi45NSA4LjIyMDAyIDE2Ljg0TDkuNzAwMDIgMTUuNjhMOS42NTAwMSAxNUw5LjcwMDAyIDE0LjMxTDguMjIwMDIgMTMuMTZDOC4wOTAwMiAxMy4wNSA4LjA1MDAyIDEyLjg2IDguMTQwMDIgMTIuNzFMOS41NDAwMiAxMC4yOUM5LjYyMDAyIDEwLjEzIDkuODEwMDIgMTAuMDcgOS45NjAwMiAxMC4xM0wxMS43MSAxMC44NEMxMi4wNyAxMC41NiAxMi40NiAxMC4zMiAxMi44OSAxMC4xNUwxMy4xNSA4LjI4OTk4QzEzLjE4IDguMTI5OTggMTMuMzIgNy45OTk5OCAxMy41IDcuOTk5OThIMTYuM0MxNi40NyA3Ljk5OTk4IDE2LjYyIDguMTI5OTggMTYuNjQgOC4yODk5OEwxNi45MSAxMC4xNUMxNy4zMyAxMC4zMiAxNy43MyAxMC41NiAxOC4wOSAxMC44NEwxOS44MyAxMC4xM0MyMCAxMC4wNyAyMC4xNyAxMC4xMyAyMC4yNiAxMC4yOUwyMS42NiAxMi43MUMyMS43NSAxMi44NiAyMS43MSAxMy4wNSAyMS41OCAxMy4xNkwyMC4xIDE0LjMxTDIwLjE1IDE1TDIwLjEgMTUuNjhaIi8+CiAgICA8cGF0aCBkPSJNNy4zMjk2NiA3LjQ0NDU0QzguMDgzMSA3LjAwOTU0IDguMzM5MzIgNi4wNTMzMiA3LjkwNDMyIDUuMjk5ODhDNy40NjkzMiA0LjU0NjQzIDYuNTA4MSA0LjI4MTU2IDUuNzU0NjYgNC43MTY1NkM1LjM5MTc2IDQuOTI2MDggNS4xMjY5NSA1LjI3MTE4IDUuMDE4NDkgNS42NzU5NEM0LjkxMDA0IDYuMDgwNzEgNC45NjY4MiA2LjUxMTk4IDUuMTc2MzQgNi44NzQ4OEM1LjYxMTM0IDcuNjI4MzIgNi41NzYyMiA3Ljg3OTU0IDcuMzI5NjYgNy40NDQ1NFpNOS42NTcxOCA0Ljc5NTkzTDEwLjg2NzIgNC45NTE3OUMxMC45NjI4IDQuOTc3NDEgMTEuMDQwMiA1LjA3MTMzIDExLjAzODIgNS4xODc5M0wxMS4wMzg4IDYuOTg4OTNDMTEuMDQ1NSA3LjEwMDU0IDEwLjk2MTYgNy4xOTUxOCAxMC44NTUgNy4yMTA1NEw5LjY2MDAxIDcuMzgwODNMOS4yMzkxNSA4LjEzMTg4TDkuNjY5NjEgOS4yNTc0NUM5LjcwNzI5IDkuMzYyNzEgOS42NjkzNCA5LjQ3Njk5IDkuNTc0MDggOS41MzE5OUw4LjAxNTIzIDEwLjQzMkM3LjkxMTMxIDEwLjQ5MiA3Ljc5MzM3IDEwLjQ2NzcgNy43MjEwNSAxMC4zODI0TDYuOTg3NDggOS40MzE4OEw2LjEwOTMxIDkuNDMwODNMNS4zNDcwNCAxMC4zOTA1QzUuMjg5MDkgMTAuNDcwMiA1LjE3MzgzIDEwLjQ5MDUgNS4wNzE4NyAxMC40MzM5TDMuNTEyNDUgOS41MzI5M0MzLjQxMDQ5IDkuNDc2MzMgMy4zNzY0NyA5LjM1NzQxIDMuNDEwNzUgOS4yNTY3OUwzLjg2MzQ3IDguMTQwOTNMMy42MTc0OSA3Ljc3NDg4TDMuNDIzNDcgNy4zNzg4M0wyLjIzMDc1IDcuMjEyOTdDMi4xMjY0NyA3LjE5MjM1IDIuMDQwNDkgNy4xMDM0MiAyLjA0MjQ1IDYuOTg2ODJMMi4wNDE4NyA1LjE4NTgyQzIuMDQzODMgNS4wNjkyMiAyLjExOTA5IDQuOTc5NTggMi4yMTcwNCA0Ljk2OTIyTDMuNDIwNjUgNC43OTM5M0wzLjg2NzQ5IDQuMDI3ODhMMy40MTEwNSAyLjkxNzMxQzMuMzczMzcgMi44MTIwNCAzLjQxMTMxIDIuNjk3NzYgMy41MTUyMyAyLjYzNzc2TDUuMDc0MDggMS43Mzc3NkM1LjE2OTM0IDEuNjgyNzYgNS4yODcyOSAxLjcwNzA0IDUuMzU5NjEgMS43OTIzMUw2LjExOTE1IDIuNzI3ODhMNi45ODAwMSAyLjczODkzTDcuNzI0OTYgMS43ODkyMkM3Ljc5MTU2IDEuNzA0NTggNy45MTU0OCAxLjY3OTIyIDguMDA4NzkgMS43NDA4Mkw5LjU2ODIxIDIuNjQxODJDOS42NzAxNyAyLjY5ODQyIDkuNzEyODUgMi44MTIzNCA5LjY4NzIzIDIuOTA3OTdMOS4yMTcxOCA0LjAzMzgzTDkuNDYzMTYgNC4zOTk4OEw5LjY1NzE4IDQuNzk1OTNaIi8+CiAgPC9nPgo8L3N2Zz4K);
  --jp-icon-caret-down-empty-thin: url(data:image/svg+xml;base64,PHN2ZyB4bWxucz0iaHR0cDovL3d3dy53My5vcmcvMjAwMC9zdmciIHdpZHRoPSIxNiIgdmlld0JveD0iMCAwIDIwIDIwIj4KCTxnIGNsYXNzPSJqcC1pY29uMyIgZmlsbD0iIzYxNjE2MSIgc2hhcGUtcmVuZGVyaW5nPSJnZW9tZXRyaWNQcmVjaXNpb24iPgoJCTxwb2x5Z29uIGNsYXNzPSJzdDEiIHBvaW50cz0iOS45LDEzLjYgMy42LDcuNCA0LjQsNi42IDkuOSwxMi4yIDE1LjQsNi43IDE2LjEsNy40ICIvPgoJPC9nPgo8L3N2Zz4K);
  --jp-icon-caret-down-empty: url(data:image/svg+xml;base64,PHN2ZyB4bWxucz0iaHR0cDovL3d3dy53My5vcmcvMjAwMC9zdmciIHdpZHRoPSIxNiIgdmlld0JveD0iMCAwIDE4IDE4Ij4KICA8ZyBjbGFzcz0ianAtaWNvbjMiIGZpbGw9IiM2MTYxNjEiIHNoYXBlLXJlbmRlcmluZz0iZ2VvbWV0cmljUHJlY2lzaW9uIj4KICAgIDxwYXRoIGQ9Ik01LjIsNS45TDksOS43bDMuOC0zLjhsMS4yLDEuMmwtNC45LDVsLTQuOS01TDUuMiw1Ljl6Ii8+CiAgPC9nPgo8L3N2Zz4K);
  --jp-icon-caret-down: url(data:image/svg+xml;base64,PHN2ZyB4bWxucz0iaHR0cDovL3d3dy53My5vcmcvMjAwMC9zdmciIHdpZHRoPSIxNiIgdmlld0JveD0iMCAwIDE4IDE4Ij4KICA8ZyBjbGFzcz0ianAtaWNvbjMiIGZpbGw9IiM2MTYxNjEiIHNoYXBlLXJlbmRlcmluZz0iZ2VvbWV0cmljUHJlY2lzaW9uIj4KICAgIDxwYXRoIGQ9Ik01LjIsNy41TDksMTEuMmwzLjgtMy44SDUuMnoiLz4KICA8L2c+Cjwvc3ZnPgo=);
  --jp-icon-caret-left: url(data:image/svg+xml;base64,PHN2ZyB4bWxucz0iaHR0cDovL3d3dy53My5vcmcvMjAwMC9zdmciIHdpZHRoPSIxNiIgdmlld0JveD0iMCAwIDE4IDE4Ij4KCTxnIGNsYXNzPSJqcC1pY29uMyIgZmlsbD0iIzYxNjE2MSIgc2hhcGUtcmVuZGVyaW5nPSJnZW9tZXRyaWNQcmVjaXNpb24iPgoJCTxwYXRoIGQ9Ik0xMC44LDEyLjhMNy4xLDlsMy44LTMuOGwwLDcuNkgxMC44eiIvPgogIDwvZz4KPC9zdmc+Cg==);
  --jp-icon-caret-right: url(data:image/svg+xml;base64,PHN2ZyB4bWxucz0iaHR0cDovL3d3dy53My5vcmcvMjAwMC9zdmciIHdpZHRoPSIxNiIgdmlld0JveD0iMCAwIDE4IDE4Ij4KICA8ZyBjbGFzcz0ianAtaWNvbjMiIGZpbGw9IiM2MTYxNjEiIHNoYXBlLXJlbmRlcmluZz0iZ2VvbWV0cmljUHJlY2lzaW9uIj4KICAgIDxwYXRoIGQ9Ik03LjIsNS4yTDEwLjksOWwtMy44LDMuOFY1LjJINy4yeiIvPgogIDwvZz4KPC9zdmc+Cg==);
  --jp-icon-caret-up-empty-thin: url(data:image/svg+xml;base64,PHN2ZyB4bWxucz0iaHR0cDovL3d3dy53My5vcmcvMjAwMC9zdmciIHdpZHRoPSIxNiIgdmlld0JveD0iMCAwIDIwIDIwIj4KCTxnIGNsYXNzPSJqcC1pY29uMyIgZmlsbD0iIzYxNjE2MSIgc2hhcGUtcmVuZGVyaW5nPSJnZW9tZXRyaWNQcmVjaXNpb24iPgoJCTxwb2x5Z29uIGNsYXNzPSJzdDEiIHBvaW50cz0iMTUuNCwxMy4zIDkuOSw3LjcgNC40LDEzLjIgMy42LDEyLjUgOS45LDYuMyAxNi4xLDEyLjYgIi8+Cgk8L2c+Cjwvc3ZnPgo=);
  --jp-icon-caret-up: url(data:image/svg+xml;base64,PHN2ZyB4bWxucz0iaHR0cDovL3d3dy53My5vcmcvMjAwMC9zdmciIHdpZHRoPSIxNiIgdmlld0JveD0iMCAwIDE4IDE4Ij4KCTxnIGNsYXNzPSJqcC1pY29uMyIgZmlsbD0iIzYxNjE2MSIgc2hhcGUtcmVuZGVyaW5nPSJnZW9tZXRyaWNQcmVjaXNpb24iPgoJCTxwYXRoIGQ9Ik01LjIsMTAuNUw5LDYuOGwzLjgsMy44SDUuMnoiLz4KICA8L2c+Cjwvc3ZnPgo=);
  --jp-icon-case-sensitive: url(data:image/svg+xml;base64,PHN2ZyB4bWxucz0iaHR0cDovL3d3dy53My5vcmcvMjAwMC9zdmciIHdpZHRoPSIxNiIgdmlld0JveD0iMCAwIDIwIDIwIj4KICA8ZyBjbGFzcz0ianAtaWNvbjIiIGZpbGw9IiM0MTQxNDEiPgogICAgPHJlY3QgeD0iMiIgeT0iMiIgd2lkdGg9IjE2IiBoZWlnaHQ9IjE2Ii8+CiAgPC9nPgogIDxnIGNsYXNzPSJqcC1pY29uLWFjY2VudDIiIGZpbGw9IiNGRkYiPgogICAgPHBhdGggZD0iTTcuNiw4aDAuOWwzLjUsOGgtMS4xTDEwLDE0SDZsLTAuOSwySDRMNy42LDh6IE04LDkuMUw2LjQsMTNoMy4yTDgsOS4xeiIvPgogICAgPHBhdGggZD0iTTE2LjYsOS44Yy0wLjIsMC4xLTAuNCwwLjEtMC43LDAuMWMtMC4yLDAtMC40LTAuMS0wLjYtMC4yYy0wLjEtMC4xLTAuMi0wLjQtMC4yLTAuNyBjLTAuMywwLjMtMC42LDAuNS0wLjksMC43Yy0wLjMsMC4xLTAuNywwLjItMS4xLDAuMmMtMC4zLDAtMC41LDAtMC43LTAuMWMtMC4yLTAuMS0wLjQtMC4yLTAuNi0wLjNjLTAuMi0wLjEtMC4zLTAuMy0wLjQtMC41IGMtMC4xLTAuMi0wLjEtMC40LTAuMS0wLjdjMC0wLjMsMC4xLTAuNiwwLjItMC44YzAuMS0wLjIsMC4zLTAuNCwwLjQtMC41QzEyLDcsMTIuMiw2LjksMTIuNSw2LjhjMC4yLTAuMSwwLjUtMC4xLDAuNy0wLjIgYzAuMy0wLjEsMC41LTAuMSwwLjctMC4xYzAuMiwwLDAuNC0wLjEsMC42LTAuMWMwLjIsMCwwLjMtMC4xLDAuNC0wLjJjMC4xLTAuMSwwLjItMC4yLDAuMi0wLjRjMC0xLTEuMS0xLTEuMy0xIGMtMC40LDAtMS40LDAtMS40LDEuMmgtMC45YzAtMC40LDAuMS0wLjcsMC4yLTFjMC4xLTAuMiwwLjMtMC40LDAuNS0wLjZjMC4yLTAuMiwwLjUtMC4zLDAuOC0wLjNDMTMuMyw0LDEzLjYsNCwxMy45LDQgYzAuMywwLDAuNSwwLDAuOCwwLjFjMC4zLDAsMC41LDAuMSwwLjcsMC4yYzAuMiwwLjEsMC40LDAuMywwLjUsMC41QzE2LDUsMTYsNS4yLDE2LDUuNnYyLjljMCwwLjIsMCwwLjQsMCwwLjUgYzAsMC4xLDAuMSwwLjIsMC4zLDAuMmMwLjEsMCwwLjIsMCwwLjMsMFY5Ljh6IE0xNS4yLDYuOWMtMS4yLDAuNi0zLjEsMC4yLTMuMSwxLjRjMCwxLjQsMy4xLDEsMy4xLTAuNVY2Ljl6Ii8+CiAgPC9nPgo8L3N2Zz4K);
  --jp-icon-check: url(data:image/svg+xml;base64,PHN2ZyB4bWxucz0iaHR0cDovL3d3dy53My5vcmcvMjAwMC9zdmciIHdpZHRoPSIxNiIgdmlld0JveD0iMCAwIDI0IDI0Ij4KICA8ZyBjbGFzcz0ianAtaWNvbjMiIGZpbGw9IiM2MTYxNjEiPgogICAgPHBhdGggZD0iTTkgMTYuMTdMNC44MyAxMmwtMS40MiAxLjQxTDkgMTkgMjEgN2wtMS40MS0xLjQxeiIvPgogIDwvZz4KPC9zdmc+Cg==);
  --jp-icon-circle-empty: url(data:image/svg+xml;base64,PHN2ZyB4bWxucz0iaHR0cDovL3d3dy53My5vcmcvMjAwMC9zdmciIHdpZHRoPSIxNiIgdmlld0JveD0iMCAwIDI0IDI0Ij4KICA8ZyBjbGFzcz0ianAtaWNvbjMiIGZpbGw9IiM2MTYxNjEiPgogICAgPHBhdGggZD0iTTEyIDJDNi40NyAyIDIgNi40NyAyIDEyczQuNDcgMTAgMTAgMTAgMTAtNC40NyAxMC0xMFMxNy41MyAyIDEyIDJ6bTAgMThjLTQuNDEgMC04LTMuNTktOC04czMuNTktOCA4LTggOCAzLjU5IDggOC0zLjU5IDgtOCA4eiIvPgogIDwvZz4KPC9zdmc+Cg==);
  --jp-icon-circle: url(data:image/svg+xml;base64,PHN2ZyB2aWV3Qm94PSIwIDAgMTggMTgiIHdpZHRoPSIxNiIgeG1sbnM9Imh0dHA6Ly93d3cudzMub3JnLzIwMDAvc3ZnIj4KICA8ZyBjbGFzcz0ianAtaWNvbjMiIGZpbGw9IiM2MTYxNjEiPgogICAgPGNpcmNsZSBjeD0iOSIgY3k9IjkiIHI9IjgiLz4KICA8L2c+Cjwvc3ZnPgo=);
  --jp-icon-clear: url(data:image/svg+xml;base64,PHN2ZyB4bWxucz0iaHR0cDovL3d3dy53My5vcmcvMjAwMC9zdmciIHdpZHRoPSIxNiIgdmlld0JveD0iMCAwIDI0IDI0Ij4KICA8bWFzayBpZD0iZG9udXRIb2xlIj4KICAgIDxyZWN0IHdpZHRoPSIyNCIgaGVpZ2h0PSIyNCIgZmlsbD0id2hpdGUiIC8+CiAgICA8Y2lyY2xlIGN4PSIxMiIgY3k9IjEyIiByPSI4IiBmaWxsPSJibGFjayIvPgogIDwvbWFzaz4KCiAgPGcgY2xhc3M9ImpwLWljb24zIiBmaWxsPSIjNjE2MTYxIj4KICAgIDxyZWN0IGhlaWdodD0iMTgiIHdpZHRoPSIyIiB4PSIxMSIgeT0iMyIgdHJhbnNmb3JtPSJyb3RhdGUoMzE1LCAxMiwgMTIpIi8+CiAgICA8Y2lyY2xlIGN4PSIxMiIgY3k9IjEyIiByPSIxMCIgbWFzaz0idXJsKCNkb251dEhvbGUpIi8+CiAgPC9nPgo8L3N2Zz4K);
  --jp-icon-close: url(data:image/svg+xml;base64,PHN2ZyB2aWV3Qm94PSIwIDAgMjQgMjQiIHdpZHRoPSIxNiIgeG1sbnM9Imh0dHA6Ly93d3cudzMub3JnLzIwMDAvc3ZnIj4KICA8ZyBjbGFzcz0ianAtaWNvbi1ub25lIGpwLWljb24tc2VsZWN0YWJsZS1pbnZlcnNlIGpwLWljb24zLWhvdmVyIiBmaWxsPSJub25lIj4KICAgIDxjaXJjbGUgY3g9IjEyIiBjeT0iMTIiIHI9IjExIi8+CiAgPC9nPgoKICA8ZyBjbGFzcz0ianAtaWNvbjMganAtaWNvbi1zZWxlY3RhYmxlIGpwLWljb24tYWNjZW50Mi1ob3ZlciIgZmlsbD0iIzYxNjE2MSI+CiAgICA8cGF0aCBkPSJNMTkgNi40MUwxNy41OSA1IDEyIDEwLjU5IDYuNDEgNSA1IDYuNDEgMTAuNTkgMTIgNSAxNy41OSA2LjQxIDE5IDEyIDEzLjQxIDE3LjU5IDE5IDE5IDE3LjU5IDEzLjQxIDEyeiIvPgogIDwvZz4KCiAgPGcgY2xhc3M9ImpwLWljb24tbm9uZSBqcC1pY29uLWJ1c3kiIGZpbGw9Im5vbmUiPgogICAgPGNpcmNsZSBjeD0iMTIiIGN5PSIxMiIgcj0iNyIvPgogIDwvZz4KPC9zdmc+Cg==);
  --jp-icon-code: url(data:image/svg+xml;base64,PHN2ZyB3aWR0aD0iMjIiIGhlaWdodD0iMjIiIHZpZXdCb3g9IjAgMCAyOCAyOCIgeG1sbnM9Imh0dHA6Ly93d3cudzMub3JnLzIwMDAvc3ZnIj4KCTxnIGNsYXNzPSJqcC1pY29uMyIgZmlsbD0iIzYxNjE2MSI+CgkJPHBhdGggZD0iTTExLjQgMTguNkw2LjggMTRMMTEuNCA5LjRMMTAgOEw0IDE0TDEwIDIwTDExLjQgMTguNlpNMTYuNiAxOC42TDIxLjIgMTRMMTYuNiA5LjRMMTggOEwyNCAxNEwxOCAyMEwxNi42IDE4LjZWMTguNloiLz4KCTwvZz4KPC9zdmc+Cg==);
  --jp-icon-console: url(data:image/svg+xml;base64,PHN2ZyB4bWxucz0iaHR0cDovL3d3dy53My5vcmcvMjAwMC9zdmciIHdpZHRoPSIxNiIgdmlld0JveD0iMCAwIDIwMCAyMDAiPgogIDxnIGNsYXNzPSJqcC1pY29uLWJyYW5kMSBqcC1pY29uLXNlbGVjdGFibGUiIGZpbGw9IiMwMjg4RDEiPgogICAgPHBhdGggZD0iTTIwIDE5LjhoMTYwdjE1OS45SDIweiIvPgogIDwvZz4KICA8ZyBjbGFzcz0ianAtaWNvbi1zZWxlY3RhYmxlLWludmVyc2UiIGZpbGw9IiNmZmYiPgogICAgPHBhdGggZD0iTTEwNSAxMjcuM2g0MHYxMi44aC00MHpNNTEuMSA3N0w3NCA5OS45bC0yMy4zIDIzLjMgMTAuNSAxMC41IDIzLjMtMjMuM0w5NSA5OS45IDg0LjUgODkuNCA2MS42IDY2LjV6Ii8+CiAgPC9nPgo8L3N2Zz4K);
  --jp-icon-copy: url(data:image/svg+xml;base64,PHN2ZyB2aWV3Qm94PSIwIDAgMTggMTgiIHdpZHRoPSIxNiIgeG1sbnM9Imh0dHA6Ly93d3cudzMub3JnLzIwMDAvc3ZnIj4KICA8ZyBjbGFzcz0ianAtaWNvbjMiIGZpbGw9IiM2MTYxNjEiPgogICAgPHBhdGggZD0iTTExLjksMUgzLjJDMi40LDEsMS43LDEuNywxLjcsMi41djEwLjJoMS41VjIuNWg4LjdWMXogTTE0LjEsMy45aC04Yy0wLjgsMC0xLjUsMC43LTEuNSwxLjV2MTAuMmMwLDAuOCwwLjcsMS41LDEuNSwxLjVoOCBjMC44LDAsMS41LTAuNywxLjUtMS41VjUuNEMxNS41LDQuNiwxNC45LDMuOSwxNC4xLDMuOXogTTE0LjEsMTUuNWgtOFY1LjRoOFYxNS41eiIvPgogIDwvZz4KPC9zdmc+Cg==);
  --jp-icon-cut: url(data:image/svg+xml;base64,PHN2ZyB2aWV3Qm94PSIwIDAgMjQgMjQiIHdpZHRoPSIxNiIgeG1sbnM9Imh0dHA6Ly93d3cudzMub3JnLzIwMDAvc3ZnIj4KICA8ZyBjbGFzcz0ianAtaWNvbjMiIGZpbGw9IiM2MTYxNjEiPgogICAgPHBhdGggZD0iTTkuNjQgNy42NGMuMjMtLjUuMzYtMS4wNS4zNi0xLjY0IDAtMi4yMS0xLjc5LTQtNC00UzIgMy43OSAyIDZzMS43OSA0IDQgNGMuNTkgMCAxLjE0LS4xMyAxLjY0LS4zNkwxMCAxMmwtMi4zNiAyLjM2QzcuMTQgMTQuMTMgNi41OSAxNCA2IDE0Yy0yLjIxIDAtNCAxLjc5LTQgNHMxLjc5IDQgNCA0IDQtMS43OSA0LTRjMC0uNTktLjEzLTEuMTQtLjM2LTEuNjRMMTIgMTRsNyA3aDN2LTFMOS42NCA3LjY0ek02IDhjLTEuMSAwLTItLjg5LTItMnMuOS0yIDItMiAyIC44OSAyIDItLjkgMi0yIDJ6bTAgMTJjLTEuMSAwLTItLjg5LTItMnMuOS0yIDItMiAyIC44OSAyIDItLjkgMi0yIDJ6bTYtNy41Yy0uMjggMC0uNS0uMjItLjUtLjVzLjIyLS41LjUtLjUuNS4yMi41LjUtLjIyLjUtLjUuNXpNMTkgM2wtNiA2IDIgMiA3LTdWM3oiLz4KICA8L2c+Cjwvc3ZnPgo=);
  --jp-icon-download: url(data:image/svg+xml;base64,PHN2ZyB2aWV3Qm94PSIwIDAgMjQgMjQiIHdpZHRoPSIxNiIgeG1sbnM9Imh0dHA6Ly93d3cudzMub3JnLzIwMDAvc3ZnIj4KICA8ZyBjbGFzcz0ianAtaWNvbjMiIGZpbGw9IiM2MTYxNjEiPgogICAgPHBhdGggZD0iTTE5IDloLTRWM0g5djZINWw3IDcgNy03ek01IDE4djJoMTR2LTJINXoiLz4KICA8L2c+Cjwvc3ZnPgo=);
  --jp-icon-edit: url(data:image/svg+xml;base64,PHN2ZyB2aWV3Qm94PSIwIDAgMjQgMjQiIHdpZHRoPSIxNiIgeG1sbnM9Imh0dHA6Ly93d3cudzMub3JnLzIwMDAvc3ZnIj4KICA8ZyBjbGFzcz0ianAtaWNvbjMiIGZpbGw9IiM2MTYxNjEiPgogICAgPHBhdGggZD0iTTMgMTcuMjVWMjFoMy43NUwxNy44MSA5Ljk0bC0zLjc1LTMuNzVMMyAxNy4yNXpNMjAuNzEgNy4wNGMuMzktLjM5LjM5LTEuMDIgMC0xLjQxbC0yLjM0LTIuMzRjLS4zOS0uMzktMS4wMi0uMzktMS40MSAwbC0xLjgzIDEuODMgMy43NSAzLjc1IDEuODMtMS44M3oiLz4KICA8L2c+Cjwvc3ZnPgo=);
  --jp-icon-ellipses: url(data:image/svg+xml;base64,PHN2ZyB2aWV3Qm94PSIwIDAgMjQgMjQiIHdpZHRoPSIxNiIgeG1sbnM9Imh0dHA6Ly93d3cudzMub3JnLzIwMDAvc3ZnIj4KICA8ZyBjbGFzcz0ianAtaWNvbjMiIGZpbGw9IiM2MTYxNjEiPgogICAgPGNpcmNsZSBjeD0iNSIgY3k9IjEyIiByPSIyIi8+CiAgICA8Y2lyY2xlIGN4PSIxMiIgY3k9IjEyIiByPSIyIi8+CiAgICA8Y2lyY2xlIGN4PSIxOSIgY3k9IjEyIiByPSIyIi8+CiAgPC9nPgo8L3N2Zz4K);
  --jp-icon-extension: url(data:image/svg+xml;base64,PHN2ZyB4bWxucz0iaHR0cDovL3d3dy53My5vcmcvMjAwMC9zdmciIHdpZHRoPSIxNiIgdmlld0JveD0iMCAwIDI0IDI0Ij4KICA8ZyBjbGFzcz0ianAtaWNvbjMiIGZpbGw9IiM2MTYxNjEiPgogICAgPHBhdGggZD0iTTIwLjUgMTFIMTlWN2MwLTEuMS0uOS0yLTItMmgtNFYzLjVDMTMgMi4xMiAxMS44OCAxIDEwLjUgMVM4IDIuMTIgOCAzLjVWNUg0Yy0xLjEgMC0xLjk5LjktMS45OSAydjMuOEgzLjVjMS40OSAwIDIuNyAxLjIxIDIuNyAyLjdzLTEuMjEgMi43LTIuNyAyLjdIMlYyMGMwIDEuMS45IDIgMiAyaDMuOHYtMS41YzAtMS40OSAxLjIxLTIuNyAyLjctMi43IDEuNDkgMCAyLjcgMS4yMSAyLjcgMi43VjIySDE3YzEuMSAwIDItLjkgMi0ydi00aDEuNWMxLjM4IDAgMi41LTEuMTIgMi41LTIuNVMyMS44OCAxMSAyMC41IDExeiIvPgogIDwvZz4KPC9zdmc+Cg==);
  --jp-icon-fast-forward: url(data:image/svg+xml;base64,PHN2ZyB4bWxucz0iaHR0cDovL3d3dy53My5vcmcvMjAwMC9zdmciIHdpZHRoPSIyNCIgaGVpZ2h0PSIyNCIgdmlld0JveD0iMCAwIDI0IDI0Ij4KICAgIDxnIGNsYXNzPSJqcC1pY29uMyIgZmlsbD0iIzYxNjE2MSI+CiAgICAgICAgPHBhdGggZD0iTTQgMThsOC41LTZMNCA2djEyem05LTEydjEybDguNS02TDEzIDZ6Ii8+CiAgICA8L2c+Cjwvc3ZnPgo=);
  --jp-icon-file-upload: url(data:image/svg+xml;base64,PHN2ZyB4bWxucz0iaHR0cDovL3d3dy53My5vcmcvMjAwMC9zdmciIHdpZHRoPSIxNiIgdmlld0JveD0iMCAwIDI0IDI0Ij4KICA8ZyBjbGFzcz0ianAtaWNvbjMiIGZpbGw9IiM2MTYxNjEiPgogICAgPHBhdGggZD0iTTkgMTZoNnYtNmg0bC03LTctNyA3aDR6bS00IDJoMTR2Mkg1eiIvPgogIDwvZz4KPC9zdmc+Cg==);
  --jp-icon-file: url(data:image/svg+xml;base64,PHN2ZyB4bWxucz0iaHR0cDovL3d3dy53My5vcmcvMjAwMC9zdmciIHdpZHRoPSIxNiIgdmlld0JveD0iMCAwIDIyIDIyIj4KICA8cGF0aCBjbGFzcz0ianAtaWNvbjMganAtaWNvbi1zZWxlY3RhYmxlIiBmaWxsPSIjNjE2MTYxIiBkPSJNMTkuMyA4LjJsLTUuNS01LjVjLS4zLS4zLS43LS41LTEuMi0uNUgzLjljLS44LjEtMS42LjktMS42IDEuOHYxNC4xYzAgLjkuNyAxLjYgMS42IDEuNmgxNC4yYy45IDAgMS42LS43IDEuNi0xLjZWOS40Yy4xLS41LS4xLS45LS40LTEuMnptLTUuOC0zLjNsMy40IDMuNmgtMy40VjQuOXptMy45IDEyLjdINC43Yy0uMSAwLS4yIDAtLjItLjJWNC43YzAtLjIuMS0uMy4yLS4zaDcuMnY0LjRzMCAuOC4zIDEuMWMuMy4zIDEuMS4zIDEuMS4zaDQuM3Y3LjJzLS4xLjItLjIuMnoiLz4KPC9zdmc+Cg==);
  --jp-icon-filter-list: url(data:image/svg+xml;base64,PHN2ZyB4bWxucz0iaHR0cDovL3d3dy53My5vcmcvMjAwMC9zdmciIHdpZHRoPSIxNiIgdmlld0JveD0iMCAwIDI0IDI0Ij4KICA8ZyBjbGFzcz0ianAtaWNvbjMiIGZpbGw9IiM2MTYxNjEiPgogICAgPHBhdGggZD0iTTEwIDE4aDR2LTJoLTR2MnpNMyA2djJoMThWNkgzem0zIDdoMTJ2LTJINnYyeiIvPgogIDwvZz4KPC9zdmc+Cg==);
  --jp-icon-folder: url(data:image/svg+xml;base64,PHN2ZyB4bWxucz0iaHR0cDovL3d3dy53My5vcmcvMjAwMC9zdmciIHdpZHRoPSIxNiIgdmlld0JveD0iMCAwIDI0IDI0Ij4KICA8cGF0aCBjbGFzcz0ianAtaWNvbjMganAtaWNvbi1zZWxlY3RhYmxlIiBmaWxsPSIjNjE2MTYxIiBkPSJNMTAgNEg0Yy0xLjEgMC0xLjk5LjktMS45OSAyTDIgMThjMCAxLjEuOSAyIDIgMmgxNmMxLjEgMCAyLS45IDItMlY4YzAtMS4xLS45LTItMi0yaC04bC0yLTJ6Ii8+Cjwvc3ZnPgo=);
  --jp-icon-html5: url(data:image/svg+xml;base64,PHN2ZyB4bWxucz0iaHR0cDovL3d3dy53My5vcmcvMjAwMC9zdmciIHdpZHRoPSIxNiIgdmlld0JveD0iMCAwIDUxMiA1MTIiPgogIDxwYXRoIGNsYXNzPSJqcC1pY29uMCBqcC1pY29uLXNlbGVjdGFibGUiIGZpbGw9IiMwMDAiIGQ9Ik0xMDguNCAwaDIzdjIyLjhoMjEuMlYwaDIzdjY5aC0yM1Y0NmgtMjF2MjNoLTIzLjJNMjA2IDIzaC0yMC4zVjBoNjMuN3YyM0gyMjl2NDZoLTIzbTUzLjUtNjloMjQuMWwxNC44IDI0LjNMMzEzLjIgMGgyNC4xdjY5aC0yM1YzNC44bC0xNi4xIDI0LjgtMTYuMS0yNC44VjY5aC0yMi42bTg5LjItNjloMjN2NDYuMmgzMi42VjY5aC01NS42Ii8+CiAgPHBhdGggY2xhc3M9ImpwLWljb24tc2VsZWN0YWJsZSIgZmlsbD0iI2U0NGQyNiIgZD0iTTEwNy42IDQ3MWwtMzMtMzcwLjRoMzYyLjhsLTMzIDM3MC4yTDI1NS43IDUxMiIvPgogIDxwYXRoIGNsYXNzPSJqcC1pY29uLXNlbGVjdGFibGUiIGZpbGw9IiNmMTY1MjkiIGQ9Ik0yNTYgNDgwLjVWMTMxaDE0OC4zTDM3NiA0NDciLz4KICA8cGF0aCBjbGFzcz0ianAtaWNvbi1zZWxlY3RhYmxlLWludmVyc2UiIGZpbGw9IiNlYmViZWIiIGQ9Ik0xNDIgMTc2LjNoMTE0djQ1LjRoLTY0LjJsNC4yIDQ2LjVoNjB2NDUuM0gxNTQuNG0yIDIyLjhIMjAybDMuMiAzNi4zIDUwLjggMTMuNnY0Ny40bC05My4yLTI2Ii8+CiAgPHBhdGggY2xhc3M9ImpwLWljb24tc2VsZWN0YWJsZS1pbnZlcnNlIiBmaWxsPSIjZmZmIiBkPSJNMzY5LjYgMTc2LjNIMjU1Ljh2NDUuNGgxMDkuNm0tNC4xIDQ2LjVIMjU1Ljh2NDUuNGg1NmwtNS4zIDU5LTUwLjcgMTMuNnY0Ny4ybDkzLTI1LjgiLz4KPC9zdmc+Cg==);
  --jp-icon-image: url(data:image/svg+xml;base64,PHN2ZyB4bWxucz0iaHR0cDovL3d3dy53My5vcmcvMjAwMC9zdmciIHdpZHRoPSIxNiIgdmlld0JveD0iMCAwIDIyIDIyIj4KICA8cGF0aCBjbGFzcz0ianAtaWNvbi1icmFuZDQganAtaWNvbi1zZWxlY3RhYmxlLWludmVyc2UiIGZpbGw9IiNGRkYiIGQ9Ik0yLjIgMi4yaDE3LjV2MTcuNUgyLjJ6Ii8+CiAgPHBhdGggY2xhc3M9ImpwLWljb24tYnJhbmQwIGpwLWljb24tc2VsZWN0YWJsZSIgZmlsbD0iIzNGNTFCNSIgZD0iTTIuMiAyLjJ2MTcuNWgxNy41bC4xLTE3LjVIMi4yem0xMi4xIDIuMmMxLjIgMCAyLjIgMSAyLjIgMi4ycy0xIDIuMi0yLjIgMi4yLTIuMi0xLTIuMi0yLjIgMS0yLjIgMi4yLTIuMnpNNC40IDE3LjZsMy4zLTguOCAzLjMgNi42IDIuMi0zLjIgNC40IDUuNEg0LjR6Ii8+Cjwvc3ZnPgo=);
  --jp-icon-inspector: url(data:image/svg+xml;base64,PHN2ZyB4bWxucz0iaHR0cDovL3d3dy53My5vcmcvMjAwMC9zdmciIHdpZHRoPSIxNiIgdmlld0JveD0iMCAwIDI0IDI0Ij4KICA8cGF0aCBjbGFzcz0ianAtaWNvbjMganAtaWNvbi1zZWxlY3RhYmxlIiBmaWxsPSIjNjE2MTYxIiBkPSJNMjAgNEg0Yy0xLjEgMC0xLjk5LjktMS45OSAyTDIgMThjMCAxLjEuOSAyIDIgMmgxNmMxLjEgMCAyLS45IDItMlY2YzAtMS4xLS45LTItMi0yem0tNSAxNEg0di00aDExdjR6bTAtNUg0VjloMTF2NHptNSA1aC00VjloNHY5eiIvPgo8L3N2Zz4K);
  --jp-icon-json: url(data:image/svg+xml;base64,PHN2ZyB4bWxucz0iaHR0cDovL3d3dy53My5vcmcvMjAwMC9zdmciIHdpZHRoPSIxNiIgdmlld0JveD0iMCAwIDIyIDIyIj4KICA8ZyBjbGFzcz0ianAtaWNvbi13YXJuMSBqcC1pY29uLXNlbGVjdGFibGUiIGZpbGw9IiNGOUE4MjUiPgogICAgPHBhdGggZD0iTTIwLjIgMTEuOGMtMS42IDAtMS43LjUtMS43IDEgMCAuNC4xLjkuMSAxLjMuMS41LjEuOS4xIDEuMyAwIDEuNy0xLjQgMi4zLTMuNSAyLjNoLS45di0xLjloLjVjMS4xIDAgMS40IDAgMS40LS44IDAtLjMgMC0uNi0uMS0xIDAtLjQtLjEtLjgtLjEtMS4yIDAtMS4zIDAtMS44IDEuMy0yLTEuMy0uMi0xLjMtLjctMS4zLTIgMC0uNC4xLS44LjEtMS4yLjEtLjQuMS0uNy4xLTEgMC0uOC0uNC0uNy0xLjQtLjhoLS41VjQuMWguOWMyLjIgMCAzLjUuNyAzLjUgMi4zIDAgLjQtLjEuOS0uMSAxLjMtLjEuNS0uMS45LS4xIDEuMyAwIC41LjIgMSAxLjcgMXYxLjh6TTEuOCAxMC4xYzEuNiAwIDEuNy0uNSAxLjctMSAwLS40LS4xLS45LS4xLTEuMy0uMS0uNS0uMS0uOS0uMS0xLjMgMC0xLjYgMS40LTIuMyAzLjUtMi4zaC45djEuOWgtLjVjLTEgMC0xLjQgMC0xLjQuOCAwIC4zIDAgLjYuMSAxIDAgLjIuMS42LjEgMSAwIDEuMyAwIDEuOC0xLjMgMkM2IDExLjIgNiAxMS43IDYgMTNjMCAuNC0uMS44LS4xIDEuMi0uMS4zLS4xLjctLjEgMSAwIC44LjMuOCAxLjQuOGguNXYxLjloLS45Yy0yLjEgMC0zLjUtLjYtMy41LTIuMyAwLS40LjEtLjkuMS0xLjMuMS0uNS4xLS45LjEtMS4zIDAtLjUtLjItMS0xLjctMXYtMS45eiIvPgogICAgPGNpcmNsZSBjeD0iMTEiIGN5PSIxMy44IiByPSIyLjEiLz4KICAgIDxjaXJjbGUgY3g9IjExIiBjeT0iOC4yIiByPSIyLjEiLz4KICA8L2c+Cjwvc3ZnPgo=);
  --jp-icon-jupyter-favicon: url(data:image/svg+xml;base64,PHN2ZyB3aWR0aD0iMTUyIiBoZWlnaHQ9IjE2NSIgdmlld0JveD0iMCAwIDE1MiAxNjUiIHZlcnNpb249IjEuMSIgeG1sbnM9Imh0dHA6Ly93d3cudzMub3JnLzIwMDAvc3ZnIj4KICA8ZyBjbGFzcz0ianAtaWNvbi13YXJuMCIgZmlsbD0iI0YzNzcyNiI+CiAgICA8cGF0aCB0cmFuc2Zvcm09InRyYW5zbGF0ZSgwLjA3ODk0NywgMTEwLjU4MjkyNykiIGQ9Ik03NS45NDIyODQyLDI5LjU4MDQ1NjEgQzQzLjMwMjM5NDcsMjkuNTgwNDU2MSAxNC43OTY3ODMyLDE3LjY1MzQ2MzQgMCwwIEM1LjUxMDgzMjExLDE1Ljg0MDY4MjkgMTUuNzgxNTM4OSwyOS41NjY3NzMyIDI5LjM5MDQ5NDcsMzkuMjc4NDE3MSBDNDIuOTk5Nyw0OC45ODk4NTM3IDU5LjI3MzcsNTQuMjA2NzgwNSA3NS45NjA1Nzg5LDU0LjIwNjc4MDUgQzkyLjY0NzQ1NzksNTQuMjA2NzgwNSAxMDguOTIxNDU4LDQ4Ljk4OTg1MzcgMTIyLjUzMDY2MywzOS4yNzg0MTcxIEMxMzYuMTM5NDUzLDI5LjU2Njc3MzIgMTQ2LjQxMDI4NCwxNS44NDA2ODI5IDE1MS45MjExNTgsMCBDMTM3LjA4Nzg2OCwxNy42NTM0NjM0IDEwOC41ODI1ODksMjkuNTgwNDU2MSA3NS45NDIyODQyLDI5LjU4MDQ1NjEgTDc1Ljk0MjI4NDIsMjkuNTgwNDU2MSBaIiAvPgogICAgPHBhdGggdHJhbnNmb3JtPSJ0cmFuc2xhdGUoMC4wMzczNjgsIDAuNzA0ODc4KSIgZD0iTTc1Ljk3ODQ1NzksMjQuNjI2NDA3MyBDMTA4LjYxODc2MywyNC42MjY0MDczIDEzNy4xMjQ0NTgsMzYuNTUzNDQxNSAxNTEuOTIxMTU4LDU0LjIwNjc4MDUgQzE0Ni40MTAyODQsMzguMzY2MjIyIDEzNi4xMzk0NTMsMjQuNjQwMTMxNyAxMjIuNTMwNjYzLDE0LjkyODQ4NzggQzEwOC45MjE0NTgsNS4yMTY4NDM5IDkyLjY0NzQ1NzksMCA3NS45NjA1Nzg5LDAgQzU5LjI3MzcsMCA0Mi45OTk3LDUuMjE2ODQzOSAyOS4zOTA0OTQ3LDE0LjkyODQ4NzggQzE1Ljc4MTUzODksMjQuNjQwMTMxNyA1LjUxMDgzMjExLDM4LjM2NjIyMiAwLDU0LjIwNjc4MDUgQzE0LjgzMzA4MTYsMzYuNTg5OTI5MyA0My4zMzg1Njg0LDI0LjYyNjQwNzMgNzUuOTc4NDU3OSwyNC42MjY0MDczIEw3NS45Nzg0NTc5LDI0LjYyNjQwNzMgWiIgLz4KICA8L2c+Cjwvc3ZnPgo=);
  --jp-icon-jupyter: url(data:image/svg+xml;base64,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);
  --jp-icon-jupyterlab-wordmark: url(data:image/svg+xml;base64,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);
  --jp-icon-kernel: url(data:image/svg+xml;base64,PHN2ZyB4bWxucz0iaHR0cDovL3d3dy53My5vcmcvMjAwMC9zdmciIHdpZHRoPSIxNiIgdmlld0JveD0iMCAwIDI0IDI0Ij4KICAgIDxwYXRoIGNsYXNzPSJqcC1pY29uMiIgZmlsbD0iIzYxNjE2MSIgZD0iTTE1IDlIOXY2aDZWOXptLTIgNGgtMnYtMmgydjJ6bTgtMlY5aC0yVjdjMC0xLjEtLjktMi0yLTJoLTJWM2gtMnYyaC0yVjNIOXYySDdjLTEuMSAwLTIgLjktMiAydjJIM3YyaDJ2MkgzdjJoMnYyYzAgMS4xLjkgMiAyIDJoMnYyaDJ2LTJoMnYyaDJ2LTJoMmMxLjEgMCAyLS45IDItMnYtMmgydi0yaC0ydi0yaDJ6bS00IDZIN1Y3aDEwdjEweiIvPgo8L3N2Zz4K);
  --jp-icon-keyboard: url(data:image/svg+xml;base64,PHN2ZyB4bWxucz0iaHR0cDovL3d3dy53My5vcmcvMjAwMC9zdmciIHdpZHRoPSIxNiIgdmlld0JveD0iMCAwIDI0IDI0Ij4KICA8cGF0aCBjbGFzcz0ianAtaWNvbjMganAtaWNvbi1zZWxlY3RhYmxlIiBmaWxsPSIjNjE2MTYxIiBkPSJNMjAgNUg0Yy0xLjEgMC0xLjk5LjktMS45OSAyTDIgMTdjMCAxLjEuOSAyIDIgMmgxNmMxLjEgMCAyLS45IDItMlY3YzAtMS4xLS45LTItMi0yem0tOSAzaDJ2MmgtMlY4em0wIDNoMnYyaC0ydi0yek04IDhoMnYySDhWOHptMCAzaDJ2Mkg4di0yem0tMSAySDV2LTJoMnYyem0wLTNINVY4aDJ2MnptOSA3SDh2LTJoOHYyem0wLTRoLTJ2LTJoMnYyem0wLTNoLTJWOGgydjJ6bTMgM2gtMnYtMmgydjJ6bTAtM2gtMlY4aDJ2MnoiLz4KPC9zdmc+Cg==);
  --jp-icon-launcher: url(data:image/svg+xml;base64,PHN2ZyB4bWxucz0iaHR0cDovL3d3dy53My5vcmcvMjAwMC9zdmciIHdpZHRoPSIxNiIgdmlld0JveD0iMCAwIDI0IDI0Ij4KICA8cGF0aCBjbGFzcz0ianAtaWNvbjMganAtaWNvbi1zZWxlY3RhYmxlIiBmaWxsPSIjNjE2MTYxIiBkPSJNMTkgMTlINVY1aDdWM0g1YTIgMiAwIDAwLTIgMnYxNGEyIDIgMCAwMDIgMmgxNGMxLjEgMCAyLS45IDItMnYtN2gtMnY3ek0xNCAzdjJoMy41OWwtOS44MyA5LjgzIDEuNDEgMS40MUwxOSA2LjQxVjEwaDJWM2gtN3oiLz4KPC9zdmc+Cg==);
  --jp-icon-line-form: url(data:image/svg+xml;base64,PHN2ZyB4bWxucz0iaHR0cDovL3d3dy53My5vcmcvMjAwMC9zdmciIHdpZHRoPSIxNiIgdmlld0JveD0iMCAwIDI0IDI0Ij4KICAgIDxwYXRoIGZpbGw9IndoaXRlIiBkPSJNNS44OCA0LjEyTDEzLjc2IDEybC03Ljg4IDcuODhMOCAyMmwxMC0xMEw4IDJ6Ii8+Cjwvc3ZnPgo=);
  --jp-icon-link: url(data:image/svg+xml;base64,PHN2ZyB2aWV3Qm94PSIwIDAgMjQgMjQiIHdpZHRoPSIxNiIgeG1sbnM9Imh0dHA6Ly93d3cudzMub3JnLzIwMDAvc3ZnIj4KICA8ZyBjbGFzcz0ianAtaWNvbjMiIGZpbGw9IiM2MTYxNjEiPgogICAgPHBhdGggZD0iTTMuOSAxMmMwLTEuNzEgMS4zOS0zLjEgMy4xLTMuMWg0VjdIN2MtMi43NiAwLTUgMi4yNC01IDVzMi4yNCA1IDUgNWg0di0xLjlIN2MtMS43MSAwLTMuMS0xLjM5LTMuMS0zLjF6TTggMTNoOHYtMkg4djJ6bTktNmgtNHYxLjloNGMxLjcxIDAgMy4xIDEuMzkgMy4xIDMuMXMtMS4zOSAzLjEtMy4xIDMuMWgtNFYxN2g0YzIuNzYgMCA1LTIuMjQgNS01cy0yLjI0LTUtNS01eiIvPgogIDwvZz4KPC9zdmc+Cg==);
  --jp-icon-list: url(data:image/svg+xml;base64,PHN2ZyB4bWxucz0iaHR0cDovL3d3dy53My5vcmcvMjAwMC9zdmciIHdpZHRoPSIxNiIgdmlld0JveD0iMCAwIDI0IDI0Ij4KICAgIDxwYXRoIGNsYXNzPSJqcC1pY29uMiBqcC1pY29uLXNlbGVjdGFibGUiIGZpbGw9IiM2MTYxNjEiIGQ9Ik0xOSA1djE0SDVWNWgxNG0xLjEtMkgzLjljLS41IDAtLjkuNC0uOS45djE2LjJjMCAuNC40LjkuOS45aDE2LjJjLjQgMCAuOS0uNS45LS45VjMuOWMwLS41LS41LS45LS45LS45ek0xMSA3aDZ2MmgtNlY3em0wIDRoNnYyaC02di0yem0wIDRoNnYyaC02ek03IDdoMnYySDd6bTAgNGgydjJIN3ptMCA0aDJ2Mkg3eiIvPgo8L3N2Zz4=);
  --jp-icon-listings-info: url(data:image/svg+xml;base64,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);
  --jp-icon-markdown: url(data:image/svg+xml;base64,PHN2ZyB4bWxucz0iaHR0cDovL3d3dy53My5vcmcvMjAwMC9zdmciIHdpZHRoPSIxNiIgdmlld0JveD0iMCAwIDIyIDIyIj4KICA8cGF0aCBjbGFzcz0ianAtaWNvbi1jb250cmFzdDAganAtaWNvbi1zZWxlY3RhYmxlIiBmaWxsPSIjN0IxRkEyIiBkPSJNNSAxNC45aDEybC02LjEgNnptOS40LTYuOGMwLTEuMy0uMS0yLjktLjEtNC41LS40IDEuNC0uOSAyLjktMS4zIDQuM2wtMS4zIDQuM2gtMkw4LjUgNy45Yy0uNC0xLjMtLjctMi45LTEtNC4zLS4xIDEuNi0uMSAzLjItLjIgNC42TDcgMTIuNEg0LjhsLjctMTFoMy4zTDEwIDVjLjQgMS4yLjcgMi43IDEgMy45LjMtMS4yLjctMi42IDEtMy45bDEuMi0zLjdoMy4zbC42IDExaC0yLjRsLS4zLTQuMnoiLz4KPC9zdmc+Cg==);
  --jp-icon-new-folder: url(data:image/svg+xml;base64,PHN2ZyB4bWxucz0iaHR0cDovL3d3dy53My5vcmcvMjAwMC9zdmciIHdpZHRoPSIxNiIgdmlld0JveD0iMCAwIDI0IDI0Ij4KICA8ZyBjbGFzcz0ianAtaWNvbjMiIGZpbGw9IiM2MTYxNjEiPgogICAgPHBhdGggZD0iTTIwIDZoLThsLTItMkg0Yy0xLjExIDAtMS45OS44OS0xLjk5IDJMMiAxOGMwIDEuMTEuODkgMiAyIDJoMTZjMS4xMSAwIDItLjg5IDItMlY4YzAtMS4xMS0uODktMi0yLTJ6bS0xIDhoLTN2M2gtMnYtM2gtM3YtMmgzVjloMnYzaDN2MnoiLz4KICA8L2c+Cjwvc3ZnPgo=);
  --jp-icon-not-trusted: url(data:image/svg+xml;base64,PHN2ZyBmaWxsPSJub25lIiB4bWxucz0iaHR0cDovL3d3dy53My5vcmcvMjAwMC9zdmciIHdpZHRoPSIxNiIgdmlld0JveD0iMCAwIDI1IDI1Ij4KICAgIDxwYXRoIGNsYXNzPSJqcC1pY29uMiIgc3Ryb2tlPSIjMzMzMzMzIiBzdHJva2Utd2lkdGg9IjIiIHRyYW5zZm9ybT0idHJhbnNsYXRlKDMgMykiIGQ9Ik0xLjg2MDk0IDExLjQ0MDlDMC44MjY0NDggOC43NzAyNyAwLjg2Mzc3OSA2LjA1NzY0IDEuMjQ5MDcgNC4xOTkzMkMyLjQ4MjA2IDMuOTMzNDcgNC4wODA2OCAzLjQwMzQ3IDUuNjAxMDIgMi44NDQ5QzcuMjM1NDkgMi4yNDQ0IDguODU2NjYgMS41ODE1IDkuOTg3NiAxLjA5NTM5QzExLjA1OTcgMS41ODM0MSAxMi42MDk0IDIuMjQ0NCAxNC4yMTggMi44NDMzOUMxNS43NTAzIDMuNDEzOTQgMTcuMzk5NSAzLjk1MjU4IDE4Ljc1MzkgNC4yMTM4NUMxOS4xMzY0IDYuMDcxNzcgMTkuMTcwOSA4Ljc3NzIyIDE4LjEzOSAxMS40NDA5QzE3LjAzMDMgMTQuMzAzMiAxNC42NjY4IDE3LjE4NDQgOS45OTk5OSAxOC45MzU0QzUuMzMzMTkgMTcuMTg0NCAyLjk2OTY4IDE0LjMwMzIgMS44NjA5NCAxMS40NDA5WiIvPgogICAgPHBhdGggY2xhc3M9ImpwLWljb24yIiBzdHJva2U9IiMzMzMzMzMiIHN0cm9rZS13aWR0aD0iMiIgdHJhbnNmb3JtPSJ0cmFuc2xhdGUoOS4zMTU5MiA5LjMyMDMxKSIgZD0iTTcuMzY4NDIgMEwwIDcuMzY0NzkiLz4KICAgIDxwYXRoIGNsYXNzPSJqcC1pY29uMiIgc3Ryb2tlPSIjMzMzMzMzIiBzdHJva2Utd2lkdGg9IjIiIHRyYW5zZm9ybT0idHJhbnNsYXRlKDkuMzE1OTIgMTYuNjgzNikgc2NhbGUoMSAtMSkiIGQ9Ik03LjM2ODQyIDBMMCA3LjM2NDc5Ii8+Cjwvc3ZnPgo=);
  --jp-icon-notebook: url(data:image/svg+xml;base64,PHN2ZyB4bWxucz0iaHR0cDovL3d3dy53My5vcmcvMjAwMC9zdmciIHdpZHRoPSIxNiIgdmlld0JveD0iMCAwIDIyIDIyIj4KICA8ZyBjbGFzcz0ianAtaWNvbi13YXJuMCBqcC1pY29uLXNlbGVjdGFibGUiIGZpbGw9IiNFRjZDMDAiPgogICAgPHBhdGggZD0iTTE4LjcgMy4zdjE1LjRIMy4zVjMuM2gxNS40bTEuNS0xLjVIMS44djE4LjNoMTguM2wuMS0xOC4zeiIvPgogICAgPHBhdGggZD0iTTE2LjUgMTYuNWwtNS40LTQuMy01LjYgNC4zdi0xMWgxMXoiLz4KICA8L2c+Cjwvc3ZnPgo=);
  --jp-icon-numbering: url(data:image/svg+xml;base64,PHN2ZyB3aWR0aD0iMjIiIGhlaWdodD0iMjIiIHZpZXdCb3g9IjAgMCAyOCAyOCIgeG1sbnM9Imh0dHA6Ly93d3cudzMub3JnLzIwMDAvc3ZnIj4KCTxnIGNsYXNzPSJqcC1pY29uMyIgZmlsbD0iIzYxNjE2MSI+CgkJPHBhdGggZD0iTTQgMTlINlYxOS41SDVWMjAuNUg2VjIxSDRWMjJIN1YxOEg0VjE5Wk01IDEwSDZWNkg0VjdINVYxMFpNNCAxM0g1LjhMNCAxNS4xVjE2SDdWMTVINS4yTDcgMTIuOVYxMkg0VjEzWk05IDdWOUgyM1Y3SDlaTTkgMjFIMjNWMTlIOVYyMVpNOSAxNUgyM1YxM0g5VjE1WiIvPgoJPC9nPgo8L3N2Zz4K);
  --jp-icon-offline-bolt: url(data:image/svg+xml;base64,PHN2ZyB4bWxucz0iaHR0cDovL3d3dy53My5vcmcvMjAwMC9zdmciIHZpZXdCb3g9IjAgMCAyNCAyNCIgd2lkdGg9IjE2Ij4KICA8ZyBjbGFzcz0ianAtaWNvbjMiIGZpbGw9IiM2MTYxNjEiPgogICAgPHBhdGggZD0iTTEyIDIuMDJjLTUuNTEgMC05Ljk4IDQuNDctOS45OCA5Ljk4czQuNDcgOS45OCA5Ljk4IDkuOTggOS45OC00LjQ3IDkuOTgtOS45OFMxNy41MSAyLjAyIDEyIDIuMDJ6TTExLjQ4IDIwdi02LjI2SDhMMTMgNHY2LjI2aDMuMzVMMTEuNDggMjB6Ii8+CiAgPC9nPgo8L3N2Zz4K);
  --jp-icon-palette: url(data:image/svg+xml;base64,PHN2ZyB4bWxucz0iaHR0cDovL3d3dy53My5vcmcvMjAwMC9zdmciIHdpZHRoPSIxNiIgdmlld0JveD0iMCAwIDI0IDI0Ij4KICA8ZyBjbGFzcz0ianAtaWNvbjMiIGZpbGw9IiM2MTYxNjEiPgogICAgPHBhdGggZD0iTTE4IDEzVjIwSDRWNkg5LjAyQzkuMDcgNS4yOSA5LjI0IDQuNjIgOS41IDRINEMyLjkgNCAyIDQuOSAyIDZWMjBDMiAyMS4xIDIuOSAyMiA0IDIySDE4QzE5LjEgMjIgMjAgMjEuMSAyMCAyMFYxNUwxOCAxM1pNMTkuMyA4Ljg5QzE5Ljc0IDguMTkgMjAgNy4zOCAyMCA2LjVDMjAgNC4wMSAxNy45OSAyIDE1LjUgMkMxMy4wMSAyIDExIDQuMDEgMTEgNi41QzExIDguOTkgMTMuMDEgMTEgMTUuNDkgMTFDMTYuMzcgMTEgMTcuMTkgMTAuNzQgMTcuODggMTAuM0wyMSAxMy40MkwyMi40MiAxMkwxOS4zIDguODlaTTE1LjUgOUMxNC4xMiA5IDEzIDcuODggMTMgNi41QzEzIDUuMTIgMTQuMTIgNCAxNS41IDRDMTYuODggNCAxOCA1LjEyIDE4IDYuNUMxOCA3Ljg4IDE2Ljg4IDkgMTUuNSA5WiIvPgogICAgPHBhdGggZmlsbC1ydWxlPSJldmVub2RkIiBjbGlwLXJ1bGU9ImV2ZW5vZGQiIGQ9Ik00IDZIOS4wMTg5NEM5LjAwNjM5IDYuMTY1MDIgOSA2LjMzMTc2IDkgNi41QzkgOC44MTU3NyAxMC4yMTEgMTAuODQ4NyAxMi4wMzQzIDEySDlWMTRIMTZWMTIuOTgxMUMxNi41NzAzIDEyLjkzNzcgMTcuMTIgMTIuODIwNyAxNy42Mzk2IDEyLjYzOTZMMTggMTNWMjBINFY2Wk04IDhINlYxMEg4VjhaTTYgMTJIOFYxNEg2VjEyWk04IDE2SDZWMThIOFYxNlpNOSAxNkgxNlYxOEg5VjE2WiIvPgogIDwvZz4KPC9zdmc+Cg==);
  --jp-icon-paste: url(data:image/svg+xml;base64,PHN2ZyBoZWlnaHQ9IjI0IiB2aWV3Qm94PSIwIDAgMjQgMjQiIHdpZHRoPSIyNCIgeG1sbnM9Imh0dHA6Ly93d3cudzMub3JnLzIwMDAvc3ZnIj4KICAgIDxnIGNsYXNzPSJqcC1pY29uMyIgZmlsbD0iIzYxNjE2MSI+CiAgICAgICAgPHBhdGggZD0iTTE5IDJoLTQuMThDMTQuNC44NCAxMy4zIDAgMTIgMGMtMS4zIDAtMi40Ljg0LTIuODIgMkg1Yy0xLjEgMC0yIC45LTIgMnYxNmMwIDEuMS45IDIgMiAyaDE0YzEuMSAwIDItLjkgMi0yVjRjMC0xLjEtLjktMi0yLTJ6bS03IDBjLjU1IDAgMSAuNDUgMSAxcy0uNDUgMS0xIDEtMS0uNDUtMS0xIC40NS0xIDEtMXptNyAxOEg1VjRoMnYzaDEwVjRoMnYxNnoiLz4KICAgIDwvZz4KPC9zdmc+Cg==);
  --jp-icon-pdf: url(data:image/svg+xml;base64,PHN2ZwogICB4bWxucz0iaHR0cDovL3d3dy53My5vcmcvMjAwMC9zdmciIHZpZXdCb3g9IjAgMCAyMiAyMiIgd2lkdGg9IjE2Ij4KICAgIDxwYXRoIHRyYW5zZm9ybT0icm90YXRlKDQ1KSIgY2xhc3M9ImpwLWljb24tc2VsZWN0YWJsZSIgZmlsbD0iI0ZGMkEyQSIKICAgICAgIGQ9Im0gMjIuMzQ0MzY5LC0zLjAxNjM2NDIgaCA1LjYzODYwNCB2IDEuNTc5MjQzMyBoIC0zLjU0OTIyNyB2IDEuNTA4NjkyOTkgaCAzLjMzNzU3NiBWIDEuNjUwODE1NCBoIC0zLjMzNzU3NiB2IDMuNDM1MjYxMyBoIC0yLjA4OTM3NyB6IG0gLTcuMTM2NDQ0LDEuNTc5MjQzMyB2IDQuOTQzOTU0MyBoIDAuNzQ4OTIgcSAxLjI4MDc2MSwwIDEuOTUzNzAzLC0wLjYzNDk1MzUgMC42NzgzNjksLTAuNjM0OTUzNSAwLjY3ODM2OSwtMS44NDUxNjQxIDAsLTEuMjA0NzgzNTUgLTAuNjcyOTQyLC0xLjgzNDMxMDExIC0wLjY3Mjk0MiwtMC42Mjk1MjY1OSAtMS45NTkxMywtMC42Mjk1MjY1OSB6IG0gLTIuMDg5Mzc3LC0xLjU3OTI0MzMgaCAyLjIwMzM0MyBxIDEuODQ1MTY0LDAgMi43NDYwMzksMC4yNjU5MjA3IDAuOTA2MzAxLDAuMjYwNDkzNyAxLjU1MjEwOCwwLjg5MDAyMDMgMC41Njk4MywwLjU0ODEyMjMgMC44NDY2MDUsMS4yNjQ0ODAwNiAwLjI3Njc3NCwwLjcxNjM1NzgxIDAuMjc2Nzc0LDEuNjIyNjU4OTQgMCwwLjkxNzE1NTEgLTAuMjc2Nzc0LDEuNjM4OTM5OSAtMC4yNzY3NzUsMC43MTYzNTc4IC0wLjg0NjYwNSwxLjI2NDQ4IC0wLjY1MTIzNCwwLjYyOTUyNjYgLTEuNTYyOTYyLDAuODk1NDQ3MyAtMC45MTE3MjgsMC4yNjA0OTM3IC0yLjczNTE4NSwwLjI2MDQ5MzcgaCAtMi4yMDMzNDMgeiBtIC04LjE0NTg1NjUsMCBoIDMuNDY3ODIzIHEgMS41NDY2ODE2LDAgMi4zNzE1Nzg1LDAuNjg5MjIzIDAuODMwMzI0LDAuNjgzNzk2MSAwLjgzMDMyNCwxLjk1MzcwMzE0IDAsMS4yNzUzMzM5NyAtMC44MzAzMjQsMS45NjQ1NTcwNiBRIDkuOTg3MTk2MSwyLjI3NDkxNSA4LjQ0MDUxNDUsMi4yNzQ5MTUgSCA3LjA2MjA2ODQgViA1LjA4NjA3NjcgSCA0Ljk3MjY5MTUgWiBtIDIuMDg5Mzc2OSwxLjUxNDExOTkgdiAyLjI2MzAzOTQzIGggMS4xNTU5NDEgcSAwLjYwNzgxODgsMCAwLjkzODg2MjksLTAuMjkzMDU1NDcgMC4zMzEwNDQxLC0wLjI5ODQ4MjQxIDAuMzMxMDQ0MSwtMC44NDExNzc3MiAwLC0wLjU0MjY5NTMxIC0wLjMzMTA0NDEsLTAuODM1NzUwNzQgLTAuMzMxMDQ0MSwtMC4yOTMwNTU1IC0wLjkzODg2MjksLTAuMjkzMDU1NSB6IgovPgo8L3N2Zz4K);
  --jp-icon-python: url(data:image/svg+xml;base64,PHN2ZyB4bWxucz0iaHR0cDovL3d3dy53My5vcmcvMjAwMC9zdmciIHdpZHRoPSIxNiIgdmlld0JveD0iMCAwIDIyIDIyIj4KICA8ZyBjbGFzcz0ianAtaWNvbi1icmFuZDAganAtaWNvbi1zZWxlY3RhYmxlIiBmaWxsPSIjMEQ0N0ExIj4KICAgIDxwYXRoIGQ9Ik0xMS4xIDYuOVY1LjhINi45YzAtLjUgMC0xLjMuMi0xLjYuNC0uNy44LTEuMSAxLjctMS40IDEuNy0uMyAyLjUtLjMgMy45LS4xIDEgLjEgMS45LjkgMS45IDEuOXY0LjJjMCAuNS0uOSAxLjYtMiAxLjZIOC44Yy0xLjUgMC0yLjQgMS40LTIuNCAyLjh2Mi4ySDQuN0MzLjUgMTUuMSAzIDE0IDMgMTMuMVY5Yy0uMS0xIC42LTIgMS44LTIgMS41LS4xIDYuMy0uMSA2LjMtLjF6Ii8+CiAgICA8cGF0aCBkPSJNMTAuOSAxNS4xdjEuMWg0LjJjMCAuNSAwIDEuMy0uMiAxLjYtLjQuNy0uOCAxLjEtMS43IDEuNC0xLjcuMy0yLjUuMy0zLjkuMS0xLS4xLTEuOS0uOS0xLjktMS45di00LjJjMC0uNS45LTEuNiAyLTEuNmgzLjhjMS41IDAgMi40LTEuNCAyLjQtMi44VjYuNmgxLjdDMTguNSA2LjkgMTkgOCAxOSA4LjlWMTNjMCAxLS43IDIuMS0xLjkgMi4xaC02LjJ6Ii8+CiAgPC9nPgo8L3N2Zz4K);
  --jp-icon-r-kernel: url(data:image/svg+xml;base64,PHN2ZyB4bWxucz0iaHR0cDovL3d3dy53My5vcmcvMjAwMC9zdmciIHdpZHRoPSIxNiIgdmlld0JveD0iMCAwIDIyIDIyIj4KICA8cGF0aCBjbGFzcz0ianAtaWNvbi1jb250cmFzdDMganAtaWNvbi1zZWxlY3RhYmxlIiBmaWxsPSIjMjE5NkYzIiBkPSJNNC40IDIuNWMxLjItLjEgMi45LS4zIDQuOS0uMyAyLjUgMCA0LjEuNCA1LjIgMS4zIDEgLjcgMS41IDEuOSAxLjUgMy41IDAgMi0xLjQgMy41LTIuOSA0LjEgMS4yLjQgMS43IDEuNiAyLjIgMyAuNiAxLjkgMSAzLjkgMS4zIDQuNmgtMy44Yy0uMy0uNC0uOC0xLjctMS4yLTMuN3MtMS4yLTIuNi0yLjYtMi42aC0uOXY2LjRINC40VjIuNXptMy43IDYuOWgxLjRjMS45IDAgMi45LS45IDIuOS0yLjNzLTEtMi4zLTIuOC0yLjNjLS43IDAtMS4zIDAtMS42LjJ2NC41aC4xdi0uMXoiLz4KPC9zdmc+Cg==);
  --jp-icon-react: url(data:image/svg+xml;base64,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);
  --jp-icon-redo: url(data:image/svg+xml;base64,PHN2ZyB4bWxucz0iaHR0cDovL3d3dy53My5vcmcvMjAwMC9zdmciIGhlaWdodD0iMjQiIHZpZXdCb3g9IjAgMCAyNCAyNCIgd2lkdGg9IjE2Ij4KICA8ZyBjbGFzcz0ianAtaWNvbjMiIGZpbGw9IiM2MTYxNjEiPgogICAgICA8cGF0aCBkPSJNMCAwaDI0djI0SDB6IiBmaWxsPSJub25lIi8+PHBhdGggZD0iTTE4LjQgMTAuNkMxNi41NSA4Ljk5IDE0LjE1IDggMTEuNSA4Yy00LjY1IDAtOC41OCAzLjAzLTkuOTYgNy4yMkwzLjkgMTZjMS4wNS0zLjE5IDQuMDUtNS41IDcuNi01LjUgMS45NSAwIDMuNzMuNzIgNS4xMiAxLjg4TDEzIDE2aDlWN2wtMy42IDMuNnoiLz4KICA8L2c+Cjwvc3ZnPgo=);
  --jp-icon-refresh: url(data:image/svg+xml;base64,PHN2ZyB4bWxucz0iaHR0cDovL3d3dy53My5vcmcvMjAwMC9zdmciIHdpZHRoPSIxNiIgdmlld0JveD0iMCAwIDE4IDE4Ij4KICAgIDxnIGNsYXNzPSJqcC1pY29uMyIgZmlsbD0iIzYxNjE2MSI+CiAgICAgICAgPHBhdGggZD0iTTkgMTMuNWMtMi40OSAwLTQuNS0yLjAxLTQuNS00LjVTNi41MSA0LjUgOSA0LjVjMS4yNCAwIDIuMzYuNTIgMy4xNyAxLjMzTDEwIDhoNVYzbC0xLjc2IDEuNzZDMTIuMTUgMy42OCAxMC42NiAzIDkgMyA1LjY5IDMgMy4wMSA1LjY5IDMuMDEgOVM1LjY5IDE1IDkgMTVjMi45NyAwIDUuNDMtMi4xNiA1LjktNWgtMS41MmMtLjQ2IDItMi4yNCAzLjUtNC4zOCAzLjV6Ii8+CiAgICA8L2c+Cjwvc3ZnPgo=);
  --jp-icon-regex: url(data:image/svg+xml;base64,PHN2ZyB4bWxucz0iaHR0cDovL3d3dy53My5vcmcvMjAwMC9zdmciIHdpZHRoPSIxNiIgdmlld0JveD0iMCAwIDIwIDIwIj4KICA8ZyBjbGFzcz0ianAtaWNvbjIiIGZpbGw9IiM0MTQxNDEiPgogICAgPHJlY3QgeD0iMiIgeT0iMiIgd2lkdGg9IjE2IiBoZWlnaHQ9IjE2Ii8+CiAgPC9nPgoKICA8ZyBjbGFzcz0ianAtaWNvbi1hY2NlbnQyIiBmaWxsPSIjRkZGIj4KICAgIDxjaXJjbGUgY2xhc3M9InN0MiIgY3g9IjUuNSIgY3k9IjE0LjUiIHI9IjEuNSIvPgogICAgPHJlY3QgeD0iMTIiIHk9IjQiIGNsYXNzPSJzdDIiIHdpZHRoPSIxIiBoZWlnaHQ9IjgiLz4KICAgIDxyZWN0IHg9IjguNSIgeT0iNy41IiB0cmFuc2Zvcm09Im1hdHJpeCgwLjg2NiAtMC41IDAuNSAwLjg2NiAtMi4zMjU1IDcuMzIxOSkiIGNsYXNzPSJzdDIiIHdpZHRoPSI4IiBoZWlnaHQ9IjEiLz4KICAgIDxyZWN0IHg9IjEyIiB5PSI0IiB0cmFuc2Zvcm09Im1hdHJpeCgwLjUgLTAuODY2IDAuODY2IDAuNSAtMC42Nzc5IDE0LjgyNTIpIiBjbGFzcz0ic3QyIiB3aWR0aD0iMSIgaGVpZ2h0PSI4Ii8+CiAgPC9nPgo8L3N2Zz4K);
  --jp-icon-run: url(data:image/svg+xml;base64,PHN2ZyBoZWlnaHQ9IjI0IiB2aWV3Qm94PSIwIDAgMjQgMjQiIHdpZHRoPSIyNCIgeG1sbnM9Imh0dHA6Ly93d3cudzMub3JnLzIwMDAvc3ZnIj4KICAgIDxnIGNsYXNzPSJqcC1pY29uMyIgZmlsbD0iIzYxNjE2MSI+CiAgICAgICAgPHBhdGggZD0iTTggNXYxNGwxMS03eiIvPgogICAgPC9nPgo8L3N2Zz4K);
  --jp-icon-running: url(data:image/svg+xml;base64,PHN2ZyB4bWxucz0iaHR0cDovL3d3dy53My5vcmcvMjAwMC9zdmciIHdpZHRoPSIxNiIgdmlld0JveD0iMCAwIDUxMiA1MTIiPgogIDxnIGNsYXNzPSJqcC1pY29uMyIgZmlsbD0iIzYxNjE2MSI+CiAgICA8cGF0aCBkPSJNMjU2IDhDMTE5IDggOCAxMTkgOCAyNTZzMTExIDI0OCAyNDggMjQ4IDI0OC0xMTEgMjQ4LTI0OFMzOTMgOCAyNTYgOHptOTYgMzI4YzAgOC44LTcuMiAxNi0xNiAxNkgxNzZjLTguOCAwLTE2LTcuMi0xNi0xNlYxNzZjMC04LjggNy4yLTE2IDE2LTE2aDE2MGM4LjggMCAxNiA3LjIgMTYgMTZ2MTYweiIvPgogIDwvZz4KPC9zdmc+Cg==);
  --jp-icon-save: url(data:image/svg+xml;base64,PHN2ZyBoZWlnaHQ9IjI0IiB2aWV3Qm94PSIwIDAgMjQgMjQiIHdpZHRoPSIyNCIgeG1sbnM9Imh0dHA6Ly93d3cudzMub3JnLzIwMDAvc3ZnIj4KICAgIDxnIGNsYXNzPSJqcC1pY29uMyIgZmlsbD0iIzYxNjE2MSI+CiAgICAgICAgPHBhdGggZD0iTTE3IDNINWMtMS4xMSAwLTIgLjktMiAydjE0YzAgMS4xLjg5IDIgMiAyaDE0YzEuMSAwIDItLjkgMi0yVjdsLTQtNHptLTUgMTZjLTEuNjYgMC0zLTEuMzQtMy0zczEuMzQtMyAzLTMgMyAxLjM0IDMgMy0xLjM0IDMtMyAzem0zLTEwSDVWNWgxMHY0eiIvPgogICAgPC9nPgo8L3N2Zz4K);
  --jp-icon-search: url(data:image/svg+xml;base64,PHN2ZyB2aWV3Qm94PSIwIDAgMTggMTgiIHdpZHRoPSIxNiIgeG1sbnM9Imh0dHA6Ly93d3cudzMub3JnLzIwMDAvc3ZnIj4KICA8ZyBjbGFzcz0ianAtaWNvbjMiIGZpbGw9IiM2MTYxNjEiPgogICAgPHBhdGggZD0iTTEyLjEsMTAuOWgtMC43bC0wLjItMC4yYzAuOC0wLjksMS4zLTIuMiwxLjMtMy41YzAtMy0yLjQtNS40LTUuNC01LjRTMS44LDQuMiwxLjgsNy4xczIuNCw1LjQsNS40LDUuNCBjMS4zLDAsMi41LTAuNSwzLjUtMS4zbDAuMiwwLjJ2MC43bDQuMSw0LjFsMS4yLTEuMkwxMi4xLDEwLjl6IE03LjEsMTAuOWMtMi4xLDAtMy43LTEuNy0zLjctMy43czEuNy0zLjcsMy43LTMuN3MzLjcsMS43LDMuNywzLjcgUzkuMiwxMC45LDcuMSwxMC45eiIvPgogIDwvZz4KPC9zdmc+Cg==);
  --jp-icon-settings: url(data:image/svg+xml;base64,PHN2ZyB4bWxucz0iaHR0cDovL3d3dy53My5vcmcvMjAwMC9zdmciIHdpZHRoPSIxNiIgdmlld0JveD0iMCAwIDI0IDI0Ij4KICA8cGF0aCBjbGFzcz0ianAtaWNvbjMganAtaWNvbi1zZWxlY3RhYmxlIiBmaWxsPSIjNjE2MTYxIiBkPSJNMTkuNDMgMTIuOThjLjA0LS4zMi4wNy0uNjQuMDctLjk4cy0uMDMtLjY2LS4wNy0uOThsMi4xMS0xLjY1Yy4xOS0uMTUuMjQtLjQyLjEyLS42NGwtMi0zLjQ2Yy0uMTItLjIyLS4zOS0uMy0uNjEtLjIybC0yLjQ5IDFjLS41Mi0uNC0xLjA4LS43My0xLjY5LS45OGwtLjM4LTIuNjVBLjQ4OC40ODggMCAwMDE0IDJoLTRjLS4yNSAwLS40Ni4xOC0uNDkuNDJsLS4zOCAyLjY1Yy0uNjEuMjUtMS4xNy41OS0xLjY5Ljk4bC0yLjQ5LTFjLS4yMy0uMDktLjQ5IDAtLjYxLjIybC0yIDMuNDZjLS4xMy4yMi0uMDcuNDkuMTIuNjRsMi4xMSAxLjY1Yy0uMDQuMzItLjA3LjY1LS4wNy45OHMuMDMuNjYuMDcuOThsLTIuMTEgMS42NWMtLjE5LjE1LS4yNC40Mi0uMTIuNjRsMiAzLjQ2Yy4xMi4yMi4zOS4zLjYxLjIybDIuNDktMWMuNTIuNCAxLjA4LjczIDEuNjkuOThsLjM4IDIuNjVjLjAzLjI0LjI0LjQyLjQ5LjQyaDRjLjI1IDAgLjQ2LS4xOC40OS0uNDJsLjM4LTIuNjVjLjYxLS4yNSAxLjE3LS41OSAxLjY5LS45OGwyLjQ5IDFjLjIzLjA5LjQ5IDAgLjYxLS4yMmwyLTMuNDZjLjEyLS4yMi4wNy0uNDktLjEyLS42NGwtMi4xMS0xLjY1ek0xMiAxNS41Yy0xLjkzIDAtMy41LTEuNTctMy41LTMuNXMxLjU3LTMuNSAzLjUtMy41IDMuNSAxLjU3IDMuNSAzLjUtMS41NyAzLjUtMy41IDMuNXoiLz4KPC9zdmc+Cg==);
  --jp-icon-spreadsheet: url(data:image/svg+xml;base64,PHN2ZyB4bWxucz0iaHR0cDovL3d3dy53My5vcmcvMjAwMC9zdmciIHdpZHRoPSIxNiIgdmlld0JveD0iMCAwIDIyIDIyIj4KICA8cGF0aCBjbGFzcz0ianAtaWNvbi1jb250cmFzdDEganAtaWNvbi1zZWxlY3RhYmxlIiBmaWxsPSIjNENBRjUwIiBkPSJNMi4yIDIuMnYxNy42aDE3LjZWMi4ySDIuMnptMTUuNCA3LjdoLTUuNVY0LjRoNS41djUuNXpNOS45IDQuNHY1LjVINC40VjQuNGg1LjV6bS01LjUgNy43aDUuNXY1LjVINC40di01LjV6bTcuNyA1LjV2LTUuNWg1LjV2NS41aC01LjV6Ii8+Cjwvc3ZnPgo=);
  --jp-icon-stop: url(data:image/svg+xml;base64,PHN2ZyBoZWlnaHQ9IjI0IiB2aWV3Qm94PSIwIDAgMjQgMjQiIHdpZHRoPSIyNCIgeG1sbnM9Imh0dHA6Ly93d3cudzMub3JnLzIwMDAvc3ZnIj4KICAgIDxnIGNsYXNzPSJqcC1pY29uMyIgZmlsbD0iIzYxNjE2MSI+CiAgICAgICAgPHBhdGggZD0iTTAgMGgyNHYyNEgweiIgZmlsbD0ibm9uZSIvPgogICAgICAgIDxwYXRoIGQ9Ik02IDZoMTJ2MTJINnoiLz4KICAgIDwvZz4KPC9zdmc+Cg==);
  --jp-icon-tab: url(data:image/svg+xml;base64,PHN2ZyB4bWxucz0iaHR0cDovL3d3dy53My5vcmcvMjAwMC9zdmciIHdpZHRoPSIxNiIgdmlld0JveD0iMCAwIDI0IDI0Ij4KICA8ZyBjbGFzcz0ianAtaWNvbjMiIGZpbGw9IiM2MTYxNjEiPgogICAgPHBhdGggZD0iTTIxIDNIM2MtMS4xIDAtMiAuOS0yIDJ2MTRjMCAxLjEuOSAyIDIgMmgxOGMxLjEgMCAyLS45IDItMlY1YzAtMS4xLS45LTItMi0yem0wIDE2SDNWNWgxMHY0aDh2MTB6Ii8+CiAgPC9nPgo8L3N2Zz4K);
  --jp-icon-table-rows: url(data:image/svg+xml;base64,PHN2ZyBoZWlnaHQ9IjI0IiB2aWV3Qm94PSIwIDAgMjQgMjQiIHdpZHRoPSIyNCIgeG1sbnM9Imh0dHA6Ly93d3cudzMub3JnLzIwMDAvc3ZnIj4KICAgIDxnIGNsYXNzPSJqcC1pY29uMyIgZmlsbD0iIzYxNjE2MSI+CiAgICAgICAgPHBhdGggZD0iTTAgMGgyNHYyNEgweiIgZmlsbD0ibm9uZSIvPgogICAgICAgIDxwYXRoIGQ9Ik0yMSw4SDNWNGgxOFY4eiBNMjEsMTBIM3Y0aDE4VjEweiBNMjEsMTZIM3Y0aDE4VjE2eiIvPgogICAgPC9nPgo8L3N2Zz4=);
  --jp-icon-tag: url(data:image/svg+xml;base64,PHN2ZyB3aWR0aD0iMjgiIGhlaWdodD0iMjgiIHZpZXdCb3g9IjAgMCA0MyAyOCIgeG1sbnM9Imh0dHA6Ly93d3cudzMub3JnLzIwMDAvc3ZnIj4KCTxnIGNsYXNzPSJqcC1pY29uMyIgZmlsbD0iIzYxNjE2MSI+CgkJPHBhdGggZD0iTTI4LjgzMzIgMTIuMzM0TDMyLjk5OTggMTYuNTAwN0wzNy4xNjY1IDEyLjMzNEgyOC44MzMyWiIvPgoJCTxwYXRoIGQ9Ik0xNi4yMDk1IDIxLjYxMDRDMTUuNjg3MyAyMi4xMjk5IDE0Ljg0NDMgMjIuMTI5OSAxNC4zMjQ4IDIxLjYxMDRMNi45ODI5IDE0LjcyNDVDNi41NzI0IDE0LjMzOTQgNi4wODMxMyAxMy42MDk4IDYuMDQ3ODYgMTMuMDQ4MkM1Ljk1MzQ3IDExLjUyODggNi4wMjAwMiA4LjYxOTQ0IDYuMDY2MjEgNy4wNzY5NUM2LjA4MjgxIDYuNTE0NzcgNi41NTU0OCA2LjA0MzQ3IDcuMTE4MDQgNi4wMzA1NUM5LjA4ODYzIDUuOTg0NzMgMTMuMjYzOCA1LjkzNTc5IDEzLjY1MTggNi4zMjQyNUwyMS43MzY5IDEzLjYzOUMyMi4yNTYgMTQuMTU4NSAyMS43ODUxIDE1LjQ3MjQgMjEuMjYyIDE1Ljk5NDZMMTYuMjA5NSAyMS42MTA0Wk05Ljc3NTg1IDguMjY1QzkuMzM1NTEgNy44MjU2NiA4LjYyMzUxIDcuODI1NjYgOC4xODI4IDguMjY1QzcuNzQzNDYgOC43MDU3MSA3Ljc0MzQ2IDkuNDE3MzMgOC4xODI4IDkuODU2NjdDOC42MjM4MiAxMC4yOTY0IDkuMzM1ODIgMTAuMjk2NCA5Ljc3NTg1IDkuODU2NjdDMTAuMjE1NiA5LjQxNzMzIDEwLjIxNTYgOC43MDUzMyA5Ljc3NTg1IDguMjY1WiIvPgoJPC9nPgo8L3N2Zz4K);
  --jp-icon-terminal: url(data:image/svg+xml;base64,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);
  --jp-icon-text-editor: url(data:image/svg+xml;base64,PHN2ZyB4bWxucz0iaHR0cDovL3d3dy53My5vcmcvMjAwMC9zdmciIHdpZHRoPSIxNiIgdmlld0JveD0iMCAwIDI0IDI0Ij4KICA8cGF0aCBjbGFzcz0ianAtaWNvbjMganAtaWNvbi1zZWxlY3RhYmxlIiBmaWxsPSIjNjE2MTYxIiBkPSJNMTUgMTVIM3YyaDEydi0yem0wLThIM3YyaDEyVjd6TTMgMTNoMTh2LTJIM3Yyem0wIDhoMTh2LTJIM3Yyek0zIDN2MmgxOFYzSDN6Ii8+Cjwvc3ZnPgo=);
  --jp-icon-toc: url(data:image/svg+xml;base64,PHN2ZyB4bWxucz0iaHR0cDovL3d3dy53My5vcmcvMjAwMC9zdmciIHhtbG5zOnhsaW5rPSJodHRwOi8vd3d3LnczLm9yZy8xOTk5L3hsaW5rIiB2ZXJzaW9uPSIxLjEiIHdpZHRoPSIyNCIgaGVpZ2h0PSIyNCIgdmlld0JveD0iMCAwIDI0IDI0IiBjbGFzcz0ianAtaWNvbjMiIGZpbGw9IiM2MTYxNjEiPgoJPHBhdGggZD0iTTcsNUgyMVY3SDdWNU03LDEzVjExSDIxVjEzSDdNNCw0LjVBMS41LDEuNSAwIDAsMSA1LjUsNkExLjUsMS41IDAgMCwxIDQsNy41QTEuNSwxLjUgMCAwLDEgMi41LDZBMS41LDEuNSAwIDAsMSA0LDQuNU00LDEwLjVBMS41LDEuNSAwIDAsMSA1LjUsMTJBMS41LDEuNSAwIDAsMSA0LDEzLjVBMS41LDEuNSAwIDAsMSAyLjUsMTJBMS41LDEuNSAwIDAsMSA0LDEwLjVNNywxOVYxN0gyMVYxOUg3TTQsMTYuNUExLjUsMS41IDAgMCwxIDUuNSwxOEExLjUsMS41IDAgMCwxIDQsMTkuNUExLjUsMS41IDAgMCwxIDIuNSwxOEExLjUsMS41IDAgMCwxIDQsMTYuNVoiIC8+Cjwvc3ZnPgo=);
  --jp-icon-tree-view: url(data:image/svg+xml;base64,PHN2ZyBoZWlnaHQ9IjI0IiB2aWV3Qm94PSIwIDAgMjQgMjQiIHdpZHRoPSIyNCIgeG1sbnM9Imh0dHA6Ly93d3cudzMub3JnLzIwMDAvc3ZnIj4KICAgIDxnIGNsYXNzPSJqcC1pY29uMyIgZmlsbD0iIzYxNjE2MSI+CiAgICAgICAgPHBhdGggZD0iTTAgMGgyNHYyNEgweiIgZmlsbD0ibm9uZSIvPgogICAgICAgIDxwYXRoIGQ9Ik0yMiAxMVYzaC03djNIOVYzSDJ2OGg3VjhoMnYxMGg0djNoN3YtOGgtN3YzaC0yVjhoMnYzeiIvPgogICAgPC9nPgo8L3N2Zz4=);
  --jp-icon-trusted: url(data:image/svg+xml;base64,PHN2ZyBmaWxsPSJub25lIiB4bWxucz0iaHR0cDovL3d3dy53My5vcmcvMjAwMC9zdmciIHdpZHRoPSIxNiIgdmlld0JveD0iMCAwIDI0IDI1Ij4KICAgIDxwYXRoIGNsYXNzPSJqcC1pY29uMiIgc3Ryb2tlPSIjMzMzMzMzIiBzdHJva2Utd2lkdGg9IjIiIHRyYW5zZm9ybT0idHJhbnNsYXRlKDIgMykiIGQ9Ik0xLjg2MDk0IDExLjQ0MDlDMC44MjY0NDggOC43NzAyNyAwLjg2Mzc3OSA2LjA1NzY0IDEuMjQ5MDcgNC4xOTkzMkMyLjQ4MjA2IDMuOTMzNDcgNC4wODA2OCAzLjQwMzQ3IDUuNjAxMDIgMi44NDQ5QzcuMjM1NDkgMi4yNDQ0IDguODU2NjYgMS41ODE1IDkuOTg3NiAxLjA5NTM5QzExLjA1OTcgMS41ODM0MSAxMi42MDk0IDIuMjQ0NCAxNC4yMTggMi44NDMzOUMxNS43NTAzIDMuNDEzOTQgMTcuMzk5NSAzLjk1MjU4IDE4Ljc1MzkgNC4yMTM4NUMxOS4xMzY0IDYuMDcxNzcgMTkuMTcwOSA4Ljc3NzIyIDE4LjEzOSAxMS40NDA5QzE3LjAzMDMgMTQuMzAzMiAxNC42NjY4IDE3LjE4NDQgOS45OTk5OSAxOC45MzU0QzUuMzMzMiAxNy4xODQ0IDIuOTY5NjggMTQuMzAzMiAxLjg2MDk0IDExLjQ0MDlaIi8+CiAgICA8cGF0aCBjbGFzcz0ianAtaWNvbjIiIGZpbGw9IiMzMzMzMzMiIHN0cm9rZT0iIzMzMzMzMyIgdHJhbnNmb3JtPSJ0cmFuc2xhdGUoOCA5Ljg2NzE5KSIgZD0iTTIuODYwMTUgNC44NjUzNUwwLjcyNjU0OSAyLjk5OTU5TDAgMy42MzA0NUwyLjg2MDE1IDYuMTMxNTdMOCAwLjYzMDg3Mkw3LjI3ODU3IDBMMi44NjAxNSA0Ljg2NTM1WiIvPgo8L3N2Zz4K);
  --jp-icon-undo: url(data:image/svg+xml;base64,PHN2ZyB2aWV3Qm94PSIwIDAgMjQgMjQiIHdpZHRoPSIxNiIgeG1sbnM9Imh0dHA6Ly93d3cudzMub3JnLzIwMDAvc3ZnIj4KICA8ZyBjbGFzcz0ianAtaWNvbjMiIGZpbGw9IiM2MTYxNjEiPgogICAgPHBhdGggZD0iTTEyLjUgOGMtMi42NSAwLTUuMDUuOTktNi45IDIuNkwyIDd2OWg5bC0zLjYyLTMuNjJjMS4zOS0xLjE2IDMuMTYtMS44OCA1LjEyLTEuODggMy41NCAwIDYuNTUgMi4zMSA3LjYgNS41bDIuMzctLjc4QzIxLjA4IDExLjAzIDE3LjE1IDggMTIuNSA4eiIvPgogIDwvZz4KPC9zdmc+Cg==);
  --jp-icon-vega: url(data:image/svg+xml;base64,PHN2ZyB4bWxucz0iaHR0cDovL3d3dy53My5vcmcvMjAwMC9zdmciIHdpZHRoPSIxNiIgdmlld0JveD0iMCAwIDIyIDIyIj4KICA8ZyBjbGFzcz0ianAtaWNvbjEganAtaWNvbi1zZWxlY3RhYmxlIiBmaWxsPSIjMjEyMTIxIj4KICAgIDxwYXRoIGQ9Ik0xMC42IDUuNGwyLjItMy4ySDIuMnY3LjNsNC02LjZ6Ii8+CiAgICA8cGF0aCBkPSJNMTUuOCAyLjJsLTQuNCA2LjZMNyA2LjNsLTQuOCA4djUuNWgxNy42VjIuMmgtNHptLTcgMTUuNEg1LjV2LTQuNGgzLjN2NC40em00LjQgMEg5LjhWOS44aDMuNHY3Ljh6bTQuNCAwaC0zLjRWNi41aDMuNHYxMS4xeiIvPgogIDwvZz4KPC9zdmc+Cg==);
  --jp-icon-yaml: url(data:image/svg+xml;base64,PHN2ZyB4bWxucz0iaHR0cDovL3d3dy53My5vcmcvMjAwMC9zdmciIHdpZHRoPSIxNiIgdmlld0JveD0iMCAwIDIyIDIyIj4KICA8ZyBjbGFzcz0ianAtaWNvbi1jb250cmFzdDIganAtaWNvbi1zZWxlY3RhYmxlIiBmaWxsPSIjRDgxQjYwIj4KICAgIDxwYXRoIGQ9Ik03LjIgMTguNnYtNS40TDMgNS42aDMuM2wxLjQgMy4xYy4zLjkuNiAxLjYgMSAyLjUuMy0uOC42LTEuNiAxLTIuNWwxLjQtMy4xaDMuNGwtNC40IDcuNnY1LjVsLTIuOS0uMXoiLz4KICAgIDxjaXJjbGUgY2xhc3M9InN0MCIgY3g9IjE3LjYiIGN5PSIxNi41IiByPSIyLjEiLz4KICAgIDxjaXJjbGUgY2xhc3M9InN0MCIgY3g9IjE3LjYiIGN5PSIxMSIgcj0iMi4xIi8+CiAgPC9nPgo8L3N2Zz4K);
}

/* Icon CSS class declarations */

.jp-AddIcon {
  background-image: var(--jp-icon-add);
}
.jp-BugIcon {
  background-image: var(--jp-icon-bug);
}
.jp-BuildIcon {
  background-image: var(--jp-icon-build);
}
.jp-CaretDownEmptyIcon {
  background-image: var(--jp-icon-caret-down-empty);
}
.jp-CaretDownEmptyThinIcon {
  background-image: var(--jp-icon-caret-down-empty-thin);
}
.jp-CaretDownIcon {
  background-image: var(--jp-icon-caret-down);
}
.jp-CaretLeftIcon {
  background-image: var(--jp-icon-caret-left);
}
.jp-CaretRightIcon {
  background-image: var(--jp-icon-caret-right);
}
.jp-CaretUpEmptyThinIcon {
  background-image: var(--jp-icon-caret-up-empty-thin);
}
.jp-CaretUpIcon {
  background-image: var(--jp-icon-caret-up);
}
.jp-CaseSensitiveIcon {
  background-image: var(--jp-icon-case-sensitive);
}
.jp-CheckIcon {
  background-image: var(--jp-icon-check);
}
.jp-CircleEmptyIcon {
  background-image: var(--jp-icon-circle-empty);
}
.jp-CircleIcon {
  background-image: var(--jp-icon-circle);
}
.jp-ClearIcon {
  background-image: var(--jp-icon-clear);
}
.jp-CloseIcon {
  background-image: var(--jp-icon-close);
}
.jp-CodeIcon {
  background-image: var(--jp-icon-code);
}
.jp-ConsoleIcon {
  background-image: var(--jp-icon-console);
}
.jp-CopyIcon {
  background-image: var(--jp-icon-copy);
}
.jp-CutIcon {
  background-image: var(--jp-icon-cut);
}
.jp-DownloadIcon {
  background-image: var(--jp-icon-download);
}
.jp-EditIcon {
  background-image: var(--jp-icon-edit);
}
.jp-EllipsesIcon {
  background-image: var(--jp-icon-ellipses);
}
.jp-ExtensionIcon {
  background-image: var(--jp-icon-extension);
}
.jp-FastForwardIcon {
  background-image: var(--jp-icon-fast-forward);
}
.jp-FileIcon {
  background-image: var(--jp-icon-file);
}
.jp-FileUploadIcon {
  background-image: var(--jp-icon-file-upload);
}
.jp-FilterListIcon {
  background-image: var(--jp-icon-filter-list);
}
.jp-FolderIcon {
  background-image: var(--jp-icon-folder);
}
.jp-Html5Icon {
  background-image: var(--jp-icon-html5);
}
.jp-ImageIcon {
  background-image: var(--jp-icon-image);
}
.jp-InspectorIcon {
  background-image: var(--jp-icon-inspector);
}
.jp-JsonIcon {
  background-image: var(--jp-icon-json);
}
.jp-JupyterFaviconIcon {
  background-image: var(--jp-icon-jupyter-favicon);
}
.jp-JupyterIcon {
  background-image: var(--jp-icon-jupyter);
}
.jp-JupyterlabWordmarkIcon {
  background-image: var(--jp-icon-jupyterlab-wordmark);
}
.jp-KernelIcon {
  background-image: var(--jp-icon-kernel);
}
.jp-KeyboardIcon {
  background-image: var(--jp-icon-keyboard);
}
.jp-LauncherIcon {
  background-image: var(--jp-icon-launcher);
}
.jp-LineFormIcon {
  background-image: var(--jp-icon-line-form);
}
.jp-LinkIcon {
  background-image: var(--jp-icon-link);
}
.jp-ListIcon {
  background-image: var(--jp-icon-list);
}
.jp-ListingsInfoIcon {
  background-image: var(--jp-icon-listings-info);
}
.jp-MarkdownIcon {
  background-image: var(--jp-icon-markdown);
}
.jp-NewFolderIcon {
  background-image: var(--jp-icon-new-folder);
}
.jp-NotTrustedIcon {
  background-image: var(--jp-icon-not-trusted);
}
.jp-NotebookIcon {
  background-image: var(--jp-icon-notebook);
}
.jp-NumberingIcon {
  background-image: var(--jp-icon-numbering);
}
.jp-OfflineBoltIcon {
  background-image: var(--jp-icon-offline-bolt);
}
.jp-PaletteIcon {
  background-image: var(--jp-icon-palette);
}
.jp-PasteIcon {
  background-image: var(--jp-icon-paste);
}
.jp-PdfIcon {
  background-image: var(--jp-icon-pdf);
}
.jp-PythonIcon {
  background-image: var(--jp-icon-python);
}
.jp-RKernelIcon {
  background-image: var(--jp-icon-r-kernel);
}
.jp-ReactIcon {
  background-image: var(--jp-icon-react);
}
.jp-RedoIcon {
  background-image: var(--jp-icon-redo);
}
.jp-RefreshIcon {
  background-image: var(--jp-icon-refresh);
}
.jp-RegexIcon {
  background-image: var(--jp-icon-regex);
}
.jp-RunIcon {
  background-image: var(--jp-icon-run);
}
.jp-RunningIcon {
  background-image: var(--jp-icon-running);
}
.jp-SaveIcon {
  background-image: var(--jp-icon-save);
}
.jp-SearchIcon {
  background-image: var(--jp-icon-search);
}
.jp-SettingsIcon {
  background-image: var(--jp-icon-settings);
}
.jp-SpreadsheetIcon {
  background-image: var(--jp-icon-spreadsheet);
}
.jp-StopIcon {
  background-image: var(--jp-icon-stop);
}
.jp-TabIcon {
  background-image: var(--jp-icon-tab);
}
.jp-TableRowsIcon {
  background-image: var(--jp-icon-table-rows);
}
.jp-TagIcon {
  background-image: var(--jp-icon-tag);
}
.jp-TerminalIcon {
  background-image: var(--jp-icon-terminal);
}
.jp-TextEditorIcon {
  background-image: var(--jp-icon-text-editor);
}
.jp-TocIcon {
  background-image: var(--jp-icon-toc);
}
.jp-TreeViewIcon {
  background-image: var(--jp-icon-tree-view);
}
.jp-TrustedIcon {
  background-image: var(--jp-icon-trusted);
}
.jp-UndoIcon {
  background-image: var(--jp-icon-undo);
}
.jp-VegaIcon {
  background-image: var(--jp-icon-vega);
}
.jp-YamlIcon {
  background-image: var(--jp-icon-yaml);
}

/*-----------------------------------------------------------------------------
| Copyright (c) Jupyter Development Team.
| Distributed under the terms of the Modified BSD License.
|----------------------------------------------------------------------------*/

/**
 * (DEPRECATED) Support for consuming icons as CSS background images
 */

:root {
  --jp-icon-search-white: url(data:image/svg+xml;base64,PHN2ZyB2aWV3Qm94PSIwIDAgMTggMTgiIHdpZHRoPSIxNiIgeG1sbnM9Imh0dHA6Ly93d3cudzMub3JnLzIwMDAvc3ZnIj4KICA8ZyBjbGFzcz0ianAtaWNvbjMiIGZpbGw9IiM2MTYxNjEiPgogICAgPHBhdGggZD0iTTEyLjEsMTAuOWgtMC43bC0wLjItMC4yYzAuOC0wLjksMS4zLTIuMiwxLjMtMy41YzAtMy0yLjQtNS40LTUuNC01LjRTMS44LDQuMiwxLjgsNy4xczIuNCw1LjQsNS40LDUuNCBjMS4zLDAsMi41LTAuNSwzLjUtMS4zbDAuMiwwLjJ2MC43bDQuMSw0LjFsMS4yLTEuMkwxMi4xLDEwLjl6IE03LjEsMTAuOWMtMi4xLDAtMy43LTEuNy0zLjctMy43czEuNy0zLjcsMy43LTMuN3MzLjcsMS43LDMuNywzLjcgUzkuMiwxMC45LDcuMSwxMC45eiIvPgogIDwvZz4KPC9zdmc+Cg==);
}

.jp-Icon,
.jp-MaterialIcon {
  background-position: center;
  background-repeat: no-repeat;
  background-size: 16px;
  min-width: 16px;
  min-height: 16px;
}

.jp-Icon-cover {
  background-position: center;
  background-repeat: no-repeat;
  background-size: cover;
}

/**
 * (DEPRECATED) Support for specific CSS icon sizes
 */

.jp-Icon-16 {
  background-size: 16px;
  min-width: 16px;
  min-height: 16px;
}

.jp-Icon-18 {
  background-size: 18px;
  min-width: 18px;
  min-height: 18px;
}

.jp-Icon-20 {
  background-size: 20px;
  min-width: 20px;
  min-height: 20px;
}

/*-----------------------------------------------------------------------------
| Copyright (c) Jupyter Development Team.
| Distributed under the terms of the Modified BSD License.
|----------------------------------------------------------------------------*/

/**
 * Support for icons as inline SVG HTMLElements
 */

/* recolor the primary elements of an icon */
.jp-icon0[fill] {
  fill: var(--jp-inverse-layout-color0);
}
.jp-icon1[fill] {
  fill: var(--jp-inverse-layout-color1);
}
.jp-icon2[fill] {
  fill: var(--jp-inverse-layout-color2);
}
.jp-icon3[fill] {
  fill: var(--jp-inverse-layout-color3);
}
.jp-icon4[fill] {
  fill: var(--jp-inverse-layout-color4);
}

.jp-icon0[stroke] {
  stroke: var(--jp-inverse-layout-color0);
}
.jp-icon1[stroke] {
  stroke: var(--jp-inverse-layout-color1);
}
.jp-icon2[stroke] {
  stroke: var(--jp-inverse-layout-color2);
}
.jp-icon3[stroke] {
  stroke: var(--jp-inverse-layout-color3);
}
.jp-icon4[stroke] {
  stroke: var(--jp-inverse-layout-color4);
}
/* recolor the accent elements of an icon */
.jp-icon-accent0[fill] {
  fill: var(--jp-layout-color0);
}
.jp-icon-accent1[fill] {
  fill: var(--jp-layout-color1);
}
.jp-icon-accent2[fill] {
  fill: var(--jp-layout-color2);
}
.jp-icon-accent3[fill] {
  fill: var(--jp-layout-color3);
}
.jp-icon-accent4[fill] {
  fill: var(--jp-layout-color4);
}

.jp-icon-accent0[stroke] {
  stroke: var(--jp-layout-color0);
}
.jp-icon-accent1[stroke] {
  stroke: var(--jp-layout-color1);
}
.jp-icon-accent2[stroke] {
  stroke: var(--jp-layout-color2);
}
.jp-icon-accent3[stroke] {
  stroke: var(--jp-layout-color3);
}
.jp-icon-accent4[stroke] {
  stroke: var(--jp-layout-color4);
}
/* set the color of an icon to transparent */
.jp-icon-none[fill] {
  fill: none;
}

.jp-icon-none[stroke] {
  stroke: none;
}
/* brand icon colors. Same for light and dark */
.jp-icon-brand0[fill] {
  fill: var(--jp-brand-color0);
}
.jp-icon-brand1[fill] {
  fill: var(--jp-brand-color1);
}
.jp-icon-brand2[fill] {
  fill: var(--jp-brand-color2);
}
.jp-icon-brand3[fill] {
  fill: var(--jp-brand-color3);
}
.jp-icon-brand4[fill] {
  fill: var(--jp-brand-color4);
}

.jp-icon-brand0[stroke] {
  stroke: var(--jp-brand-color0);
}
.jp-icon-brand1[stroke] {
  stroke: var(--jp-brand-color1);
}
.jp-icon-brand2[stroke] {
  stroke: var(--jp-brand-color2);
}
.jp-icon-brand3[stroke] {
  stroke: var(--jp-brand-color3);
}
.jp-icon-brand4[stroke] {
  stroke: var(--jp-brand-color4);
}
/* warn icon colors. Same for light and dark */
.jp-icon-warn0[fill] {
  fill: var(--jp-warn-color0);
}
.jp-icon-warn1[fill] {
  fill: var(--jp-warn-color1);
}
.jp-icon-warn2[fill] {
  fill: var(--jp-warn-color2);
}
.jp-icon-warn3[fill] {
  fill: var(--jp-warn-color3);
}

.jp-icon-warn0[stroke] {
  stroke: var(--jp-warn-color0);
}
.jp-icon-warn1[stroke] {
  stroke: var(--jp-warn-color1);
}
.jp-icon-warn2[stroke] {
  stroke: var(--jp-warn-color2);
}
.jp-icon-warn3[stroke] {
  stroke: var(--jp-warn-color3);
}
/* icon colors that contrast well with each other and most backgrounds */
.jp-icon-contrast0[fill] {
  fill: var(--jp-icon-contrast-color0);
}
.jp-icon-contrast1[fill] {
  fill: var(--jp-icon-contrast-color1);
}
.jp-icon-contrast2[fill] {
  fill: var(--jp-icon-contrast-color2);
}
.jp-icon-contrast3[fill] {
  fill: var(--jp-icon-contrast-color3);
}

.jp-icon-contrast0[stroke] {
  stroke: var(--jp-icon-contrast-color0);
}
.jp-icon-contrast1[stroke] {
  stroke: var(--jp-icon-contrast-color1);
}
.jp-icon-contrast2[stroke] {
  stroke: var(--jp-icon-contrast-color2);
}
.jp-icon-contrast3[stroke] {
  stroke: var(--jp-icon-contrast-color3);
}

/* CSS for icons in selected items in the settings editor */
#setting-editor .jp-PluginList .jp-mod-selected .jp-icon-selectable[fill] {
  fill: #fff;
}
#setting-editor
  .jp-PluginList
  .jp-mod-selected
  .jp-icon-selectable-inverse[fill] {
  fill: var(--jp-brand-color1);
}

/* CSS for icons in selected filebrowser listing items */
.jp-DirListing-item.jp-mod-selected .jp-icon-selectable[fill] {
  fill: #fff;
}
.jp-DirListing-item.jp-mod-selected .jp-icon-selectable-inverse[fill] {
  fill: var(--jp-brand-color1);
}

/* CSS for icons in selected tabs in the sidebar tab manager */
#tab-manager .lm-TabBar-tab.jp-mod-active .jp-icon-selectable[fill] {
  fill: #fff;
}

#tab-manager .lm-TabBar-tab.jp-mod-active .jp-icon-selectable-inverse[fill] {
  fill: var(--jp-brand-color1);
}
#tab-manager
  .lm-TabBar-tab.jp-mod-active
  .jp-icon-hover
  :hover
  .jp-icon-selectable[fill] {
  fill: var(--jp-brand-color1);
}

#tab-manager
  .lm-TabBar-tab.jp-mod-active
  .jp-icon-hover
  :hover
  .jp-icon-selectable-inverse[fill] {
  fill: #fff;
}

/**
 * TODO: come up with non css-hack solution for showing the busy icon on top
 *  of the close icon
 * CSS for complex behavior of close icon of tabs in the sidebar tab manager
 */
#tab-manager
  .lm-TabBar-tab.jp-mod-dirty
  > .lm-TabBar-tabCloseIcon
  > :not(:hover)
  > .jp-icon3[fill] {
  fill: none;
}
#tab-manager
  .lm-TabBar-tab.jp-mod-dirty
  > .lm-TabBar-tabCloseIcon
  > :not(:hover)
  > .jp-icon-busy[fill] {
  fill: var(--jp-inverse-layout-color3);
}

#tab-manager
  .lm-TabBar-tab.jp-mod-dirty.jp-mod-active
  > .lm-TabBar-tabCloseIcon
  > :not(:hover)
  > .jp-icon-busy[fill] {
  fill: #fff;
}

/**
* TODO: come up with non css-hack solution for showing the busy icon on top
*  of the close icon
* CSS for complex behavior of close icon of tabs in the main area tabbar
*/
.lm-DockPanel-tabBar
  .lm-TabBar-tab.lm-mod-closable.jp-mod-dirty
  > .lm-TabBar-tabCloseIcon
  > :not(:hover)
  > .jp-icon3[fill] {
  fill: none;
}
.lm-DockPanel-tabBar
  .lm-TabBar-tab.lm-mod-closable.jp-mod-dirty
  > .lm-TabBar-tabCloseIcon
  > :not(:hover)
  > .jp-icon-busy[fill] {
  fill: var(--jp-inverse-layout-color3);
}

/* CSS for icons in status bar */
#jp-main-statusbar .jp-mod-selected .jp-icon-selectable[fill] {
  fill: #fff;
}

#jp-main-statusbar .jp-mod-selected .jp-icon-selectable-inverse[fill] {
  fill: var(--jp-brand-color1);
}
/* special handling for splash icon CSS. While the theme CSS reloads during
   splash, the splash icon can loose theming. To prevent that, we set a
   default for its color variable */
:root {
  --jp-warn-color0: var(--md-orange-700);
}

/* not sure what to do with this one, used in filebrowser listing */
.jp-DragIcon {
  margin-right: 4px;
}

/*-----------------------------------------------------------------------------
| Copyright (c) Jupyter Development Team.
| Distributed under the terms of the Modified BSD License.
|----------------------------------------------------------------------------*/

/**
 * Support for alt colors for icons as inline SVG HTMLElements
 */

/* alt recolor the primary elements of an icon */
.jp-icon-alt .jp-icon0[fill] {
  fill: var(--jp-layout-color0);
}
.jp-icon-alt .jp-icon1[fill] {
  fill: var(--jp-layout-color1);
}
.jp-icon-alt .jp-icon2[fill] {
  fill: var(--jp-layout-color2);
}
.jp-icon-alt .jp-icon3[fill] {
  fill: var(--jp-layout-color3);
}
.jp-icon-alt .jp-icon4[fill] {
  fill: var(--jp-layout-color4);
}

.jp-icon-alt .jp-icon0[stroke] {
  stroke: var(--jp-layout-color0);
}
.jp-icon-alt .jp-icon1[stroke] {
  stroke: var(--jp-layout-color1);
}
.jp-icon-alt .jp-icon2[stroke] {
  stroke: var(--jp-layout-color2);
}
.jp-icon-alt .jp-icon3[stroke] {
  stroke: var(--jp-layout-color3);
}
.jp-icon-alt .jp-icon4[stroke] {
  stroke: var(--jp-layout-color4);
}

/* alt recolor the accent elements of an icon */
.jp-icon-alt .jp-icon-accent0[fill] {
  fill: var(--jp-inverse-layout-color0);
}
.jp-icon-alt .jp-icon-accent1[fill] {
  fill: var(--jp-inverse-layout-color1);
}
.jp-icon-alt .jp-icon-accent2[fill] {
  fill: var(--jp-inverse-layout-color2);
}
.jp-icon-alt .jp-icon-accent3[fill] {
  fill: var(--jp-inverse-layout-color3);
}
.jp-icon-alt .jp-icon-accent4[fill] {
  fill: var(--jp-inverse-layout-color4);
}

.jp-icon-alt .jp-icon-accent0[stroke] {
  stroke: var(--jp-inverse-layout-color0);
}
.jp-icon-alt .jp-icon-accent1[stroke] {
  stroke: var(--jp-inverse-layout-color1);
}
.jp-icon-alt .jp-icon-accent2[stroke] {
  stroke: var(--jp-inverse-layout-color2);
}
.jp-icon-alt .jp-icon-accent3[stroke] {
  stroke: var(--jp-inverse-layout-color3);
}
.jp-icon-alt .jp-icon-accent4[stroke] {
  stroke: var(--jp-inverse-layout-color4);
}

/*-----------------------------------------------------------------------------
| Copyright (c) Jupyter Development Team.
| Distributed under the terms of the Modified BSD License.
|----------------------------------------------------------------------------*/

.jp-icon-hoverShow:not(:hover) svg {
  display: none !important;
}

/**
 * Support for hover colors for icons as inline SVG HTMLElements
 */

/**
 * regular colors
 */

/* recolor the primary elements of an icon */
.jp-icon-hover :hover .jp-icon0-hover[fill] {
  fill: var(--jp-inverse-layout-color0);
}
.jp-icon-hover :hover .jp-icon1-hover[fill] {
  fill: var(--jp-inverse-layout-color1);
}
.jp-icon-hover :hover .jp-icon2-hover[fill] {
  fill: var(--jp-inverse-layout-color2);
}
.jp-icon-hover :hover .jp-icon3-hover[fill] {
  fill: var(--jp-inverse-layout-color3);
}
.jp-icon-hover :hover .jp-icon4-hover[fill] {
  fill: var(--jp-inverse-layout-color4);
}

.jp-icon-hover :hover .jp-icon0-hover[stroke] {
  stroke: var(--jp-inverse-layout-color0);
}
.jp-icon-hover :hover .jp-icon1-hover[stroke] {
  stroke: var(--jp-inverse-layout-color1);
}
.jp-icon-hover :hover .jp-icon2-hover[stroke] {
  stroke: var(--jp-inverse-layout-color2);
}
.jp-icon-hover :hover .jp-icon3-hover[stroke] {
  stroke: var(--jp-inverse-layout-color3);
}
.jp-icon-hover :hover .jp-icon4-hover[stroke] {
  stroke: var(--jp-inverse-layout-color4);
}

/* recolor the accent elements of an icon */
.jp-icon-hover :hover .jp-icon-accent0-hover[fill] {
  fill: var(--jp-layout-color0);
}
.jp-icon-hover :hover .jp-icon-accent1-hover[fill] {
  fill: var(--jp-layout-color1);
}
.jp-icon-hover :hover .jp-icon-accent2-hover[fill] {
  fill: var(--jp-layout-color2);
}
.jp-icon-hover :hover .jp-icon-accent3-hover[fill] {
  fill: var(--jp-layout-color3);
}
.jp-icon-hover :hover .jp-icon-accent4-hover[fill] {
  fill: var(--jp-layout-color4);
}

.jp-icon-hover :hover .jp-icon-accent0-hover[stroke] {
  stroke: var(--jp-layout-color0);
}
.jp-icon-hover :hover .jp-icon-accent1-hover[stroke] {
  stroke: var(--jp-layout-color1);
}
.jp-icon-hover :hover .jp-icon-accent2-hover[stroke] {
  stroke: var(--jp-layout-color2);
}
.jp-icon-hover :hover .jp-icon-accent3-hover[stroke] {
  stroke: var(--jp-layout-color3);
}
.jp-icon-hover :hover .jp-icon-accent4-hover[stroke] {
  stroke: var(--jp-layout-color4);
}

/* set the color of an icon to transparent */
.jp-icon-hover :hover .jp-icon-none-hover[fill] {
  fill: none;
}

.jp-icon-hover :hover .jp-icon-none-hover[stroke] {
  stroke: none;
}

/**
 * inverse colors
 */

/* inverse recolor the primary elements of an icon */
.jp-icon-hover.jp-icon-alt :hover .jp-icon0-hover[fill] {
  fill: var(--jp-layout-color0);
}
.jp-icon-hover.jp-icon-alt :hover .jp-icon1-hover[fill] {
  fill: var(--jp-layout-color1);
}
.jp-icon-hover.jp-icon-alt :hover .jp-icon2-hover[fill] {
  fill: var(--jp-layout-color2);
}
.jp-icon-hover.jp-icon-alt :hover .jp-icon3-hover[fill] {
  fill: var(--jp-layout-color3);
}
.jp-icon-hover.jp-icon-alt :hover .jp-icon4-hover[fill] {
  fill: var(--jp-layout-color4);
}

.jp-icon-hover.jp-icon-alt :hover .jp-icon0-hover[stroke] {
  stroke: var(--jp-layout-color0);
}
.jp-icon-hover.jp-icon-alt :hover .jp-icon1-hover[stroke] {
  stroke: var(--jp-layout-color1);
}
.jp-icon-hover.jp-icon-alt :hover .jp-icon2-hover[stroke] {
  stroke: var(--jp-layout-color2);
}
.jp-icon-hover.jp-icon-alt :hover .jp-icon3-hover[stroke] {
  stroke: var(--jp-layout-color3);
}
.jp-icon-hover.jp-icon-alt :hover .jp-icon4-hover[stroke] {
  stroke: var(--jp-layout-color4);
}

/* inverse recolor the accent elements of an icon */
.jp-icon-hover.jp-icon-alt :hover .jp-icon-accent0-hover[fill] {
  fill: var(--jp-inverse-layout-color0);
}
.jp-icon-hover.jp-icon-alt :hover .jp-icon-accent1-hover[fill] {
  fill: var(--jp-inverse-layout-color1);
}
.jp-icon-hover.jp-icon-alt :hover .jp-icon-accent2-hover[fill] {
  fill: var(--jp-inverse-layout-color2);
}
.jp-icon-hover.jp-icon-alt :hover .jp-icon-accent3-hover[fill] {
  fill: var(--jp-inverse-layout-color3);
}
.jp-icon-hover.jp-icon-alt :hover .jp-icon-accent4-hover[fill] {
  fill: var(--jp-inverse-layout-color4);
}

.jp-icon-hover.jp-icon-alt :hover .jp-icon-accent0-hover[stroke] {
  stroke: var(--jp-inverse-layout-color0);
}
.jp-icon-hover.jp-icon-alt :hover .jp-icon-accent1-hover[stroke] {
  stroke: var(--jp-inverse-layout-color1);
}
.jp-icon-hover.jp-icon-alt :hover .jp-icon-accent2-hover[stroke] {
  stroke: var(--jp-inverse-layout-color2);
}
.jp-icon-hover.jp-icon-alt :hover .jp-icon-accent3-hover[stroke] {
  stroke: var(--jp-inverse-layout-color3);
}
.jp-icon-hover.jp-icon-alt :hover .jp-icon-accent4-hover[stroke] {
  stroke: var(--jp-inverse-layout-color4);
}

/*-----------------------------------------------------------------------------
| Copyright (c) Jupyter Development Team.
| Distributed under the terms of the Modified BSD License.
|----------------------------------------------------------------------------*/

.jp-switch {
  display: flex;
  align-items: center;
  padding-left: 4px;
  padding-right: 4px;
  font-size: var(--jp-ui-font-size1);
  background-color: transparent;
  color: var(--jp-ui-font-color1);
  border: none;
  height: 20px;
}

.jp-switch:hover {
  background-color: var(--jp-layout-color2);
}

.jp-switch-label {
  margin-right: 5px;
}

.jp-switch-track {
  cursor: pointer;
  background-color: var(--jp-border-color1);
  -webkit-transition: 0.4s;
  transition: 0.4s;
  border-radius: 34px;
  height: 16px;
  width: 35px;
  position: relative;
}

.jp-switch-track::before {
  content: '';
  position: absolute;
  height: 10px;
  width: 10px;
  margin: 3px;
  left: 0px;
  background-color: var(--jp-ui-inverse-font-color1);
  -webkit-transition: 0.4s;
  transition: 0.4s;
  border-radius: 50%;
}

.jp-switch[aria-checked='true'] .jp-switch-track {
  background-color: var(--jp-warn-color0);
}

.jp-switch[aria-checked='true'] .jp-switch-track::before {
  /* track width (35) - margins (3 + 3) - thumb width (10) */
  left: 19px;
}

/*-----------------------------------------------------------------------------
| Copyright (c) Jupyter Development Team.
| Distributed under the terms of the Modified BSD License.
|----------------------------------------------------------------------------*/

/* Sibling imports */

/* Override Blueprint's _reset.scss styles */
html {
  box-sizing: unset;
}

*,
*::before,
*::after {
  box-sizing: unset;
}

body {
  color: unset;
  font-family: var(--jp-ui-font-family);
}

p {
  margin-top: unset;
  margin-bottom: unset;
}

small {
  font-size: unset;
}

strong {
  font-weight: unset;
}

/* Override Blueprint's _typography.scss styles */
a {
  text-decoration: unset;
  color: unset;
}
a:hover {
  text-decoration: unset;
  color: unset;
}

/* Override Blueprint's _accessibility.scss styles */
:focus {
  outline: unset;
  outline-offset: unset;
  -moz-outline-radius: unset;
}

/* Styles for ui-components */
.jp-Button {
  border-radius: var(--jp-border-radius);
  padding: 0px 12px;
  font-size: var(--jp-ui-font-size1);
}

/* Use our own theme for hover styles */
button.jp-Button.bp3-button.bp3-minimal:hover {
  background-color: var(--jp-layout-color2);
}
.jp-Button.minimal {
  color: unset !important;
}

.jp-Button.jp-ToolbarButtonComponent {
  text-transform: none;
}

.jp-InputGroup input {
  box-sizing: border-box;
  border-radius: 0;
  background-color: transparent;
  color: var(--jp-ui-font-color0);
  box-shadow: inset 0 0 0 var(--jp-border-width) var(--jp-input-border-color);
}

.jp-InputGroup input:focus {
  box-shadow: inset 0 0 0 var(--jp-border-width)
      var(--jp-input-active-box-shadow-color),
    inset 0 0 0 3px var(--jp-input-active-box-shadow-color);
}

.jp-InputGroup input::placeholder,
input::placeholder {
  color: var(--jp-ui-font-color3);
}

.jp-BPIcon {
  display: inline-block;
  vertical-align: middle;
  margin: auto;
}

/* Stop blueprint futzing with our icon fills */
.bp3-icon.jp-BPIcon > svg:not([fill]) {
  fill: var(--jp-inverse-layout-color3);
}

.jp-InputGroupAction {
  padding: 6px;
}

.jp-HTMLSelect.jp-DefaultStyle select {
  background-color: initial;
  border: none;
  border-radius: 0;
  box-shadow: none;
  color: var(--jp-ui-font-color0);
  display: block;
  font-size: var(--jp-ui-font-size1);
  height: 24px;
  line-height: 14px;
  padding: 0 25px 0 10px;
  text-align: left;
  -moz-appearance: none;
  -webkit-appearance: none;
}

/* Use our own theme for hover and option styles */
.jp-HTMLSelect.jp-DefaultStyle select:hover,
.jp-HTMLSelect.jp-DefaultStyle select > option {
  background-color: var(--jp-layout-color2);
  color: var(--jp-ui-font-color0);
}
select {
  box-sizing: border-box;
}

/*-----------------------------------------------------------------------------
| Copyright (c) Jupyter Development Team.
| Distributed under the terms of the Modified BSD License.
|----------------------------------------------------------------------------*/

.jp-Collapse {
  display: flex;
  flex-direction: column;
  align-items: stretch;
  border-top: 1px solid var(--jp-border-color2);
  border-bottom: 1px solid var(--jp-border-color2);
}

.jp-Collapse-header {
  padding: 1px 12px;
  color: var(--jp-ui-font-color1);
  background-color: var(--jp-layout-color1);
  font-size: var(--jp-ui-font-size2);
}

.jp-Collapse-header:hover {
  background-color: var(--jp-layout-color2);
}

.jp-Collapse-contents {
  padding: 0px 12px 0px 12px;
  background-color: var(--jp-layout-color1);
  color: var(--jp-ui-font-color1);
  overflow: auto;
}

/*-----------------------------------------------------------------------------
| Copyright (c) Jupyter Development Team.
| Distributed under the terms of the Modified BSD License.
|----------------------------------------------------------------------------*/

/*-----------------------------------------------------------------------------
| Variables
|----------------------------------------------------------------------------*/

:root {
  --jp-private-commandpalette-search-height: 28px;
}

/*-----------------------------------------------------------------------------
| Overall styles
|----------------------------------------------------------------------------*/

.lm-CommandPalette {
  padding-bottom: 0px;
  color: var(--jp-ui-font-color1);
  background: var(--jp-layout-color1);
  /* This is needed so that all font sizing of children done in ems is
   * relative to this base size */
  font-size: var(--jp-ui-font-size1);
}

/*-----------------------------------------------------------------------------
| Modal variant
|----------------------------------------------------------------------------*/

.jp-ModalCommandPalette {
  position: absolute;
  z-index: 10000;
  top: 38px;
  left: 30%;
  margin: 0;
  padding: 4px;
  width: 40%;
  box-shadow: var(--jp-elevation-z4);
  border-radius: 4px;
  background: var(--jp-layout-color0);
}

.jp-ModalCommandPalette .lm-CommandPalette {
  max-height: 40vh;
}

.jp-ModalCommandPalette .lm-CommandPalette .lm-close-icon::after {
  display: none;
}

.jp-ModalCommandPalette .lm-CommandPalette .lm-CommandPalette-header {
  display: none;
}

.jp-ModalCommandPalette .lm-CommandPalette .lm-CommandPalette-item {
  margin-left: 4px;
  margin-right: 4px;
}

.jp-ModalCommandPalette
  .lm-CommandPalette
  .lm-CommandPalette-item.lm-mod-disabled {
  display: none;
}

/*-----------------------------------------------------------------------------
| Search
|----------------------------------------------------------------------------*/

.lm-CommandPalette-search {
  padding: 4px;
  background-color: var(--jp-layout-color1);
  z-index: 2;
}

.lm-CommandPalette-wrapper {
  overflow: overlay;
  padding: 0px 9px;
  background-color: var(--jp-input-active-background);
  height: 30px;
  box-shadow: inset 0 0 0 var(--jp-border-width) var(--jp-input-border-color);
}

.lm-CommandPalette.lm-mod-focused .lm-CommandPalette-wrapper {
  box-shadow: inset 0 0 0 1px var(--jp-input-active-box-shadow-color),
    inset 0 0 0 3px var(--jp-input-active-box-shadow-color);
}

.lm-CommandPalette-wrapper::after {
  content: ' ';
  color: white;
  background-color: var(--jp-brand-color1);
  position: absolute;
  top: 4px;
  right: 4px;
  height: 30px;
  width: 10px;
  padding: 0px 10px;
  background-image: var(--jp-icon-search-white);
  background-size: 20px;
  background-repeat: no-repeat;
  background-position: center;
}

.lm-CommandPalette-input {
  background: transparent;
  width: calc(100% - 18px);
  float: left;
  border: none;
  outline: none;
  font-size: var(--jp-ui-font-size1);
  color: var(--jp-ui-font-color0);
  line-height: var(--jp-private-commandpalette-search-height);
}

.lm-CommandPalette-input::-webkit-input-placeholder,
.lm-CommandPalette-input::-moz-placeholder,
.lm-CommandPalette-input:-ms-input-placeholder {
  color: var(--jp-ui-font-color3);
  font-size: var(--jp-ui-font-size1);
}

/*-----------------------------------------------------------------------------
| Results
|----------------------------------------------------------------------------*/

.lm-CommandPalette-header:first-child {
  margin-top: 0px;
}

.lm-CommandPalette-header {
  border-bottom: solid var(--jp-border-width) var(--jp-border-color2);
  color: var(--jp-ui-font-color1);
  cursor: pointer;
  display: flex;
  font-size: var(--jp-ui-font-size0);
  font-weight: 600;
  letter-spacing: 1px;
  margin-top: 8px;
  padding: 8px 0 8px 12px;
  text-transform: uppercase;
}

.lm-CommandPalette-header.lm-mod-active {
  background: var(--jp-layout-color2);
}

.lm-CommandPalette-header > mark {
  background-color: transparent;
  font-weight: bold;
  color: var(--jp-ui-font-color1);
}

.lm-CommandPalette-item {
  padding: 4px 12px 4px 4px;
  color: var(--jp-ui-font-color1);
  font-size: var(--jp-ui-font-size1);
  font-weight: 400;
  display: flex;
}

.lm-CommandPalette-item.lm-mod-disabled {
  color: var(--jp-ui-font-color3);
}

.lm-CommandPalette-item.lm-mod-active {
  background: var(--jp-layout-color3);
}

.lm-CommandPalette-item.lm-mod-active:hover:not(.lm-mod-disabled) {
  background: var(--jp-layout-color4);
}

.lm-CommandPalette-item:hover:not(.lm-mod-active):not(.lm-mod-disabled) {
  background: var(--jp-layout-color2);
}

.lm-CommandPalette-itemContent {
  overflow: hidden;
}

.lm-CommandPalette-itemLabel > mark {
  color: var(--jp-ui-font-color0);
  background-color: transparent;
  font-weight: bold;
}

.lm-CommandPalette-item.lm-mod-disabled mark {
  color: var(--jp-ui-font-color3);
}

.lm-CommandPalette-item .lm-CommandPalette-itemIcon {
  margin: 0 4px 0 0;
  position: relative;
  width: 16px;
  top: 2px;
  flex: 0 0 auto;
}

.lm-CommandPalette-item.lm-mod-disabled .lm-CommandPalette-itemIcon {
  opacity: 0.4;
}

.lm-CommandPalette-item .lm-CommandPalette-itemShortcut {
  flex: 0 0 auto;
}

.lm-CommandPalette-itemCaption {
  display: none;
}

.lm-CommandPalette-content {
  background-color: var(--jp-layout-color1);
}

.lm-CommandPalette-content:empty:after {
  content: 'No results';
  margin: auto;
  margin-top: 20px;
  width: 100px;
  display: block;
  font-size: var(--jp-ui-font-size2);
  font-family: var(--jp-ui-font-family);
  font-weight: lighter;
}

.lm-CommandPalette-emptyMessage {
  text-align: center;
  margin-top: 24px;
  line-height: 1.32;
  padding: 0px 8px;
  color: var(--jp-content-font-color3);
}

/*-----------------------------------------------------------------------------
| Copyright (c) 2014-2017, Jupyter Development Team.
|
| Distributed under the terms of the Modified BSD License.
|----------------------------------------------------------------------------*/

.jp-Dialog {
  position: absolute;
  z-index: 10000;
  display: flex;
  flex-direction: column;
  align-items: center;
  justify-content: center;
  top: 0px;
  left: 0px;
  margin: 0;
  padding: 0;
  width: 100%;
  height: 100%;
  background: var(--jp-dialog-background);
}

.jp-Dialog-content {
  display: flex;
  flex-direction: column;
  margin-left: auto;
  margin-right: auto;
  background: var(--jp-layout-color1);
  padding: 24px;
  padding-bottom: 12px;
  min-width: 300px;
  min-height: 150px;
  max-width: 1000px;
  max-height: 500px;
  box-sizing: border-box;
  box-shadow: var(--jp-elevation-z20);
  word-wrap: break-word;
  border-radius: var(--jp-border-radius);
  /* This is needed so that all font sizing of children done in ems is
   * relative to this base size */
  font-size: var(--jp-ui-font-size1);
  color: var(--jp-ui-font-color1);
  resize: both;
}

.jp-Dialog-button {
  overflow: visible;
}

button.jp-Dialog-button:focus {
  outline: 1px solid var(--jp-brand-color1);
  outline-offset: 4px;
  -moz-outline-radius: 0px;
}

button.jp-Dialog-button:focus::-moz-focus-inner {
  border: 0;
}

button.jp-Dialog-close-button {
  padding: 0;
  height: 100%;
  min-width: unset;
  min-height: unset;
}

.jp-Dialog-header {
  display: flex;
  justify-content: space-between;
  flex: 0 0 auto;
  padding-bottom: 12px;
  font-size: var(--jp-ui-font-size3);
  font-weight: 400;
  color: var(--jp-ui-font-color0);
}

.jp-Dialog-body {
  display: flex;
  flex-direction: column;
  flex: 1 1 auto;
  font-size: var(--jp-ui-font-size1);
  background: var(--jp-layout-color1);
  overflow: auto;
}

.jp-Dialog-footer {
  display: flex;
  flex-direction: row;
  justify-content: flex-end;
  flex: 0 0 auto;
  margin-left: -12px;
  margin-right: -12px;
  padding: 12px;
}

.jp-Dialog-title {
  overflow: hidden;
  white-space: nowrap;
  text-overflow: ellipsis;
}

.jp-Dialog-body > .jp-select-wrapper {
  width: 100%;
}

.jp-Dialog-body > button {
  padding: 0px 16px;
}

.jp-Dialog-body > label {
  line-height: 1.4;
  color: var(--jp-ui-font-color0);
}

.jp-Dialog-button.jp-mod-styled:not(:last-child) {
  margin-right: 12px;
}

/*-----------------------------------------------------------------------------
| Copyright (c) 2014-2016, Jupyter Development Team.
|
| Distributed under the terms of the Modified BSD License.
|----------------------------------------------------------------------------*/

.jp-HoverBox {
  position: fixed;
}

.jp-HoverBox.jp-mod-outofview {
  display: none;
}

/*-----------------------------------------------------------------------------
| Copyright (c) Jupyter Development Team.
| Distributed under the terms of the Modified BSD License.
|----------------------------------------------------------------------------*/

.jp-IFrame {
  width: 100%;
  height: 100%;
}

.jp-IFrame > iframe {
  border: none;
}

/*
When drag events occur, `p-mod-override-cursor` is added to the body.
Because iframes steal all cursor events, the following two rules are necessary
to suppress pointer events while resize drags are occurring. There may be a
better solution to this problem.
*/
body.lm-mod-override-cursor .jp-IFrame {
  position: relative;
}

body.lm-mod-override-cursor .jp-IFrame:before {
  content: '';
  position: absolute;
  top: 0;
  left: 0;
  right: 0;
  bottom: 0;
  background: transparent;
}

/*-----------------------------------------------------------------------------
| Copyright (c) 2014-2016, Jupyter Development Team.
|
| Distributed under the terms of the Modified BSD License.
|----------------------------------------------------------------------------*/

.jp-MainAreaWidget > :focus {
  outline: none;
}

/**
 * google-material-color v1.2.6
 * https://github.com/danlevan/google-material-color
 */
:root {
  --md-red-50: #ffebee;
  --md-red-100: #ffcdd2;
  --md-red-200: #ef9a9a;
  --md-red-300: #e57373;
  --md-red-400: #ef5350;
  --md-red-500: #f44336;
  --md-red-600: #e53935;
  --md-red-700: #d32f2f;
  --md-red-800: #c62828;
  --md-red-900: #b71c1c;
  --md-red-A100: #ff8a80;
  --md-red-A200: #ff5252;
  --md-red-A400: #ff1744;
  --md-red-A700: #d50000;

  --md-pink-50: #fce4ec;
  --md-pink-100: #f8bbd0;
  --md-pink-200: #f48fb1;
  --md-pink-300: #f06292;
  --md-pink-400: #ec407a;
  --md-pink-500: #e91e63;
  --md-pink-600: #d81b60;
  --md-pink-700: #c2185b;
  --md-pink-800: #ad1457;
  --md-pink-900: #880e4f;
  --md-pink-A100: #ff80ab;
  --md-pink-A200: #ff4081;
  --md-pink-A400: #f50057;
  --md-pink-A700: #c51162;

  --md-purple-50: #f3e5f5;
  --md-purple-100: #e1bee7;
  --md-purple-200: #ce93d8;
  --md-purple-300: #ba68c8;
  --md-purple-400: #ab47bc;
  --md-purple-500: #9c27b0;
  --md-purple-600: #8e24aa;
  --md-purple-700: #7b1fa2;
  --md-purple-800: #6a1b9a;
  --md-purple-900: #4a148c;
  --md-purple-A100: #ea80fc;
  --md-purple-A200: #e040fb;
  --md-purple-A400: #d500f9;
  --md-purple-A700: #aa00ff;

  --md-deep-purple-50: #ede7f6;
  --md-deep-purple-100: #d1c4e9;
  --md-deep-purple-200: #b39ddb;
  --md-deep-purple-300: #9575cd;
  --md-deep-purple-400: #7e57c2;
  --md-deep-purple-500: #673ab7;
  --md-deep-purple-600: #5e35b1;
  --md-deep-purple-700: #512da8;
  --md-deep-purple-800: #4527a0;
  --md-deep-purple-900: #311b92;
  --md-deep-purple-A100: #b388ff;
  --md-deep-purple-A200: #7c4dff;
  --md-deep-purple-A400: #651fff;
  --md-deep-purple-A700: #6200ea;

  --md-indigo-50: #e8eaf6;
  --md-indigo-100: #c5cae9;
  --md-indigo-200: #9fa8da;
  --md-indigo-300: #7986cb;
  --md-indigo-400: #5c6bc0;
  --md-indigo-500: #3f51b5;
  --md-indigo-600: #3949ab;
  --md-indigo-700: #303f9f;
  --md-indigo-800: #283593;
  --md-indigo-900: #1a237e;
  --md-indigo-A100: #8c9eff;
  --md-indigo-A200: #536dfe;
  --md-indigo-A400: #3d5afe;
  --md-indigo-A700: #304ffe;

  --md-blue-50: #e3f2fd;
  --md-blue-100: #bbdefb;
  --md-blue-200: #90caf9;
  --md-blue-300: #64b5f6;
  --md-blue-400: #42a5f5;
  --md-blue-500: #2196f3;
  --md-blue-600: #1e88e5;
  --md-blue-700: #1976d2;
  --md-blue-800: #1565c0;
  --md-blue-900: #0d47a1;
  --md-blue-A100: #82b1ff;
  --md-blue-A200: #448aff;
  --md-blue-A400: #2979ff;
  --md-blue-A700: #2962ff;

  --md-light-blue-50: #e1f5fe;
  --md-light-blue-100: #b3e5fc;
  --md-light-blue-200: #81d4fa;
  --md-light-blue-300: #4fc3f7;
  --md-light-blue-400: #29b6f6;
  --md-light-blue-500: #03a9f4;
  --md-light-blue-600: #039be5;
  --md-light-blue-700: #0288d1;
  --md-light-blue-800: #0277bd;
  --md-light-blue-900: #01579b;
  --md-light-blue-A100: #80d8ff;
  --md-light-blue-A200: #40c4ff;
  --md-light-blue-A400: #00b0ff;
  --md-light-blue-A700: #0091ea;

  --md-cyan-50: #e0f7fa;
  --md-cyan-100: #b2ebf2;
  --md-cyan-200: #80deea;
  --md-cyan-300: #4dd0e1;
  --md-cyan-400: #26c6da;
  --md-cyan-500: #00bcd4;
  --md-cyan-600: #00acc1;
  --md-cyan-700: #0097a7;
  --md-cyan-800: #00838f;
  --md-cyan-900: #006064;
  --md-cyan-A100: #84ffff;
  --md-cyan-A200: #18ffff;
  --md-cyan-A400: #00e5ff;
  --md-cyan-A700: #00b8d4;

  --md-teal-50: #e0f2f1;
  --md-teal-100: #b2dfdb;
  --md-teal-200: #80cbc4;
  --md-teal-300: #4db6ac;
  --md-teal-400: #26a69a;
  --md-teal-500: #009688;
  --md-teal-600: #00897b;
  --md-teal-700: #00796b;
  --md-teal-800: #00695c;
  --md-teal-900: #004d40;
  --md-teal-A100: #a7ffeb;
  --md-teal-A200: #64ffda;
  --md-teal-A400: #1de9b6;
  --md-teal-A700: #00bfa5;

  --md-green-50: #e8f5e9;
  --md-green-100: #c8e6c9;
  --md-green-200: #a5d6a7;
  --md-green-300: #81c784;
  --md-green-400: #66bb6a;
  --md-green-500: #4caf50;
  --md-green-600: #43a047;
  --md-green-700: #388e3c;
  --md-green-800: #2e7d32;
  --md-green-900: #1b5e20;
  --md-green-A100: #b9f6ca;
  --md-green-A200: #69f0ae;
  --md-green-A400: #00e676;
  --md-green-A700: #00c853;

  --md-light-green-50: #f1f8e9;
  --md-light-green-100: #dcedc8;
  --md-light-green-200: #c5e1a5;
  --md-light-green-300: #aed581;
  --md-light-green-400: #9ccc65;
  --md-light-green-500: #8bc34a;
  --md-light-green-600: #7cb342;
  --md-light-green-700: #689f38;
  --md-light-green-800: #558b2f;
  --md-light-green-900: #33691e;
  --md-light-green-A100: #ccff90;
  --md-light-green-A200: #b2ff59;
  --md-light-green-A400: #76ff03;
  --md-light-green-A700: #64dd17;

  --md-lime-50: #f9fbe7;
  --md-lime-100: #f0f4c3;
  --md-lime-200: #e6ee9c;
  --md-lime-300: #dce775;
  --md-lime-400: #d4e157;
  --md-lime-500: #cddc39;
  --md-lime-600: #c0ca33;
  --md-lime-700: #afb42b;
  --md-lime-800: #9e9d24;
  --md-lime-900: #827717;
  --md-lime-A100: #f4ff81;
  --md-lime-A200: #eeff41;
  --md-lime-A400: #c6ff00;
  --md-lime-A700: #aeea00;

  --md-yellow-50: #fffde7;
  --md-yellow-100: #fff9c4;
  --md-yellow-200: #fff59d;
  --md-yellow-300: #fff176;
  --md-yellow-400: #ffee58;
  --md-yellow-500: #ffeb3b;
  --md-yellow-600: #fdd835;
  --md-yellow-700: #fbc02d;
  --md-yellow-800: #f9a825;
  --md-yellow-900: #f57f17;
  --md-yellow-A100: #ffff8d;
  --md-yellow-A200: #ffff00;
  --md-yellow-A400: #ffea00;
  --md-yellow-A700: #ffd600;

  --md-amber-50: #fff8e1;
  --md-amber-100: #ffecb3;
  --md-amber-200: #ffe082;
  --md-amber-300: #ffd54f;
  --md-amber-400: #ffca28;
  --md-amber-500: #ffc107;
  --md-amber-600: #ffb300;
  --md-amber-700: #ffa000;
  --md-amber-800: #ff8f00;
  --md-amber-900: #ff6f00;
  --md-amber-A100: #ffe57f;
  --md-amber-A200: #ffd740;
  --md-amber-A400: #ffc400;
  --md-amber-A700: #ffab00;

  --md-orange-50: #fff3e0;
  --md-orange-100: #ffe0b2;
  --md-orange-200: #ffcc80;
  --md-orange-300: #ffb74d;
  --md-orange-400: #ffa726;
  --md-orange-500: #ff9800;
  --md-orange-600: #fb8c00;
  --md-orange-700: #f57c00;
  --md-orange-800: #ef6c00;
  --md-orange-900: #e65100;
  --md-orange-A100: #ffd180;
  --md-orange-A200: #ffab40;
  --md-orange-A400: #ff9100;
  --md-orange-A700: #ff6d00;

  --md-deep-orange-50: #fbe9e7;
  --md-deep-orange-100: #ffccbc;
  --md-deep-orange-200: #ffab91;
  --md-deep-orange-300: #ff8a65;
  --md-deep-orange-400: #ff7043;
  --md-deep-orange-500: #ff5722;
  --md-deep-orange-600: #f4511e;
  --md-deep-orange-700: #e64a19;
  --md-deep-orange-800: #d84315;
  --md-deep-orange-900: #bf360c;
  --md-deep-orange-A100: #ff9e80;
  --md-deep-orange-A200: #ff6e40;
  --md-deep-orange-A400: #ff3d00;
  --md-deep-orange-A700: #dd2c00;

  --md-brown-50: #efebe9;
  --md-brown-100: #d7ccc8;
  --md-brown-200: #bcaaa4;
  --md-brown-300: #a1887f;
  --md-brown-400: #8d6e63;
  --md-brown-500: #795548;
  --md-brown-600: #6d4c41;
  --md-brown-700: #5d4037;
  --md-brown-800: #4e342e;
  --md-brown-900: #3e2723;

  --md-grey-50: #fafafa;
  --md-grey-100: #f5f5f5;
  --md-grey-200: #eeeeee;
  --md-grey-300: #e0e0e0;
  --md-grey-400: #bdbdbd;
  --md-grey-500: #9e9e9e;
  --md-grey-600: #757575;
  --md-grey-700: #616161;
  --md-grey-800: #424242;
  --md-grey-900: #212121;

  --md-blue-grey-50: #eceff1;
  --md-blue-grey-100: #cfd8dc;
  --md-blue-grey-200: #b0bec5;
  --md-blue-grey-300: #90a4ae;
  --md-blue-grey-400: #78909c;
  --md-blue-grey-500: #607d8b;
  --md-blue-grey-600: #546e7a;
  --md-blue-grey-700: #455a64;
  --md-blue-grey-800: #37474f;
  --md-blue-grey-900: #263238;
}

/*-----------------------------------------------------------------------------
| Copyright (c) 2017, Jupyter Development Team.
|
| Distributed under the terms of the Modified BSD License.
|----------------------------------------------------------------------------*/

.jp-Spinner {
  position: absolute;
  display: flex;
  justify-content: center;
  align-items: center;
  z-index: 10;
  left: 0;
  top: 0;
  width: 100%;
  height: 100%;
  background: var(--jp-layout-color0);
  outline: none;
}

.jp-SpinnerContent {
  font-size: 10px;
  margin: 50px auto;
  text-indent: -9999em;
  width: 3em;
  height: 3em;
  border-radius: 50%;
  background: var(--jp-brand-color3);
  background: linear-gradient(
    to right,
    #f37626 10%,
    rgba(255, 255, 255, 0) 42%
  );
  position: relative;
  animation: load3 1s infinite linear, fadeIn 1s;
}

.jp-SpinnerContent:before {
  width: 50%;
  height: 50%;
  background: #f37626;
  border-radius: 100% 0 0 0;
  position: absolute;
  top: 0;
  left: 0;
  content: '';
}

.jp-SpinnerContent:after {
  background: var(--jp-layout-color0);
  width: 75%;
  height: 75%;
  border-radius: 50%;
  content: '';
  margin: auto;
  position: absolute;
  top: 0;
  left: 0;
  bottom: 0;
  right: 0;
}

@keyframes fadeIn {
  0% {
    opacity: 0;
  }
  100% {
    opacity: 1;
  }
}

@keyframes load3 {
  0% {
    transform: rotate(0deg);
  }
  100% {
    transform: rotate(360deg);
  }
}

/*-----------------------------------------------------------------------------
| Copyright (c) 2014-2017, Jupyter Development Team.
|
| Distributed under the terms of the Modified BSD License.
|----------------------------------------------------------------------------*/

button.jp-mod-styled {
  font-size: var(--jp-ui-font-size1);
  color: var(--jp-ui-font-color0);
  border: none;
  box-sizing: border-box;
  text-align: center;
  line-height: 32px;
  height: 32px;
  padding: 0px 12px;
  letter-spacing: 0.8px;
  outline: none;
  appearance: none;
  -webkit-appearance: none;
  -moz-appearance: none;
}

input.jp-mod-styled {
  background: var(--jp-input-background);
  height: 28px;
  box-sizing: border-box;
  border: var(--jp-border-width) solid var(--jp-border-color1);
  padding-left: 7px;
  padding-right: 7px;
  font-size: var(--jp-ui-font-size2);
  color: var(--jp-ui-font-color0);
  outline: none;
  appearance: none;
  -webkit-appearance: none;
  -moz-appearance: none;
}

input.jp-mod-styled:focus {
  border: var(--jp-border-width) solid var(--md-blue-500);
  box-shadow: inset 0 0 4px var(--md-blue-300);
}

.jp-select-wrapper {
  display: flex;
  position: relative;
  flex-direction: column;
  padding: 1px;
  background-color: var(--jp-layout-color1);
  height: 28px;
  box-sizing: border-box;
  margin-bottom: 12px;
}

.jp-select-wrapper.jp-mod-focused select.jp-mod-styled {
  border: var(--jp-border-width) solid var(--jp-input-active-border-color);
  box-shadow: var(--jp-input-box-shadow);
  background-color: var(--jp-input-active-background);
}

select.jp-mod-styled:hover {
  background-color: var(--jp-layout-color1);
  cursor: pointer;
  color: var(--jp-ui-font-color0);
  background-color: var(--jp-input-hover-background);
  box-shadow: inset 0 0px 1px rgba(0, 0, 0, 0.5);
}

select.jp-mod-styled {
  flex: 1 1 auto;
  height: 32px;
  width: 100%;
  font-size: var(--jp-ui-font-size2);
  background: var(--jp-input-background);
  color: var(--jp-ui-font-color0);
  padding: 0 25px 0 8px;
  border: var(--jp-border-width) solid var(--jp-input-border-color);
  border-radius: 0px;
  outline: none;
  appearance: none;
  -webkit-appearance: none;
  -moz-appearance: none;
}

/*-----------------------------------------------------------------------------
| Copyright (c) 2014-2016, Jupyter Development Team.
|
| Distributed under the terms of the Modified BSD License.
|----------------------------------------------------------------------------*/

:root {
  --jp-private-toolbar-height: calc(
    28px + var(--jp-border-width)
  ); /* leave 28px for content */
}

.jp-Toolbar {
  color: var(--jp-ui-font-color1);
  flex: 0 0 auto;
  display: flex;
  flex-direction: row;
  border-bottom: var(--jp-border-width) solid var(--jp-toolbar-border-color);
  box-shadow: var(--jp-toolbar-box-shadow);
  background: var(--jp-toolbar-background);
  min-height: var(--jp-toolbar-micro-height);
  padding: 2px;
  z-index: 1;
  overflow-x: hidden;
}

.jp-Toolbar:hover {
  overflow-x: auto;
}

/* Toolbar items */

.jp-Toolbar > .jp-Toolbar-item.jp-Toolbar-spacer {
  flex-grow: 1;
  flex-shrink: 1;
}

.jp-Toolbar-item.jp-Toolbar-kernelStatus {
  display: inline-block;
  width: 32px;
  background-repeat: no-repeat;
  background-position: center;
  background-size: 16px;
}

.jp-Toolbar > .jp-Toolbar-item {
  flex: 0 0 auto;
  display: flex;
  padding-left: 1px;
  padding-right: 1px;
  font-size: var(--jp-ui-font-size1);
  line-height: var(--jp-private-toolbar-height);
  height: 100%;
}

/* Toolbar buttons */

/* This is the div we use to wrap the react component into a Widget */
div.jp-ToolbarButton {
  color: transparent;
  border: none;
  box-sizing: border-box;
  outline: none;
  appearance: none;
  -webkit-appearance: none;
  -moz-appearance: none;
  padding: 0px;
  margin: 0px;
}

button.jp-ToolbarButtonComponent {
  background: var(--jp-layout-color1);
  border: none;
  box-sizing: border-box;
  outline: none;
  appearance: none;
  -webkit-appearance: none;
  -moz-appearance: none;
  padding: 0px 6px;
  margin: 0px;
  height: 24px;
  border-radius: var(--jp-border-radius);
  display: flex;
  align-items: center;
  text-align: center;
  font-size: 14px;
  min-width: unset;
  min-height: unset;
}

button.jp-ToolbarButtonComponent:disabled {
  opacity: 0.4;
}

button.jp-ToolbarButtonComponent span {
  padding: 0px;
  flex: 0 0 auto;
}

button.jp-ToolbarButtonComponent .jp-ToolbarButtonComponent-label {
  font-size: var(--jp-ui-font-size1);
  line-height: 100%;
  padding-left: 2px;
  color: var(--jp-ui-font-color1);
}

#jp-main-dock-panel[data-mode='single-document']
  .jp-MainAreaWidget
  > .jp-Toolbar.jp-Toolbar-micro {
  padding: 0;
  min-height: 0;
}

#jp-main-dock-panel[data-mode='single-document']
  .jp-MainAreaWidget
  > .jp-Toolbar {
  border: none;
  box-shadow: none;
}

/*-----------------------------------------------------------------------------
| Copyright (c) 2014-2017, Jupyter Development Team.
|
| Distributed under the terms of the Modified BSD License.
|----------------------------------------------------------------------------*/

/*-----------------------------------------------------------------------------
| Copyright (c) Jupyter Development Team.
| Copyright (c) 2014-2017, PhosphorJS Contributors
|
| Distributed under the terms of the BSD 3-Clause License.
|
| The full license is in the file LICENSE, distributed with this software.
|----------------------------------------------------------------------------*/


/* <DEPRECATED> */ body.p-mod-override-cursor *, /* </DEPRECATED> */
body.lm-mod-override-cursor * {
  cursor: inherit !important;
}

/*-----------------------------------------------------------------------------
| Copyright (c) 2014-2016, Jupyter Development Team.
|
| Distributed under the terms of the Modified BSD License.
|----------------------------------------------------------------------------*/

.jp-JSONEditor {
  display: flex;
  flex-direction: column;
  width: 100%;
}

.jp-JSONEditor-host {
  flex: 1 1 auto;
  border: var(--jp-border-width) solid var(--jp-input-border-color);
  border-radius: 0px;
  background: var(--jp-layout-color0);
  min-height: 50px;
  padding: 1px;
}

.jp-JSONEditor.jp-mod-error .jp-JSONEditor-host {
  border-color: red;
  outline-color: red;
}

.jp-JSONEditor-header {
  display: flex;
  flex: 1 0 auto;
  padding: 0 0 0 12px;
}

.jp-JSONEditor-header label {
  flex: 0 0 auto;
}

.jp-JSONEditor-commitButton {
  height: 16px;
  width: 16px;
  background-size: 18px;
  background-repeat: no-repeat;
  background-position: center;
}

.jp-JSONEditor-host.jp-mod-focused {
  background-color: var(--jp-input-active-background);
  border: 1px solid var(--jp-input-active-border-color);
  box-shadow: var(--jp-input-box-shadow);
}

.jp-Editor.jp-mod-dropTarget {
  border: var(--jp-border-width) solid var(--jp-input-active-border-color);
  box-shadow: var(--jp-input-box-shadow);
}

/* BASICS */

.CodeMirror {
  /* Set height, width, borders, and global font properties here */
  font-family: monospace;
  height: 300px;
  color: black;
  direction: ltr;
}

/* PADDING */

.CodeMirror-lines {
  padding: 4px 0; /* Vertical padding around content */
}
.CodeMirror pre.CodeMirror-line,
.CodeMirror pre.CodeMirror-line-like {
  padding: 0 4px; /* Horizontal padding of content */
}

.CodeMirror-scrollbar-filler, .CodeMirror-gutter-filler {
  background-color: white; /* The little square between H and V scrollbars */
}

/* GUTTER */

.CodeMirror-gutters {
  border-right: 1px solid #ddd;
  background-color: #f7f7f7;
  white-space: nowrap;
}
.CodeMirror-linenumbers {}
.CodeMirror-linenumber {
  padding: 0 3px 0 5px;
  min-width: 20px;
  text-align: right;
  color: #999;
  white-space: nowrap;
}

.CodeMirror-guttermarker { color: black; }
.CodeMirror-guttermarker-subtle { color: #999; }

/* CURSOR */

.CodeMirror-cursor {
  border-left: 1px solid black;
  border-right: none;
  width: 0;
}
/* Shown when moving in bi-directional text */
.CodeMirror div.CodeMirror-secondarycursor {
  border-left: 1px solid silver;
}
.cm-fat-cursor .CodeMirror-cursor {
  width: auto;
  border: 0 !important;
  background: #7e7;
}
.cm-fat-cursor div.CodeMirror-cursors {
  z-index: 1;
}
.cm-fat-cursor-mark {
  background-color: rgba(20, 255, 20, 0.5);
  -webkit-animation: blink 1.06s steps(1) infinite;
  -moz-animation: blink 1.06s steps(1) infinite;
  animation: blink 1.06s steps(1) infinite;
}
.cm-animate-fat-cursor {
  width: auto;
  border: 0;
  -webkit-animation: blink 1.06s steps(1) infinite;
  -moz-animation: blink 1.06s steps(1) infinite;
  animation: blink 1.06s steps(1) infinite;
  background-color: #7e7;
}
@-moz-keyframes blink {
  0% {}
  50% { background-color: transparent; }
  100% {}
}
@-webkit-keyframes blink {
  0% {}
  50% { background-color: transparent; }
  100% {}
}
@keyframes blink {
  0% {}
  50% { background-color: transparent; }
  100% {}
}

/* Can style cursor different in overwrite (non-insert) mode */
.CodeMirror-overwrite .CodeMirror-cursor {}

.cm-tab { display: inline-block; text-decoration: inherit; }

.CodeMirror-rulers {
  position: absolute;
  left: 0; right: 0; top: -50px; bottom: 0;
  overflow: hidden;
}
.CodeMirror-ruler {
  border-left: 1px solid #ccc;
  top: 0; bottom: 0;
  position: absolute;
}

/* DEFAULT THEME */

.cm-s-default .cm-header {color: blue;}
.cm-s-default .cm-quote {color: #090;}
.cm-negative {color: #d44;}
.cm-positive {color: #292;}
.cm-header, .cm-strong {font-weight: bold;}
.cm-em {font-style: italic;}
.cm-link {text-decoration: underline;}
.cm-strikethrough {text-decoration: line-through;}

.cm-s-default .cm-keyword {color: #708;}
.cm-s-default .cm-atom {color: #219;}
.cm-s-default .cm-number {color: #164;}
.cm-s-default .cm-def {color: #00f;}
.cm-s-default .cm-variable,
.cm-s-default .cm-punctuation,
.cm-s-default .cm-property,
.cm-s-default .cm-operator {}
.cm-s-default .cm-variable-2 {color: #05a;}
.cm-s-default .cm-variable-3, .cm-s-default .cm-type {color: #085;}
.cm-s-default .cm-comment {color: #a50;}
.cm-s-default .cm-string {color: #a11;}
.cm-s-default .cm-string-2 {color: #f50;}
.cm-s-default .cm-meta {color: #555;}
.cm-s-default .cm-qualifier {color: #555;}
.cm-s-default .cm-builtin {color: #30a;}
.cm-s-default .cm-bracket {color: #997;}
.cm-s-default .cm-tag {color: #170;}
.cm-s-default .cm-attribute {color: #00c;}
.cm-s-default .cm-hr {color: #999;}
.cm-s-default .cm-link {color: #00c;}

.cm-s-default .cm-error {color: #f00;}
.cm-invalidchar {color: #f00;}

.CodeMirror-composing { border-bottom: 2px solid; }

/* Default styles for common addons */

div.CodeMirror span.CodeMirror-matchingbracket {color: #0b0;}
div.CodeMirror span.CodeMirror-nonmatchingbracket {color: #a22;}
.CodeMirror-matchingtag { background: rgba(255, 150, 0, .3); }
.CodeMirror-activeline-background {background: #e8f2ff;}

/* STOP */

/* The rest of this file contains styles related to the mechanics of
   the editor. You probably shouldn't touch them. */

.CodeMirror {
  position: relative;
  overflow: hidden;
  background: white;
}

.CodeMirror-scroll {
  overflow: scroll !important; /* Things will break if this is overridden */
  /* 50px is the magic margin used to hide the element's real scrollbars */
  /* See overflow: hidden in .CodeMirror */
  margin-bottom: -50px; margin-right: -50px;
  padding-bottom: 50px;
  height: 100%;
  outline: none; /* Prevent dragging from highlighting the element */
  position: relative;
}
.CodeMirror-sizer {
  position: relative;
  border-right: 50px solid transparent;
}

/* The fake, visible scrollbars. Used to force redraw during scrolling
   before actual scrolling happens, thus preventing shaking and
   flickering artifacts. */
.CodeMirror-vscrollbar, .CodeMirror-hscrollbar, .CodeMirror-scrollbar-filler, .CodeMirror-gutter-filler {
  position: absolute;
  z-index: 6;
  display: none;
}
.CodeMirror-vscrollbar {
  right: 0; top: 0;
  overflow-x: hidden;
  overflow-y: scroll;
}
.CodeMirror-hscrollbar {
  bottom: 0; left: 0;
  overflow-y: hidden;
  overflow-x: scroll;
}
.CodeMirror-scrollbar-filler {
  right: 0; bottom: 0;
}
.CodeMirror-gutter-filler {
  left: 0; bottom: 0;
}

.CodeMirror-gutters {
  position: absolute; left: 0; top: 0;
  min-height: 100%;
  z-index: 3;
}
.CodeMirror-gutter {
  white-space: normal;
  height: 100%;
  display: inline-block;
  vertical-align: top;
  margin-bottom: -50px;
}
.CodeMirror-gutter-wrapper {
  position: absolute;
  z-index: 4;
  background: none !important;
  border: none !important;
}
.CodeMirror-gutter-background {
  position: absolute;
  top: 0; bottom: 0;
  z-index: 4;
}
.CodeMirror-gutter-elt {
  position: absolute;
  cursor: default;
  z-index: 4;
}
.CodeMirror-gutter-wrapper ::selection { background-color: transparent }
.CodeMirror-gutter-wrapper ::-moz-selection { background-color: transparent }

.CodeMirror-lines {
  cursor: text;
  min-height: 1px; /* prevents collapsing before first draw */
}
.CodeMirror pre.CodeMirror-line,
.CodeMirror pre.CodeMirror-line-like {
  /* Reset some styles that the rest of the page might have set */
  -moz-border-radius: 0; -webkit-border-radius: 0; border-radius: 0;
  border-width: 0;
  background: transparent;
  font-family: inherit;
  font-size: inherit;
  margin: 0;
  white-space: pre;
  word-wrap: normal;
  line-height: inherit;
  color: inherit;
  z-index: 2;
  position: relative;
  overflow: visible;
  -webkit-tap-highlight-color: transparent;
  -webkit-font-variant-ligatures: contextual;
  font-variant-ligatures: contextual;
}
.CodeMirror-wrap pre.CodeMirror-line,
.CodeMirror-wrap pre.CodeMirror-line-like {
  word-wrap: break-word;
  white-space: pre-wrap;
  word-break: normal;
}

.CodeMirror-linebackground {
  position: absolute;
  left: 0; right: 0; top: 0; bottom: 0;
  z-index: 0;
}

.CodeMirror-linewidget {
  position: relative;
  z-index: 2;
  padding: 0.1px; /* Force widget margins to stay inside of the container */
}

.CodeMirror-widget {}

.CodeMirror-rtl pre { direction: rtl; }

.CodeMirror-code {
  outline: none;
}

/* Force content-box sizing for the elements where we expect it */
.CodeMirror-scroll,
.CodeMirror-sizer,
.CodeMirror-gutter,
.CodeMirror-gutters,
.CodeMirror-linenumber {
  -moz-box-sizing: content-box;
  box-sizing: content-box;
}

.CodeMirror-measure {
  position: absolute;
  width: 100%;
  height: 0;
  overflow: hidden;
  visibility: hidden;
}

.CodeMirror-cursor {
  position: absolute;
  pointer-events: none;
}
.CodeMirror-measure pre { position: static; }

div.CodeMirror-cursors {
  visibility: hidden;
  position: relative;
  z-index: 3;
}
div.CodeMirror-dragcursors {
  visibility: visible;
}

.CodeMirror-focused div.CodeMirror-cursors {
  visibility: visible;
}

.CodeMirror-selected { background: #d9d9d9; }
.CodeMirror-focused .CodeMirror-selected { background: #d7d4f0; }
.CodeMirror-crosshair { cursor: crosshair; }
.CodeMirror-line::selection, .CodeMirror-line > span::selection, .CodeMirror-line > span > span::selection { background: #d7d4f0; }
.CodeMirror-line::-moz-selection, .CodeMirror-line > span::-moz-selection, .CodeMirror-line > span > span::-moz-selection { background: #d7d4f0; }

.cm-searching {
  background-color: #ffa;
  background-color: rgba(255, 255, 0, .4);
}

/* Used to force a border model for a node */
.cm-force-border { padding-right: .1px; }

@media print {
  /* Hide the cursor when printing */
  .CodeMirror div.CodeMirror-cursors {
    visibility: hidden;
  }
}

/* See issue #2901 */
.cm-tab-wrap-hack:after { content: ''; }

/* Help users use markselection to safely style text background */
span.CodeMirror-selectedtext { background: none; }

.CodeMirror-dialog {
  position: absolute;
  left: 0; right: 0;
  background: inherit;
  z-index: 15;
  padding: .1em .8em;
  overflow: hidden;
  color: inherit;
}

.CodeMirror-dialog-top {
  border-bottom: 1px solid #eee;
  top: 0;
}

.CodeMirror-dialog-bottom {
  border-top: 1px solid #eee;
  bottom: 0;
}

.CodeMirror-dialog input {
  border: none;
  outline: none;
  background: transparent;
  width: 20em;
  color: inherit;
  font-family: monospace;
}

.CodeMirror-dialog button {
  font-size: 70%;
}

.CodeMirror-foldmarker {
  color: blue;
  text-shadow: #b9f 1px 1px 2px, #b9f -1px -1px 2px, #b9f 1px -1px 2px, #b9f -1px 1px 2px;
  font-family: arial;
  line-height: .3;
  cursor: pointer;
}
.CodeMirror-foldgutter {
  width: .7em;
}
.CodeMirror-foldgutter-open,
.CodeMirror-foldgutter-folded {
  cursor: pointer;
}
.CodeMirror-foldgutter-open:after {
  content: "\25BE";
}
.CodeMirror-foldgutter-folded:after {
  content: "\25B8";
}

/*-----------------------------------------------------------------------------
| Copyright (c) Jupyter Development Team.
| Distributed under the terms of the Modified BSD License.
|----------------------------------------------------------------------------*/

.CodeMirror {
  line-height: var(--jp-code-line-height);
  font-size: var(--jp-code-font-size);
  font-family: var(--jp-code-font-family);
  border: 0;
  border-radius: 0;
  height: auto;
  /* Changed to auto to autogrow */
}

.CodeMirror pre {
  padding: 0 var(--jp-code-padding);
}

.jp-CodeMirrorEditor[data-type='inline'] .CodeMirror-dialog {
  background-color: var(--jp-layout-color0);
  color: var(--jp-content-font-color1);
}

/* This causes https://github.com/jupyter/jupyterlab/issues/522 */
/* May not cause it not because we changed it! */
.CodeMirror-lines {
  padding: var(--jp-code-padding) 0;
}

.CodeMirror-linenumber {
  padding: 0 8px;
}

.jp-CodeMirrorEditor {
  cursor: text;
}

.jp-CodeMirrorEditor[data-type='inline'] .CodeMirror-cursor {
  border-left: var(--jp-code-cursor-width0) solid var(--jp-editor-cursor-color);
}

/* When zoomed out 67% and 33% on a screen of 1440 width x 900 height */
@media screen and (min-width: 2138px) and (max-width: 4319px) {
  .jp-CodeMirrorEditor[data-type='inline'] .CodeMirror-cursor {
    border-left: var(--jp-code-cursor-width1) solid
      var(--jp-editor-cursor-color);
  }
}

/* When zoomed out less than 33% */
@media screen and (min-width: 4320px) {
  .jp-CodeMirrorEditor[data-type='inline'] .CodeMirror-cursor {
    border-left: var(--jp-code-cursor-width2) solid
      var(--jp-editor-cursor-color);
  }
}

.CodeMirror.jp-mod-readOnly .CodeMirror-cursor {
  display: none;
}

.CodeMirror-gutters {
  border-right: 1px solid var(--jp-border-color2);
  background-color: var(--jp-layout-color0);
}

.jp-CollaboratorCursor {
  border-left: 5px solid transparent;
  border-right: 5px solid transparent;
  border-top: none;
  border-bottom: 3px solid;
  background-clip: content-box;
  margin-left: -5px;
  margin-right: -5px;
}

.CodeMirror-selectedtext.cm-searching {
  background-color: var(--jp-search-selected-match-background-color) !important;
  color: var(--jp-search-selected-match-color) !important;
}

.cm-searching {
  background-color: var(
    --jp-search-unselected-match-background-color
  ) !important;
  color: var(--jp-search-unselected-match-color) !important;
}

.CodeMirror-focused .CodeMirror-selected {
  background-color: var(--jp-editor-selected-focused-background);
}

.CodeMirror-selected {
  background-color: var(--jp-editor-selected-background);
}

.jp-CollaboratorCursor-hover {
  position: absolute;
  z-index: 1;
  transform: translateX(-50%);
  color: white;
  border-radius: 3px;
  padding-left: 4px;
  padding-right: 4px;
  padding-top: 1px;
  padding-bottom: 1px;
  text-align: center;
  font-size: var(--jp-ui-font-size1);
  white-space: nowrap;
}

.jp-CodeMirror-ruler {
  border-left: 1px dashed var(--jp-border-color2);
}

/**
 * Here is our jupyter theme for CodeMirror syntax highlighting
 * This is used in our marked.js syntax highlighting and CodeMirror itself
 * The string "jupyter" is set in ../codemirror/widget.DEFAULT_CODEMIRROR_THEME
 * This came from the classic notebook, which came form highlight.js/GitHub
 */

/**
 * CodeMirror themes are handling the background/color in this way. This works
 * fine for CodeMirror editors outside the notebook, but the notebook styles
 * these things differently.
 */
.CodeMirror.cm-s-jupyter {
  background: var(--jp-layout-color0);
  color: var(--jp-content-font-color1);
}

/* In the notebook, we want this styling to be handled by its container */
.jp-CodeConsole .CodeMirror.cm-s-jupyter,
.jp-Notebook .CodeMirror.cm-s-jupyter {
  background: transparent;
}

.cm-s-jupyter .CodeMirror-cursor {
  border-left: var(--jp-code-cursor-width0) solid var(--jp-editor-cursor-color);
}
.cm-s-jupyter span.cm-keyword {
  color: var(--jp-mirror-editor-keyword-color);
  font-weight: bold;
}
.cm-s-jupyter span.cm-atom {
  color: var(--jp-mirror-editor-atom-color);
}
.cm-s-jupyter span.cm-number {
  color: var(--jp-mirror-editor-number-color);
}
.cm-s-jupyter span.cm-def {
  color: var(--jp-mirror-editor-def-color);
}
.cm-s-jupyter span.cm-variable {
  color: var(--jp-mirror-editor-variable-color);
}
.cm-s-jupyter span.cm-variable-2 {
  color: var(--jp-mirror-editor-variable-2-color);
}
.cm-s-jupyter span.cm-variable-3 {
  color: var(--jp-mirror-editor-variable-3-color);
}
.cm-s-jupyter span.cm-punctuation {
  color: var(--jp-mirror-editor-punctuation-color);
}
.cm-s-jupyter span.cm-property {
  color: var(--jp-mirror-editor-property-color);
}
.cm-s-jupyter span.cm-operator {
  color: var(--jp-mirror-editor-operator-color);
  font-weight: bold;
}
.cm-s-jupyter span.cm-comment {
  color: var(--jp-mirror-editor-comment-color);
  font-style: italic;
}
.cm-s-jupyter span.cm-string {
  color: var(--jp-mirror-editor-string-color);
}
.cm-s-jupyter span.cm-string-2 {
  color: var(--jp-mirror-editor-string-2-color);
}
.cm-s-jupyter span.cm-meta {
  color: var(--jp-mirror-editor-meta-color);
}
.cm-s-jupyter span.cm-qualifier {
  color: var(--jp-mirror-editor-qualifier-color);
}
.cm-s-jupyter span.cm-builtin {
  color: var(--jp-mirror-editor-builtin-color);
}
.cm-s-jupyter span.cm-bracket {
  color: var(--jp-mirror-editor-bracket-color);
}
.cm-s-jupyter span.cm-tag {
  color: var(--jp-mirror-editor-tag-color);
}
.cm-s-jupyter span.cm-attribute {
  color: var(--jp-mirror-editor-attribute-color);
}
.cm-s-jupyter span.cm-header {
  color: var(--jp-mirror-editor-header-color);
}
.cm-s-jupyter span.cm-quote {
  color: var(--jp-mirror-editor-quote-color);
}
.cm-s-jupyter span.cm-link {
  color: var(--jp-mirror-editor-link-color);
}
.cm-s-jupyter span.cm-error {
  color: var(--jp-mirror-editor-error-color);
}
.cm-s-jupyter span.cm-hr {
  color: #999;
}

.cm-s-jupyter span.cm-tab {
  background: url(data:image/png;base64,iVBORw0KGgoAAAANSUhEUgAAADAAAAAMCAYAAAAkuj5RAAAAAXNSR0IArs4c6QAAAGFJREFUSMft1LsRQFAQheHPowAKoACx3IgEKtaEHujDjORSgWTH/ZOdnZOcM/sgk/kFFWY0qV8foQwS4MKBCS3qR6ixBJvElOobYAtivseIE120FaowJPN75GMu8j/LfMwNjh4HUpwg4LUAAAAASUVORK5CYII=);
  background-position: right;
  background-repeat: no-repeat;
}

.cm-s-jupyter .CodeMirror-activeline-background,
.cm-s-jupyter .CodeMirror-gutter {
  background-color: var(--jp-layout-color2);
}

/*-----------------------------------------------------------------------------
| Copyright (c) Jupyter Development Team.
| Distributed under the terms of the Modified BSD License.
|----------------------------------------------------------------------------*/

/*-----------------------------------------------------------------------------
| RenderedText
|----------------------------------------------------------------------------*/

:root {
  /* This is the padding value to fill the gaps between lines containing spans with background color. */
  --jp-private-code-span-padding: calc(
    (var(--jp-code-line-height) - 1) * var(--jp-code-font-size) / 2
  );
}

.jp-RenderedText {
  text-align: left;
  padding-left: var(--jp-code-padding);
  line-height: var(--jp-code-line-height);
  font-family: var(--jp-code-font-family);
}

.jp-RenderedText pre,
.jp-RenderedJavaScript pre,
.jp-RenderedHTMLCommon pre {
  color: var(--jp-content-font-color1);
  font-size: var(--jp-code-font-size);
  border: none;
  margin: 0px;
  padding: 0px;
}

.jp-RenderedText pre a:link {
  text-decoration: none;
  color: var(--jp-content-link-color);
}
.jp-RenderedText pre a:hover {
  text-decoration: underline;
  color: var(--jp-content-link-color);
}
.jp-RenderedText pre a:visited {
  text-decoration: none;
  color: var(--jp-content-link-color);
}

/* console foregrounds and backgrounds */
.jp-RenderedText pre .ansi-black-fg {
  color: #3e424d;
}
.jp-RenderedText pre .ansi-red-fg {
  color: #e75c58;
}
.jp-RenderedText pre .ansi-green-fg {
  color: #00a250;
}
.jp-RenderedText pre .ansi-yellow-fg {
  color: #ddb62b;
}
.jp-RenderedText pre .ansi-blue-fg {
  color: #208ffb;
}
.jp-RenderedText pre .ansi-magenta-fg {
  color: #d160c4;
}
.jp-RenderedText pre .ansi-cyan-fg {
  color: #60c6c8;
}
.jp-RenderedText pre .ansi-white-fg {
  color: #c5c1b4;
}

.jp-RenderedText pre .ansi-black-bg {
  background-color: #3e424d;
  padding: var(--jp-private-code-span-padding) 0;
}
.jp-RenderedText pre .ansi-red-bg {
  background-color: #e75c58;
  padding: var(--jp-private-code-span-padding) 0;
}
.jp-RenderedText pre .ansi-green-bg {
  background-color: #00a250;
  padding: var(--jp-private-code-span-padding) 0;
}
.jp-RenderedText pre .ansi-yellow-bg {
  background-color: #ddb62b;
  padding: var(--jp-private-code-span-padding) 0;
}
.jp-RenderedText pre .ansi-blue-bg {
  background-color: #208ffb;
  padding: var(--jp-private-code-span-padding) 0;
}
.jp-RenderedText pre .ansi-magenta-bg {
  background-color: #d160c4;
  padding: var(--jp-private-code-span-padding) 0;
}
.jp-RenderedText pre .ansi-cyan-bg {
  background-color: #60c6c8;
  padding: var(--jp-private-code-span-padding) 0;
}
.jp-RenderedText pre .ansi-white-bg {
  background-color: #c5c1b4;
  padding: var(--jp-private-code-span-padding) 0;
}

.jp-RenderedText pre .ansi-black-intense-fg {
  color: #282c36;
}
.jp-RenderedText pre .ansi-red-intense-fg {
  color: #b22b31;
}
.jp-RenderedText pre .ansi-green-intense-fg {
  color: #007427;
}
.jp-RenderedText pre .ansi-yellow-intense-fg {
  color: #b27d12;
}
.jp-RenderedText pre .ansi-blue-intense-fg {
  color: #0065ca;
}
.jp-RenderedText pre .ansi-magenta-intense-fg {
  color: #a03196;
}
.jp-RenderedText pre .ansi-cyan-intense-fg {
  color: #258f8f;
}
.jp-RenderedText pre .ansi-white-intense-fg {
  color: #a1a6b2;
}

.jp-RenderedText pre .ansi-black-intense-bg {
  background-color: #282c36;
  padding: var(--jp-private-code-span-padding) 0;
}
.jp-RenderedText pre .ansi-red-intense-bg {
  background-color: #b22b31;
  padding: var(--jp-private-code-span-padding) 0;
}
.jp-RenderedText pre .ansi-green-intense-bg {
  background-color: #007427;
  padding: var(--jp-private-code-span-padding) 0;
}
.jp-RenderedText pre .ansi-yellow-intense-bg {
  background-color: #b27d12;
  padding: var(--jp-private-code-span-padding) 0;
}
.jp-RenderedText pre .ansi-blue-intense-bg {
  background-color: #0065ca;
  padding: var(--jp-private-code-span-padding) 0;
}
.jp-RenderedText pre .ansi-magenta-intense-bg {
  background-color: #a03196;
  padding: var(--jp-private-code-span-padding) 0;
}
.jp-RenderedText pre .ansi-cyan-intense-bg {
  background-color: #258f8f;
  padding: var(--jp-private-code-span-padding) 0;
}
.jp-RenderedText pre .ansi-white-intense-bg {
  background-color: #a1a6b2;
  padding: var(--jp-private-code-span-padding) 0;
}

.jp-RenderedText pre .ansi-default-inverse-fg {
  color: var(--jp-ui-inverse-font-color0);
}
.jp-RenderedText pre .ansi-default-inverse-bg {
  background-color: var(--jp-inverse-layout-color0);
  padding: var(--jp-private-code-span-padding) 0;
}

.jp-RenderedText pre .ansi-bold {
  font-weight: bold;
}
.jp-RenderedText pre .ansi-underline {
  text-decoration: underline;
}

.jp-RenderedText[data-mime-type='application/vnd.jupyter.stderr'] {
  background: var(--jp-rendermime-error-background);
  padding-top: var(--jp-code-padding);
}

/*-----------------------------------------------------------------------------
| RenderedLatex
|----------------------------------------------------------------------------*/

.jp-RenderedLatex {
  color: var(--jp-content-font-color1);
  font-size: var(--jp-content-font-size1);
  line-height: var(--jp-content-line-height);
}

/* Left-justify outputs.*/
.jp-OutputArea-output.jp-RenderedLatex {
  padding: var(--jp-code-padding);
  text-align: left;
}

/*-----------------------------------------------------------------------------
| RenderedHTML
|----------------------------------------------------------------------------*/

.jp-RenderedHTMLCommon {
  color: var(--jp-content-font-color1);
  font-family: var(--jp-content-font-family);
  font-size: var(--jp-content-font-size1);
  line-height: var(--jp-content-line-height);
  /* Give a bit more R padding on Markdown text to keep line lengths reasonable */
  padding-right: 20px;
}

.jp-RenderedHTMLCommon em {
  font-style: italic;
}

.jp-RenderedHTMLCommon strong {
  font-weight: bold;
}

.jp-RenderedHTMLCommon u {
  text-decoration: underline;
}

.jp-RenderedHTMLCommon a:link {
  text-decoration: none;
  color: var(--jp-content-link-color);
}

.jp-RenderedHTMLCommon a:hover {
  text-decoration: underline;
  color: var(--jp-content-link-color);
}

.jp-RenderedHTMLCommon a:visited {
  text-decoration: none;
  color: var(--jp-content-link-color);
}

/* Headings */

.jp-RenderedHTMLCommon h1,
.jp-RenderedHTMLCommon h2,
.jp-RenderedHTMLCommon h3,
.jp-RenderedHTMLCommon h4,
.jp-RenderedHTMLCommon h5,
.jp-RenderedHTMLCommon h6 {
  line-height: var(--jp-content-heading-line-height);
  font-weight: var(--jp-content-heading-font-weight);
  font-style: normal;
  margin: var(--jp-content-heading-margin-top) 0
    var(--jp-content-heading-margin-bottom) 0;
}

.jp-RenderedHTMLCommon h1:first-child,
.jp-RenderedHTMLCommon h2:first-child,
.jp-RenderedHTMLCommon h3:first-child,
.jp-RenderedHTMLCommon h4:first-child,
.jp-RenderedHTMLCommon h5:first-child,
.jp-RenderedHTMLCommon h6:first-child {
  margin-top: calc(0.5 * var(--jp-content-heading-margin-top));
}

.jp-RenderedHTMLCommon h1:last-child,
.jp-RenderedHTMLCommon h2:last-child,
.jp-RenderedHTMLCommon h3:last-child,
.jp-RenderedHTMLCommon h4:last-child,
.jp-RenderedHTMLCommon h5:last-child,
.jp-RenderedHTMLCommon h6:last-child {
  margin-bottom: calc(0.5 * var(--jp-content-heading-margin-bottom));
}

.jp-RenderedHTMLCommon h1 {
  font-size: var(--jp-content-font-size5);
}

.jp-RenderedHTMLCommon h2 {
  font-size: var(--jp-content-font-size4);
}

.jp-RenderedHTMLCommon h3 {
  font-size: var(--jp-content-font-size3);
}

.jp-RenderedHTMLCommon h4 {
  font-size: var(--jp-content-font-size2);
}

.jp-RenderedHTMLCommon h5 {
  font-size: var(--jp-content-font-size1);
}

.jp-RenderedHTMLCommon h6 {
  font-size: var(--jp-content-font-size0);
}

/* Lists */

.jp-RenderedHTMLCommon ul:not(.list-inline),
.jp-RenderedHTMLCommon ol:not(.list-inline) {
  padding-left: 2em;
}

.jp-RenderedHTMLCommon ul {
  list-style: disc;
}

.jp-RenderedHTMLCommon ul ul {
  list-style: square;
}

.jp-RenderedHTMLCommon ul ul ul {
  list-style: circle;
}

.jp-RenderedHTMLCommon ol {
  list-style: decimal;
}

.jp-RenderedHTMLCommon ol ol {
  list-style: upper-alpha;
}

.jp-RenderedHTMLCommon ol ol ol {
  list-style: lower-alpha;
}

.jp-RenderedHTMLCommon ol ol ol ol {
  list-style: lower-roman;
}

.jp-RenderedHTMLCommon ol ol ol ol ol {
  list-style: decimal;
}

.jp-RenderedHTMLCommon ol,
.jp-RenderedHTMLCommon ul {
  margin-bottom: 1em;
}

.jp-RenderedHTMLCommon ul ul,
.jp-RenderedHTMLCommon ul ol,
.jp-RenderedHTMLCommon ol ul,
.jp-RenderedHTMLCommon ol ol {
  margin-bottom: 0em;
}

.jp-RenderedHTMLCommon hr {
  color: var(--jp-border-color2);
  background-color: var(--jp-border-color1);
  margin-top: 1em;
  margin-bottom: 1em;
}

.jp-RenderedHTMLCommon > pre {
  margin: 1.5em 2em;
}

.jp-RenderedHTMLCommon pre,
.jp-RenderedHTMLCommon code {
  border: 0;
  background-color: var(--jp-layout-color0);
  color: var(--jp-content-font-color1);
  font-family: var(--jp-code-font-family);
  font-size: inherit;
  line-height: var(--jp-code-line-height);
  padding: 0;
  white-space: pre-wrap;
}

.jp-RenderedHTMLCommon :not(pre) > code {
  background-color: var(--jp-layout-color2);
  padding: 1px 5px;
}

/* Tables */

.jp-RenderedHTMLCommon table {
  border-collapse: collapse;
  border-spacing: 0;
  border: none;
  color: var(--jp-ui-font-color1);
  font-size: 12px;
  table-layout: fixed;
  margin-left: auto;
  margin-right: auto;
}

.jp-RenderedHTMLCommon thead {
  border-bottom: var(--jp-border-width) solid var(--jp-border-color1);
  vertical-align: bottom;
}

.jp-RenderedHTMLCommon td,
.jp-RenderedHTMLCommon th,
.jp-RenderedHTMLCommon tr {
  vertical-align: middle;
  padding: 0.5em 0.5em;
  line-height: normal;
  white-space: normal;
  max-width: none;
  border: none;
}

.jp-RenderedMarkdown.jp-RenderedHTMLCommon td,
.jp-RenderedMarkdown.jp-RenderedHTMLCommon th {
  max-width: none;
}

:not(.jp-RenderedMarkdown).jp-RenderedHTMLCommon td,
:not(.jp-RenderedMarkdown).jp-RenderedHTMLCommon th,
:not(.jp-RenderedMarkdown).jp-RenderedHTMLCommon tr {
  text-align: right;
}

.jp-RenderedHTMLCommon th {
  font-weight: bold;
}

.jp-RenderedHTMLCommon tbody tr:nth-child(odd) {
  background: var(--jp-layout-color0);
}

.jp-RenderedHTMLCommon tbody tr:nth-child(even) {
  background: var(--jp-rendermime-table-row-background);
}

.jp-RenderedHTMLCommon tbody tr:hover {
  background: var(--jp-rendermime-table-row-hover-background);
}

.jp-RenderedHTMLCommon table {
  margin-bottom: 1em;
}

.jp-RenderedHTMLCommon p {
  text-align: left;
  margin: 0px;
}

.jp-RenderedHTMLCommon p {
  margin-bottom: 1em;
}

.jp-RenderedHTMLCommon img {
  -moz-force-broken-image-icon: 1;
}

/* Restrict to direct children as other images could be nested in other content. */
.jp-RenderedHTMLCommon > img {
  display: block;
  margin-left: 0;
  margin-right: 0;
  margin-bottom: 1em;
}

/* Change color behind transparent images if they need it... */
[data-jp-theme-light='false'] .jp-RenderedImage img.jp-needs-light-background {
  background-color: var(--jp-inverse-layout-color1);
}
[data-jp-theme-light='true'] .jp-RenderedImage img.jp-needs-dark-background {
  background-color: var(--jp-inverse-layout-color1);
}
/* ...or leave it untouched if they don't */
[data-jp-theme-light='false'] .jp-RenderedImage img.jp-needs-dark-background {
}
[data-jp-theme-light='true'] .jp-RenderedImage img.jp-needs-light-background {
}

.jp-RenderedHTMLCommon img,
.jp-RenderedImage img,
.jp-RenderedHTMLCommon svg,
.jp-RenderedSVG svg {
  max-width: 100%;
  height: auto;
}

.jp-RenderedHTMLCommon img.jp-mod-unconfined,
.jp-RenderedImage img.jp-mod-unconfined,
.jp-RenderedHTMLCommon svg.jp-mod-unconfined,
.jp-RenderedSVG svg.jp-mod-unconfined {
  max-width: none;
}

.jp-RenderedHTMLCommon .alert {
  padding: var(--jp-notebook-padding);
  border: var(--jp-border-width) solid transparent;
  border-radius: var(--jp-border-radius);
  margin-bottom: 1em;
}

.jp-RenderedHTMLCommon .alert-info {
  color: var(--jp-info-color0);
  background-color: var(--jp-info-color3);
  border-color: var(--jp-info-color2);
}
.jp-RenderedHTMLCommon .alert-info hr {
  border-color: var(--jp-info-color3);
}
.jp-RenderedHTMLCommon .alert-info > p:last-child,
.jp-RenderedHTMLCommon .alert-info > ul:last-child {
  margin-bottom: 0;
}

.jp-RenderedHTMLCommon .alert-warning {
  color: var(--jp-warn-color0);
  background-color: var(--jp-warn-color3);
  border-color: var(--jp-warn-color2);
}
.jp-RenderedHTMLCommon .alert-warning hr {
  border-color: var(--jp-warn-color3);
}
.jp-RenderedHTMLCommon .alert-warning > p:last-child,
.jp-RenderedHTMLCommon .alert-warning > ul:last-child {
  margin-bottom: 0;
}

.jp-RenderedHTMLCommon .alert-success {
  color: var(--jp-success-color0);
  background-color: var(--jp-success-color3);
  border-color: var(--jp-success-color2);
}
.jp-RenderedHTMLCommon .alert-success hr {
  border-color: var(--jp-success-color3);
}
.jp-RenderedHTMLCommon .alert-success > p:last-child,
.jp-RenderedHTMLCommon .alert-success > ul:last-child {
  margin-bottom: 0;
}

.jp-RenderedHTMLCommon .alert-danger {
  color: var(--jp-error-color0);
  background-color: var(--jp-error-color3);
  border-color: var(--jp-error-color2);
}
.jp-RenderedHTMLCommon .alert-danger hr {
  border-color: var(--jp-error-color3);
}
.jp-RenderedHTMLCommon .alert-danger > p:last-child,
.jp-RenderedHTMLCommon .alert-danger > ul:last-child {
  margin-bottom: 0;
}

.jp-RenderedHTMLCommon blockquote {
  margin: 1em 2em;
  padding: 0 1em;
  border-left: 5px solid var(--jp-border-color2);
}

a.jp-InternalAnchorLink {
  visibility: hidden;
  margin-left: 8px;
  color: var(--md-blue-800);
}

h1:hover .jp-InternalAnchorLink,
h2:hover .jp-InternalAnchorLink,
h3:hover .jp-InternalAnchorLink,
h4:hover .jp-InternalAnchorLink,
h5:hover .jp-InternalAnchorLink,
h6:hover .jp-InternalAnchorLink {
  visibility: visible;
}

.jp-RenderedHTMLCommon kbd {
  background-color: var(--jp-rendermime-table-row-background);
  border: 1px solid var(--jp-border-color0);
  border-bottom-color: var(--jp-border-color2);
  border-radius: 3px;
  box-shadow: inset 0 -1px 0 rgba(0, 0, 0, 0.25);
  display: inline-block;
  font-size: 0.8em;
  line-height: 1em;
  padding: 0.2em 0.5em;
}

/* Most direct children of .jp-RenderedHTMLCommon have a margin-bottom of 1.0.
 * At the bottom of cells this is a bit too much as there is also spacing
 * between cells. Going all the way to 0 gets too tight between markdown and
 * code cells.
 */
.jp-RenderedHTMLCommon > *:last-child {
  margin-bottom: 0.5em;
}

/*-----------------------------------------------------------------------------
| Copyright (c) Jupyter Development Team.
| Distributed under the terms of the Modified BSD License.
|----------------------------------------------------------------------------*/

.jp-MimeDocument {
  outline: none;
}

/*-----------------------------------------------------------------------------
| Copyright (c) Jupyter Development Team.
| Distributed under the terms of the Modified BSD License.
|----------------------------------------------------------------------------*/

/*-----------------------------------------------------------------------------
| Variables
|----------------------------------------------------------------------------*/

:root {
  --jp-private-filebrowser-button-height: 28px;
  --jp-private-filebrowser-button-width: 48px;
}

/*-----------------------------------------------------------------------------
| Copyright (c) Jupyter Development Team.
| Distributed under the terms of the Modified BSD License.
|----------------------------------------------------------------------------*/

.jp-FileBrowser {
  display: flex;
  flex-direction: column;
  color: var(--jp-ui-font-color1);
  background: var(--jp-layout-color1);
  /* This is needed so that all font sizing of children done in ems is
   * relative to this base size */
  font-size: var(--jp-ui-font-size1);
}

.jp-FileBrowser-toolbar.jp-Toolbar {
  border-bottom: none;
  height: auto;
  margin: var(--jp-toolbar-header-margin);
  box-shadow: none;
}

.jp-BreadCrumbs {
  flex: 0 0 auto;
  margin: 8px 12px 8px 12px;
}

.jp-BreadCrumbs-item {
  margin: 0px 2px;
  padding: 0px 2px;
  border-radius: var(--jp-border-radius);
  cursor: pointer;
}

.jp-BreadCrumbs-item:hover {
  background-color: var(--jp-layout-color2);
}

.jp-BreadCrumbs-item:first-child {
  margin-left: 0px;
}

.jp-BreadCrumbs-item.jp-mod-dropTarget {
  background-color: var(--jp-brand-color2);
  opacity: 0.7;
}

/*-----------------------------------------------------------------------------
| Buttons
|----------------------------------------------------------------------------*/

.jp-FileBrowser-toolbar.jp-Toolbar {
  padding: 0px;
  margin: 8px 12px 0px 12px;
}

.jp-FileBrowser-toolbar.jp-Toolbar {
  justify-content: flex-start;
}

.jp-FileBrowser-toolbar.jp-Toolbar .jp-Toolbar-item {
  flex: 0 0 auto;
  padding-left: 0px;
  padding-right: 2px;
}

.jp-FileBrowser-toolbar.jp-Toolbar .jp-ToolbarButtonComponent {
  width: 40px;
}

.jp-FileBrowser-toolbar.jp-Toolbar
  .jp-Toolbar-item:first-child
  .jp-ToolbarButtonComponent {
  width: 72px;
  background: var(--jp-brand-color1);
}

.jp-FileBrowser-toolbar.jp-Toolbar
  .jp-Toolbar-item:first-child
  .jp-ToolbarButtonComponent
  .jp-icon3 {
  fill: white;
}

/*-----------------------------------------------------------------------------
| Other styles
|----------------------------------------------------------------------------*/

.jp-FileDialog.jp-mod-conflict input {
  color: red;
}

.jp-FileDialog .jp-new-name-title {
  margin-top: 12px;
}

.jp-LastModified-hidden {
  display: none;
}

.jp-FileBrowser-filterBox {
  padding: 0px;
  flex: 0 0 auto;
  margin: 8px 12px 0px 12px;
}

/*-----------------------------------------------------------------------------
| DirListing
|----------------------------------------------------------------------------*/

.jp-DirListing {
  flex: 1 1 auto;
  display: flex;
  flex-direction: column;
  outline: 0;
}

.jp-DirListing-header {
  flex: 0 0 auto;
  display: flex;
  flex-direction: row;
  overflow: hidden;
  border-top: var(--jp-border-width) solid var(--jp-border-color2);
  border-bottom: var(--jp-border-width) solid var(--jp-border-color1);
  box-shadow: var(--jp-toolbar-box-shadow);
  z-index: 2;
}

.jp-DirListing-headerItem {
  padding: 4px 12px 2px 12px;
  font-weight: 500;
}

.jp-DirListing-headerItem:hover {
  background: var(--jp-layout-color2);
}

.jp-DirListing-headerItem.jp-id-name {
  flex: 1 0 84px;
}

.jp-DirListing-headerItem.jp-id-modified {
  flex: 0 0 112px;
  border-left: var(--jp-border-width) solid var(--jp-border-color2);
  text-align: right;
}

.jp-id-narrow {
  display: none;
  flex: 0 0 5px;
  padding: 4px 4px;
  border-left: var(--jp-border-width) solid var(--jp-border-color2);
  text-align: right;
  color: var(--jp-border-color2);
}

.jp-DirListing-narrow .jp-id-narrow {
  display: block;
}

.jp-DirListing-narrow .jp-id-modified,
.jp-DirListing-narrow .jp-DirListing-itemModified {
  display: none;
}

.jp-DirListing-headerItem.jp-mod-selected {
  font-weight: 600;
}

/* increase specificity to override bundled default */
.jp-DirListing-content {
  flex: 1 1 auto;
  margin: 0;
  padding: 0;
  list-style-type: none;
  overflow: auto;
  background-color: var(--jp-layout-color1);
}

.jp-DirListing-content mark {
  color: var(--jp-ui-font-color0);
  background-color: transparent;
  font-weight: bold;
}

/* Style the directory listing content when a user drops a file to upload */
.jp-DirListing.jp-mod-native-drop .jp-DirListing-content {
  outline: 5px dashed rgba(128, 128, 128, 0.5);
  outline-offset: -10px;
  cursor: copy;
}

.jp-DirListing-item {
  display: flex;
  flex-direction: row;
  padding: 4px 12px;
  -webkit-user-select: none;
  -moz-user-select: none;
  -ms-user-select: none;
  user-select: none;
}

.jp-DirListing-item[data-is-dot] {
  opacity: 75%;
}

.jp-DirListing-item.jp-mod-selected {
  color: white;
  background: var(--jp-brand-color1);
}

.jp-DirListing-item.jp-mod-dropTarget {
  background: var(--jp-brand-color3);
}

.jp-DirListing-item:hover:not(.jp-mod-selected) {
  background: var(--jp-layout-color2);
}

.jp-DirListing-itemIcon {
  flex: 0 0 20px;
  margin-right: 4px;
}

.jp-DirListing-itemText {
  flex: 1 0 64px;
  white-space: nowrap;
  overflow: hidden;
  text-overflow: ellipsis;
  user-select: none;
}

.jp-DirListing-itemModified {
  flex: 0 0 125px;
  text-align: right;
}

.jp-DirListing-editor {
  flex: 1 0 64px;
  outline: none;
  border: none;
}

.jp-DirListing-item.jp-mod-running .jp-DirListing-itemIcon:before {
  color: limegreen;
  content: '\25CF';
  font-size: 8px;
  position: absolute;
  left: -8px;
}

.jp-DirListing-item.lm-mod-drag-image,
.jp-DirListing-item.jp-mod-selected.lm-mod-drag-image {
  font-size: var(--jp-ui-font-size1);
  padding-left: 4px;
  margin-left: 4px;
  width: 160px;
  background-color: var(--jp-ui-inverse-font-color2);
  box-shadow: var(--jp-elevation-z2);
  border-radius: 0px;
  color: var(--jp-ui-font-color1);
  transform: translateX(-40%) translateY(-58%);
}

.jp-DirListing-deadSpace {
  flex: 1 1 auto;
  margin: 0;
  padding: 0;
  list-style-type: none;
  overflow: auto;
  background-color: var(--jp-layout-color1);
}

.jp-Document {
  min-width: 120px;
  min-height: 120px;
  outline: none;
}

/*-----------------------------------------------------------------------------
| Copyright (c) Jupyter Development Team.
| Distributed under the terms of the Modified BSD License.
|----------------------------------------------------------------------------*/

/*-----------------------------------------------------------------------------
| Private CSS variables
|----------------------------------------------------------------------------*/

:root {
}

/*-----------------------------------------------------------------------------
| Main OutputArea
| OutputArea has a list of Outputs
|----------------------------------------------------------------------------*/

.jp-OutputArea {
  overflow-y: auto;
}

.jp-OutputArea-child {
  display: flex;
  flex-direction: row;
}

.jp-OutputPrompt {
  flex: 0 0 var(--jp-cell-prompt-width);
  color: var(--jp-cell-outprompt-font-color);
  font-family: var(--jp-cell-prompt-font-family);
  padding: var(--jp-code-padding);
  letter-spacing: var(--jp-cell-prompt-letter-spacing);
  line-height: var(--jp-code-line-height);
  font-size: var(--jp-code-font-size);
  border: var(--jp-border-width) solid transparent;
  opacity: var(--jp-cell-prompt-opacity);
  /* Right align prompt text, don't wrap to handle large prompt numbers */
  text-align: right;
  white-space: nowrap;
  overflow: hidden;
  text-overflow: ellipsis;
  /* Disable text selection */
  -webkit-user-select: none;
  -moz-user-select: none;
  -ms-user-select: none;
  user-select: none;
}

.jp-OutputArea-output {
  height: auto;
  overflow: auto;
  user-select: text;
  -moz-user-select: text;
  -webkit-user-select: text;
  -ms-user-select: text;
}

.jp-OutputArea-child .jp-OutputArea-output {
  flex-grow: 1;
  flex-shrink: 1;
}

/**
 * Isolated output.
 */
.jp-OutputArea-output.jp-mod-isolated {
  width: 100%;
  display: block;
}

/*
When drag events occur, `p-mod-override-cursor` is added to the body.
Because iframes steal all cursor events, the following two rules are necessary
to suppress pointer events while resize drags are occurring. There may be a
better solution to this problem.
*/
body.lm-mod-override-cursor .jp-OutputArea-output.jp-mod-isolated {
  position: relative;
}

body.lm-mod-override-cursor .jp-OutputArea-output.jp-mod-isolated:before {
  content: '';
  position: absolute;
  top: 0;
  left: 0;
  right: 0;
  bottom: 0;
  background: transparent;
}

/* pre */

.jp-OutputArea-output pre {
  border: none;
  margin: 0px;
  padding: 0px;
  overflow-x: auto;
  overflow-y: auto;
  word-break: break-all;
  word-wrap: break-word;
  white-space: pre-wrap;
}

/* tables */

.jp-OutputArea-output.jp-RenderedHTMLCommon table {
  margin-left: 0;
  margin-right: 0;
}

/* description lists */

.jp-OutputArea-output dl,
.jp-OutputArea-output dt,
.jp-OutputArea-output dd {
  display: block;
}

.jp-OutputArea-output dl {
  width: 100%;
  overflow: hidden;
  padding: 0;
  margin: 0;
}

.jp-OutputArea-output dt {
  font-weight: bold;
  float: left;
  width: 20%;
  padding: 0;
  margin: 0;
}

.jp-OutputArea-output dd {
  float: left;
  width: 80%;
  padding: 0;
  margin: 0;
}

/* Hide the gutter in case of
 *  - nested output areas (e.g. in the case of output widgets)
 *  - mirrored output areas
 */
.jp-OutputArea .jp-OutputArea .jp-OutputArea-prompt {
  display: none;
}

/*-----------------------------------------------------------------------------
| executeResult is added to any Output-result for the display of the object
| returned by a cell
|----------------------------------------------------------------------------*/

.jp-OutputArea-output.jp-OutputArea-executeResult {
  margin-left: 0px;
  flex: 1 1 auto;
}

/* Text output with the Out[] prompt needs a top padding to match the
 * alignment of the Out[] prompt itself.
 */
.jp-OutputArea-executeResult .jp-RenderedText.jp-OutputArea-output {
  padding-top: var(--jp-code-padding);
  border-top: var(--jp-border-width) solid transparent;
}

/*-----------------------------------------------------------------------------
| The Stdin output
|----------------------------------------------------------------------------*/

.jp-OutputArea-stdin {
  line-height: var(--jp-code-line-height);
  padding-top: var(--jp-code-padding);
  display: flex;
}

.jp-Stdin-prompt {
  color: var(--jp-content-font-color0);
  padding-right: var(--jp-code-padding);
  vertical-align: baseline;
  flex: 0 0 auto;
}

.jp-Stdin-input {
  font-family: var(--jp-code-font-family);
  font-size: inherit;
  color: inherit;
  background-color: inherit;
  width: 42%;
  min-width: 200px;
  /* make sure input baseline aligns with prompt */
  vertical-align: baseline;
  /* padding + margin = 0.5em between prompt and cursor */
  padding: 0em 0.25em;
  margin: 0em 0.25em;
  flex: 0 0 70%;
}

.jp-Stdin-input:focus {
  box-shadow: none;
}

/*-----------------------------------------------------------------------------
| Output Area View
|----------------------------------------------------------------------------*/

.jp-LinkedOutputView .jp-OutputArea {
  height: 100%;
  display: block;
}

.jp-LinkedOutputView .jp-OutputArea-output:only-child {
  height: 100%;
}

/*-----------------------------------------------------------------------------
| Copyright (c) Jupyter Development Team.
| Distributed under the terms of the Modified BSD License.
|----------------------------------------------------------------------------*/

.jp-Collapser {
  flex: 0 0 var(--jp-cell-collapser-width);
  padding: 0px;
  margin: 0px;
  border: none;
  outline: none;
  background: transparent;
  border-radius: var(--jp-border-radius);
  opacity: 1;
}

.jp-Collapser-child {
  display: block;
  width: 100%;
  box-sizing: border-box;
  /* height: 100% doesn't work because the height of its parent is computed from content */
  position: absolute;
  top: 0px;
  bottom: 0px;
}

/*-----------------------------------------------------------------------------
| Copyright (c) Jupyter Development Team.
| Distributed under the terms of the Modified BSD License.
|----------------------------------------------------------------------------*/

/*-----------------------------------------------------------------------------
| Header/Footer
|----------------------------------------------------------------------------*/

/* Hidden by zero height by default */
.jp-CellHeader,
.jp-CellFooter {
  height: 0px;
  width: 100%;
  padding: 0px;
  margin: 0px;
  border: none;
  outline: none;
  background: transparent;
}

/*-----------------------------------------------------------------------------
| Copyright (c) Jupyter Development Team.
| Distributed under the terms of the Modified BSD License.
|----------------------------------------------------------------------------*/

/*-----------------------------------------------------------------------------
| Input
|----------------------------------------------------------------------------*/

/* All input areas */
.jp-InputArea {
  display: flex;
  flex-direction: row;
  overflow: hidden;
}

.jp-InputArea-editor {
  flex: 1 1 auto;
  overflow: hidden;
}

.jp-InputArea-editor {
  /* This is the non-active, default styling */
  border: var(--jp-border-width) solid var(--jp-cell-editor-border-color);
  border-radius: 0px;
  background: var(--jp-cell-editor-background);
}

.jp-InputPrompt {
  flex: 0 0 var(--jp-cell-prompt-width);
  color: var(--jp-cell-inprompt-font-color);
  font-family: var(--jp-cell-prompt-font-family);
  padding: var(--jp-code-padding);
  letter-spacing: var(--jp-cell-prompt-letter-spacing);
  opacity: var(--jp-cell-prompt-opacity);
  line-height: var(--jp-code-line-height);
  font-size: var(--jp-code-font-size);
  border: var(--jp-border-width) solid transparent;
  opacity: var(--jp-cell-prompt-opacity);
  /* Right align prompt text, don't wrap to handle large prompt numbers */
  text-align: right;
  white-space: nowrap;
  overflow: hidden;
  text-overflow: ellipsis;
  /* Disable text selection */
  -webkit-user-select: none;
  -moz-user-select: none;
  -ms-user-select: none;
  user-select: none;
}

/*-----------------------------------------------------------------------------
| Copyright (c) Jupyter Development Team.
| Distributed under the terms of the Modified BSD License.
|----------------------------------------------------------------------------*/

/*-----------------------------------------------------------------------------
| Placeholder
|----------------------------------------------------------------------------*/

.jp-Placeholder {
  display: flex;
  flex-direction: row;
  flex: 1 1 auto;
}

.jp-Placeholder-prompt {
  box-sizing: border-box;
}

.jp-Placeholder-content {
  flex: 1 1 auto;
  border: none;
  background: transparent;
  height: 20px;
  box-sizing: border-box;
}

.jp-Placeholder-content .jp-MoreHorizIcon {
  width: 32px;
  height: 16px;
  border: 1px solid transparent;
  border-radius: var(--jp-border-radius);
}

.jp-Placeholder-content .jp-MoreHorizIcon:hover {
  border: 1px solid var(--jp-border-color1);
  box-shadow: 0px 0px 2px 0px rgba(0, 0, 0, 0.25);
  background-color: var(--jp-layout-color0);
}

/*-----------------------------------------------------------------------------
| Copyright (c) Jupyter Development Team.
| Distributed under the terms of the Modified BSD License.
|----------------------------------------------------------------------------*/

/*-----------------------------------------------------------------------------
| Private CSS variables
|----------------------------------------------------------------------------*/

:root {
  --jp-private-cell-scrolling-output-offset: 5px;
}

/*-----------------------------------------------------------------------------
| Cell
|----------------------------------------------------------------------------*/

.jp-Cell {
  padding: var(--jp-cell-padding);
  margin: 0px;
  border: none;
  outline: none;
  background: transparent;
}

/*-----------------------------------------------------------------------------
| Common input/output
|----------------------------------------------------------------------------*/

.jp-Cell-inputWrapper,
.jp-Cell-outputWrapper {
  display: flex;
  flex-direction: row;
  padding: 0px;
  margin: 0px;
  /* Added to reveal the box-shadow on the input and output collapsers. */
  overflow: visible;
}

/* Only input/output areas inside cells */
.jp-Cell-inputArea,
.jp-Cell-outputArea {
  flex: 1 1 auto;
}

/*-----------------------------------------------------------------------------
| Collapser
|----------------------------------------------------------------------------*/

/* Make the output collapser disappear when there is not output, but do so
 * in a manner that leaves it in the layout and preserves its width.
 */
.jp-Cell.jp-mod-noOutputs .jp-Cell-outputCollapser {
  border: none !important;
  background: transparent !important;
}

.jp-Cell:not(.jp-mod-noOutputs) .jp-Cell-outputCollapser {
  min-height: var(--jp-cell-collapser-min-height);
}

/*-----------------------------------------------------------------------------
| Output
|----------------------------------------------------------------------------*/

/* Put a space between input and output when there IS output */
.jp-Cell:not(.jp-mod-noOutputs) .jp-Cell-outputWrapper {
  margin-top: 5px;
}

.jp-CodeCell.jp-mod-outputsScrolled .jp-Cell-outputArea {
  overflow-y: auto;
  max-height: 200px;
  box-shadow: inset 0 0 6px 2px rgba(0, 0, 0, 0.3);
  margin-left: var(--jp-private-cell-scrolling-output-offset);
}

.jp-CodeCell.jp-mod-outputsScrolled .jp-OutputArea-prompt {
  flex: 0 0
    calc(
      var(--jp-cell-prompt-width) -
        var(--jp-private-cell-scrolling-output-offset)
    );
}

/*-----------------------------------------------------------------------------
| CodeCell
|----------------------------------------------------------------------------*/

/*-----------------------------------------------------------------------------
| MarkdownCell
|----------------------------------------------------------------------------*/

.jp-MarkdownOutput {
  flex: 1 1 auto;
  margin-top: 0;
  margin-bottom: 0;
  padding-left: var(--jp-code-padding);
}

.jp-MarkdownOutput.jp-RenderedHTMLCommon {
  overflow: auto;
}

/*-----------------------------------------------------------------------------
| Copyright (c) Jupyter Development Team.
| Distributed under the terms of the Modified BSD License.
|----------------------------------------------------------------------------*/

/*-----------------------------------------------------------------------------
| Copyright (c) Jupyter Development Team.
| Distributed under the terms of the Modified BSD License.
|----------------------------------------------------------------------------*/

/*-----------------------------------------------------------------------------
| Variables
|----------------------------------------------------------------------------*/

/*-----------------------------------------------------------------------------

/*-----------------------------------------------------------------------------
| Styles
|----------------------------------------------------------------------------*/

.jp-NotebookPanel-toolbar {
  padding: 2px;
}

.jp-Toolbar-item.jp-Notebook-toolbarCellType .jp-select-wrapper.jp-mod-focused {
  border: none;
  box-shadow: none;
}

.jp-Notebook-toolbarCellTypeDropdown select {
  height: 24px;
  font-size: var(--jp-ui-font-size1);
  line-height: 14px;
  border-radius: 0;
  display: block;
}

.jp-Notebook-toolbarCellTypeDropdown span {
  top: 5px !important;
}

/*-----------------------------------------------------------------------------
| Copyright (c) Jupyter Development Team.
| Distributed under the terms of the Modified BSD License.
|----------------------------------------------------------------------------*/

/*-----------------------------------------------------------------------------
| Private CSS variables
|----------------------------------------------------------------------------*/

:root {
  --jp-private-notebook-dragImage-width: 304px;
  --jp-private-notebook-dragImage-height: 36px;
  --jp-private-notebook-selected-color: var(--md-blue-400);
  --jp-private-notebook-active-color: var(--md-green-400);
}

/*-----------------------------------------------------------------------------
| Imports
|----------------------------------------------------------------------------*/

/*-----------------------------------------------------------------------------
| Notebook
|----------------------------------------------------------------------------*/

.jp-NotebookPanel {
  display: block;
  height: 100%;
}

.jp-NotebookPanel.jp-Document {
  min-width: 240px;
  min-height: 120px;
}

.jp-Notebook {
  padding: var(--jp-notebook-padding);
  outline: none;
  overflow: auto;
  background: var(--jp-layout-color0);
}

.jp-Notebook.jp-mod-scrollPastEnd::after {
  display: block;
  content: '';
  min-height: var(--jp-notebook-scroll-padding);
}

.jp-Notebook .jp-Cell {
  overflow: visible;
}

.jp-Notebook .jp-Cell .jp-InputPrompt {
  cursor: move;
}

/*-----------------------------------------------------------------------------
| Notebook state related styling
|
| The notebook and cells each have states, here are the possibilities:
|
| - Notebook
|   - Command
|   - Edit
| - Cell
|   - None
|   - Active (only one can be active)
|   - Selected (the cells actions are applied to)
|   - Multiselected (when multiple selected, the cursor)
|   - No outputs
|----------------------------------------------------------------------------*/

/* Command or edit modes */

.jp-Notebook .jp-Cell:not(.jp-mod-active) .jp-InputPrompt {
  opacity: var(--jp-cell-prompt-not-active-opacity);
  color: var(--jp-cell-prompt-not-active-font-color);
}

.jp-Notebook .jp-Cell:not(.jp-mod-active) .jp-OutputPrompt {
  opacity: var(--jp-cell-prompt-not-active-opacity);
  color: var(--jp-cell-prompt-not-active-font-color);
}

/* cell is active */
.jp-Notebook .jp-Cell.jp-mod-active .jp-Collapser {
  background: var(--jp-brand-color1);
}

/* collapser is hovered */
.jp-Notebook .jp-Cell .jp-Collapser:hover {
  box-shadow: var(--jp-elevation-z2);
  background: var(--jp-brand-color1);
  opacity: var(--jp-cell-collapser-not-active-hover-opacity);
}

/* cell is active and collapser is hovered */
.jp-Notebook .jp-Cell.jp-mod-active .jp-Collapser:hover {
  background: var(--jp-brand-color0);
  opacity: 1;
}

/* Command mode */

.jp-Notebook.jp-mod-commandMode .jp-Cell.jp-mod-selected {
  background: var(--jp-notebook-multiselected-color);
}

.jp-Notebook.jp-mod-commandMode
  .jp-Cell.jp-mod-active.jp-mod-selected:not(.jp-mod-multiSelected) {
  background: transparent;
}

/* Edit mode */

.jp-Notebook.jp-mod-editMode .jp-Cell.jp-mod-active .jp-InputArea-editor {
  border: var(--jp-border-width) solid var(--jp-cell-editor-active-border-color);
  box-shadow: var(--jp-input-box-shadow);
  background-color: var(--jp-cell-editor-active-background);
}

/*-----------------------------------------------------------------------------
| Notebook drag and drop
|----------------------------------------------------------------------------*/

.jp-Notebook-cell.jp-mod-dropSource {
  opacity: 0.5;
}

.jp-Notebook-cell.jp-mod-dropTarget,
.jp-Notebook.jp-mod-commandMode
  .jp-Notebook-cell.jp-mod-active.jp-mod-selected.jp-mod-dropTarget {
  border-top-color: var(--jp-private-notebook-selected-color);
  border-top-style: solid;
  border-top-width: 2px;
}

.jp-dragImage {
  display: flex;
  flex-direction: row;
  width: var(--jp-private-notebook-dragImage-width);
  height: var(--jp-private-notebook-dragImage-height);
  border: var(--jp-border-width) solid var(--jp-cell-editor-border-color);
  background: var(--jp-cell-editor-background);
  overflow: visible;
}

.jp-dragImage-singlePrompt {
  box-shadow: 2px 2px 4px 0px rgba(0, 0, 0, 0.12);
}

.jp-dragImage .jp-dragImage-content {
  flex: 1 1 auto;
  z-index: 2;
  font-size: var(--jp-code-font-size);
  font-family: var(--jp-code-font-family);
  line-height: var(--jp-code-line-height);
  padding: var(--jp-code-padding);
  border: var(--jp-border-width) solid var(--jp-cell-editor-border-color);
  background: var(--jp-cell-editor-background-color);
  color: var(--jp-content-font-color3);
  text-align: left;
  margin: 4px 4px 4px 0px;
}

.jp-dragImage .jp-dragImage-prompt {
  flex: 0 0 auto;
  min-width: 36px;
  color: var(--jp-cell-inprompt-font-color);
  padding: var(--jp-code-padding);
  padding-left: 12px;
  font-family: var(--jp-cell-prompt-font-family);
  letter-spacing: var(--jp-cell-prompt-letter-spacing);
  line-height: 1.9;
  font-size: var(--jp-code-font-size);
  border: var(--jp-border-width) solid transparent;
}

.jp-dragImage-multipleBack {
  z-index: -1;
  position: absolute;
  height: 32px;
  width: 300px;
  top: 8px;
  left: 8px;
  background: var(--jp-layout-color2);
  border: var(--jp-border-width) solid var(--jp-input-border-color);
  box-shadow: 2px 2px 4px 0px rgba(0, 0, 0, 0.12);
}

/*-----------------------------------------------------------------------------
| Cell toolbar
|----------------------------------------------------------------------------*/

.jp-NotebookTools {
  display: block;
  min-width: var(--jp-sidebar-min-width);
  color: var(--jp-ui-font-color1);
  background: var(--jp-layout-color1);
  /* This is needed so that all font sizing of children done in ems is
    * relative to this base size */
  font-size: var(--jp-ui-font-size1);
  overflow: auto;
}

.jp-NotebookTools-tool {
  padding: 0px 12px 0 12px;
}

.jp-ActiveCellTool {
  padding: 12px;
  background-color: var(--jp-layout-color1);
  border-top: none !important;
}

.jp-ActiveCellTool .jp-InputArea-prompt {
  flex: 0 0 auto;
  padding-left: 0px;
}

.jp-ActiveCellTool .jp-InputArea-editor {
  flex: 1 1 auto;
  background: var(--jp-cell-editor-background);
  border-color: var(--jp-cell-editor-border-color);
}

.jp-ActiveCellTool .jp-InputArea-editor .CodeMirror {
  background: transparent;
}

.jp-MetadataEditorTool {
  flex-direction: column;
  padding: 12px 0px 12px 0px;
}

.jp-RankedPanel > :not(:first-child) {
  margin-top: 12px;
}

.jp-KeySelector select.jp-mod-styled {
  font-size: var(--jp-ui-font-size1);
  color: var(--jp-ui-font-color0);
  border: var(--jp-border-width) solid var(--jp-border-color1);
}

.jp-KeySelector label,
.jp-MetadataEditorTool label {
  line-height: 1.4;
}

.jp-NotebookTools .jp-select-wrapper {
  margin-top: 4px;
  margin-bottom: 0px;
}

.jp-NotebookTools .jp-Collapse {
  margin-top: 16px;
}

/*-----------------------------------------------------------------------------
| Presentation Mode (.jp-mod-presentationMode)
|----------------------------------------------------------------------------*/

.jp-mod-presentationMode .jp-Notebook {
  --jp-content-font-size1: var(--jp-content-presentation-font-size1);
  --jp-code-font-size: var(--jp-code-presentation-font-size);
}

.jp-mod-presentationMode .jp-Notebook .jp-Cell .jp-InputPrompt,
.jp-mod-presentationMode .jp-Notebook .jp-Cell .jp-OutputPrompt {
  flex: 0 0 110px;
}

</style>

    <style type="text/css">
/*-----------------------------------------------------------------------------
| Copyright (c) Jupyter Development Team.
| Distributed under the terms of the Modified BSD License.
|----------------------------------------------------------------------------*/

/*
The following CSS variables define the main, public API for styling JupyterLab.
These variables should be used by all plugins wherever possible. In other
words, plugins should not define custom colors, sizes, etc unless absolutely
necessary. This enables users to change the visual theme of JupyterLab
by changing these variables.

Many variables appear in an ordered sequence (0,1,2,3). These sequences
are designed to work well together, so for example, `--jp-border-color1` should
be used with `--jp-layout-color1`. The numbers have the following meanings:

* 0: super-primary, reserved for special emphasis
* 1: primary, most important under normal situations
* 2: secondary, next most important under normal situations
* 3: tertiary, next most important under normal situations

Throughout JupyterLab, we are mostly following principles from Google's
Material Design when selecting colors. We are not, however, following
all of MD as it is not optimized for dense, information rich UIs.
*/

:root {
  /* Elevation
   *
   * We style box-shadows using Material Design's idea of elevation. These particular numbers are taken from here:
   *
   * https://github.com/material-components/material-components-web
   * https://material-components-web.appspot.com/elevation.html
   */

  --jp-shadow-base-lightness: 0;
  --jp-shadow-umbra-color: rgba(
    var(--jp-shadow-base-lightness),
    var(--jp-shadow-base-lightness),
    var(--jp-shadow-base-lightness),
    0.2
  );
  --jp-shadow-penumbra-color: rgba(
    var(--jp-shadow-base-lightness),
    var(--jp-shadow-base-lightness),
    var(--jp-shadow-base-lightness),
    0.14
  );
  --jp-shadow-ambient-color: rgba(
    var(--jp-shadow-base-lightness),
    var(--jp-shadow-base-lightness),
    var(--jp-shadow-base-lightness),
    0.12
  );
  --jp-elevation-z0: none;
  --jp-elevation-z1: 0px 2px 1px -1px var(--jp-shadow-umbra-color),
    0px 1px 1px 0px var(--jp-shadow-penumbra-color),
    0px 1px 3px 0px var(--jp-shadow-ambient-color);
  --jp-elevation-z2: 0px 3px 1px -2px var(--jp-shadow-umbra-color),
    0px 2px 2px 0px var(--jp-shadow-penumbra-color),
    0px 1px 5px 0px var(--jp-shadow-ambient-color);
  --jp-elevation-z4: 0px 2px 4px -1px var(--jp-shadow-umbra-color),
    0px 4px 5px 0px var(--jp-shadow-penumbra-color),
    0px 1px 10px 0px var(--jp-shadow-ambient-color);
  --jp-elevation-z6: 0px 3px 5px -1px var(--jp-shadow-umbra-color),
    0px 6px 10px 0px var(--jp-shadow-penumbra-color),
    0px 1px 18px 0px var(--jp-shadow-ambient-color);
  --jp-elevation-z8: 0px 5px 5px -3px var(--jp-shadow-umbra-color),
    0px 8px 10px 1px var(--jp-shadow-penumbra-color),
    0px 3px 14px 2px var(--jp-shadow-ambient-color);
  --jp-elevation-z12: 0px 7px 8px -4px var(--jp-shadow-umbra-color),
    0px 12px 17px 2px var(--jp-shadow-penumbra-color),
    0px 5px 22px 4px var(--jp-shadow-ambient-color);
  --jp-elevation-z16: 0px 8px 10px -5px var(--jp-shadow-umbra-color),
    0px 16px 24px 2px var(--jp-shadow-penumbra-color),
    0px 6px 30px 5px var(--jp-shadow-ambient-color);
  --jp-elevation-z20: 0px 10px 13px -6px var(--jp-shadow-umbra-color),
    0px 20px 31px 3px var(--jp-shadow-penumbra-color),
    0px 8px 38px 7px var(--jp-shadow-ambient-color);
  --jp-elevation-z24: 0px 11px 15px -7px var(--jp-shadow-umbra-color),
    0px 24px 38px 3px var(--jp-shadow-penumbra-color),
    0px 9px 46px 8px var(--jp-shadow-ambient-color);

  /* Borders
   *
   * The following variables, specify the visual styling of borders in JupyterLab.
   */

  --jp-border-width: 1px;
  --jp-border-color0: var(--md-grey-400);
  --jp-border-color1: var(--md-grey-400);
  --jp-border-color2: var(--md-grey-300);
  --jp-border-color3: var(--md-grey-200);
  --jp-border-radius: 2px;

  /* UI Fonts
   *
   * The UI font CSS variables are used for the typography all of the JupyterLab
   * user interface elements that are not directly user generated content.
   *
   * The font sizing here is done assuming that the body font size of --jp-ui-font-size1
   * is applied to a parent element. When children elements, such as headings, are sized
   * in em all things will be computed relative to that body size.
   */

  --jp-ui-font-scale-factor: 1.2;
  --jp-ui-font-size0: 0.83333em;
  --jp-ui-font-size1: 13px; /* Base font size */
  --jp-ui-font-size2: 1.2em;
  --jp-ui-font-size3: 1.44em;

  --jp-ui-font-family: -apple-system, BlinkMacSystemFont, 'Segoe UI', Helvetica,
    Arial, sans-serif, 'Apple Color Emoji', 'Segoe UI Emoji', 'Segoe UI Symbol';

  /*
   * Use these font colors against the corresponding main layout colors.
   * In a light theme, these go from dark to light.
   */

  /* Defaults use Material Design specification */
  --jp-ui-font-color0: rgba(0, 0, 0, 1);
  --jp-ui-font-color1: rgba(0, 0, 0, 0.87);
  --jp-ui-font-color2: rgba(0, 0, 0, 0.54);
  --jp-ui-font-color3: rgba(0, 0, 0, 0.38);

  /*
   * Use these against the brand/accent/warn/error colors.
   * These will typically go from light to darker, in both a dark and light theme.
   */

  --jp-ui-inverse-font-color0: rgba(255, 255, 255, 1);
  --jp-ui-inverse-font-color1: rgba(255, 255, 255, 1);
  --jp-ui-inverse-font-color2: rgba(255, 255, 255, 0.7);
  --jp-ui-inverse-font-color3: rgba(255, 255, 255, 0.5);

  /* Content Fonts
   *
   * Content font variables are used for typography of user generated content.
   *
   * The font sizing here is done assuming that the body font size of --jp-content-font-size1
   * is applied to a parent element. When children elements, such as headings, are sized
   * in em all things will be computed relative to that body size.
   */

  --jp-content-line-height: 1.6;
  --jp-content-font-scale-factor: 1.2;
  --jp-content-font-size0: 0.83333em;
  --jp-content-font-size1: 14px; /* Base font size */
  --jp-content-font-size2: 1.2em;
  --jp-content-font-size3: 1.44em;
  --jp-content-font-size4: 1.728em;
  --jp-content-font-size5: 2.0736em;

  /* This gives a magnification of about 125% in presentation mode over normal. */
  --jp-content-presentation-font-size1: 17px;

  --jp-content-heading-line-height: 1;
  --jp-content-heading-margin-top: 1.2em;
  --jp-content-heading-margin-bottom: 0.8em;
  --jp-content-heading-font-weight: 500;

  /* Defaults use Material Design specification */
  --jp-content-font-color0: rgba(0, 0, 0, 1);
  --jp-content-font-color1: rgba(0, 0, 0, 0.87);
  --jp-content-font-color2: rgba(0, 0, 0, 0.54);
  --jp-content-font-color3: rgba(0, 0, 0, 0.38);

  --jp-content-link-color: var(--md-blue-700);

  --jp-content-font-family: -apple-system, BlinkMacSystemFont, 'Segoe UI',
    Helvetica, Arial, sans-serif, 'Apple Color Emoji', 'Segoe UI Emoji',
    'Segoe UI Symbol';

  /*
   * Code Fonts
   *
   * Code font variables are used for typography of code and other monospaces content.
   */

  --jp-code-font-size: 13px;
  --jp-code-line-height: 1.3077; /* 17px for 13px base */
  --jp-code-padding: 5px; /* 5px for 13px base, codemirror highlighting needs integer px value */
  --jp-code-font-family-default: Menlo, Consolas, 'DejaVu Sans Mono', monospace;
  --jp-code-font-family: var(--jp-code-font-family-default);

  /* This gives a magnification of about 125% in presentation mode over normal. */
  --jp-code-presentation-font-size: 16px;

  /* may need to tweak cursor width if you change font size */
  --jp-code-cursor-width0: 1.4px;
  --jp-code-cursor-width1: 2px;
  --jp-code-cursor-width2: 4px;

  /* Layout
   *
   * The following are the main layout colors use in JupyterLab. In a light
   * theme these would go from light to dark.
   */

  --jp-layout-color0: white;
  --jp-layout-color1: white;
  --jp-layout-color2: var(--md-grey-200);
  --jp-layout-color3: var(--md-grey-400);
  --jp-layout-color4: var(--md-grey-600);

  /* Inverse Layout
   *
   * The following are the inverse layout colors use in JupyterLab. In a light
   * theme these would go from dark to light.
   */

  --jp-inverse-layout-color0: #111111;
  --jp-inverse-layout-color1: var(--md-grey-900);
  --jp-inverse-layout-color2: var(--md-grey-800);
  --jp-inverse-layout-color3: var(--md-grey-700);
  --jp-inverse-layout-color4: var(--md-grey-600);

  /* Brand/accent */

  --jp-brand-color0: var(--md-blue-700);
  --jp-brand-color1: var(--md-blue-500);
  --jp-brand-color2: var(--md-blue-300);
  --jp-brand-color3: var(--md-blue-100);
  --jp-brand-color4: var(--md-blue-50);

  --jp-accent-color0: var(--md-green-700);
  --jp-accent-color1: var(--md-green-500);
  --jp-accent-color2: var(--md-green-300);
  --jp-accent-color3: var(--md-green-100);

  /* State colors (warn, error, success, info) */

  --jp-warn-color0: var(--md-orange-700);
  --jp-warn-color1: var(--md-orange-500);
  --jp-warn-color2: var(--md-orange-300);
  --jp-warn-color3: var(--md-orange-100);

  --jp-error-color0: var(--md-red-700);
  --jp-error-color1: var(--md-red-500);
  --jp-error-color2: var(--md-red-300);
  --jp-error-color3: var(--md-red-100);

  --jp-success-color0: var(--md-green-700);
  --jp-success-color1: var(--md-green-500);
  --jp-success-color2: var(--md-green-300);
  --jp-success-color3: var(--md-green-100);

  --jp-info-color0: var(--md-cyan-700);
  --jp-info-color1: var(--md-cyan-500);
  --jp-info-color2: var(--md-cyan-300);
  --jp-info-color3: var(--md-cyan-100);

  /* Cell specific styles */

  --jp-cell-padding: 5px;

  --jp-cell-collapser-width: 8px;
  --jp-cell-collapser-min-height: 20px;
  --jp-cell-collapser-not-active-hover-opacity: 0.6;

  --jp-cell-editor-background: var(--md-grey-100);
  --jp-cell-editor-border-color: var(--md-grey-300);
  --jp-cell-editor-box-shadow: inset 0 0 2px var(--md-blue-300);
  --jp-cell-editor-active-background: var(--jp-layout-color0);
  --jp-cell-editor-active-border-color: var(--jp-brand-color1);

  --jp-cell-prompt-width: 64px;
  --jp-cell-prompt-font-family: var(--jp-code-font-family-default);
  --jp-cell-prompt-letter-spacing: 0px;
  --jp-cell-prompt-opacity: 1;
  --jp-cell-prompt-not-active-opacity: 0.5;
  --jp-cell-prompt-not-active-font-color: var(--md-grey-700);
  /* A custom blend of MD grey and blue 600
   * See https://meyerweb.com/eric/tools/color-blend/#546E7A:1E88E5:5:hex */
  --jp-cell-inprompt-font-color: #307fc1;
  /* A custom blend of MD grey and orange 600
   * https://meyerweb.com/eric/tools/color-blend/#546E7A:F4511E:5:hex */
  --jp-cell-outprompt-font-color: #bf5b3d;

  /* Notebook specific styles */

  --jp-notebook-padding: 10px;
  --jp-notebook-select-background: var(--jp-layout-color1);
  --jp-notebook-multiselected-color: var(--md-blue-50);

  /* The scroll padding is calculated to fill enough space at the bottom of the
  notebook to show one single-line cell (with appropriate padding) at the top
  when the notebook is scrolled all the way to the bottom. We also subtract one
  pixel so that no scrollbar appears if we have just one single-line cell in the
  notebook. This padding is to enable a 'scroll past end' feature in a notebook.
  */
  --jp-notebook-scroll-padding: calc(
    100% - var(--jp-code-font-size) * var(--jp-code-line-height) -
      var(--jp-code-padding) - var(--jp-cell-padding) - 1px
  );

  /* Rendermime styles */

  --jp-rendermime-error-background: #fdd;
  --jp-rendermime-table-row-background: var(--md-grey-100);
  --jp-rendermime-table-row-hover-background: var(--md-light-blue-50);

  /* Dialog specific styles */

  --jp-dialog-background: rgba(0, 0, 0, 0.25);

  /* Console specific styles */

  --jp-console-padding: 10px;

  /* Toolbar specific styles */

  --jp-toolbar-border-color: var(--jp-border-color1);
  --jp-toolbar-micro-height: 8px;
  --jp-toolbar-background: var(--jp-layout-color1);
  --jp-toolbar-box-shadow: 0px 0px 2px 0px rgba(0, 0, 0, 0.24);
  --jp-toolbar-header-margin: 4px 4px 0px 4px;
  --jp-toolbar-active-background: var(--md-grey-300);

  /* Input field styles */

  --jp-input-box-shadow: inset 0 0 2px var(--md-blue-300);
  --jp-input-active-background: var(--jp-layout-color1);
  --jp-input-hover-background: var(--jp-layout-color1);
  --jp-input-background: var(--md-grey-100);
  --jp-input-border-color: var(--jp-border-color1);
  --jp-input-active-border-color: var(--jp-brand-color1);
  --jp-input-active-box-shadow-color: rgba(19, 124, 189, 0.3);

  /* General editor styles */

  --jp-editor-selected-background: #d9d9d9;
  --jp-editor-selected-focused-background: #d7d4f0;
  --jp-editor-cursor-color: var(--jp-ui-font-color0);

  /* Code mirror specific styles */

  --jp-mirror-editor-keyword-color: #008000;
  --jp-mirror-editor-atom-color: #88f;
  --jp-mirror-editor-number-color: #080;
  --jp-mirror-editor-def-color: #00f;
  --jp-mirror-editor-variable-color: var(--md-grey-900);
  --jp-mirror-editor-variable-2-color: #05a;
  --jp-mirror-editor-variable-3-color: #085;
  --jp-mirror-editor-punctuation-color: #05a;
  --jp-mirror-editor-property-color: #05a;
  --jp-mirror-editor-operator-color: #aa22ff;
  --jp-mirror-editor-comment-color: #408080;
  --jp-mirror-editor-string-color: #ba2121;
  --jp-mirror-editor-string-2-color: #708;
  --jp-mirror-editor-meta-color: #aa22ff;
  --jp-mirror-editor-qualifier-color: #555;
  --jp-mirror-editor-builtin-color: #008000;
  --jp-mirror-editor-bracket-color: #997;
  --jp-mirror-editor-tag-color: #170;
  --jp-mirror-editor-attribute-color: #00c;
  --jp-mirror-editor-header-color: blue;
  --jp-mirror-editor-quote-color: #090;
  --jp-mirror-editor-link-color: #00c;
  --jp-mirror-editor-error-color: #f00;
  --jp-mirror-editor-hr-color: #999;

  /* Vega extension styles */

  --jp-vega-background: white;

  /* Sidebar-related styles */

  --jp-sidebar-min-width: 250px;

  /* Search-related styles */

  --jp-search-toggle-off-opacity: 0.5;
  --jp-search-toggle-hover-opacity: 0.8;
  --jp-search-toggle-on-opacity: 1;
  --jp-search-selected-match-background-color: rgb(245, 200, 0);
  --jp-search-selected-match-color: black;
  --jp-search-unselected-match-background-color: var(
    --jp-inverse-layout-color0
  );
  --jp-search-unselected-match-color: var(--jp-ui-inverse-font-color0);

  /* Icon colors that work well with light or dark backgrounds */
  --jp-icon-contrast-color0: var(--md-purple-600);
  --jp-icon-contrast-color1: var(--md-green-600);
  --jp-icon-contrast-color2: var(--md-pink-600);
  --jp-icon-contrast-color3: var(--md-blue-600);
}
</style>

<style type="text/css">
a.anchor-link {
   display: none;
}
.highlight  {
    margin: 0.4em;
}

/* Input area styling */
.jp-InputArea {
    overflow: hidden;
}

.jp-InputArea-editor {
    overflow: hidden;
}

@media print {
  body {
    margin: 0;
  }
}
</style>

<!-- Load mathjax -->
    <script src="https://cdnjs.cloudflare.com/ajax/libs/mathjax/2.7.7/latest.js?config=TeX-MML-AM_CHTML-full,Safe"> </script>
    <!-- MathJax configuration -->
    <script type="text/x-mathjax-config">
    init_mathjax = function() {
        if (window.MathJax) {
        // MathJax loaded
            MathJax.Hub.Config({
                TeX: {
                    equationNumbers: {
                    autoNumber: "AMS",
                    useLabelIds: true
                    }
                },
                tex2jax: {
                    inlineMath: [ ['$','$'], ["\\(","\\)"] ],
                    displayMath: [ ['$$','$$'], ["\\[","\\]"] ],
                    processEscapes: true,
                    processEnvironments: true
                },
                displayAlign: 'center',
                CommonHTML: {
                    linebreaks: { 
                    automatic: true 
                    }
                },
                "HTML-CSS": {
                    linebreaks: { 
                    automatic: true 
                    }
                }
            });
        
            MathJax.Hub.Queue(["Typeset", MathJax.Hub]);
        }
    }
    init_mathjax();
    </script>
    <!-- End of mathjax configuration --></head>
<body class="jp-Notebook" data-jp-theme-light="true" data-jp-theme-name="JupyterLab Light">
<div class="jp-Cell jp-CodeCell jp-Notebook-cell jp-mod-noOutputs  ">
<div class="jp-Cell-inputWrapper">
<div class="jp-InputArea jp-Cell-inputArea">
<div class="jp-InputPrompt jp-InputArea-prompt">In&nbsp;[4]:</div>
<div class="jp-CodeMirrorEditor jp-Editor jp-InputArea-editor" data-type="inline">
     <div class="CodeMirror cm-s-jupyter">
<div class=" highlight hl-ipython3"><pre><span></span><span class="c1">#Taller 1</span>
</pre></div>

     </div>
</div>
</div>
</div>

</div>
<div class="jp-Cell-inputWrapper"><div class="jp-InputPrompt jp-InputArea-prompt">
</div><div class="jp-RenderedHTMLCommon jp-RenderedMarkdown jp-MarkdownOutput " data-mime-type="text/markdown">
<p><img src="data:image/png;base64,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" alt="imagen_2022-02-17_231055.png"></p>

</div>
</div><div class="jp-Cell jp-CodeCell jp-Notebook-cell jp-mod-noOutputs  ">
<div class="jp-Cell-inputWrapper">
<div class="jp-InputArea jp-Cell-inputArea">
<div class="jp-InputPrompt jp-InputArea-prompt">In&nbsp;[&nbsp;]:</div>
<div class="jp-CodeMirrorEditor jp-Editor jp-InputArea-editor" data-type="inline">
     <div class="CodeMirror cm-s-jupyter">
<div class=" highlight hl-ipython3"><pre><span></span><span class="c1"># Michael Gonchar.(28 de Febrero de 2019).Teach About Climate Change With These 24 New York Times Graphs. New York Times.</span>
<span class="c1"># https://www.nytimes.com/2019/02/28/learning/teach-about-climate-change-with-these-24-new-york-times-graphs.html</span>
</pre></div>

     </div>
</div>
</div>
</div>

</div><div class="jp-Cell jp-CodeCell jp-Notebook-cell jp-mod-noOutputs  ">
<div class="jp-Cell-inputWrapper">
<div class="jp-InputArea jp-Cell-inputArea">
<div class="jp-InputPrompt jp-InputArea-prompt">In&nbsp;[6]:</div>
<div class="jp-CodeMirrorEditor jp-Editor jp-InputArea-editor" data-type="inline">
     <div class="CodeMirror cm-s-jupyter">
<div class=" highlight hl-ipython3"><pre><span></span><span class="c1">## primer Modismo</span>
<span class="c1"># ¿qué?</span>
<span class="c1">#Tipos de Datos</span>
<span class="c1"># Dataset </span>
<span class="c1"># * También muestra items, que son los años.</span>
<span class="c1"># * Muestra atributos, que en este caso son los meses donde muestra la ocurrencia de tormentas. </span>
<span class="c1"># * Por lo que es una tabla, que al seleccionar la forma de semicirculo arroja un valor.</span>
<span class="c1"># * Los atributos son estaticos ya que arrojan un valor tomado en el tiempo determinado, aunque se pronostica en una fecha</span>
<span class="c1">#   determinada que podria a ser temporal. </span>
</pre></div>

     </div>
</div>
</div>
</div>

</div>
<div class="jp-Cell-inputWrapper"><div class="jp-InputPrompt jp-InputArea-prompt">
</div><div class="jp-RenderedHTMLCommon jp-RenderedMarkdown jp-MarkdownOutput " data-mime-type="text/markdown">
<p><img src="data:image/png;base64,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" alt="imagen_2022-02-17_233152.png"></p>

</div>
</div><div class="jp-Cell jp-CodeCell jp-Notebook-cell jp-mod-noOutputs  ">
<div class="jp-Cell-inputWrapper">
<div class="jp-InputArea jp-Cell-inputArea">
<div class="jp-InputPrompt jp-InputArea-prompt">In&nbsp;[7]:</div>
<div class="jp-CodeMirrorEditor jp-Editor jp-InputArea-editor" data-type="inline">
     <div class="CodeMirror cm-s-jupyter">
<div class=" highlight hl-ipython3"><pre><span></span><span class="c1">#Tipos de Atributos</span>
<span class="c1"># son categoricos ya que no hay relacion con cada uno de los datos. Porque las tormentas las muestran en diferentes meses </span>
<span class="c1"># del año algunas graves mientras otras no. </span>
<span class="c1"># Aunque pueden ser de orden ordinales si se clasifica cada tormneta de un color y observar el tamaño y el orden en que se</span>
<span class="c1"># presentan. </span>
</pre></div>

     </div>
</div>
</div>
</div>

</div><div class="jp-Cell jp-CodeCell jp-Notebook-cell jp-mod-noOutputs  ">
<div class="jp-Cell-inputWrapper">
<div class="jp-InputArea jp-Cell-inputArea">
<div class="jp-InputPrompt jp-InputArea-prompt">In&nbsp;[8]:</div>
<div class="jp-CodeMirrorEditor jp-Editor jp-InputArea-editor" data-type="inline">
     <div class="CodeMirror cm-s-jupyter">
<div class=" highlight hl-ipython3"><pre><span></span><span class="c1">## ¿Por qué?</span>
<span class="c1">#Abstraccion de las tareas</span>
<span class="c1"># * Identificar distribuciones, porque en cada año podemos ver diferentes picos o tambien lo podemos hacer por meses.</span>
<span class="c1"># * Identificar datos atipicos, ya sea por un mes en el que la ocurrencia no sea adecuada. </span>
<span class="c1"># * Comparar Tendencias, en diferentes años ver cual fue el commportamiento de tormentas y compararlas con la de los demás.</span>
<span class="c1">#Objetivos </span>
<span class="c1"># * Todos los datos: Se presentan diferentes caracteristicas dependiendo del color, ademas podemos ver tendencias por medio</span>
<span class="c1">#   de los años o tamaño del costo de la tormenta. </span>
<span class="c1"># * Atributos: se puede identificar los extremos por medio del primer mes y el ultimo mes. Tambien la similitud de ocurrencia</span>
<span class="c1">#   de datos y tormentas.</span>
</pre></div>

     </div>
</div>
</div>
</div>

</div>
<div class="jp-Cell-inputWrapper"><div class="jp-InputPrompt jp-InputArea-prompt">
</div><div class="jp-RenderedHTMLCommon jp-RenderedMarkdown jp-MarkdownOutput " data-mime-type="text/markdown">
<p><img src="data:image/png;base64,iVBORw0KGgoAAAANSUhEUgAAAJsAAABICAIAAABuqRBaAAAIaklEQVR4nO2b21Pb2B2Aj2zdLMnYlkE2mICDgVxJ2jTZtDuT6W4n6aQ7+9KZdqYPfU770v+gf0SnfclTZ/rQ6UNnO9tp006mIU2bCZsNCyEBAgkbErCN73cL6ejaBzLEBQM2krDR6nsyQvr5d86nc3R0zjGi6zpwsBGuTifgYDKOUbvhGLUbjlG74Ri1G45Ru+EYtRuOUbvhGLUb5htFEKSt48eaLiyUJW10dzm7sOR2pTO9LtLA9pHd5xx5XodnR7Y7yrWjsNv/anrcIKiJsbbRdR1BkO01gK3PjYVsXB7Y8af92F0VwMpK6EAbbZp6o3JgL81HXBBL2ihoaKZ7uTlenaoVWFQDVhndnx0d0daHA28Cm2FRGTvQ6x53YV3eu1hotJXW1uW1czgOUSgT66EDvW7jIGjHgOhYdLk78m968EBDuwtuVnpdV33db7TLceZ17UZnxrpN2eqFnAZqEKeLsxsdm9ftyPcePUdfUuc5ajcco3bDMWo3HKN2wzFqNxyjdsMxajecGQa74bRRu+EYtRuOUbvhGLUbjlG70UXrow57IQiCJEmCIEAIVVUlCIIkSYIgGIbZffKxMappmiiKoihiGEYQBI7jnc7IckqlUiqdim+8lXVJ1SU37nLhiBtzyaKqy0CBmq4ig6GhgXCE47jtCunq91EIYSaTWUuu5koZURIxHCMpXJYUCcq6qvu8/hPh6EA4EgwGO52pySSTyacvZmREYFiC5QI0QzU9TdP0QrZYyddhTYlFxs+fvYCiaAeMtrJVrlwuLyzPp/NxD4v7e70+1oei7sYTNE2ToJTPlPgiRCT0dOzs+NgpK7M+ItKZ9OzCtIqLQ2P9BEm0fmEqns2sFifGv30URjVNq1arixvpbKlcrFRqPE9gWDDg7wv4xziOYwMYhm07rtfri0sLmWqCG2H9AW8r8RVFzazlqml46fzl4eGolUWxEB3oM8+/TFXiA1GO9jZvlAcSf7NhrdFyuXz3yfTSRjbncuukB6MYjGEwmlFFQeZ5ia/LfL1XV2P+no8uno9Fo4lk/PnLWf8gxXL+dr9LUdTUag6Fno+vXbeiLFbzn6n7CsVHomGDcSw0en9mbnLltRyJoh7P/meqkqSlk2GxcjriiV0cNPKltXI9sVj85PqnBNFGl9Vx/n7v8+BJOhBs+z7ejSVGV3O5P/zrQYnxMQOt6qnztWohhWXWr18ZuTgaMvLtiqy8eLz645s/xbDjMR7+x+Tf2BHKH+gxJZr5RueWX/3xq6fI8OiBTXObWr0myryHIQEAm29eX2KRH3zX6DDn+X9XfvLpz1yubp9CeTwzJVPVvn7ThusmF/jhi+Xfz85jpyda1ykIgiC90wkAoE7GZkX6z/cWDN5pY985cff+Pw2FsJ6XXy/XQN5EncBco8lc/vOnC8z4mdYvURSlylcoL9l4kAqF1hFm9kXcSDIemvQNE09mvjASxFIghE+XnpyI9Zsb1jSjqqb/5s5dbGSsrauqtQrmce8+7hmITC7lM0XeSEpsny9eWK1UKkaCWMfzxbn+EfPnRkwz+qeHj6TesAvDWr9EkiRJhTje/BLP6NhnD5YNZhWJheYWZgwGsQKe59ezq6EIZ3pkc4ymstnpZJoOt9eB1OpVkt5zOOomiE1/35fP3hhJzB/01bVyPp83EsQKll4t9g2b8K6yG3OMfvZwyhNrb3SqqqqkSCi631IB1d//LCVUy1UjuTEssZZYMxLBCtaTb9nebjVar9ff8oLL3eRxuA8QQjd28K98SjqeytcPmxoAALB9gfXkqpEIplMsFt0egGKWLHyZYDRRKPJY2xM0gihgezxBG0Fpar1gaHyE4ZiL1IvFopEg5rKR2qB7yYPPOxQmGF1KpTG6ydLr/kgyRLGDmzVG04m8IaMAAMpPdJXRYqVA062+r7eLCUY3CiWMotu6RNM0HRy8pgYAQCmqXDFq1IUigigYDGIimyKPE1bNUJpgtFypoG22UU3TEFerP5VFPFS9akgqQeK8YOhhbC6bAo+TVhlFbt26ZeR6TdNyJOOKjbd7Fe0nfWxLy59SNnvGXWZ62usGGoGiNP/olUvvii04uq5jjOvC96xan0du375tUWiHjtDV+4wcDkG3LzY5tItj1G44Ru0GurWzGUIoyzKO4wRBEATR/Uv/DnuB/vq3v/Nz/SpBqBiJKRBXFEJXg76eWIiLhMOhUMigXVmWRVHculfMStphH5Bf/PuBArUe2keS72caVVlWq2XvZp3arF04Gf1w4pzX29K7IwBAFMVMJpNMx4uVAi/wOqJ6aBIKUFMARVL+HnaAGwyFQq0HdGgL5FdTjwAAQg2SOOVlmtSyWC758umPY8MfTJxvtL6b9fja0teL1c0Sw5IBzkdSJI5jLve7Jq7rugRlSZJKuUotJ+Aucix66vT4WStK9U3mnVEAgChAl4qygeb7JGAhFy7nP/nWxLlTTaaH0unU9PxjxCOHh7gWJ3eETTGfLhbitcsTV0db28uiKAqE0O12739jfcN5bxQAIAoQ0dxBfxCA5pOurnTiBsd+/4PL20d0oN2fuleTC0OjEar99QRVVddWEkoNuX7tJkU2uRXy+XwitbaRS1ZrFQ1oHgqHoqzIqoekgv7gcGSkPzTgCG7k/4wCAKAooRru8+25vK4W8xOa+PObPwQAQAjvTP41ciboM7Z7WBKl5a/efHT1Btf3fu/1yuuX86/mAK76ehm2z48TuLthUV2W5FqVL2SL9YLY3zt46dyVnh5zdjAfd3YaBQAIdZEivPTeC2RiuXSiVvrlj27cmfzL+JXhvbZ+tcvK3NrVc9e4vtBa/O30sy8YjhiKRbYfw/tQLlTWV1KDweiHV66Zkglo7Qd03cn/AAifoCgApqepAAAAAElFTkSuQmCC" alt="imagen_2022-02-17_234639.png"></p>

</div>
</div><div class="jp-Cell jp-CodeCell jp-Notebook-cell jp-mod-noOutputs  ">
<div class="jp-Cell-inputWrapper">
<div class="jp-InputArea jp-Cell-inputArea">
<div class="jp-InputPrompt jp-InputArea-prompt">In&nbsp;[9]:</div>
<div class="jp-CodeMirrorEditor jp-Editor jp-InputArea-editor" data-type="inline">
     <div class="CodeMirror cm-s-jupyter">
<div class=" highlight hl-ipython3"><pre><span></span><span class="c1"># Por ejemplo aqui podemos ver que ocurrieron dos desastres entre mayo y junio.</span>
</pre></div>

     </div>
</div>
</div>
</div>

</div><div class="jp-Cell jp-CodeCell jp-Notebook-cell jp-mod-noOutputs  ">
<div class="jp-Cell-inputWrapper">
<div class="jp-InputArea jp-Cell-inputArea">
<div class="jp-InputPrompt jp-InputArea-prompt">In&nbsp;[10]:</div>
<div class="jp-CodeMirrorEditor jp-Editor jp-InputArea-editor" data-type="inline">
     <div class="CodeMirror cm-s-jupyter">
<div class=" highlight hl-ipython3"><pre><span></span><span class="c1">## ¿Como?</span>
<span class="c1">#Es interactivo, se puede seleccionar cada forma y ver el dato que arroja. </span>
<span class="c1">#Los tonos de color permiten identificar que tipo de tormenta es.</span>
<span class="c1">#La tonalidad del color permite observar que hubo otra tormenta durante otra que se haya presentado. </span>
<span class="c1">#El tamaño de la forma saber que tan afectado termino el pais por el costo de daño que provoca cada tormenta. </span>
</pre></div>

     </div>
</div>
</div>
</div>

</div><div class="jp-Cell jp-CodeCell jp-Notebook-cell jp-mod-noOutputs  ">
<div class="jp-Cell-inputWrapper">
<div class="jp-InputArea jp-Cell-inputArea">
<div class="jp-InputPrompt jp-InputArea-prompt">In&nbsp;[11]:</div>
<div class="jp-CodeMirrorEditor jp-Editor jp-InputArea-editor" data-type="inline">
     <div class="CodeMirror cm-s-jupyter">
<div class=" highlight hl-ipython3"><pre><span></span><span class="c1">## Marcas</span>
<span class="c1"># * Areas: es el tamaño y costo que tuvo cada tormenta.</span>
<span class="c1"># * La posicion usa ambos tanto horizontal como vertical, pero se aprecia mas por vertical. </span>
<span class="c1">## Canales</span>
<span class="c1"># * Color: usa diferentes tonalidades para identificar el tipo de tormenta. </span>
<span class="c1"># * Forma: Son semicirculos que reflejan el impacto en cuestion de costo. </span>
<span class="c1"># * Agrupacion: permite observar el año y la cantidad de tormentas en un periodo ddeterminado.</span>
</pre></div>

     </div>
</div>
</div>
</div>

</div><div class="jp-Cell jp-CodeCell jp-Notebook-cell jp-mod-noOutputs  ">
<div class="jp-Cell-inputWrapper">
<div class="jp-InputArea jp-Cell-inputArea">
<div class="jp-InputPrompt jp-InputArea-prompt">In&nbsp;[1]:</div>
<div class="jp-CodeMirrorEditor jp-Editor jp-InputArea-editor" data-type="inline">
     <div class="CodeMirror cm-s-jupyter">
<div class=" highlight hl-ipython3"><pre><span></span><span class="c1"># Cumple </span>
<span class="c1"># * El tamaño permite identificar el impacto de cada tormenta.</span>
<span class="c1"># * Los tonos de color permiten identificar el tipo de categoria. </span>
<span class="c1"># * Al colocar la interactividad permite mejorar la informacion. </span>
<span class="c1"># No cumple</span>
<span class="c1"># * La longitud de los meses no permite adecuar y agrupar de forma adecuada los datos. Por en Diciembre tiene mayor longitud.</span>
<span class="c1"># * Al momento de interactuar se presentan problemas con los desastres de menor impacto no los permite reconocer. </span>
<span class="c1"># * Los colores en la saturacion se pierden algunos. </span>
<span class="c1"># * El nombre de cada desastre era innecesario. </span>
<span class="c1"># Mejoras</span>
<span class="c1"># Distribuir mejor los meses, podria haber usado una tabla con los años y meses, e interactuar con cada mes y al momento de</span>
<span class="c1"># hacer eso mostrar el impacto como un diagrama de cada desastre presentado, con su respectivo nombre. Ya que se puede </span>
<span class="c1"># confundir con la duracion del desatre si se ve de forma horizontal. </span>
</pre></div>

     </div>
</div>
</div>
</div>

</div>
<div class="jp-Cell-inputWrapper"><div class="jp-InputPrompt jp-InputArea-prompt">
</div><div class="jp-RenderedHTMLCommon jp-RenderedMarkdown jp-MarkdownOutput " data-mime-type="text/markdown">
<p><img src="data:image/png;base64,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" alt="imagen_2022-02-18_230132.png"></p>

</div>
</div><div class="jp-Cell jp-CodeCell jp-Notebook-cell jp-mod-noOutputs  ">
<div class="jp-Cell-inputWrapper">
<div class="jp-InputArea jp-Cell-inputArea">
<div class="jp-InputPrompt jp-InputArea-prompt">In&nbsp;[&nbsp;]:</div>
<div class="jp-CodeMirrorEditor jp-Editor jp-InputArea-editor" data-type="inline">
     <div class="CodeMirror cm-s-jupyter">
<div class=" highlight hl-ipython3"><pre><span></span><span class="c1"># Enlace: https://www.datos.gov.co/d/x9vi-iv8c</span>
</pre></div>

     </div>
</div>
</div>
</div>

</div><div class="jp-Cell jp-CodeCell jp-Notebook-cell jp-mod-noOutputs  ">
<div class="jp-Cell-inputWrapper">
<div class="jp-InputArea jp-Cell-inputArea">
<div class="jp-InputPrompt jp-InputArea-prompt">In&nbsp;[&nbsp;]:</div>
<div class="jp-CodeMirrorEditor jp-Editor jp-InputArea-editor" data-type="inline">
     <div class="CodeMirror cm-s-jupyter">
<div class=" highlight hl-ipython3"><pre><span></span><span class="c1"># Saber 11 2019-2. (11 de Febrero de 2020). PUNTAJES ICFES POR DEPARTAMENTO.GOV.CO.https://www.datos.gov.co/d/x9vi-iv8c</span>
</pre></div>

     </div>
</div>
</div>
</div>

</div><div class="jp-Cell jp-CodeCell jp-Notebook-cell jp-mod-noOutputs  ">
<div class="jp-Cell-inputWrapper">
<div class="jp-InputArea jp-Cell-inputArea">
<div class="jp-InputPrompt jp-InputArea-prompt">In&nbsp;[2]:</div>
<div class="jp-CodeMirrorEditor jp-Editor jp-InputArea-editor" data-type="inline">
     <div class="CodeMirror cm-s-jupyter">
<div class=" highlight hl-ipython3"><pre><span></span><span class="c1">## Segundo Modismo</span>
<span class="c1"># ¿Qué?</span>
<span class="c1">#Tipos de datos</span>
<span class="c1"># Son Items y atributos, ya que a cada item en este caso el departamento se le coloca un atributo que vendria a ser el</span>
<span class="c1"># puntaje promedio, y asi con cada uno. </span>
<span class="c1">#Tipos de Dataset y datos</span>
<span class="c1"># Seria una tabla, mas especifico un diagrama de barras, a cada item por medio de una barra se le asigna una barra o un </span>
<span class="c1"># punto. </span>
<span class="c1">#Disponibilidad de los datos</span>
<span class="c1"># Son estaticos, los items ya son nombrados y los atributos ya son denotados segun estadisticas. </span>
<span class="c1">#Tipos de Atributos</span>
<span class="c1"># Son de orden cuantitativo, ya que hay porcentajes mayores o menores segun corresponda a cada item.</span>
<span class="c1"># Se muestra con una secuencia descendente.</span>
</pre></div>

     </div>
</div>
</div>
</div>

</div><div class="jp-Cell jp-CodeCell jp-Notebook-cell jp-mod-noOutputs  ">
<div class="jp-Cell-inputWrapper">
<div class="jp-InputArea jp-Cell-inputArea">
<div class="jp-InputPrompt jp-InputArea-prompt">In&nbsp;[3]:</div>
<div class="jp-CodeMirrorEditor jp-Editor jp-InputArea-editor" data-type="inline">
     <div class="CodeMirror cm-s-jupyter">
<div class=" highlight hl-ipython3"><pre><span></span><span class="c1"># ¿Por qué?</span>
<span class="c1">#Analizar</span>
<span class="c1"># el principal consumo es presentar, ya que visualiza el atributo a cada item, es decir a cada departamento le designa su </span>
<span class="c1"># promedio y lo muestra en el diagrama. </span>
<span class="c1"># al momento de produicir, recorre del mayor promedio al menor. </span>
<span class="c1">#Buscar</span>
<span class="c1"># es una busqueda en la que ya tenemos la ubicacion conocida en este caso podria ser el maximo, con un objetivo que seria </span>
<span class="c1"># el promedio mas alto. </span>
<span class="c1">#Consultar</span>
<span class="c1"># Identificar y comparar.</span>
<span class="c1">#Todos los datos </span>
<span class="c1"># tendencias y caracteristicas. </span>
<span class="c1"># Es decir que con esta visualizacion podemos identificar tendencias como es el minimo y el maximo, y tambien de comparar</span>
<span class="c1"># cada departamentop con su promedio.</span>
</pre></div>

     </div>
</div>
</div>
</div>

</div><div class="jp-Cell jp-CodeCell jp-Notebook-cell jp-mod-noOutputs  ">
<div class="jp-Cell-inputWrapper">
<div class="jp-InputArea jp-Cell-inputArea">
<div class="jp-InputPrompt jp-InputArea-prompt">In&nbsp;[4]:</div>
<div class="jp-CodeMirrorEditor jp-Editor jp-InputArea-editor" data-type="inline">
     <div class="CodeMirror cm-s-jupyter">
<div class=" highlight hl-ipython3"><pre><span></span><span class="c1"># ¿Como?</span>
<span class="c1">#Arreglar</span>
<span class="c1"># Es ordenado y separado, es decir el orden en el sentido de descendencia y separada ya que muestra diferentes items. </span>
<span class="c1"># Hay un tono de color, por la relacion de los atributos cuantitativos </span>
</pre></div>

     </div>
</div>
</div>
</div>

</div><div class="jp-Cell jp-CodeCell jp-Notebook-cell jp-mod-noOutputs  ">
<div class="jp-Cell-inputWrapper">
<div class="jp-InputArea jp-Cell-inputArea">
<div class="jp-InputPrompt jp-InputArea-prompt">In&nbsp;[5]:</div>
<div class="jp-CodeMirrorEditor jp-Editor jp-InputArea-editor" data-type="inline">
     <div class="CodeMirror cm-s-jupyter">
<div class=" highlight hl-ipython3"><pre><span></span><span class="c1"># Canales</span>
<span class="c1">#Posicion </span>
<span class="c1"># Usa ambas tanto vertical como horizontal, vertical los promedios y horizontal los departamentos. </span>
<span class="c1">#Forma</span>
<span class="c1"># Usa un diagrama de barras para identificar maximos y minimos o una relacionn de similitud. </span>
<span class="c1"># Marcas</span>
<span class="c1"># Puntos, porque aunque muestre barras, esa barra tiene  un limite que es ls posicion vertical que representa el atributo.</span>
<span class="c1"># Usa estos canales y marcas porque le permiten al usuario detectar de que hay relacion entre los datos, como son maximos </span>
<span class="c1"># y minimos, similitudes. </span>
</pre></div>

     </div>
</div>
</div>
</div>

</div><div class="jp-Cell jp-CodeCell jp-Notebook-cell jp-mod-noOutputs  ">
<div class="jp-Cell-inputWrapper">
<div class="jp-InputArea jp-Cell-inputArea">
<div class="jp-InputPrompt jp-InputArea-prompt">In&nbsp;[6]:</div>
<div class="jp-CodeMirrorEditor jp-Editor jp-InputArea-editor" data-type="inline">
     <div class="CodeMirror cm-s-jupyter">
<div class=" highlight hl-ipython3"><pre><span></span><span class="c1"># Cumple</span>
<span class="c1"># El usuario puede identificar informacion rapida. </span>
<span class="c1"># no hay informacion acumulada. </span>
<span class="c1"># El usuario puede recorrer cada dato en orden descendente. </span>
</pre></div>

     </div>
</div>
</div>
</div>

</div><div class="jp-Cell jp-CodeCell jp-Notebook-cell jp-mod-noOutputs  ">
<div class="jp-Cell-inputWrapper">
<div class="jp-InputArea jp-Cell-inputArea">
<div class="jp-InputPrompt jp-InputArea-prompt">In&nbsp;[7]:</div>
<div class="jp-CodeMirrorEditor jp-Editor jp-InputArea-editor" data-type="inline">
     <div class="CodeMirror cm-s-jupyter">
<div class=" highlight hl-ipython3"><pre><span></span><span class="c1"># No cumple</span>
<span class="c1"># la inclinacion de los datos, hace que el usuario pierda la posicion de una barra. y los numeros que aparecen es </span>
<span class="c1"># irrelevante ya que usan la interactividad para posicionarse en cada barra. </span>
</pre></div>

     </div>
</div>
</div>
</div>

</div><div class="jp-Cell jp-CodeCell jp-Notebook-cell jp-mod-noOutputs  ">
<div class="jp-Cell-inputWrapper">
<div class="jp-InputArea jp-Cell-inputArea">
<div class="jp-InputPrompt jp-InputArea-prompt">In&nbsp;[&nbsp;]:</div>
<div class="jp-CodeMirrorEditor jp-Editor jp-InputArea-editor" data-type="inline">
     <div class="CodeMirror cm-s-jupyter">
<div class=" highlight hl-ipython3"><pre><span></span><span class="c1"># Mejoras</span>

<span class="c1"># Quitar los datos que aparecen en vertical de las barras, es informacion perdida. </span>
<span class="c1"># ya que usan la interactividad quitar el nombre de cada departamento y solo irian en esa posicion el item de departamentos.</span>
</pre></div>

     </div>
</div>
</div>
</div>

</div>
</body>







</html>
